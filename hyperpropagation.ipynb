{
  "nbformat": 4,
  "nbformat_minor": 0,
  "metadata": {
    "colab": {
      "name": "hyperpropagation.ipynb",
      "provenance": [],
      "collapsed_sections": [],
      "toc_visible": true,
      "authorship_tag": "ABX9TyPiYgPp8eb/Rj1yMd2vZ2B9",
      "include_colab_link": true
    },
    "kernelspec": {
      "name": "python3",
      "display_name": "Python 3"
    },
    "language_info": {
      "name": "python"
    },
    "accelerator": "GPU"
  },
  "cells": [
    {
      "cell_type": "markdown",
      "metadata": {
        "id": "view-in-github",
        "colab_type": "text"
      },
      "source": [
        "<a href=\"https://colab.research.google.com/github/realfolkcode/GraphRegression/blob/main/hyperpropagation.ipynb\" target=\"_parent\"><img src=\"https://colab.research.google.com/assets/colab-badge.svg\" alt=\"Open In Colab\"/></a>"
      ]
    },
    {
      "cell_type": "markdown",
      "source": [
        "# Install and Import"
      ],
      "metadata": {
        "id": "bhdQD76cGWzX"
      }
    },
    {
      "cell_type": "code",
      "execution_count": 1,
      "metadata": {
        "id": "ZKBvAeTiGNah"
      },
      "outputs": [],
      "source": [
        "import numpy as np\n",
        "import pandas as pd\n",
        "import os\n",
        "from sklearn import preprocessing\n",
        "from tqdm import tqdm\n",
        "import matplotlib.pyplot as plt\n",
        "%matplotlib inline\n",
        "\n",
        "from sklearn.metrics.pairwise import cosine_similarity\n",
        "from sklearn.neighbors import NearestNeighbors\n",
        "from sklearn.neighbors import radius_neighbors_graph\n",
        "import scipy\n",
        "from scipy.sparse.linalg import cg\n",
        "from sklearn.metrics import mean_squared_error\n",
        "from sklearn.linear_model import LinearRegression, Ridge\n",
        "import torch\n",
        "from torch import nn\n",
        "from torch.utils.data import DataLoader, TensorDataset"
      ]
    },
    {
      "cell_type": "code",
      "source": [
        "!pip install pickle5"
      ],
      "metadata": {
        "colab": {
          "base_uri": "https://localhost:8080/"
        },
        "id": "uHPoxlu9GUQo",
        "outputId": "6199eddc-85ff-4684-f252-34c6f5448715"
      },
      "execution_count": 2,
      "outputs": [
        {
          "output_type": "stream",
          "name": "stdout",
          "text": [
            "Collecting pickle5\n",
            "  Downloading pickle5-0.0.12-cp37-cp37m-manylinux_2_5_x86_64.manylinux1_x86_64.whl (256 kB)\n",
            "\u001b[?25l\r\u001b[K     |█▎                              | 10 kB 3.3 MB/s eta 0:00:01\r\u001b[K     |██▋                             | 20 kB 5.6 MB/s eta 0:00:01\r\u001b[K     |███▉                            | 30 kB 7.7 MB/s eta 0:00:01\r\u001b[K     |█████▏                          | 40 kB 9.6 MB/s eta 0:00:01\r\u001b[K     |██████▍                         | 51 kB 11.3 MB/s eta 0:00:01\r\u001b[K     |███████▊                        | 61 kB 13.0 MB/s eta 0:00:01\r\u001b[K     |█████████                       | 71 kB 7.1 MB/s eta 0:00:01\r\u001b[K     |██████████▎                     | 81 kB 4.6 MB/s eta 0:00:01\r\u001b[K     |███████████▌                    | 92 kB 5.0 MB/s eta 0:00:01\r\u001b[K     |████████████▉                   | 102 kB 5.5 MB/s eta 0:00:01\r\u001b[K     |██████████████                  | 112 kB 5.5 MB/s eta 0:00:01\r\u001b[K     |███████████████▍                | 122 kB 5.5 MB/s eta 0:00:01\r\u001b[K     |████████████████▋               | 133 kB 5.5 MB/s eta 0:00:01\r\u001b[K     |██████████████████              | 143 kB 5.5 MB/s eta 0:00:01\r\u001b[K     |███████████████████▏            | 153 kB 5.5 MB/s eta 0:00:01\r\u001b[K     |████████████████████▌           | 163 kB 5.5 MB/s eta 0:00:01\r\u001b[K     |█████████████████████▊          | 174 kB 5.5 MB/s eta 0:00:01\r\u001b[K     |███████████████████████         | 184 kB 5.5 MB/s eta 0:00:01\r\u001b[K     |████████████████████████▎       | 194 kB 5.5 MB/s eta 0:00:01\r\u001b[K     |█████████████████████████▋      | 204 kB 5.5 MB/s eta 0:00:01\r\u001b[K     |██████████████████████████▉     | 215 kB 5.5 MB/s eta 0:00:01\r\u001b[K     |████████████████████████████▏   | 225 kB 5.5 MB/s eta 0:00:01\r\u001b[K     |█████████████████████████████▍  | 235 kB 5.5 MB/s eta 0:00:01\r\u001b[K     |██████████████████████████████▊ | 245 kB 5.5 MB/s eta 0:00:01\r\u001b[K     |████████████████████████████████| 256 kB 5.5 MB/s eta 0:00:01\r\u001b[K     |████████████████████████████████| 256 kB 5.5 MB/s \n",
            "\u001b[?25hInstalling collected packages: pickle5\n",
            "Successfully installed pickle5-0.0.12\n"
          ]
        }
      ]
    },
    {
      "cell_type": "code",
      "source": [
        "import pickle5 as pickle"
      ],
      "metadata": {
        "id": "8lg7dc3kGVdq"
      },
      "execution_count": 3,
      "outputs": []
    },
    {
      "cell_type": "code",
      "source": [
        "!git clone https://github.com/realfolkcode/GraphRegression.git"
      ],
      "metadata": {
        "colab": {
          "base_uri": "https://localhost:8080/"
        },
        "id": "doq0XFnBSXIX",
        "outputId": "4c0c3cb8-403a-4304-f51e-913c37c1e42a"
      },
      "execution_count": 4,
      "outputs": [
        {
          "output_type": "stream",
          "name": "stdout",
          "text": [
            "Cloning into 'GraphRegression'...\n",
            "remote: Enumerating objects: 12, done.\u001b[K\n",
            "remote: Counting objects: 100% (12/12), done.\u001b[K\n",
            "remote: Compressing objects: 100% (10/10), done.\u001b[K\n",
            "remote: Total 12 (delta 2), reused 9 (delta 1), pack-reused 0\u001b[K\n",
            "Unpacking objects: 100% (12/12), done.\n"
          ]
        }
      ]
    },
    {
      "cell_type": "code",
      "source": [
        "from GraphRegression.utils import set_random_seeds\n",
        "from GraphRegression.hypergraph import hyper_propagation"
      ],
      "metadata": {
        "id": "yVN5x58sUN3J"
      },
      "execution_count": 5,
      "outputs": []
    },
    {
      "cell_type": "markdown",
      "source": [
        "# Prepare Data"
      ],
      "metadata": {
        "id": "rAkdsTONGalK"
      }
    },
    {
      "cell_type": "code",
      "source": [
        "from google.colab import drive\n",
        "drive.mount('/gdrive')"
      ],
      "metadata": {
        "colab": {
          "base_uri": "https://localhost:8080/"
        },
        "id": "AuK4IBqhGWZ4",
        "outputId": "7260edc6-6452-4d25-a5df-1e9597beed3b"
      },
      "execution_count": 6,
      "outputs": [
        {
          "output_type": "stream",
          "name": "stdout",
          "text": [
            "Mounted at /gdrive\n"
          ]
        }
      ]
    },
    {
      "cell_type": "code",
      "source": [
        "#graphs_dir = '/gdrive/MyDrive/research/67data'\n",
        "graphs_dir = '/gdrive/MyDrive/research/processed_data'"
      ],
      "metadata": {
        "id": "Ln5ius7fGegg"
      },
      "execution_count": 7,
      "outputs": []
    },
    {
      "cell_type": "code",
      "source": [
        "X = []\n",
        "y = []\n",
        "\n",
        "idx = 0\n",
        "idx_train = []\n",
        "idx_val = []\n",
        "idx_test = []"
      ],
      "metadata": {
        "id": "7YHW6NXOQWn8"
      },
      "execution_count": 8,
      "outputs": []
    },
    {
      "cell_type": "code",
      "source": [
        "#file_name = os.path.join(graphs_dir + '/63k_train.pkl')\n",
        "file_name = os.path.join(graphs_dir + '/pdbbind2016_train.pkl')\n",
        "with open(file_name, 'rb') as f:\n",
        "    data_mols, data_Y = pickle.load(f)\n",
        "\n",
        "for mol, target in tqdm(zip(data_mols, data_Y)):\n",
        "    X.append(mol[4])\n",
        "    y.append(target)\n",
        "    idx_train.append(idx)\n",
        "    idx += 1"
      ],
      "metadata": {
        "colab": {
          "base_uri": "https://localhost:8080/"
        },
        "id": "H4NIdmb1QSm4",
        "outputId": "10e2dfe7-6492-4057-e4f3-26aff6e9a661"
      },
      "execution_count": 9,
      "outputs": [
        {
          "output_type": "stream",
          "name": "stderr",
          "text": [
            "3390it [00:00, 937228.30it/s]\n"
          ]
        }
      ]
    },
    {
      "cell_type": "code",
      "source": [
        "#file_name = os.path.join(graphs_dir + '/63k_val.pkl')\n",
        "file_name = os.path.join(graphs_dir + '/pdbbind2016_val.pkl')\n",
        "with open(file_name, 'rb') as f:\n",
        "    data_mols, data_Y = pickle.load(f)\n",
        "\n",
        "for mol, target in tqdm(zip(data_mols, data_Y)):\n",
        "    X.append(mol[4])\n",
        "    y.append(target)\n",
        "    idx_val.append(idx)\n",
        "    idx += 1"
      ],
      "metadata": {
        "colab": {
          "base_uri": "https://localhost:8080/"
        },
        "id": "FF5j8QlyQS0h",
        "outputId": "061896b1-7ba6-47f0-ecb2-4bc0c1aac32a"
      },
      "execution_count": 10,
      "outputs": [
        {
          "output_type": "stream",
          "name": "stderr",
          "text": [
            "377it [00:00, 184144.94it/s]\n"
          ]
        }
      ]
    },
    {
      "cell_type": "code",
      "source": [
        "#file_name = os.path.join(graphs_dir + '/63k_test.pkl')\n",
        "file_name = os.path.join(graphs_dir + '/pdbbind2016_test.pkl')\n",
        "with open(file_name, 'rb') as f:\n",
        "    data_mols, data_Y = pickle.load(f)\n",
        "\n",
        "for mol, target in tqdm(zip(data_mols, data_Y)):\n",
        "    X.append(mol[4])\n",
        "    y.append(target)\n",
        "    idx_test.append(idx)\n",
        "    idx += 1"
      ],
      "metadata": {
        "colab": {
          "base_uri": "https://localhost:8080/"
        },
        "id": "7S0WeJAOQS53",
        "outputId": "6c4c0091-bd3c-493d-af1b-1e20d1601610"
      },
      "execution_count": 11,
      "outputs": [
        {
          "output_type": "stream",
          "name": "stderr",
          "text": [
            "290it [00:00, 246074.89it/s]\n"
          ]
        }
      ]
    },
    {
      "cell_type": "code",
      "source": [
        "X = np.array(X)\n",
        "X = preprocessing.normalize(X, norm='l1')\n",
        "y = np.array(y).reshape(-1, 1)"
      ],
      "metadata": {
        "id": "DWYf4RQrS0OP"
      },
      "execution_count": 12,
      "outputs": []
    },
    {
      "cell_type": "code",
      "source": [
        "print('Train size:', len(idx_train))\n",
        "print('Val size:', len(idx_val))\n",
        "print('Test size:', len(idx_test))"
      ],
      "metadata": {
        "colab": {
          "base_uri": "https://localhost:8080/"
        },
        "id": "hjwN0lGNGysn",
        "outputId": "dec06acd-dd2b-43f3-e59a-38cad5c495b0"
      },
      "execution_count": 13,
      "outputs": [
        {
          "output_type": "stream",
          "name": "stdout",
          "text": [
            "Train size: 3390\n",
            "Val size: 377\n",
            "Test size: 290\n"
          ]
        }
      ]
    },
    {
      "cell_type": "code",
      "source": [
        "idx_train_val = np.hstack((idx_train, idx_val))"
      ],
      "metadata": {
        "id": "cl3f9lZGU-R8"
      },
      "execution_count": 14,
      "outputs": []
    },
    {
      "cell_type": "markdown",
      "source": [
        "# Baselines"
      ],
      "metadata": {
        "id": "Urzpa2sRUy7K"
      }
    },
    {
      "cell_type": "markdown",
      "source": [
        "## Linear Regression"
      ],
      "metadata": {
        "id": "ZGNJgkrLVj7e"
      }
    },
    {
      "cell_type": "code",
      "source": [
        "lr = Ridge(alpha=0.01, random_state=42)\n",
        "lr.fit(X[idx_train], y[idx_train])"
      ],
      "metadata": {
        "colab": {
          "base_uri": "https://localhost:8080/"
        },
        "id": "O0J8UajpR28X",
        "outputId": "951791c4-de11-4d5c-c26a-a68d41873ae6"
      },
      "execution_count": 40,
      "outputs": [
        {
          "output_type": "execute_result",
          "data": {
            "text/plain": [
              "Ridge(alpha=0.01, random_state=42)"
            ]
          },
          "metadata": {},
          "execution_count": 40
        }
      ]
    },
    {
      "cell_type": "code",
      "source": [
        "pred_train = lr.predict(X[idx_train])\n",
        "pred_val = lr.predict(X[idx_val])\n",
        "pred_test = lr.predict(X[idx_test])"
      ],
      "metadata": {
        "id": "HrydtLhHAF1o"
      },
      "execution_count": 41,
      "outputs": []
    },
    {
      "cell_type": "code",
      "source": [
        "train_rmse = mean_squared_error(y[idx_train], pred_train, squared=False)\n",
        "val_rmse = mean_squared_error(y[idx_val], pred_val, squared=False)\n",
        "test_rmse = mean_squared_error(y[idx_test], pred_test, squared=False)"
      ],
      "metadata": {
        "id": "xKPALB3Ceo5U"
      },
      "execution_count": 42,
      "outputs": []
    },
    {
      "cell_type": "code",
      "source": [
        "print('Train RMSE:', train_rmse)\n",
        "print('Val RMSE:', val_rmse)\n",
        "print('Test RMSE:', test_rmse)"
      ],
      "metadata": {
        "colab": {
          "base_uri": "https://localhost:8080/"
        },
        "id": "trPFheieAME5",
        "outputId": "229d7244-3bc6-4afc-827e-3f954476fdc0"
      },
      "execution_count": 43,
      "outputs": [
        {
          "output_type": "stream",
          "name": "stdout",
          "text": [
            "Train RMSE: 1.8660152909597172\n",
            "Val RMSE: 1.8392764375861368\n",
            "Test RMSE: 2.094580670979875\n"
          ]
        }
      ]
    },
    {
      "cell_type": "code",
      "source": [
        "n_neighbors_space = np.arange(1, 101)\n",
        "val_rmse = []\n",
        "best_rmse = 1e9\n",
        "best_n_neighbors = n_neighbors_space[0]\n",
        "for n_neighbors in tqdm(n_neighbors_space):\n",
        "    z = hyper_propagation(X, y[idx_train], idx_train, idx_val, n_neighbors, pred_train=pred_train, pred_test=pred_val)\n",
        "    val_rmse.append(mean_squared_error(y[idx_val], z, squared=False))\n",
        "    if val_rmse[-1] < best_rmse:\n",
        "        best_n_neighbors = n_neighbors\n",
        "        best_rmse = val_rmse[-1]"
      ],
      "metadata": {
        "colab": {
          "base_uri": "https://localhost:8080/"
        },
        "id": "3QHrv5YrjyAw",
        "outputId": "b9503ed5-349e-49e7-9a0d-2476aea7b925"
      },
      "execution_count": 44,
      "outputs": [
        {
          "output_type": "stream",
          "name": "stderr",
          "text": [
            "100%|██████████| 100/100 [00:39<00:00,  2.52it/s]\n"
          ]
        }
      ]
    },
    {
      "cell_type": "code",
      "source": [
        "plt.plot(n_neighbors_space, val_rmse)\n",
        "plt.xlabel('Number of neighbors')\n",
        "plt.ylabel('Val RMSE')\n",
        "plt.show()"
      ],
      "metadata": {
        "colab": {
          "base_uri": "https://localhost:8080/",
          "height": 279
        },
        "id": "j5GSQ6QHkwZD",
        "outputId": "380679ea-f438-4f8b-b61b-d023e016167a"
      },
      "execution_count": 46,
      "outputs": [
        {
          "output_type": "display_data",
          "data": {
            "text/plain": [
              "<Figure size 432x288 with 1 Axes>"
            ],
            "image/png": "[encoded data removed]"
          },
          "metadata": {
            "needs_background": "light"
          }
        }
      ]
    },
    {
      "cell_type": "code",
      "source": [
        "print('Best K Neighbors:', best_n_neighbors)"
      ],
      "metadata": {
        "colab": {
          "base_uri": "https://localhost:8080/"
        },
        "id": "klSoQPsHkLBn",
        "outputId": "13699c31-93a5-4640-de07-40805ebebfb0"
      },
      "execution_count": 47,
      "outputs": [
        {
          "output_type": "stream",
          "name": "stdout",
          "text": [
            "Best K Neighbors: 8\n"
          ]
        }
      ]
    },
    {
      "cell_type": "code",
      "source": [
        "z_val = hyper_propagation(X, y[idx_train], idx_train, idx_val, best_n_neighbors, pred_train=pred_train, pred_test=pred_val)\n",
        "z_test = hyper_propagation(X, y[idx_train], idx_train, idx_test, best_n_neighbors, pred_train=pred_train, pred_test=pred_test)"
      ],
      "metadata": {
        "id": "51XzbpqnkSVO"
      },
      "execution_count": 50,
      "outputs": []
    },
    {
      "cell_type": "code",
      "source": [
        "val_rmse = mean_squared_error(y[idx_val], z_val, squared=False)\n",
        "test_rmse = mean_squared_error(y[idx_test], z_test, squared=False)"
      ],
      "metadata": {
        "id": "FQm7BoS2nkL1"
      },
      "execution_count": 51,
      "outputs": []
    },
    {
      "cell_type": "code",
      "source": [
        "print('Val RMSE:', val_rmse)\n",
        "print('Test RMSE:', test_rmse)"
      ],
      "metadata": {
        "colab": {
          "base_uri": "https://localhost:8080/"
        },
        "id": "rCRHO9-EnyKp",
        "outputId": "d04fa0df-f29a-45b7-a3be-c667b219493a"
      },
      "execution_count": 52,
      "outputs": [
        {
          "output_type": "stream",
          "name": "stdout",
          "text": [
            "Val RMSE: 1.71523954815663\n",
            "Test RMSE: 2.026381158349921\n"
          ]
        }
      ]
    },
    {
      "cell_type": "markdown",
      "source": [
        "## MLP"
      ],
      "metadata": {
        "id": "EW7gfXEKILwX"
      }
    },
    {
      "cell_type": "code",
      "source": [
        "device = torch.device('cuda:0' if torch.cuda.is_available() else 'cpu')\n",
        "RANDOM_SEED = 0"
      ],
      "metadata": {
        "id": "HXQPYPOoSbm_"
      },
      "execution_count": 53,
      "outputs": []
    },
    {
      "cell_type": "code",
      "source": [
        "class MLP(nn.Module):\n",
        "    def __init__(self, n_in):\n",
        "        super().__init__()\n",
        "        self.features = nn.Sequential(\n",
        "            nn.Linear(n_in, 16),\n",
        "            nn.ReLU(),\n",
        "            nn.Linear(16, 16),\n",
        "            nn.ReLU(),\n",
        "        )\n",
        "        self.regressor = nn.Linear(16, 1)\n",
        "    \n",
        "    def forward(self, x):\n",
        "        x = self.features(x)\n",
        "        x = self.regressor(x)\n",
        "        return x\n",
        "    \n",
        "    def get_emb(self, x):\n",
        "        x = self.features(x)\n",
        "        return x"
      ],
      "metadata": {
        "id": "1sMzXIh9IM5X"
      },
      "execution_count": 54,
      "outputs": []
    },
    {
      "cell_type": "code",
      "source": [
        "def epoch_train(model, loader, criterion, opt):\n",
        "    train_loss = 0\n",
        "    model.train()\n",
        "    for data, target in loader:\n",
        "        data = data.to(device)\n",
        "        target = target.to(device)\n",
        "        output = model(data)\n",
        "        loss = criterion(output, target)\n",
        "        opt.zero_grad()\n",
        "        loss.backward()\n",
        "        opt.step()\n",
        "        train_loss += loss.item() * len(target)\n",
        "    train_loss /= len(loader.dataset)\n",
        "    return train_loss"
      ],
      "metadata": {
        "id": "wuhe8IDjNQ-A"
      },
      "execution_count": 55,
      "outputs": []
    },
    {
      "cell_type": "code",
      "source": [
        "def epoch_val(model, loader, criterion):\n",
        "    val_loss = 0\n",
        "    model.eval()\n",
        "    with torch.no_grad():\n",
        "        for data, target in loader:\n",
        "            data = data.to(device)\n",
        "            target = target.to(device)\n",
        "            output = model(data)\n",
        "            val_loss += criterion(output, target).item() * len(target)\n",
        "    val_loss /= len(loader.dataset)\n",
        "    return val_loss"
      ],
      "metadata": {
        "id": "dW7abmTkNSeT"
      },
      "execution_count": 56,
      "outputs": []
    },
    {
      "cell_type": "code",
      "source": [
        "set_random_seeds(seed_value=RANDOM_SEED, device=device)\n",
        "\n",
        "mlp = MLP(36).to(device)"
      ],
      "metadata": {
        "id": "B7DWcuCGNUDv"
      },
      "execution_count": 57,
      "outputs": []
    },
    {
      "cell_type": "code",
      "source": [
        "criterion = nn.MSELoss()\n",
        "opt = torch.optim.Adam(mlp.parameters(), lr=0.1)\n",
        "scheduler = torch.optim.lr_scheduler.StepLR(opt, step_size=50, gamma=0.5)"
      ],
      "metadata": {
        "id": "7tzuDN5XSfVs"
      },
      "execution_count": 58,
      "outputs": []
    },
    {
      "cell_type": "code",
      "source": [
        "batch_size = 128\n",
        "\n",
        "train_loader = DataLoader(TensorDataset(torch.Tensor(X[idx_train]), torch.Tensor(y[idx_train])), batch_size=batch_size, shuffle=True)\n",
        "val_loader = DataLoader(TensorDataset(torch.Tensor(X[idx_val]), torch.Tensor(y[idx_val])), batch_size=batch_size, shuffle=False)\n",
        "test_loader = DataLoader(TensorDataset(torch.Tensor(X[idx_test]), torch.Tensor(y[idx_test])), batch_size=batch_size, shuffle=False)"
      ],
      "metadata": {
        "id": "Z8x6T0qqSh0a"
      },
      "execution_count": 59,
      "outputs": []
    },
    {
      "cell_type": "code",
      "source": [
        "num_epochs = 300\n",
        "\n",
        "train_loss = []\n",
        "val_loss = []\n",
        "best_epoch = 0\n",
        "best_loss = 1e9\n",
        "\n",
        "for i in tqdm(range(num_epochs)):\n",
        "    loss = np.sqrt(epoch_train(mlp, train_loader, criterion, opt))\n",
        "    train_loss.append(loss)\n",
        "\n",
        "    loss = np.sqrt(epoch_val(mlp, val_loader, criterion))\n",
        "    val_loss.append(loss)\n",
        "    if loss < best_loss:\n",
        "        best_epoch = i\n",
        "        best_loss = loss\n",
        "    \n",
        "    scheduler.step()\n",
        "    \n",
        "    print('---------------------------------------------------------')\n",
        "    print(f'Epoch: {i}, Train RMSE: {train_loss[-1]}, Val RMSE: {val_loss[-1]}, Best RMSE: {best_loss}')"
      ],
      "metadata": {
        "colab": {
          "base_uri": "https://localhost:8080/"
        },
        "id": "Dtx2IGY1SkUE",
        "outputId": "df1a113a-a01e-4a90-dc20-0b97062fdf40"
      },
      "execution_count": 60,
      "outputs": [
        {
          "output_type": "stream",
          "name": "stderr",
          "text": [
            "  1%|          | 3/300 [00:00<00:27, 10.95it/s]"
          ]
        },
        {
          "output_type": "stream",
          "name": "stdout",
          "text": [
            "---------------------------------------------------------\n",
            "Epoch: 0, Train RMSE: 3.2550669093771862, Val RMSE: 1.9663318982520197, Best RMSE: 1.9663318982520197\n",
            "---------------------------------------------------------\n",
            "Epoch: 1, Train RMSE: 1.9996105868528165, Val RMSE: 1.8784684938958152, Best RMSE: 1.8784684938958152\n",
            "---------------------------------------------------------\n",
            "Epoch: 2, Train RMSE: 1.9214836661383394, Val RMSE: 1.8627831398170884, Best RMSE: 1.8627831398170884\n",
            "---------------------------------------------------------\n",
            "Epoch: 3, Train RMSE: 1.9180791837881894, Val RMSE: 1.8535261262659846, Best RMSE: 1.8535261262659846\n"
          ]
        },
        {
          "output_type": "stream",
          "name": "stderr",
          "text": [
            "  2%|▏         | 7/300 [00:00<00:19, 14.97it/s]"
          ]
        },
        {
          "output_type": "stream",
          "name": "stdout",
          "text": [
            "---------------------------------------------------------\n",
            "Epoch: 4, Train RMSE: 1.9025559054425203, Val RMSE: 1.8467756853681994, Best RMSE: 1.8467756853681994\n",
            "---------------------------------------------------------\n",
            "Epoch: 5, Train RMSE: 1.901182781150128, Val RMSE: 1.845148027546661, Best RMSE: 1.845148027546661\n",
            "---------------------------------------------------------\n",
            "Epoch: 6, Train RMSE: 1.8976336850455826, Val RMSE: 1.8446233377402033, Best RMSE: 1.8446233377402033\n",
            "---------------------------------------------------------\n",
            "Epoch: 7, Train RMSE: 1.8930024212265213, Val RMSE: 1.8909934364107026, Best RMSE: 1.8446233377402033\n"
          ]
        },
        {
          "output_type": "stream",
          "name": "stderr",
          "text": [
            "  4%|▎         | 11/300 [00:00<00:17, 16.75it/s]"
          ]
        },
        {
          "output_type": "stream",
          "name": "stdout",
          "text": [
            "---------------------------------------------------------\n",
            "Epoch: 8, Train RMSE: 1.9054553564720778, Val RMSE: 1.846454393657822, Best RMSE: 1.8446233377402033\n",
            "---------------------------------------------------------\n",
            "Epoch: 9, Train RMSE: 1.891789493591223, Val RMSE: 1.8466019439848715, Best RMSE: 1.8446233377402033\n",
            "---------------------------------------------------------\n",
            "Epoch: 10, Train RMSE: 1.8990584555192938, Val RMSE: 1.8585300871435741, Best RMSE: 1.8446233377402033\n",
            "---------------------------------------------------------\n",
            "Epoch: 11, Train RMSE: 1.9305341058442955, Val RMSE: 1.8898179871380825, Best RMSE: 1.8446233377402033\n"
          ]
        },
        {
          "output_type": "stream",
          "name": "stderr",
          "text": [
            "  5%|▌         | 15/300 [00:01<00:17, 16.44it/s]"
          ]
        },
        {
          "output_type": "stream",
          "name": "stdout",
          "text": [
            "---------------------------------------------------------\n",
            "Epoch: 12, Train RMSE: 1.9028394220778688, Val RMSE: 1.8729282016084, Best RMSE: 1.8446233377402033\n",
            "---------------------------------------------------------\n",
            "Epoch: 13, Train RMSE: 1.9101538227085966, Val RMSE: 1.8534122934708424, Best RMSE: 1.8446233377402033\n",
            "---------------------------------------------------------\n",
            "Epoch: 14, Train RMSE: 1.8961272933678401, Val RMSE: 1.8407080408735679, Best RMSE: 1.8407080408735679\n",
            "---------------------------------------------------------\n",
            "Epoch: 15, Train RMSE: 1.895715512013229, Val RMSE: 1.9042537332040532, Best RMSE: 1.8407080408735679\n"
          ]
        },
        {
          "output_type": "stream",
          "name": "stderr",
          "text": [
            "  6%|▋         | 19/300 [00:01<00:16, 17.28it/s]"
          ]
        },
        {
          "output_type": "stream",
          "name": "stdout",
          "text": [
            "---------------------------------------------------------\n",
            "Epoch: 16, Train RMSE: 1.908248296116359, Val RMSE: 1.8858887130662356, Best RMSE: 1.8407080408735679\n",
            "---------------------------------------------------------\n",
            "Epoch: 17, Train RMSE: 1.8972845977251758, Val RMSE: 1.8593870032948316, Best RMSE: 1.8407080408735679\n",
            "---------------------------------------------------------\n",
            "Epoch: 18, Train RMSE: 1.881588201163575, Val RMSE: 1.847291910307191, Best RMSE: 1.8407080408735679\n",
            "---------------------------------------------------------\n",
            "Epoch: 19, Train RMSE: 1.881392936206361, Val RMSE: 1.9037130273798994, Best RMSE: 1.8407080408735679\n"
          ]
        },
        {
          "output_type": "stream",
          "name": "stderr",
          "text": [
            "  8%|▊         | 23/300 [00:01<00:16, 16.98it/s]"
          ]
        },
        {
          "output_type": "stream",
          "name": "stdout",
          "text": [
            "---------------------------------------------------------\n",
            "Epoch: 20, Train RMSE: 1.8915394858210461, Val RMSE: 1.8482545645303812, Best RMSE: 1.8407080408735679\n",
            "---------------------------------------------------------\n",
            "Epoch: 21, Train RMSE: 1.8881103410345745, Val RMSE: 1.8568781861025874, Best RMSE: 1.8407080408735679\n",
            "---------------------------------------------------------\n",
            "Epoch: 22, Train RMSE: 1.9107713617417503, Val RMSE: 1.8482845108344184, Best RMSE: 1.8407080408735679\n",
            "---------------------------------------------------------\n",
            "Epoch: 23, Train RMSE: 1.881959447966416, Val RMSE: 1.8580830102589576, Best RMSE: 1.8407080408735679\n"
          ]
        },
        {
          "output_type": "stream",
          "name": "stderr",
          "text": [
            "  9%|▉         | 27/300 [00:01<00:15, 17.91it/s]"
          ]
        },
        {
          "output_type": "stream",
          "name": "stdout",
          "text": [
            "---------------------------------------------------------\n",
            "Epoch: 24, Train RMSE: 1.889318158740388, Val RMSE: 1.867362642626616, Best RMSE: 1.8407080408735679\n",
            "---------------------------------------------------------\n",
            "Epoch: 25, Train RMSE: 1.88209761420642, Val RMSE: 1.8467422199363814, Best RMSE: 1.8407080408735679\n",
            "---------------------------------------------------------\n",
            "Epoch: 26, Train RMSE: 1.8826115944987316, Val RMSE: 1.8540636863272688, Best RMSE: 1.8407080408735679\n",
            "---------------------------------------------------------\n",
            "Epoch: 27, Train RMSE: 1.8841822059294364, Val RMSE: 1.8421091946366501, Best RMSE: 1.8407080408735679\n"
          ]
        },
        {
          "output_type": "stream",
          "name": "stderr",
          "text": [
            " 10%|█         | 31/300 [00:01<00:16, 16.50it/s]"
          ]
        },
        {
          "output_type": "stream",
          "name": "stdout",
          "text": [
            "---------------------------------------------------------\n",
            "Epoch: 28, Train RMSE: 1.9095172595169811, Val RMSE: 1.9788034265079133, Best RMSE: 1.8407080408735679\n",
            "---------------------------------------------------------\n",
            "Epoch: 29, Train RMSE: 1.9227337062852607, Val RMSE: 1.884387404797368, Best RMSE: 1.8407080408735679\n",
            "---------------------------------------------------------\n",
            "Epoch: 30, Train RMSE: 1.8909522991250038, Val RMSE: 1.8411844252803893, Best RMSE: 1.8407080408735679\n",
            "---------------------------------------------------------\n",
            "Epoch: 31, Train RMSE: 1.8886870177978115, Val RMSE: 1.8405361338194317, Best RMSE: 1.8405361338194317\n"
          ]
        },
        {
          "output_type": "stream",
          "name": "stderr",
          "text": [
            " 12%|█▏        | 35/300 [00:02<00:14, 17.68it/s]"
          ]
        },
        {
          "output_type": "stream",
          "name": "stdout",
          "text": [
            "---------------------------------------------------------\n",
            "Epoch: 32, Train RMSE: 1.8936416981836888, Val RMSE: 1.8414071031219446, Best RMSE: 1.8405361338194317\n",
            "---------------------------------------------------------\n",
            "Epoch: 33, Train RMSE: 1.8865219111288438, Val RMSE: 1.843648993077468, Best RMSE: 1.8405361338194317\n",
            "---------------------------------------------------------\n",
            "Epoch: 34, Train RMSE: 1.8881163937416958, Val RMSE: 1.8392894424837545, Best RMSE: 1.8392894424837545\n",
            "---------------------------------------------------------\n",
            "Epoch: 35, Train RMSE: 1.895074820545144, Val RMSE: 1.852715695532208, Best RMSE: 1.8392894424837545\n"
          ]
        },
        {
          "output_type": "stream",
          "name": "stderr",
          "text": [
            " 13%|█▎        | 39/300 [00:02<00:15, 16.71it/s]"
          ]
        },
        {
          "output_type": "stream",
          "name": "stdout",
          "text": [
            "---------------------------------------------------------\n",
            "Epoch: 36, Train RMSE: 1.9526487309142264, Val RMSE: 1.8458527888225964, Best RMSE: 1.8392894424837545\n",
            "---------------------------------------------------------\n",
            "Epoch: 37, Train RMSE: 1.8802808561502538, Val RMSE: 1.8416696619969521, Best RMSE: 1.8392894424837545\n",
            "---------------------------------------------------------\n",
            "Epoch: 38, Train RMSE: 1.876434502480956, Val RMSE: 1.8433209987618615, Best RMSE: 1.8392894424837545\n",
            "---------------------------------------------------------\n",
            "Epoch: 39, Train RMSE: 1.8833118138271496, Val RMSE: 1.8538126469912937, Best RMSE: 1.8392894424837545\n"
          ]
        },
        {
          "output_type": "stream",
          "name": "stderr",
          "text": [
            " 14%|█▍        | 43/300 [00:02<00:15, 16.75it/s]"
          ]
        },
        {
          "output_type": "stream",
          "name": "stdout",
          "text": [
            "---------------------------------------------------------\n",
            "Epoch: 40, Train RMSE: 1.8854513844253986, Val RMSE: 1.8805501971604761, Best RMSE: 1.8392894424837545\n",
            "---------------------------------------------------------\n",
            "Epoch: 41, Train RMSE: 1.9296317786383228, Val RMSE: 1.878738919173449, Best RMSE: 1.8392894424837545\n",
            "---------------------------------------------------------\n",
            "Epoch: 42, Train RMSE: 1.8764562677366432, Val RMSE: 1.8392236517888034, Best RMSE: 1.8392236517888034\n",
            "---------------------------------------------------------\n",
            "Epoch: 43, Train RMSE: 1.878149238055443, Val RMSE: 1.8390112895847248, Best RMSE: 1.8390112895847248\n"
          ]
        },
        {
          "output_type": "stream",
          "name": "stderr",
          "text": [
            " 16%|█▌        | 47/300 [00:02<00:14, 17.37it/s]"
          ]
        },
        {
          "output_type": "stream",
          "name": "stdout",
          "text": [
            "---------------------------------------------------------\n",
            "Epoch: 44, Train RMSE: 1.8857587925280022, Val RMSE: 1.8777037682890791, Best RMSE: 1.8390112895847248\n",
            "---------------------------------------------------------\n",
            "Epoch: 45, Train RMSE: 1.8736919108335, Val RMSE: 1.8404703342576876, Best RMSE: 1.8390112895847248\n",
            "---------------------------------------------------------\n",
            "Epoch: 46, Train RMSE: 1.8956725187403165, Val RMSE: 1.8424147303691623, Best RMSE: 1.8390112895847248\n",
            "---------------------------------------------------------\n",
            "Epoch: 47, Train RMSE: 1.8800027984334828, Val RMSE: 1.8380817918044772, Best RMSE: 1.8380817918044772\n"
          ]
        },
        {
          "output_type": "stream",
          "name": "stderr",
          "text": [
            " 17%|█▋        | 51/300 [00:03<00:13, 17.91it/s]"
          ]
        },
        {
          "output_type": "stream",
          "name": "stdout",
          "text": [
            "---------------------------------------------------------\n",
            "Epoch: 48, Train RMSE: 1.8938898532833948, Val RMSE: 1.9266676803075709, Best RMSE: 1.8380817918044772\n",
            "---------------------------------------------------------\n",
            "Epoch: 49, Train RMSE: 1.8988145719741427, Val RMSE: 1.8407287636300607, Best RMSE: 1.8380817918044772\n",
            "---------------------------------------------------------\n",
            "Epoch: 50, Train RMSE: 1.8663862068164963, Val RMSE: 1.8437519592266514, Best RMSE: 1.8380817918044772\n",
            "---------------------------------------------------------\n",
            "Epoch: 51, Train RMSE: 1.8648932048877118, Val RMSE: 1.8513252485339153, Best RMSE: 1.8380817918044772\n"
          ]
        },
        {
          "output_type": "stream",
          "name": "stderr",
          "text": [
            " 18%|█▊        | 55/300 [00:03<00:13, 18.13it/s]"
          ]
        },
        {
          "output_type": "stream",
          "name": "stdout",
          "text": [
            "---------------------------------------------------------\n",
            "Epoch: 52, Train RMSE: 1.872380998166509, Val RMSE: 1.8372717996483536, Best RMSE: 1.8372717996483536\n",
            "---------------------------------------------------------\n",
            "Epoch: 53, Train RMSE: 1.8596473857638869, Val RMSE: 1.8328150909845176, Best RMSE: 1.8328150909845176\n",
            "---------------------------------------------------------\n",
            "Epoch: 54, Train RMSE: 1.8594866342782361, Val RMSE: 1.8362669312871323, Best RMSE: 1.8328150909845176\n",
            "---------------------------------------------------------\n",
            "Epoch: 55, Train RMSE: 1.8527499964527474, Val RMSE: 1.8303619007778595, Best RMSE: 1.8303619007778595\n"
          ]
        },
        {
          "output_type": "stream",
          "name": "stderr",
          "text": [
            " 20%|█▉        | 59/300 [00:03<00:13, 18.02it/s]"
          ]
        },
        {
          "output_type": "stream",
          "name": "stdout",
          "text": [
            "---------------------------------------------------------\n",
            "Epoch: 56, Train RMSE: 1.8514420660767739, Val RMSE: 1.8290276642477095, Best RMSE: 1.8290276642477095\n",
            "---------------------------------------------------------\n",
            "Epoch: 57, Train RMSE: 1.849458176855816, Val RMSE: 1.8534429611806154, Best RMSE: 1.8290276642477095\n",
            "---------------------------------------------------------\n",
            "Epoch: 58, Train RMSE: 1.8533034994014301, Val RMSE: 1.837365148115593, Best RMSE: 1.8290276642477095\n",
            "---------------------------------------------------------\n",
            "Epoch: 59, Train RMSE: 1.8472236840132075, Val RMSE: 1.8499444535886675, Best RMSE: 1.8290276642477095\n"
          ]
        },
        {
          "output_type": "stream",
          "name": "stderr",
          "text": [
            " 21%|██        | 63/300 [00:03<00:13, 17.64it/s]"
          ]
        },
        {
          "output_type": "stream",
          "name": "stdout",
          "text": [
            "---------------------------------------------------------\n",
            "Epoch: 60, Train RMSE: 1.8471414687963033, Val RMSE: 1.8267252545482129, Best RMSE: 1.8267252545482129\n",
            "---------------------------------------------------------\n",
            "Epoch: 61, Train RMSE: 1.8435023768096621, Val RMSE: 1.8195092771818815, Best RMSE: 1.8195092771818815\n",
            "---------------------------------------------------------\n",
            "Epoch: 62, Train RMSE: 1.8458675645292717, Val RMSE: 1.8349927171081473, Best RMSE: 1.8195092771818815\n",
            "---------------------------------------------------------\n",
            "Epoch: 63, Train RMSE: 1.8409221653580585, Val RMSE: 1.83252225463707, Best RMSE: 1.8195092771818815\n"
          ]
        },
        {
          "output_type": "stream",
          "name": "stderr",
          "text": [
            " 22%|██▏       | 67/300 [00:03<00:13, 17.71it/s]"
          ]
        },
        {
          "output_type": "stream",
          "name": "stdout",
          "text": [
            "---------------------------------------------------------\n",
            "Epoch: 64, Train RMSE: 1.8685573511962394, Val RMSE: 1.813703313402797, Best RMSE: 1.813703313402797\n",
            "---------------------------------------------------------\n",
            "Epoch: 65, Train RMSE: 1.8338703821035764, Val RMSE: 1.81213677480217, Best RMSE: 1.81213677480217\n",
            "---------------------------------------------------------\n",
            "Epoch: 66, Train RMSE: 1.8359105839232002, Val RMSE: 1.824827928450793, Best RMSE: 1.81213677480217\n",
            "---------------------------------------------------------\n",
            "Epoch: 67, Train RMSE: 1.840509787374604, Val RMSE: 1.8218673886953711, Best RMSE: 1.81213677480217\n"
          ]
        },
        {
          "output_type": "stream",
          "name": "stderr",
          "text": [
            " 24%|██▎       | 71/300 [00:04<00:12, 18.20it/s]"
          ]
        },
        {
          "output_type": "stream",
          "name": "stdout",
          "text": [
            "---------------------------------------------------------\n",
            "Epoch: 68, Train RMSE: 1.8475352509311986, Val RMSE: 1.8294547849812397, Best RMSE: 1.81213677480217\n",
            "---------------------------------------------------------\n",
            "Epoch: 69, Train RMSE: 1.8450370677976484, Val RMSE: 1.8117653997903025, Best RMSE: 1.8117653997903025\n",
            "---------------------------------------------------------\n",
            "Epoch: 70, Train RMSE: 1.8229600673031066, Val RMSE: 1.8063707260973907, Best RMSE: 1.8063707260973907\n",
            "---------------------------------------------------------\n",
            "Epoch: 71, Train RMSE: 1.8373524507364842, Val RMSE: 1.8738800483332467, Best RMSE: 1.8063707260973907\n"
          ]
        },
        {
          "output_type": "stream",
          "name": "stderr",
          "text": [
            " 25%|██▌       | 75/300 [00:04<00:12, 18.14it/s]"
          ]
        },
        {
          "output_type": "stream",
          "name": "stdout",
          "text": [
            "---------------------------------------------------------\n",
            "Epoch: 72, Train RMSE: 1.831400351890821, Val RMSE: 1.8171776361395526, Best RMSE: 1.8063707260973907\n",
            "---------------------------------------------------------\n",
            "Epoch: 73, Train RMSE: 1.8404689674060746, Val RMSE: 1.8033625741653783, Best RMSE: 1.8033625741653783\n",
            "---------------------------------------------------------\n",
            "Epoch: 74, Train RMSE: 1.826226953100087, Val RMSE: 1.850546048049769, Best RMSE: 1.8033625741653783\n",
            "---------------------------------------------------------\n",
            "Epoch: 75, Train RMSE: 1.8425890111572143, Val RMSE: 1.8086524985875714, Best RMSE: 1.8033625741653783\n"
          ]
        },
        {
          "output_type": "stream",
          "name": "stderr",
          "text": [
            " 26%|██▋       | 79/300 [00:04<00:12, 17.70it/s]"
          ]
        },
        {
          "output_type": "stream",
          "name": "stdout",
          "text": [
            "---------------------------------------------------------\n",
            "Epoch: 76, Train RMSE: 1.8221684812853682, Val RMSE: 1.836912399461937, Best RMSE: 1.8033625741653783\n",
            "---------------------------------------------------------\n",
            "Epoch: 77, Train RMSE: 1.8323417484860816, Val RMSE: 1.8001986416901368, Best RMSE: 1.8001986416901368\n",
            "---------------------------------------------------------\n",
            "Epoch: 78, Train RMSE: 1.8353200291026461, Val RMSE: 1.8024764253858299, Best RMSE: 1.8001986416901368\n",
            "---------------------------------------------------------\n",
            "Epoch: 79, Train RMSE: 1.8387277608697734, Val RMSE: 1.8441243802808276, Best RMSE: 1.8001986416901368\n"
          ]
        },
        {
          "output_type": "stream",
          "name": "stderr",
          "text": [
            " 28%|██▊       | 83/300 [00:04<00:11, 18.14it/s]"
          ]
        },
        {
          "output_type": "stream",
          "name": "stdout",
          "text": [
            "---------------------------------------------------------\n",
            "Epoch: 80, Train RMSE: 1.823006637314178, Val RMSE: 1.8008419915934863, Best RMSE: 1.8001986416901368\n",
            "---------------------------------------------------------\n",
            "Epoch: 81, Train RMSE: 1.8235848921410371, Val RMSE: 1.796283386876642, Best RMSE: 1.796283386876642\n",
            "---------------------------------------------------------\n",
            "Epoch: 82, Train RMSE: 1.8176423482777728, Val RMSE: 1.8001367058841033, Best RMSE: 1.796283386876642\n",
            "---------------------------------------------------------\n",
            "Epoch: 83, Train RMSE: 1.816837688838256, Val RMSE: 1.8505997093701003, Best RMSE: 1.796283386876642\n"
          ]
        },
        {
          "output_type": "stream",
          "name": "stderr",
          "text": [
            " 29%|██▉       | 87/300 [00:05<00:11, 18.50it/s]"
          ]
        },
        {
          "output_type": "stream",
          "name": "stdout",
          "text": [
            "---------------------------------------------------------\n",
            "Epoch: 84, Train RMSE: 1.8294038849701508, Val RMSE: 1.7976960163168887, Best RMSE: 1.796283386876642\n",
            "---------------------------------------------------------\n",
            "Epoch: 85, Train RMSE: 1.8113513440101041, Val RMSE: 1.8694404742239308, Best RMSE: 1.796283386876642\n",
            "---------------------------------------------------------\n",
            "Epoch: 86, Train RMSE: 1.8421043333185387, Val RMSE: 1.832796620964975, Best RMSE: 1.796283386876642\n",
            "---------------------------------------------------------\n",
            "Epoch: 87, Train RMSE: 1.829927291584814, Val RMSE: 1.7990519261628204, Best RMSE: 1.796283386876642\n"
          ]
        },
        {
          "output_type": "stream",
          "name": "stderr",
          "text": [
            " 30%|███       | 91/300 [00:05<00:11, 18.55it/s]"
          ]
        },
        {
          "output_type": "stream",
          "name": "stdout",
          "text": [
            "---------------------------------------------------------\n",
            "Epoch: 88, Train RMSE: 1.813048703421949, Val RMSE: 1.7961540677335128, Best RMSE: 1.7961540677335128\n",
            "---------------------------------------------------------\n",
            "Epoch: 89, Train RMSE: 1.8180429556569715, Val RMSE: 1.8178778762765921, Best RMSE: 1.7961540677335128\n",
            "---------------------------------------------------------\n",
            "Epoch: 90, Train RMSE: 1.8235415041257603, Val RMSE: 1.803899025671726, Best RMSE: 1.7961540677335128\n",
            "---------------------------------------------------------\n",
            "Epoch: 91, Train RMSE: 1.8409103282980142, Val RMSE: 1.8300088768845058, Best RMSE: 1.7961540677335128\n"
          ]
        },
        {
          "output_type": "stream",
          "name": "stderr",
          "text": [
            " 32%|███▏      | 95/300 [00:05<00:11, 17.81it/s]"
          ]
        },
        {
          "output_type": "stream",
          "name": "stdout",
          "text": [
            "---------------------------------------------------------\n",
            "Epoch: 92, Train RMSE: 1.857948778216145, Val RMSE: 1.7947927463380724, Best RMSE: 1.7947927463380724\n",
            "---------------------------------------------------------\n",
            "Epoch: 93, Train RMSE: 1.8201269410631704, Val RMSE: 1.7964787492071468, Best RMSE: 1.7947927463380724\n",
            "---------------------------------------------------------\n",
            "Epoch: 94, Train RMSE: 1.8366514668717633, Val RMSE: 1.8019586741091174, Best RMSE: 1.7947927463380724\n",
            "---------------------------------------------------------\n",
            "Epoch: 95, Train RMSE: 1.815846024073473, Val RMSE: 1.8098817817480246, Best RMSE: 1.7947927463380724\n"
          ]
        },
        {
          "output_type": "stream",
          "name": "stderr",
          "text": [
            " 33%|███▎      | 99/300 [00:05<00:10, 18.45it/s]"
          ]
        },
        {
          "output_type": "stream",
          "name": "stdout",
          "text": [
            "---------------------------------------------------------\n",
            "Epoch: 96, Train RMSE: 1.8127202290265738, Val RMSE: 1.8046856872436652, Best RMSE: 1.7947927463380724\n",
            "---------------------------------------------------------\n",
            "Epoch: 97, Train RMSE: 1.8302282263645742, Val RMSE: 1.8295875216266821, Best RMSE: 1.7947927463380724\n",
            "---------------------------------------------------------\n",
            "Epoch: 98, Train RMSE: 1.8526195100061187, Val RMSE: 1.8095659906409107, Best RMSE: 1.7947927463380724\n",
            "---------------------------------------------------------\n",
            "Epoch: 99, Train RMSE: 1.826367900161911, Val RMSE: 1.8047173368035399, Best RMSE: 1.7947927463380724\n"
          ]
        },
        {
          "output_type": "stream",
          "name": "stderr",
          "text": [
            " 34%|███▍      | 103/300 [00:05<00:10, 18.67it/s]"
          ]
        },
        {
          "output_type": "stream",
          "name": "stdout",
          "text": [
            "---------------------------------------------------------\n",
            "Epoch: 100, Train RMSE: 1.8082740801337875, Val RMSE: 1.7966277349962345, Best RMSE: 1.7947927463380724\n",
            "---------------------------------------------------------\n",
            "Epoch: 101, Train RMSE: 1.8060297500433793, Val RMSE: 1.7894475709677007, Best RMSE: 1.7894475709677007\n",
            "---------------------------------------------------------\n",
            "Epoch: 102, Train RMSE: 1.8081960771907901, Val RMSE: 1.7928724176591082, Best RMSE: 1.7894475709677007\n",
            "---------------------------------------------------------\n",
            "Epoch: 103, Train RMSE: 1.8098769712332483, Val RMSE: 1.813918824857901, Best RMSE: 1.7894475709677007\n"
          ]
        },
        {
          "output_type": "stream",
          "name": "stderr",
          "text": [
            "\r 35%|███▌      | 105/300 [00:06<00:11, 16.44it/s]"
          ]
        },
        {
          "output_type": "stream",
          "name": "stdout",
          "text": [
            "---------------------------------------------------------\n",
            "Epoch: 104, Train RMSE: 1.811053023548274, Val RMSE: 1.8008320624545613, Best RMSE: 1.7894475709677007\n",
            "---------------------------------------------------------\n",
            "Epoch: 105, Train RMSE: 1.8082321171075884, Val RMSE: 1.7900893542514051, Best RMSE: 1.7894475709677007\n"
          ]
        },
        {
          "output_type": "stream",
          "name": "stderr",
          "text": [
            "\r 36%|███▌      | 107/300 [00:06<00:15, 12.78it/s]"
          ]
        },
        {
          "output_type": "stream",
          "name": "stdout",
          "text": [
            "---------------------------------------------------------\n",
            "Epoch: 106, Train RMSE: 1.8098479424133616, Val RMSE: 1.7873143378989322, Best RMSE: 1.7873143378989322\n",
            "---------------------------------------------------------\n",
            "Epoch: 107, Train RMSE: 1.8073159495277307, Val RMSE: 1.7893232153603789, Best RMSE: 1.7873143378989322\n"
          ]
        },
        {
          "output_type": "stream",
          "name": "stderr",
          "text": [
            "\r 36%|███▋      | 109/300 [00:06<00:16, 11.32it/s]"
          ]
        },
        {
          "output_type": "stream",
          "name": "stdout",
          "text": [
            "---------------------------------------------------------\n",
            "Epoch: 108, Train RMSE: 1.8056972476384774, Val RMSE: 1.787204098139176, Best RMSE: 1.787204098139176\n",
            "---------------------------------------------------------\n",
            "Epoch: 109, Train RMSE: 1.8151302436693253, Val RMSE: 1.7912706823061502, Best RMSE: 1.787204098139176\n"
          ]
        },
        {
          "output_type": "stream",
          "name": "stderr",
          "text": [
            " 38%|███▊      | 113/300 [00:07<00:18,  9.93it/s]"
          ]
        },
        {
          "output_type": "stream",
          "name": "stdout",
          "text": [
            "---------------------------------------------------------\n",
            "Epoch: 110, Train RMSE: 1.8179616389628703, Val RMSE: 1.7907954541916047, Best RMSE: 1.787204098139176\n",
            "---------------------------------------------------------\n",
            "Epoch: 111, Train RMSE: 1.8076626899737718, Val RMSE: 1.80323348529644, Best RMSE: 1.787204098139176\n",
            "---------------------------------------------------------\n",
            "Epoch: 112, Train RMSE: 1.8047949748783314, Val RMSE: 1.787081460029344, Best RMSE: 1.787081460029344\n"
          ]
        },
        {
          "output_type": "stream",
          "name": "stderr",
          "text": [
            "\r 38%|███▊      | 115/300 [00:07<00:18,  9.91it/s]"
          ]
        },
        {
          "output_type": "stream",
          "name": "stdout",
          "text": [
            "---------------------------------------------------------\n",
            "Epoch: 113, Train RMSE: 1.808211691793991, Val RMSE: 1.7980039171826698, Best RMSE: 1.787081460029344\n",
            "---------------------------------------------------------\n",
            "Epoch: 114, Train RMSE: 1.8055099714627585, Val RMSE: 1.791050845453444, Best RMSE: 1.787081460029344\n",
            "---------------------------------------------------------\n",
            "Epoch: 115, Train RMSE: 1.8178326487542078, Val RMSE: 1.7881415536807752, Best RMSE: 1.787081460029344\n",
            "---------------------------------------------------------\n",
            "Epoch: 116, Train RMSE: 1.8063383154631438, Val RMSE: 1.8170221727564924, Best RMSE: 1.787081460029344"
          ]
        },
        {
          "output_type": "stream",
          "name": "stderr",
          "text": [
            " 40%|███▉      | 119/300 [00:07<00:13, 12.98it/s]"
          ]
        },
        {
          "output_type": "stream",
          "name": "stdout",
          "text": [
            "\n",
            "---------------------------------------------------------\n",
            "Epoch: 117, Train RMSE: 1.8076864563269543, Val RMSE: 1.809744509619633, Best RMSE: 1.787081460029344\n",
            "---------------------------------------------------------\n",
            "Epoch: 118, Train RMSE: 1.8038421690395927, Val RMSE: 1.805422055761135, Best RMSE: 1.787081460029344\n",
            "---------------------------------------------------------\n",
            "Epoch: 119, Train RMSE: 1.8012633799478441, Val RMSE: 1.7973106951498148, Best RMSE: 1.787081460029344\n"
          ]
        },
        {
          "output_type": "stream",
          "name": "stderr",
          "text": [
            " 41%|████      | 123/300 [00:07<00:11, 15.06it/s]"
          ]
        },
        {
          "output_type": "stream",
          "name": "stdout",
          "text": [
            "---------------------------------------------------------\n",
            "Epoch: 120, Train RMSE: 1.8014319042874531, Val RMSE: 1.7914809951896853, Best RMSE: 1.787081460029344\n",
            "---------------------------------------------------------\n",
            "Epoch: 121, Train RMSE: 1.8030771908340524, Val RMSE: 1.7839926148311085, Best RMSE: 1.7839926148311085\n",
            "---------------------------------------------------------\n",
            "Epoch: 122, Train RMSE: 1.7983512700949487, Val RMSE: 1.7849673460999187, Best RMSE: 1.7839926148311085\n",
            "---------------------------------------------------------\n",
            "Epoch: 123, Train RMSE: 1.796449602592476, Val RMSE: 1.7845692364208452, Best RMSE: 1.7839926148311085\n"
          ]
        },
        {
          "output_type": "stream",
          "name": "stderr",
          "text": [
            " 42%|████▏     | 127/300 [00:07<00:10, 16.44it/s]"
          ]
        },
        {
          "output_type": "stream",
          "name": "stdout",
          "text": [
            "---------------------------------------------------------\n",
            "Epoch: 124, Train RMSE: 1.8070146780734806, Val RMSE: 1.786801655272257, Best RMSE: 1.7839926148311085\n",
            "---------------------------------------------------------\n",
            "Epoch: 125, Train RMSE: 1.8038115265999881, Val RMSE: 1.7866226935160805, Best RMSE: 1.7839926148311085\n",
            "---------------------------------------------------------\n",
            "Epoch: 126, Train RMSE: 1.7970471115632556, Val RMSE: 1.7848877686833204, Best RMSE: 1.7839926148311085\n",
            "---------------------------------------------------------\n",
            "Epoch: 127, Train RMSE: 1.8024282688712692, Val RMSE: 1.7954083161625707, Best RMSE: 1.7839926148311085\n"
          ]
        },
        {
          "output_type": "stream",
          "name": "stderr",
          "text": [
            " 44%|████▎     | 131/300 [00:08<00:09, 16.97it/s]"
          ]
        },
        {
          "output_type": "stream",
          "name": "stdout",
          "text": [
            "---------------------------------------------------------\n",
            "Epoch: 128, Train RMSE: 1.8049309000573441, Val RMSE: 1.7796633764280956, Best RMSE: 1.7796633764280956\n",
            "---------------------------------------------------------\n",
            "Epoch: 129, Train RMSE: 1.8161737390109665, Val RMSE: 1.785398884825398, Best RMSE: 1.7796633764280956\n",
            "---------------------------------------------------------\n",
            "Epoch: 130, Train RMSE: 1.8028350154663895, Val RMSE: 1.8327989961284443, Best RMSE: 1.7796633764280956\n",
            "---------------------------------------------------------\n",
            "Epoch: 131, Train RMSE: 1.818049785767965, Val RMSE: 1.7955443567306897, Best RMSE: 1.7796633764280956\n"
          ]
        },
        {
          "output_type": "stream",
          "name": "stderr",
          "text": [
            " 45%|████▌     | 135/300 [00:08<00:09, 16.64it/s]"
          ]
        },
        {
          "output_type": "stream",
          "name": "stdout",
          "text": [
            "---------------------------------------------------------\n",
            "Epoch: 132, Train RMSE: 1.8000972005677536, Val RMSE: 1.7924237733087007, Best RMSE: 1.7796633764280956\n",
            "---------------------------------------------------------\n",
            "Epoch: 133, Train RMSE: 1.814191381077835, Val RMSE: 1.8073558817786357, Best RMSE: 1.7796633764280956\n",
            "---------------------------------------------------------\n",
            "Epoch: 134, Train RMSE: 1.8111187550640662, Val RMSE: 1.789001072479276, Best RMSE: 1.7796633764280956\n",
            "---------------------------------------------------------\n",
            "Epoch: 135, Train RMSE: 1.80844001476082, Val RMSE: 1.7980701521510327, Best RMSE: 1.7796633764280956\n"
          ]
        },
        {
          "output_type": "stream",
          "name": "stderr",
          "text": [
            " 46%|████▋     | 139/300 [00:08<00:09, 17.20it/s]"
          ]
        },
        {
          "output_type": "stream",
          "name": "stdout",
          "text": [
            "---------------------------------------------------------\n",
            "Epoch: 136, Train RMSE: 1.812132107576339, Val RMSE: 1.7968581026286055, Best RMSE: 1.7796633764280956\n",
            "---------------------------------------------------------\n",
            "Epoch: 137, Train RMSE: 1.805581616422132, Val RMSE: 1.7960010460807843, Best RMSE: 1.7796633764280956\n",
            "---------------------------------------------------------\n",
            "Epoch: 138, Train RMSE: 1.8042793619790545, Val RMSE: 1.797314345741421, Best RMSE: 1.7796633764280956\n",
            "---------------------------------------------------------\n",
            "Epoch: 139, Train RMSE: 1.8134076177365956, Val RMSE: 1.813053143871582, Best RMSE: 1.7796633764280956\n"
          ]
        },
        {
          "output_type": "stream",
          "name": "stderr",
          "text": [
            " 48%|████▊     | 143/300 [00:08<00:08, 17.99it/s]"
          ]
        },
        {
          "output_type": "stream",
          "name": "stdout",
          "text": [
            "---------------------------------------------------------\n",
            "Epoch: 140, Train RMSE: 1.8286053027280074, Val RMSE: 1.8285780476347824, Best RMSE: 1.7796633764280956\n",
            "---------------------------------------------------------\n",
            "Epoch: 141, Train RMSE: 1.8035113883016425, Val RMSE: 1.8079537374260608, Best RMSE: 1.7796633764280956\n",
            "---------------------------------------------------------\n",
            "Epoch: 142, Train RMSE: 1.802899602396452, Val RMSE: 1.7938231944942726, Best RMSE: 1.7796633764280956\n",
            "---------------------------------------------------------\n",
            "Epoch: 143, Train RMSE: 1.815911585076686, Val RMSE: 1.7910671588700848, Best RMSE: 1.7796633764280956\n"
          ]
        },
        {
          "output_type": "stream",
          "name": "stderr",
          "text": [
            " 49%|████▉     | 147/300 [00:09<00:08, 17.99it/s]"
          ]
        },
        {
          "output_type": "stream",
          "name": "stdout",
          "text": [
            "---------------------------------------------------------\n",
            "Epoch: 144, Train RMSE: 1.7998445122455828, Val RMSE: 1.788096523284386, Best RMSE: 1.7796633764280956\n",
            "---------------------------------------------------------\n",
            "Epoch: 145, Train RMSE: 1.807483120829668, Val RMSE: 1.7832023688895835, Best RMSE: 1.7796633764280956\n",
            "---------------------------------------------------------\n",
            "Epoch: 146, Train RMSE: 1.7960185195661662, Val RMSE: 1.789136192355254, Best RMSE: 1.7796633764280956\n",
            "---------------------------------------------------------\n",
            "Epoch: 147, Train RMSE: 1.7937721661739998, Val RMSE: 1.7898589678402617, Best RMSE: 1.7796633764280956\n"
          ]
        },
        {
          "output_type": "stream",
          "name": "stderr",
          "text": [
            " 50%|█████     | 151/300 [00:09<00:08, 18.24it/s]"
          ]
        },
        {
          "output_type": "stream",
          "name": "stdout",
          "text": [
            "---------------------------------------------------------\n",
            "Epoch: 148, Train RMSE: 1.8055528989881537, Val RMSE: 1.803128094368852, Best RMSE: 1.7796633764280956\n",
            "---------------------------------------------------------\n",
            "Epoch: 149, Train RMSE: 1.8101644126119067, Val RMSE: 1.795956624210983, Best RMSE: 1.7796633764280956\n",
            "---------------------------------------------------------\n",
            "Epoch: 150, Train RMSE: 1.7979403153288604, Val RMSE: 1.7830889070222005, Best RMSE: 1.7796633764280956\n",
            "---------------------------------------------------------\n",
            "Epoch: 151, Train RMSE: 1.7955438218327158, Val RMSE: 1.7810592171082424, Best RMSE: 1.7796633764280956\n"
          ]
        },
        {
          "output_type": "stream",
          "name": "stderr",
          "text": [
            " 52%|█████▏    | 155/300 [00:09<00:07, 18.37it/s]"
          ]
        },
        {
          "output_type": "stream",
          "name": "stdout",
          "text": [
            "---------------------------------------------------------\n",
            "Epoch: 152, Train RMSE: 1.797232148824105, Val RMSE: 1.7798730785661894, Best RMSE: 1.7796633764280956\n",
            "---------------------------------------------------------\n",
            "Epoch: 153, Train RMSE: 1.7963694427140107, Val RMSE: 1.7858267420578193, Best RMSE: 1.7796633764280956\n",
            "---------------------------------------------------------\n",
            "Epoch: 154, Train RMSE: 1.7917039908283057, Val RMSE: 1.7883769836913304, Best RMSE: 1.7796633764280956\n",
            "---------------------------------------------------------\n",
            "Epoch: 155, Train RMSE: 1.7953994311745223, Val RMSE: 1.7912222919438259, Best RMSE: 1.7796633764280956\n"
          ]
        },
        {
          "output_type": "stream",
          "name": "stderr",
          "text": [
            " 53%|█████▎    | 159/300 [00:09<00:07, 17.96it/s]"
          ]
        },
        {
          "output_type": "stream",
          "name": "stdout",
          "text": [
            "---------------------------------------------------------\n",
            "Epoch: 156, Train RMSE: 1.800160982223518, Val RMSE: 1.7782369018669906, Best RMSE: 1.7782369018669906\n",
            "---------------------------------------------------------\n",
            "Epoch: 157, Train RMSE: 1.7922556451871692, Val RMSE: 1.7864582184203104, Best RMSE: 1.7782369018669906\n",
            "---------------------------------------------------------\n",
            "Epoch: 158, Train RMSE: 1.7922249582398282, Val RMSE: 1.7934975488469789, Best RMSE: 1.7782369018669906\n",
            "---------------------------------------------------------\n",
            "Epoch: 159, Train RMSE: 1.794717409245844, Val RMSE: 1.7831287393288318, Best RMSE: 1.7782369018669906\n"
          ]
        },
        {
          "output_type": "stream",
          "name": "stderr",
          "text": [
            " 54%|█████▍    | 163/300 [00:09<00:07, 17.94it/s]"
          ]
        },
        {
          "output_type": "stream",
          "name": "stdout",
          "text": [
            "---------------------------------------------------------\n",
            "Epoch: 160, Train RMSE: 1.7961155732518046, Val RMSE: 1.7805820055585986, Best RMSE: 1.7782369018669906\n",
            "---------------------------------------------------------\n",
            "Epoch: 161, Train RMSE: 1.789562613405262, Val RMSE: 1.7803825768655936, Best RMSE: 1.7782369018669906\n",
            "---------------------------------------------------------\n",
            "Epoch: 162, Train RMSE: 1.7917164856403127, Val RMSE: 1.7804338475206432, Best RMSE: 1.7782369018669906\n",
            "---------------------------------------------------------\n",
            "Epoch: 163, Train RMSE: 1.791726071983023, Val RMSE: 1.7848836148829106, Best RMSE: 1.7782369018669906\n"
          ]
        },
        {
          "output_type": "stream",
          "name": "stderr",
          "text": [
            " 56%|█████▌    | 167/300 [00:10<00:07, 18.40it/s]"
          ]
        },
        {
          "output_type": "stream",
          "name": "stdout",
          "text": [
            "---------------------------------------------------------\n",
            "Epoch: 164, Train RMSE: 1.7917099439852198, Val RMSE: 1.782304571001172, Best RMSE: 1.7782369018669906\n",
            "---------------------------------------------------------\n",
            "Epoch: 165, Train RMSE: 1.7893714496997093, Val RMSE: 1.7871776929753354, Best RMSE: 1.7782369018669906\n",
            "---------------------------------------------------------\n",
            "Epoch: 166, Train RMSE: 1.7925354810545626, Val RMSE: 1.783402333852706, Best RMSE: 1.7782369018669906\n",
            "---------------------------------------------------------\n",
            "Epoch: 167, Train RMSE: 1.7940277814308836, Val RMSE: 1.787201254562999, Best RMSE: 1.7782369018669906\n"
          ]
        },
        {
          "output_type": "stream",
          "name": "stderr",
          "text": [
            " 57%|█████▋    | 171/300 [00:10<00:06, 18.77it/s]"
          ]
        },
        {
          "output_type": "stream",
          "name": "stdout",
          "text": [
            "---------------------------------------------------------\n",
            "Epoch: 168, Train RMSE: 1.7894665417273297, Val RMSE: 1.805642049281731, Best RMSE: 1.7782369018669906\n",
            "---------------------------------------------------------\n",
            "Epoch: 169, Train RMSE: 1.7951213066737353, Val RMSE: 1.7787636776405213, Best RMSE: 1.7782369018669906\n",
            "---------------------------------------------------------\n",
            "Epoch: 170, Train RMSE: 1.787752186099905, Val RMSE: 1.7804930118390758, Best RMSE: 1.7782369018669906\n",
            "---------------------------------------------------------\n",
            "Epoch: 171, Train RMSE: 1.7887828196855664, Val RMSE: 1.7942216330362428, Best RMSE: 1.7782369018669906\n"
          ]
        },
        {
          "output_type": "stream",
          "name": "stderr",
          "text": [
            " 58%|█████▊    | 175/300 [00:10<00:06, 18.34it/s]"
          ]
        },
        {
          "output_type": "stream",
          "name": "stdout",
          "text": [
            "---------------------------------------------------------\n",
            "Epoch: 172, Train RMSE: 1.8001292615518676, Val RMSE: 1.7913218273778433, Best RMSE: 1.7782369018669906\n",
            "---------------------------------------------------------\n",
            "Epoch: 173, Train RMSE: 1.8041402980375945, Val RMSE: 1.7795385268655344, Best RMSE: 1.7782369018669906\n",
            "---------------------------------------------------------\n",
            "Epoch: 174, Train RMSE: 1.7914171758538056, Val RMSE: 1.7803687360469431, Best RMSE: 1.7782369018669906\n"
          ]
        },
        {
          "output_type": "stream",
          "name": "stderr",
          "text": [
            " 60%|█████▉    | 179/300 [00:10<00:07, 16.69it/s]"
          ]
        },
        {
          "output_type": "stream",
          "name": "stdout",
          "text": [
            "---------------------------------------------------------\n",
            "Epoch: 175, Train RMSE: 1.7940938739496837, Val RMSE: 1.7803262220554752, Best RMSE: 1.7782369018669906\n",
            "---------------------------------------------------------\n",
            "Epoch: 176, Train RMSE: 1.7914769920873694, Val RMSE: 1.7897748490561967, Best RMSE: 1.7782369018669906\n",
            "---------------------------------------------------------\n",
            "Epoch: 177, Train RMSE: 1.7867059003825778, Val RMSE: 1.7794946098721567, Best RMSE: 1.7782369018669906\n",
            "---------------------------------------------------------\n",
            "Epoch: 178, Train RMSE: 1.7899871439645065, Val RMSE: 1.778802109149183, Best RMSE: 1.7782369018669906\n"
          ]
        },
        {
          "output_type": "stream",
          "name": "stderr",
          "text": [
            " 61%|██████    | 183/300 [00:11<00:06, 17.58it/s]"
          ]
        },
        {
          "output_type": "stream",
          "name": "stdout",
          "text": [
            "---------------------------------------------------------\n",
            "Epoch: 179, Train RMSE: 1.7898799724048253, Val RMSE: 1.7764864436198196, Best RMSE: 1.7764864436198196\n",
            "---------------------------------------------------------\n",
            "Epoch: 180, Train RMSE: 1.7963060840031166, Val RMSE: 1.7824701817106978, Best RMSE: 1.7764864436198196\n",
            "---------------------------------------------------------\n",
            "Epoch: 181, Train RMSE: 1.79058132551493, Val RMSE: 1.77716697961102, Best RMSE: 1.7764864436198196\n",
            "---------------------------------------------------------\n",
            "Epoch: 182, Train RMSE: 1.7830460216760726, Val RMSE: 1.7821871177527906, Best RMSE: 1.7764864436198196\n"
          ]
        },
        {
          "output_type": "stream",
          "name": "stderr",
          "text": [
            " 62%|██████▏   | 187/300 [00:11<00:06, 16.27it/s]"
          ]
        },
        {
          "output_type": "stream",
          "name": "stdout",
          "text": [
            "---------------------------------------------------------\n",
            "Epoch: 183, Train RMSE: 1.7936152581286369, Val RMSE: 1.7770735429938171, Best RMSE: 1.7764864436198196\n",
            "---------------------------------------------------------\n",
            "Epoch: 184, Train RMSE: 1.7907192312557498, Val RMSE: 1.784665412060648, Best RMSE: 1.7764864436198196\n",
            "---------------------------------------------------------\n",
            "Epoch: 185, Train RMSE: 1.7860381913706147, Val RMSE: 1.7733765320848998, Best RMSE: 1.7733765320848998\n",
            "---------------------------------------------------------\n",
            "Epoch: 186, Train RMSE: 1.7896735652693583, Val RMSE: 1.773051529508484, Best RMSE: 1.773051529508484\n"
          ]
        },
        {
          "output_type": "stream",
          "name": "stderr",
          "text": [
            " 64%|██████▎   | 191/300 [00:11<00:06, 17.18it/s]"
          ]
        },
        {
          "output_type": "stream",
          "name": "stdout",
          "text": [
            "---------------------------------------------------------\n",
            "Epoch: 187, Train RMSE: 1.7863401967266073, Val RMSE: 1.7837720735226175, Best RMSE: 1.773051529508484\n",
            "---------------------------------------------------------\n",
            "Epoch: 188, Train RMSE: 1.7805926591009298, Val RMSE: 1.7733368056084908, Best RMSE: 1.773051529508484\n",
            "---------------------------------------------------------\n",
            "Epoch: 189, Train RMSE: 1.7866350861460358, Val RMSE: 1.799545151903417, Best RMSE: 1.773051529508484\n",
            "---------------------------------------------------------\n",
            "Epoch: 190, Train RMSE: 1.7884682871171909, Val RMSE: 1.8028833928057695, Best RMSE: 1.773051529508484\n"
          ]
        },
        {
          "output_type": "stream",
          "name": "stderr",
          "text": [
            " 65%|██████▌   | 195/300 [00:11<00:06, 17.45it/s]"
          ]
        },
        {
          "output_type": "stream",
          "name": "stdout",
          "text": [
            "---------------------------------------------------------\n",
            "Epoch: 191, Train RMSE: 1.7857312163455805, Val RMSE: 1.7730284866550752, Best RMSE: 1.7730284866550752\n",
            "---------------------------------------------------------\n",
            "Epoch: 192, Train RMSE: 1.7799084501128768, Val RMSE: 1.7742293306730301, Best RMSE: 1.7730284866550752\n",
            "---------------------------------------------------------\n",
            "Epoch: 193, Train RMSE: 1.7798172646743486, Val RMSE: 1.7700877210279764, Best RMSE: 1.7700877210279764\n",
            "---------------------------------------------------------\n",
            "Epoch: 194, Train RMSE: 1.7812948751045719, Val RMSE: 1.779218760220537, Best RMSE: 1.7700877210279764\n"
          ]
        },
        {
          "output_type": "stream",
          "name": "stderr",
          "text": [
            " 66%|██████▋   | 199/300 [00:11<00:05, 18.00it/s]"
          ]
        },
        {
          "output_type": "stream",
          "name": "stdout",
          "text": [
            "---------------------------------------------------------\n",
            "Epoch: 195, Train RMSE: 1.7790980208516167, Val RMSE: 1.77106600436337, Best RMSE: 1.7700877210279764\n",
            "---------------------------------------------------------\n",
            "Epoch: 196, Train RMSE: 1.7799325227643348, Val RMSE: 1.766103787267694, Best RMSE: 1.766103787267694\n",
            "---------------------------------------------------------\n",
            "Epoch: 197, Train RMSE: 1.7853056092754604, Val RMSE: 1.7668754405085902, Best RMSE: 1.766103787267694\n",
            "---------------------------------------------------------\n",
            "Epoch: 198, Train RMSE: 1.7780986297729497, Val RMSE: 1.7704544315955266, Best RMSE: 1.766103787267694\n"
          ]
        },
        {
          "output_type": "stream",
          "name": "stderr",
          "text": [
            " 68%|██████▊   | 203/300 [00:12<00:05, 18.25it/s]"
          ]
        },
        {
          "output_type": "stream",
          "name": "stdout",
          "text": [
            "---------------------------------------------------------\n",
            "Epoch: 199, Train RMSE: 1.7736677467298234, Val RMSE: 1.7797750181398293, Best RMSE: 1.766103787267694\n",
            "---------------------------------------------------------\n",
            "Epoch: 200, Train RMSE: 1.771735918188546, Val RMSE: 1.770976183034068, Best RMSE: 1.766103787267694\n",
            "---------------------------------------------------------\n",
            "Epoch: 201, Train RMSE: 1.7702741808431415, Val RMSE: 1.7660112247560151, Best RMSE: 1.7660112247560151\n",
            "---------------------------------------------------------\n",
            "Epoch: 202, Train RMSE: 1.7706270645377244, Val RMSE: 1.7749742728250881, Best RMSE: 1.7660112247560151\n"
          ]
        },
        {
          "output_type": "stream",
          "name": "stderr",
          "text": [
            " 69%|██████▉   | 207/300 [00:12<00:05, 18.54it/s]"
          ]
        },
        {
          "output_type": "stream",
          "name": "stdout",
          "text": [
            "---------------------------------------------------------\n",
            "Epoch: 203, Train RMSE: 1.771923501546919, Val RMSE: 1.7671631161088512, Best RMSE: 1.7660112247560151\n",
            "---------------------------------------------------------\n",
            "Epoch: 204, Train RMSE: 1.7690072562258712, Val RMSE: 1.771900398853608, Best RMSE: 1.7660112247560151\n",
            "---------------------------------------------------------\n",
            "Epoch: 205, Train RMSE: 1.7691330688783418, Val RMSE: 1.7690680007127042, Best RMSE: 1.7660112247560151\n",
            "---------------------------------------------------------\n",
            "Epoch: 206, Train RMSE: 1.7675938700286473, Val RMSE: 1.772007672045208, Best RMSE: 1.7660112247560151\n"
          ]
        },
        {
          "output_type": "stream",
          "name": "stderr",
          "text": [
            " 70%|███████   | 211/300 [00:12<00:04, 18.12it/s]"
          ]
        },
        {
          "output_type": "stream",
          "name": "stdout",
          "text": [
            "---------------------------------------------------------\n",
            "Epoch: 207, Train RMSE: 1.7702954697941962, Val RMSE: 1.768798315730525, Best RMSE: 1.7660112247560151\n",
            "---------------------------------------------------------\n",
            "Epoch: 208, Train RMSE: 1.7757638419042792, Val RMSE: 1.7662883329235255, Best RMSE: 1.7660112247560151\n",
            "---------------------------------------------------------\n",
            "Epoch: 209, Train RMSE: 1.7678312377614236, Val RMSE: 1.765950233407753, Best RMSE: 1.765950233407753\n",
            "---------------------------------------------------------\n",
            "Epoch: 210, Train RMSE: 1.7676695985152298, Val RMSE: 1.7681122060894532, Best RMSE: 1.765950233407753\n"
          ]
        },
        {
          "output_type": "stream",
          "name": "stderr",
          "text": [
            " 72%|███████▏  | 215/300 [00:12<00:04, 18.11it/s]"
          ]
        },
        {
          "output_type": "stream",
          "name": "stdout",
          "text": [
            "---------------------------------------------------------\n",
            "Epoch: 211, Train RMSE: 1.7683366209647942, Val RMSE: 1.7712330514907915, Best RMSE: 1.765950233407753\n",
            "---------------------------------------------------------\n",
            "Epoch: 212, Train RMSE: 1.7686972763261108, Val RMSE: 1.7630635620960966, Best RMSE: 1.7630635620960966\n",
            "---------------------------------------------------------\n",
            "Epoch: 213, Train RMSE: 1.766993194142078, Val RMSE: 1.768187102421648, Best RMSE: 1.7630635620960966\n",
            "---------------------------------------------------------\n",
            "Epoch: 214, Train RMSE: 1.764350948315558, Val RMSE: 1.7688863154394365, Best RMSE: 1.7630635620960966\n"
          ]
        },
        {
          "output_type": "stream",
          "name": "stderr",
          "text": [
            " 73%|███████▎  | 219/300 [00:13<00:04, 18.03it/s]"
          ]
        },
        {
          "output_type": "stream",
          "name": "stdout",
          "text": [
            "---------------------------------------------------------\n",
            "Epoch: 215, Train RMSE: 1.7672117651242176, Val RMSE: 1.7681134379226802, Best RMSE: 1.7630635620960966\n",
            "---------------------------------------------------------\n",
            "Epoch: 216, Train RMSE: 1.7703238569549662, Val RMSE: 1.7645035989063294, Best RMSE: 1.7630635620960966\n",
            "---------------------------------------------------------\n",
            "Epoch: 217, Train RMSE: 1.7698011277656316, Val RMSE: 1.7658949035200842, Best RMSE: 1.7630635620960966\n",
            "---------------------------------------------------------\n",
            "Epoch: 218, Train RMSE: 1.7698319541205916, Val RMSE: 1.760918012295451, Best RMSE: 1.760918012295451\n"
          ]
        },
        {
          "output_type": "stream",
          "name": "stderr",
          "text": [
            " 74%|███████▍  | 223/300 [00:13<00:04, 17.62it/s]"
          ]
        },
        {
          "output_type": "stream",
          "name": "stdout",
          "text": [
            "---------------------------------------------------------\n",
            "Epoch: 219, Train RMSE: 1.765246460632015, Val RMSE: 1.7609734312213499, Best RMSE: 1.760918012295451\n",
            "---------------------------------------------------------\n",
            "Epoch: 220, Train RMSE: 1.763468460999922, Val RMSE: 1.7624614800998646, Best RMSE: 1.760918012295451\n",
            "---------------------------------------------------------\n",
            "Epoch: 221, Train RMSE: 1.7658972059394393, Val RMSE: 1.762791056214028, Best RMSE: 1.760918012295451\n",
            "---------------------------------------------------------\n",
            "Epoch: 222, Train RMSE: 1.7633027984040233, Val RMSE: 1.7608250369293603, Best RMSE: 1.7608250369293603\n"
          ]
        },
        {
          "output_type": "stream",
          "name": "stderr",
          "text": [
            " 76%|███████▌  | 227/300 [00:13<00:04, 18.05it/s]"
          ]
        },
        {
          "output_type": "stream",
          "name": "stdout",
          "text": [
            "---------------------------------------------------------\n",
            "Epoch: 223, Train RMSE: 1.763236658584013, Val RMSE: 1.7621939640663142, Best RMSE: 1.7608250369293603\n",
            "---------------------------------------------------------\n",
            "Epoch: 224, Train RMSE: 1.7642926280234759, Val RMSE: 1.758956989729834, Best RMSE: 1.758956989729834\n",
            "---------------------------------------------------------\n",
            "Epoch: 225, Train RMSE: 1.7628096697182067, Val RMSE: 1.7579993930965516, Best RMSE: 1.7579993930965516\n",
            "---------------------------------------------------------\n",
            "Epoch: 226, Train RMSE: 1.7663320816011965, Val RMSE: 1.7656043970581299, Best RMSE: 1.7579993930965516\n"
          ]
        },
        {
          "output_type": "stream",
          "name": "stderr",
          "text": [
            " 77%|███████▋  | 231/300 [00:13<00:03, 17.94it/s]"
          ]
        },
        {
          "output_type": "stream",
          "name": "stdout",
          "text": [
            "---------------------------------------------------------\n",
            "Epoch: 227, Train RMSE: 1.7642943532127442, Val RMSE: 1.757940893636206, Best RMSE: 1.757940893636206\n",
            "---------------------------------------------------------\n",
            "Epoch: 228, Train RMSE: 1.7633601572035091, Val RMSE: 1.7568421309704652, Best RMSE: 1.7568421309704652\n",
            "---------------------------------------------------------\n",
            "Epoch: 229, Train RMSE: 1.7621262344719044, Val RMSE: 1.7616501515557752, Best RMSE: 1.7568421309704652\n",
            "---------------------------------------------------------\n",
            "Epoch: 230, Train RMSE: 1.7655387528134052, Val RMSE: 1.7707406711048865, Best RMSE: 1.7568421309704652\n"
          ]
        },
        {
          "output_type": "stream",
          "name": "stderr",
          "text": [
            " 78%|███████▊  | 235/300 [00:13<00:03, 18.37it/s]"
          ]
        },
        {
          "output_type": "stream",
          "name": "stdout",
          "text": [
            "---------------------------------------------------------\n",
            "Epoch: 231, Train RMSE: 1.7611531543077337, Val RMSE: 1.7696686154949468, Best RMSE: 1.7568421309704652\n",
            "---------------------------------------------------------\n",
            "Epoch: 232, Train RMSE: 1.7615051784803597, Val RMSE: 1.7599508844943552, Best RMSE: 1.7568421309704652\n",
            "---------------------------------------------------------\n",
            "Epoch: 233, Train RMSE: 1.7619092550662059, Val RMSE: 1.7601185900345717, Best RMSE: 1.7568421309704652\n",
            "---------------------------------------------------------\n",
            "Epoch: 234, Train RMSE: 1.7637140724289349, Val RMSE: 1.7611178636782983, Best RMSE: 1.7568421309704652\n"
          ]
        },
        {
          "output_type": "stream",
          "name": "stderr",
          "text": [
            " 80%|███████▉  | 239/300 [00:14<00:03, 18.21it/s]"
          ]
        },
        {
          "output_type": "stream",
          "name": "stdout",
          "text": [
            "---------------------------------------------------------\n",
            "Epoch: 235, Train RMSE: 1.763176441169004, Val RMSE: 1.7580703180213935, Best RMSE: 1.7568421309704652\n",
            "---------------------------------------------------------\n",
            "Epoch: 236, Train RMSE: 1.769690631236054, Val RMSE: 1.7575953156540824, Best RMSE: 1.7568421309704652\n",
            "---------------------------------------------------------\n",
            "Epoch: 237, Train RMSE: 1.7599092454194762, Val RMSE: 1.7586904474931901, Best RMSE: 1.7568421309704652\n",
            "---------------------------------------------------------\n",
            "Epoch: 238, Train RMSE: 1.759384735227114, Val RMSE: 1.7568482527853668, Best RMSE: 1.7568421309704652\n"
          ]
        },
        {
          "output_type": "stream",
          "name": "stderr",
          "text": [
            " 81%|████████  | 243/300 [00:14<00:03, 17.90it/s]"
          ]
        },
        {
          "output_type": "stream",
          "name": "stdout",
          "text": [
            "---------------------------------------------------------\n",
            "Epoch: 239, Train RMSE: 1.7585216196910214, Val RMSE: 1.764641816824485, Best RMSE: 1.7568421309704652\n",
            "---------------------------------------------------------\n",
            "Epoch: 240, Train RMSE: 1.7693248134407635, Val RMSE: 1.765541524559861, Best RMSE: 1.7568421309704652\n",
            "---------------------------------------------------------\n",
            "Epoch: 241, Train RMSE: 1.7626463048659424, Val RMSE: 1.757415356056688, Best RMSE: 1.7568421309704652\n",
            "---------------------------------------------------------\n",
            "Epoch: 242, Train RMSE: 1.7586376577572196, Val RMSE: 1.7559665712907127, Best RMSE: 1.7559665712907127\n"
          ]
        },
        {
          "output_type": "stream",
          "name": "stderr",
          "text": [
            " 82%|████████▏ | 247/300 [00:14<00:02, 18.20it/s]"
          ]
        },
        {
          "output_type": "stream",
          "name": "stdout",
          "text": [
            "---------------------------------------------------------\n",
            "Epoch: 243, Train RMSE: 1.7576789877771355, Val RMSE: 1.7561769501303217, Best RMSE: 1.7559665712907127\n",
            "---------------------------------------------------------\n",
            "Epoch: 244, Train RMSE: 1.76036270303124, Val RMSE: 1.7656156964517098, Best RMSE: 1.7559665712907127\n",
            "---------------------------------------------------------\n",
            "Epoch: 245, Train RMSE: 1.769618653704968, Val RMSE: 1.7561945504075875, Best RMSE: 1.7559665712907127\n",
            "---------------------------------------------------------\n",
            "Epoch: 246, Train RMSE: 1.7600883977768658, Val RMSE: 1.7539555231363055, Best RMSE: 1.7539555231363055\n"
          ]
        },
        {
          "output_type": "stream",
          "name": "stderr",
          "text": [
            " 84%|████████▎ | 251/300 [00:14<00:02, 17.74it/s]"
          ]
        },
        {
          "output_type": "stream",
          "name": "stdout",
          "text": [
            "---------------------------------------------------------\n",
            "Epoch: 247, Train RMSE: 1.75903107784149, Val RMSE: 1.7586189481149055, Best RMSE: 1.7539555231363055\n",
            "---------------------------------------------------------\n",
            "Epoch: 248, Train RMSE: 1.7598081119210507, Val RMSE: 1.7526424264553695, Best RMSE: 1.7526424264553695\n",
            "---------------------------------------------------------\n",
            "Epoch: 249, Train RMSE: 1.760077466617878, Val RMSE: 1.754794481382357, Best RMSE: 1.7526424264553695\n",
            "---------------------------------------------------------\n",
            "Epoch: 250, Train RMSE: 1.7570513144952702, Val RMSE: 1.7590729496956465, Best RMSE: 1.7526424264553695\n"
          ]
        },
        {
          "output_type": "stream",
          "name": "stderr",
          "text": [
            " 85%|████████▌ | 255/300 [00:15<00:02, 18.05it/s]"
          ]
        },
        {
          "output_type": "stream",
          "name": "stdout",
          "text": [
            "---------------------------------------------------------\n",
            "Epoch: 251, Train RMSE: 1.7554024830097599, Val RMSE: 1.755852044059558, Best RMSE: 1.7526424264553695\n",
            "---------------------------------------------------------\n",
            "Epoch: 252, Train RMSE: 1.7555459412978758, Val RMSE: 1.7523511035786337, Best RMSE: 1.7523511035786337\n",
            "---------------------------------------------------------\n",
            "Epoch: 253, Train RMSE: 1.7578171073380577, Val RMSE: 1.7530471314717886, Best RMSE: 1.7523511035786337\n",
            "---------------------------------------------------------\n",
            "Epoch: 254, Train RMSE: 1.754723172049448, Val RMSE: 1.7562962177204848, Best RMSE: 1.7523511035786337\n"
          ]
        },
        {
          "output_type": "stream",
          "name": "stderr",
          "text": [
            " 86%|████████▋ | 259/300 [00:15<00:02, 18.42it/s]"
          ]
        },
        {
          "output_type": "stream",
          "name": "stdout",
          "text": [
            "---------------------------------------------------------\n",
            "Epoch: 255, Train RMSE: 1.7564423633599904, Val RMSE: 1.754643842253226, Best RMSE: 1.7523511035786337\n",
            "---------------------------------------------------------\n",
            "Epoch: 256, Train RMSE: 1.754673794576105, Val RMSE: 1.753642866407438, Best RMSE: 1.7523511035786337\n",
            "---------------------------------------------------------\n",
            "Epoch: 257, Train RMSE: 1.7565738584048334, Val RMSE: 1.753196110876706, Best RMSE: 1.7523511035786337\n",
            "---------------------------------------------------------\n",
            "Epoch: 258, Train RMSE: 1.7558126851212894, Val RMSE: 1.7567396616926625, Best RMSE: 1.7523511035786337\n"
          ]
        },
        {
          "output_type": "stream",
          "name": "stderr",
          "text": [
            " 88%|████████▊ | 263/300 [00:15<00:02, 18.29it/s]"
          ]
        },
        {
          "output_type": "stream",
          "name": "stdout",
          "text": [
            "---------------------------------------------------------\n",
            "Epoch: 259, Train RMSE: 1.7553909148026445, Val RMSE: 1.75612936614656, Best RMSE: 1.7523511035786337\n",
            "---------------------------------------------------------\n",
            "Epoch: 260, Train RMSE: 1.7570718676968542, Val RMSE: 1.763957132314357, Best RMSE: 1.7523511035786337\n",
            "---------------------------------------------------------\n",
            "Epoch: 261, Train RMSE: 1.756334684734152, Val RMSE: 1.7527944026177493, Best RMSE: 1.7523511035786337\n",
            "---------------------------------------------------------\n",
            "Epoch: 262, Train RMSE: 1.753064480456862, Val RMSE: 1.7529051359913697, Best RMSE: 1.7523511035786337\n"
          ]
        },
        {
          "output_type": "stream",
          "name": "stderr",
          "text": [
            " 89%|████████▉ | 267/300 [00:15<00:01, 17.87it/s]"
          ]
        },
        {
          "output_type": "stream",
          "name": "stdout",
          "text": [
            "---------------------------------------------------------\n",
            "Epoch: 263, Train RMSE: 1.7540477226244235, Val RMSE: 1.7516560927063503, Best RMSE: 1.7516560927063503\n",
            "---------------------------------------------------------\n",
            "Epoch: 264, Train RMSE: 1.7545518141836647, Val RMSE: 1.7621090575799918, Best RMSE: 1.7516560927063503\n",
            "---------------------------------------------------------\n",
            "Epoch: 265, Train RMSE: 1.7582243433148919, Val RMSE: 1.7598839817176113, Best RMSE: 1.7516560927063503\n",
            "---------------------------------------------------------\n",
            "Epoch: 266, Train RMSE: 1.7532325055313687, Val RMSE: 1.751889306652592, Best RMSE: 1.7516560927063503\n"
          ]
        },
        {
          "output_type": "stream",
          "name": "stderr",
          "text": [
            " 90%|█████████ | 271/300 [00:15<00:01, 18.19it/s]"
          ]
        },
        {
          "output_type": "stream",
          "name": "stdout",
          "text": [
            "---------------------------------------------------------\n",
            "Epoch: 267, Train RMSE: 1.75470168166198, Val RMSE: 1.7523488584661833, Best RMSE: 1.7516560927063503\n",
            "---------------------------------------------------------\n",
            "Epoch: 268, Train RMSE: 1.7531025939106202, Val RMSE: 1.753355628788929, Best RMSE: 1.7516560927063503\n",
            "---------------------------------------------------------\n",
            "Epoch: 269, Train RMSE: 1.7542514246161238, Val RMSE: 1.7508189535407959, Best RMSE: 1.7508189535407959\n",
            "---------------------------------------------------------\n",
            "Epoch: 270, Train RMSE: 1.7536288470140358, Val RMSE: 1.7522023858205533, Best RMSE: 1.7508189535407959\n"
          ]
        },
        {
          "output_type": "stream",
          "name": "stderr",
          "text": [
            " 92%|█████████▏| 275/300 [00:16<00:01, 18.03it/s]"
          ]
        },
        {
          "output_type": "stream",
          "name": "stdout",
          "text": [
            "---------------------------------------------------------\n",
            "Epoch: 271, Train RMSE: 1.7542505070095469, Val RMSE: 1.7558477745668262, Best RMSE: 1.7508189535407959\n",
            "---------------------------------------------------------\n",
            "Epoch: 272, Train RMSE: 1.751709923799106, Val RMSE: 1.75216233049655, Best RMSE: 1.7508189535407959\n",
            "---------------------------------------------------------\n",
            "Epoch: 273, Train RMSE: 1.7532856824907077, Val RMSE: 1.7555257166913463, Best RMSE: 1.7508189535407959\n",
            "---------------------------------------------------------\n",
            "Epoch: 274, Train RMSE: 1.75428874006328, Val RMSE: 1.7537016515024972, Best RMSE: 1.7508189535407959\n"
          ]
        },
        {
          "output_type": "stream",
          "name": "stderr",
          "text": [
            " 93%|█████████▎| 279/300 [00:16<00:01, 18.16it/s]"
          ]
        },
        {
          "output_type": "stream",
          "name": "stdout",
          "text": [
            "---------------------------------------------------------\n",
            "Epoch: 275, Train RMSE: 1.7534988191637253, Val RMSE: 1.7519573483940272, Best RMSE: 1.7508189535407959\n",
            "---------------------------------------------------------\n",
            "Epoch: 276, Train RMSE: 1.7539006992810158, Val RMSE: 1.7540563698389728, Best RMSE: 1.7508189535407959\n",
            "---------------------------------------------------------\n",
            "Epoch: 277, Train RMSE: 1.7538448215191693, Val RMSE: 1.7537871137647123, Best RMSE: 1.7508189535407959\n",
            "---------------------------------------------------------\n",
            "Epoch: 278, Train RMSE: 1.7519353285840735, Val RMSE: 1.7525429306153422, Best RMSE: 1.7508189535407959\n"
          ]
        },
        {
          "output_type": "stream",
          "name": "stderr",
          "text": [
            " 94%|█████████▍| 283/300 [00:16<00:00, 18.33it/s]"
          ]
        },
        {
          "output_type": "stream",
          "name": "stdout",
          "text": [
            "---------------------------------------------------------\n",
            "Epoch: 279, Train RMSE: 1.752902774390888, Val RMSE: 1.7535853001028117, Best RMSE: 1.7508189535407959\n",
            "---------------------------------------------------------\n",
            "Epoch: 280, Train RMSE: 1.7526212003783583, Val RMSE: 1.751884686909824, Best RMSE: 1.7508189535407959\n",
            "---------------------------------------------------------\n",
            "Epoch: 281, Train RMSE: 1.7517422624538803, Val RMSE: 1.7526288253697289, Best RMSE: 1.7508189535407959\n",
            "---------------------------------------------------------\n",
            "Epoch: 282, Train RMSE: 1.7526381792433368, Val RMSE: 1.757308903473175, Best RMSE: 1.7508189535407959\n"
          ]
        },
        {
          "output_type": "stream",
          "name": "stderr",
          "text": [
            " 96%|█████████▌| 287/300 [00:16<00:00, 17.14it/s]"
          ]
        },
        {
          "output_type": "stream",
          "name": "stdout",
          "text": [
            "---------------------------------------------------------\n",
            "Epoch: 283, Train RMSE: 1.7543422621244311, Val RMSE: 1.756087362271341, Best RMSE: 1.7508189535407959\n",
            "---------------------------------------------------------\n",
            "Epoch: 284, Train RMSE: 1.7552134413465499, Val RMSE: 1.7534190628503479, Best RMSE: 1.7508189535407959\n",
            "---------------------------------------------------------\n",
            "Epoch: 285, Train RMSE: 1.752905077993979, Val RMSE: 1.7547243984030587, Best RMSE: 1.7508189535407959\n",
            "---------------------------------------------------------\n",
            "Epoch: 286, Train RMSE: 1.7515459784992315, Val RMSE: 1.7535821538914471, Best RMSE: 1.7508189535407959\n"
          ]
        },
        {
          "output_type": "stream",
          "name": "stderr",
          "text": [
            " 97%|█████████▋| 291/300 [00:17<00:00, 17.97it/s]"
          ]
        },
        {
          "output_type": "stream",
          "name": "stdout",
          "text": [
            "---------------------------------------------------------\n",
            "Epoch: 287, Train RMSE: 1.7552061402057637, Val RMSE: 1.7516858013432122, Best RMSE: 1.7508189535407959\n",
            "---------------------------------------------------------\n",
            "Epoch: 288, Train RMSE: 1.7516674137441244, Val RMSE: 1.7520634040459515, Best RMSE: 1.7508189535407959\n",
            "---------------------------------------------------------\n",
            "Epoch: 289, Train RMSE: 1.7538706143391334, Val RMSE: 1.7522393006292771, Best RMSE: 1.7508189535407959\n",
            "---------------------------------------------------------\n",
            "Epoch: 290, Train RMSE: 1.7533256068212872, Val RMSE: 1.7535886280698998, Best RMSE: 1.7508189535407959\n"
          ]
        },
        {
          "output_type": "stream",
          "name": "stderr",
          "text": [
            " 98%|█████████▊| 295/300 [00:17<00:00, 18.18it/s]"
          ]
        },
        {
          "output_type": "stream",
          "name": "stdout",
          "text": [
            "---------------------------------------------------------\n",
            "Epoch: 291, Train RMSE: 1.7546732633357736, Val RMSE: 1.7518700642922795, Best RMSE: 1.7508189535407959\n",
            "---------------------------------------------------------\n",
            "Epoch: 292, Train RMSE: 1.7519815334963693, Val RMSE: 1.7521531767164211, Best RMSE: 1.7508189535407959\n",
            "---------------------------------------------------------\n",
            "Epoch: 293, Train RMSE: 1.754536878192415, Val RMSE: 1.7513910763962592, Best RMSE: 1.7508189535407959\n",
            "---------------------------------------------------------\n",
            "Epoch: 294, Train RMSE: 1.7518734242390723, Val RMSE: 1.7507983067628685, Best RMSE: 1.7507983067628685\n"
          ]
        },
        {
          "output_type": "stream",
          "name": "stderr",
          "text": [
            "\r 99%|█████████▉| 297/300 [00:17<00:00, 17.77it/s]"
          ]
        },
        {
          "output_type": "stream",
          "name": "stdout",
          "text": [
            "---------------------------------------------------------\n",
            "Epoch: 295, Train RMSE: 1.751669028226914, Val RMSE: 1.7534627772542322, Best RMSE: 1.7507983067628685\n",
            "---------------------------------------------------------\n",
            "Epoch: 296, Train RMSE: 1.751072345271897, Val RMSE: 1.756325870373339, Best RMSE: 1.7507983067628685\n",
            "---------------------------------------------------------\n",
            "Epoch: 297, Train RMSE: 1.7507456060793296, Val RMSE: 1.751844476674112, Best RMSE: 1.7507983067628685\n"
          ]
        },
        {
          "output_type": "stream",
          "name": "stderr",
          "text": [
            "100%|██████████| 300/300 [00:17<00:00, 16.99it/s]"
          ]
        },
        {
          "output_type": "stream",
          "name": "stdout",
          "text": [
            "---------------------------------------------------------\n",
            "Epoch: 298, Train RMSE: 1.7521199871464324, Val RMSE: 1.752187892178393, Best RMSE: 1.7507983067628685\n",
            "---------------------------------------------------------\n",
            "Epoch: 299, Train RMSE: 1.750977289426595, Val RMSE: 1.754779756874709, Best RMSE: 1.7507983067628685\n"
          ]
        },
        {
          "output_type": "stream",
          "name": "stderr",
          "text": [
            "\n"
          ]
        }
      ]
    },
    {
      "cell_type": "code",
      "source": [
        "pred_train = mlp(torch.Tensor(X[idx_train]).to(device)).detach().cpu().numpy()\n",
        "pred_val = mlp(torch.Tensor(X[idx_val]).to(device)).detach().cpu().numpy()\n",
        "pred_test = mlp(torch.Tensor(X[idx_test]).to(device)).detach().cpu().numpy()"
      ],
      "metadata": {
        "id": "GXKd5aAiT5Au"
      },
      "execution_count": 61,
      "outputs": []
    },
    {
      "cell_type": "code",
      "source": [
        "train_rmse = mean_squared_error(y[idx_train], pred_train, squared=False)\n",
        "val_rmse = mean_squared_error(y[idx_val], pred_val, squared=False)\n",
        "test_rmse = mean_squared_error(y[idx_test], pred_test, squared=False)"
      ],
      "metadata": {
        "id": "PL1rqCeBoMIY"
      },
      "execution_count": 62,
      "outputs": []
    },
    {
      "cell_type": "code",
      "source": [
        "print('Train RMSE:', train_rmse)\n",
        "print('Val RMSE:', val_rmse)\n",
        "print('Test RMSE:', test_rmse)"
      ],
      "metadata": {
        "colab": {
          "base_uri": "https://localhost:8080/"
        },
        "id": "hU53PW5hoJMk",
        "outputId": "6583f83e-eec5-4f53-b2c9-aacc05b58d09"
      },
      "execution_count": 63,
      "outputs": [
        {
          "output_type": "stream",
          "name": "stdout",
          "text": [
            "Train RMSE: 1.7498790165253606\n",
            "Val RMSE: 1.7547797444706186\n",
            "Test RMSE: 2.0821759730957528\n"
          ]
        }
      ]
    },
    {
      "cell_type": "code",
      "source": [
        "n_neighbors_space = np.arange(1, 101)\n",
        "val_rmse = []\n",
        "best_rmse = 1e9\n",
        "best_n_neighbors = n_neighbors_space[0]\n",
        "for n_neighbors in tqdm(n_neighbors_space):\n",
        "    z = hyper_propagation(X, y[idx_train], idx_train, idx_val, n_neighbors, pred_train=pred_train, pred_test=pred_val)\n",
        "    val_rmse.append(mean_squared_error(y[idx_val], z, squared=False))\n",
        "    if val_rmse[-1] < best_rmse:\n",
        "        best_n_neighbors = n_neighbors\n",
        "        best_rmse = val_rmse[-1]"
      ],
      "metadata": {
        "colab": {
          "base_uri": "https://localhost:8080/"
        },
        "id": "OHHFPkJioUPO",
        "outputId": "cc896fda-3e65-4562-80b1-4cecd6c834ea"
      },
      "execution_count": 64,
      "outputs": [
        {
          "output_type": "stream",
          "name": "stderr",
          "text": [
            "100%|██████████| 100/100 [00:43<00:00,  2.29it/s]\n"
          ]
        }
      ]
    },
    {
      "cell_type": "code",
      "source": [
        "plt.plot(n_neighbors_space, val_rmse)\n",
        "plt.xlabel('Number of neighbors')\n",
        "plt.ylabel('Val RMSE')\n",
        "plt.show()"
      ],
      "metadata": {
        "colab": {
          "base_uri": "https://localhost:8080/",
          "height": 279
        },
        "id": "T7pyEqEBoaX0",
        "outputId": "13f1f0eb-15cf-48f6-b98e-9dcb13957f55"
      },
      "execution_count": 65,
      "outputs": [
        {
          "output_type": "display_data",
          "data": {
            "text/plain": [
              "<Figure size 432x288 with 1 Axes>"
            ],
            "image/png": "[encoded data removed]"
          },
          "metadata": {
            "needs_background": "light"
          }
        }
      ]
    },
    {
      "cell_type": "code",
      "source": [
        "print('Best K Neighbors:', best_n_neighbors)"
      ],
      "metadata": {
        "colab": {
          "base_uri": "https://localhost:8080/"
        },
        "outputId": "01de572d-8260-4592-c8e3-d5c166d08ef1",
        "id": "gTcTmkWXojQJ"
      },
      "execution_count": 66,
      "outputs": [
        {
          "output_type": "stream",
          "name": "stdout",
          "text": [
            "Best K Neighbors: 8\n"
          ]
        }
      ]
    },
    {
      "cell_type": "code",
      "source": [
        "z_val = hyper_propagation(X, y[idx_train], idx_train, idx_val, best_n_neighbors, pred_train=pred_train, pred_test=pred_val)\n",
        "z_test = hyper_propagation(X, y[idx_train], idx_train, idx_test, best_n_neighbors, pred_train=pred_train, pred_test=pred_test)"
      ],
      "metadata": {
        "id": "38TMXUfqojQL"
      },
      "execution_count": 67,
      "outputs": []
    },
    {
      "cell_type": "code",
      "source": [
        "val_rmse = mean_squared_error(y[idx_val], z_val, squared=False)\n",
        "test_rmse = mean_squared_error(y[idx_test], z_test, squared=False)"
      ],
      "metadata": {
        "id": "EYFs97ANojQL"
      },
      "execution_count": 68,
      "outputs": []
    },
    {
      "cell_type": "code",
      "source": [
        "print('Val RMSE:', val_rmse)\n",
        "print('Test RMSE:', test_rmse)"
      ],
      "metadata": {
        "colab": {
          "base_uri": "https://localhost:8080/"
        },
        "outputId": "67f8de76-4b24-48b1-b97f-f161975a301e",
        "id": "brY5EmgNojQM"
      },
      "execution_count": 69,
      "outputs": [
        {
          "output_type": "stream",
          "name": "stdout",
          "text": [
            "Val RMSE: 1.7131728277712825\n",
            "Test RMSE: 2.0305862375660233\n"
          ]
        }
      ]
    },
    {
      "cell_type": "markdown",
      "source": [
        "## CatBoost"
      ],
      "metadata": {
        "id": "lq0KJjwjVmoW"
      }
    },
    {
      "cell_type": "code",
      "source": [
        "!pip install catboost"
      ],
      "metadata": {
        "colab": {
          "base_uri": "https://localhost:8080/"
        },
        "id": "qcP6tBZdVor6",
        "outputId": "eeb3e27b-2318-4517-e973-6490e422a7e6"
      },
      "execution_count": 70,
      "outputs": [
        {
          "output_type": "stream",
          "name": "stdout",
          "text": [
            "Collecting catboost\n",
            "  Downloading catboost-1.0.4-cp37-none-manylinux1_x86_64.whl (76.1 MB)\n",
            "\u001b[K     |████████████████████████████████| 76.1 MB 51 kB/s \n",
            "\u001b[?25hRequirement already satisfied: graphviz in /usr/local/lib/python3.7/dist-packages (from catboost) (0.10.1)\n",
            "Requirement already satisfied: matplotlib in /usr/local/lib/python3.7/dist-packages (from catboost) (3.2.2)\n",
            "Requirement already satisfied: plotly in /usr/local/lib/python3.7/dist-packages (from catboost) (5.5.0)\n",
            "Requirement already satisfied: scipy in /usr/local/lib/python3.7/dist-packages (from catboost) (1.4.1)\n",
            "Requirement already satisfied: six in /usr/local/lib/python3.7/dist-packages (from catboost) (1.15.0)\n",
            "Requirement already satisfied: pandas>=0.24.0 in /usr/local/lib/python3.7/dist-packages (from catboost) (1.3.5)\n",
            "Requirement already satisfied: numpy>=1.16.0 in /usr/local/lib/python3.7/dist-packages (from catboost) (1.21.5)\n",
            "Requirement already satisfied: python-dateutil>=2.7.3 in /usr/local/lib/python3.7/dist-packages (from pandas>=0.24.0->catboost) (2.8.2)\n",
            "Requirement already satisfied: pytz>=2017.3 in /usr/local/lib/python3.7/dist-packages (from pandas>=0.24.0->catboost) (2018.9)\n",
            "Requirement already satisfied: pyparsing!=2.0.4,!=2.1.2,!=2.1.6,>=2.0.1 in /usr/local/lib/python3.7/dist-packages (from matplotlib->catboost) (3.0.7)\n",
            "Requirement already satisfied: cycler>=0.10 in /usr/local/lib/python3.7/dist-packages (from matplotlib->catboost) (0.11.0)\n",
            "Requirement already satisfied: kiwisolver>=1.0.1 in /usr/local/lib/python3.7/dist-packages (from matplotlib->catboost) (1.4.0)\n",
            "Requirement already satisfied: typing-extensions in /usr/local/lib/python3.7/dist-packages (from kiwisolver>=1.0.1->matplotlib->catboost) (3.10.0.2)\n",
            "Requirement already satisfied: tenacity>=6.2.0 in /usr/local/lib/python3.7/dist-packages (from plotly->catboost) (8.0.1)\n",
            "Installing collected packages: catboost\n",
            "Successfully installed catboost-1.0.4\n"
          ]
        }
      ]
    },
    {
      "cell_type": "code",
      "source": [
        "from catboost import CatBoostRegressor, CatBoostClassifier, Pool"
      ],
      "metadata": {
        "id": "vmUhUUAEVxdi"
      },
      "execution_count": 71,
      "outputs": []
    },
    {
      "cell_type": "code",
      "source": [
        "cb = CatBoostRegressor(iterations=1000,\n",
        "                       random_state=42,\n",
        "                       l2_leaf_reg=50,\n",
        "                       learning_rate=0.01,\n",
        "                       use_best_model=True)"
      ],
      "metadata": {
        "id": "4GaoJoFPVxgh"
      },
      "execution_count": 91,
      "outputs": []
    },
    {
      "cell_type": "code",
      "source": [
        "cb.fit(X[idx_train], y[idx_train],\n",
        "       eval_set=(X[idx_val], y[idx_val]))"
      ],
      "metadata": {
        "colab": {
          "base_uri": "https://localhost:8080/"
        },
        "id": "UQt2o8XcVzHq",
        "outputId": "702e5dcf-50a1-45db-c2e9-84c1f0661706"
      },
      "execution_count": 92,
      "outputs": [
        {
          "output_type": "stream",
          "name": "stdout",
          "text": [
            "0:\tlearn: 1.9963764\ttest: 1.9582015\tbest: 1.9582015 (0)\ttotal: 26.6ms\tremaining: 26.6s\n",
            "1:\tlearn: 1.9935670\ttest: 1.9552688\tbest: 1.9552688 (1)\ttotal: 38.5ms\tremaining: 19.2s\n",
            "2:\tlearn: 1.9909023\ttest: 1.9526284\tbest: 1.9526284 (2)\ttotal: 49.5ms\tremaining: 16.4s\n",
            "3:\tlearn: 1.9882435\ttest: 1.9497171\tbest: 1.9497171 (3)\ttotal: 59.6ms\tremaining: 14.8s\n",
            "4:\tlearn: 1.9858921\ttest: 1.9473888\tbest: 1.9473888 (4)\ttotal: 70.9ms\tremaining: 14.1s\n",
            "5:\tlearn: 1.9831377\ttest: 1.9443670\tbest: 1.9443670 (5)\ttotal: 81.2ms\tremaining: 13.4s\n",
            "6:\tlearn: 1.9801199\ttest: 1.9414499\tbest: 1.9414499 (6)\ttotal: 92.3ms\tremaining: 13.1s\n",
            "7:\tlearn: 1.9772546\ttest: 1.9386670\tbest: 1.9386670 (7)\ttotal: 108ms\tremaining: 13.4s\n",
            "8:\tlearn: 1.9745568\ttest: 1.9362598\tbest: 1.9362598 (8)\ttotal: 121ms\tremaining: 13.3s\n",
            "9:\tlearn: 1.9715783\ttest: 1.9331222\tbest: 1.9331222 (9)\ttotal: 133ms\tremaining: 13.1s\n",
            "10:\tlearn: 1.9689323\ttest: 1.9304643\tbest: 1.9304643 (10)\ttotal: 143ms\tremaining: 12.8s\n",
            "11:\tlearn: 1.9663605\ttest: 1.9277717\tbest: 1.9277717 (11)\ttotal: 161ms\tremaining: 13.3s\n",
            "12:\tlearn: 1.9637160\ttest: 1.9252969\tbest: 1.9252969 (12)\ttotal: 178ms\tremaining: 13.5s\n",
            "13:\tlearn: 1.9614627\ttest: 1.9229195\tbest: 1.9229195 (13)\ttotal: 191ms\tremaining: 13.5s\n",
            "14:\tlearn: 1.9595212\ttest: 1.9205610\tbest: 1.9205610 (14)\ttotal: 203ms\tremaining: 13.3s\n",
            "15:\tlearn: 1.9575053\ttest: 1.9186773\tbest: 1.9186773 (15)\ttotal: 221ms\tremaining: 13.6s\n",
            "16:\tlearn: 1.9550399\ttest: 1.9161641\tbest: 1.9161641 (16)\ttotal: 234ms\tremaining: 13.5s\n",
            "17:\tlearn: 1.9527705\ttest: 1.9140569\tbest: 1.9140569 (17)\ttotal: 246ms\tremaining: 13.4s\n",
            "18:\tlearn: 1.9505969\ttest: 1.9117863\tbest: 1.9117863 (18)\ttotal: 263ms\tremaining: 13.6s\n",
            "19:\tlearn: 1.9483159\ttest: 1.9094580\tbest: 1.9094580 (19)\ttotal: 274ms\tremaining: 13.4s\n",
            "20:\tlearn: 1.9460510\ttest: 1.9073019\tbest: 1.9073019 (20)\ttotal: 286ms\tremaining: 13.3s\n",
            "21:\tlearn: 1.9436660\ttest: 1.9048340\tbest: 1.9048340 (21)\ttotal: 302ms\tremaining: 13.4s\n",
            "22:\tlearn: 1.9412483\ttest: 1.9023259\tbest: 1.9023259 (22)\ttotal: 312ms\tremaining: 13.3s\n",
            "23:\tlearn: 1.9391993\ttest: 1.9005219\tbest: 1.9005219 (23)\ttotal: 329ms\tremaining: 13.4s\n",
            "24:\tlearn: 1.9369091\ttest: 1.8982519\tbest: 1.8982519 (24)\ttotal: 357ms\tremaining: 13.9s\n",
            "25:\tlearn: 1.9350256\ttest: 1.8963300\tbest: 1.8963300 (25)\ttotal: 377ms\tremaining: 14.1s\n",
            "26:\tlearn: 1.9325766\ttest: 1.8937695\tbest: 1.8937695 (26)\ttotal: 402ms\tremaining: 14.5s\n",
            "27:\tlearn: 1.9304472\ttest: 1.8916860\tbest: 1.8916860 (27)\ttotal: 432ms\tremaining: 15s\n",
            "28:\tlearn: 1.9283132\ttest: 1.8897166\tbest: 1.8897166 (28)\ttotal: 442ms\tremaining: 14.8s\n",
            "29:\tlearn: 1.9259137\ttest: 1.8872063\tbest: 1.8872063 (29)\ttotal: 459ms\tremaining: 14.8s\n",
            "30:\tlearn: 1.9241686\ttest: 1.8852637\tbest: 1.8852637 (30)\ttotal: 472ms\tremaining: 14.7s\n",
            "31:\tlearn: 1.9219699\ttest: 1.8830792\tbest: 1.8830792 (31)\ttotal: 482ms\tremaining: 14.6s\n",
            "32:\tlearn: 1.9194211\ttest: 1.8809972\tbest: 1.8809972 (32)\ttotal: 494ms\tremaining: 14.5s\n",
            "33:\tlearn: 1.9174071\ttest: 1.8790988\tbest: 1.8790988 (33)\ttotal: 515ms\tremaining: 14.6s\n",
            "34:\tlearn: 1.9155871\ttest: 1.8770207\tbest: 1.8770207 (34)\ttotal: 527ms\tremaining: 14.5s\n",
            "35:\tlearn: 1.9138593\ttest: 1.8752515\tbest: 1.8752515 (35)\ttotal: 538ms\tremaining: 14.4s\n",
            "36:\tlearn: 1.9119257\ttest: 1.8735850\tbest: 1.8735850 (36)\ttotal: 549ms\tremaining: 14.3s\n",
            "37:\tlearn: 1.9101245\ttest: 1.8716417\tbest: 1.8716417 (37)\ttotal: 561ms\tremaining: 14.2s\n",
            "38:\tlearn: 1.9081342\ttest: 1.8698914\tbest: 1.8698914 (38)\ttotal: 572ms\tremaining: 14.1s\n",
            "39:\tlearn: 1.9060323\ttest: 1.8677936\tbest: 1.8677936 (39)\ttotal: 593ms\tremaining: 14.2s\n",
            "40:\tlearn: 1.9040145\ttest: 1.8660416\tbest: 1.8660416 (40)\ttotal: 611ms\tremaining: 14.3s\n",
            "41:\tlearn: 1.9024687\ttest: 1.8647296\tbest: 1.8647296 (41)\ttotal: 623ms\tremaining: 14.2s\n",
            "42:\tlearn: 1.9006526\ttest: 1.8632098\tbest: 1.8632098 (42)\ttotal: 644ms\tremaining: 14.3s\n",
            "43:\tlearn: 1.8988953\ttest: 1.8615429\tbest: 1.8615429 (43)\ttotal: 657ms\tremaining: 14.3s\n",
            "44:\tlearn: 1.8973661\ttest: 1.8598476\tbest: 1.8598476 (44)\ttotal: 686ms\tremaining: 14.6s\n",
            "45:\tlearn: 1.8954934\ttest: 1.8579640\tbest: 1.8579640 (45)\ttotal: 696ms\tremaining: 14.4s\n",
            "46:\tlearn: 1.8938848\ttest: 1.8566349\tbest: 1.8566349 (46)\ttotal: 708ms\tremaining: 14.4s\n",
            "47:\tlearn: 1.8921417\ttest: 1.8549008\tbest: 1.8549008 (47)\ttotal: 720ms\tremaining: 14.3s\n",
            "48:\tlearn: 1.8905874\ttest: 1.8532976\tbest: 1.8532976 (48)\ttotal: 731ms\tremaining: 14.2s\n",
            "49:\tlearn: 1.8889731\ttest: 1.8517937\tbest: 1.8517937 (49)\ttotal: 743ms\tremaining: 14.1s\n",
            "50:\tlearn: 1.8873592\ttest: 1.8503026\tbest: 1.8503026 (50)\ttotal: 755ms\tremaining: 14s\n",
            "51:\tlearn: 1.8859170\ttest: 1.8487033\tbest: 1.8487033 (51)\ttotal: 767ms\tremaining: 14s\n",
            "52:\tlearn: 1.8840740\ttest: 1.8472667\tbest: 1.8472667 (52)\ttotal: 778ms\tremaining: 13.9s\n",
            "53:\tlearn: 1.8823023\ttest: 1.8457513\tbest: 1.8457513 (53)\ttotal: 790ms\tremaining: 13.8s\n",
            "54:\tlearn: 1.8808444\ttest: 1.8443496\tbest: 1.8443496 (54)\ttotal: 801ms\tremaining: 13.8s\n",
            "55:\tlearn: 1.8792896\ttest: 1.8428962\tbest: 1.8428962 (55)\ttotal: 813ms\tremaining: 13.7s\n",
            "56:\tlearn: 1.8778771\ttest: 1.8413604\tbest: 1.8413604 (56)\ttotal: 834ms\tremaining: 13.8s\n",
            "57:\tlearn: 1.8763503\ttest: 1.8398915\tbest: 1.8398915 (57)\ttotal: 857ms\tremaining: 13.9s\n",
            "58:\tlearn: 1.8745803\ttest: 1.8381275\tbest: 1.8381275 (58)\ttotal: 883ms\tremaining: 14.1s\n",
            "59:\tlearn: 1.8728970\ttest: 1.8363085\tbest: 1.8363085 (59)\ttotal: 904ms\tremaining: 14.2s\n",
            "60:\tlearn: 1.8711290\ttest: 1.8350964\tbest: 1.8350964 (60)\ttotal: 924ms\tremaining: 14.2s\n",
            "61:\tlearn: 1.8693951\ttest: 1.8337441\tbest: 1.8337441 (61)\ttotal: 955ms\tremaining: 14.5s\n",
            "62:\tlearn: 1.8677477\ttest: 1.8325256\tbest: 1.8325256 (62)\ttotal: 980ms\tremaining: 14.6s\n",
            "63:\tlearn: 1.8664810\ttest: 1.8314342\tbest: 1.8314342 (63)\ttotal: 1s\tremaining: 14.7s\n",
            "64:\tlearn: 1.8653926\ttest: 1.8303795\tbest: 1.8303795 (64)\ttotal: 1.03s\tremaining: 14.9s\n",
            "65:\tlearn: 1.8641229\ttest: 1.8291945\tbest: 1.8291945 (65)\ttotal: 1.06s\tremaining: 15.1s\n",
            "66:\tlearn: 1.8627313\ttest: 1.8277381\tbest: 1.8277381 (66)\ttotal: 1.1s\tremaining: 15.3s\n",
            "67:\tlearn: 1.8612498\ttest: 1.8265312\tbest: 1.8265312 (67)\ttotal: 1.12s\tremaining: 15.4s\n",
            "68:\tlearn: 1.8599326\ttest: 1.8253718\tbest: 1.8253718 (68)\ttotal: 1.16s\tremaining: 15.6s\n",
            "69:\tlearn: 1.8587554\ttest: 1.8243297\tbest: 1.8243297 (69)\ttotal: 1.18s\tremaining: 15.7s\n",
            "70:\tlearn: 1.8572856\ttest: 1.8228484\tbest: 1.8228484 (70)\ttotal: 1.22s\tremaining: 16s\n",
            "71:\tlearn: 1.8560111\ttest: 1.8213922\tbest: 1.8213922 (71)\ttotal: 1.24s\tremaining: 15.9s\n",
            "72:\tlearn: 1.8544436\ttest: 1.8201198\tbest: 1.8201198 (72)\ttotal: 1.25s\tremaining: 15.9s\n",
            "73:\tlearn: 1.8530295\ttest: 1.8189444\tbest: 1.8189444 (73)\ttotal: 1.26s\tremaining: 15.8s\n",
            "74:\tlearn: 1.8516546\ttest: 1.8176238\tbest: 1.8176238 (74)\ttotal: 1.27s\tremaining: 15.7s\n",
            "75:\tlearn: 1.8504465\ttest: 1.8164488\tbest: 1.8164488 (75)\ttotal: 1.29s\tremaining: 15.7s\n",
            "76:\tlearn: 1.8489838\ttest: 1.8154298\tbest: 1.8154298 (76)\ttotal: 1.3s\tremaining: 15.6s\n",
            "77:\tlearn: 1.8479355\ttest: 1.8141847\tbest: 1.8141847 (77)\ttotal: 1.31s\tremaining: 15.5s\n",
            "78:\tlearn: 1.8467043\ttest: 1.8128594\tbest: 1.8128594 (78)\ttotal: 1.32s\tremaining: 15.4s\n",
            "79:\tlearn: 1.8454378\ttest: 1.8118197\tbest: 1.8118197 (79)\ttotal: 1.34s\tremaining: 15.5s\n",
            "80:\tlearn: 1.8444171\ttest: 1.8107423\tbest: 1.8107423 (80)\ttotal: 1.36s\tremaining: 15.5s\n",
            "81:\tlearn: 1.8431774\ttest: 1.8096067\tbest: 1.8096067 (81)\ttotal: 1.39s\tremaining: 15.6s\n",
            "82:\tlearn: 1.8419319\ttest: 1.8084254\tbest: 1.8084254 (82)\ttotal: 1.42s\tremaining: 15.6s\n",
            "83:\tlearn: 1.8405877\ttest: 1.8069979\tbest: 1.8069979 (83)\ttotal: 1.43s\tremaining: 15.6s\n",
            "84:\tlearn: 1.8394609\ttest: 1.8061332\tbest: 1.8061332 (84)\ttotal: 1.44s\tremaining: 15.5s\n",
            "85:\tlearn: 1.8382630\ttest: 1.8053096\tbest: 1.8053096 (85)\ttotal: 1.47s\tremaining: 15.6s\n",
            "86:\tlearn: 1.8371165\ttest: 1.8043080\tbest: 1.8043080 (86)\ttotal: 1.49s\tremaining: 15.6s\n",
            "87:\tlearn: 1.8358739\ttest: 1.8030203\tbest: 1.8030203 (87)\ttotal: 1.5s\tremaining: 15.5s\n",
            "88:\tlearn: 1.8346286\ttest: 1.8020961\tbest: 1.8020961 (88)\ttotal: 1.51s\tremaining: 15.5s\n",
            "89:\tlearn: 1.8335108\ttest: 1.8012466\tbest: 1.8012466 (89)\ttotal: 1.52s\tremaining: 15.4s\n",
            "90:\tlearn: 1.8325181\ttest: 1.8003598\tbest: 1.8003598 (90)\ttotal: 1.53s\tremaining: 15.3s\n",
            "91:\tlearn: 1.8313988\ttest: 1.7995358\tbest: 1.7995358 (91)\ttotal: 1.54s\tremaining: 15.2s\n",
            "92:\tlearn: 1.8302865\ttest: 1.7984947\tbest: 1.7984947 (92)\ttotal: 1.55s\tremaining: 15.2s\n",
            "93:\tlearn: 1.8292036\ttest: 1.7978433\tbest: 1.7978433 (93)\ttotal: 1.57s\tremaining: 15.2s\n",
            "94:\tlearn: 1.8282518\ttest: 1.7968420\tbest: 1.7968420 (94)\ttotal: 1.59s\tremaining: 15.2s\n",
            "95:\tlearn: 1.8271212\ttest: 1.7957942\tbest: 1.7957942 (95)\ttotal: 1.66s\tremaining: 15.6s\n",
            "96:\tlearn: 1.8259137\ttest: 1.7946924\tbest: 1.7946924 (96)\ttotal: 1.68s\tremaining: 15.6s\n",
            "97:\tlearn: 1.8249841\ttest: 1.7937083\tbest: 1.7937083 (97)\ttotal: 1.71s\tremaining: 15.7s\n",
            "98:\tlearn: 1.8238678\ttest: 1.7928084\tbest: 1.7928084 (98)\ttotal: 1.72s\tremaining: 15.6s\n",
            "99:\tlearn: 1.8228839\ttest: 1.7921857\tbest: 1.7921857 (99)\ttotal: 1.75s\tremaining: 15.7s\n",
            "100:\tlearn: 1.8221171\ttest: 1.7912595\tbest: 1.7912595 (100)\ttotal: 1.77s\tremaining: 15.8s\n",
            "101:\tlearn: 1.8209950\ttest: 1.7900708\tbest: 1.7900708 (101)\ttotal: 1.8s\tremaining: 15.9s\n",
            "102:\tlearn: 1.8198387\ttest: 1.7889668\tbest: 1.7889668 (102)\ttotal: 1.83s\tremaining: 16s\n",
            "103:\tlearn: 1.8189766\ttest: 1.7881556\tbest: 1.7881556 (103)\ttotal: 1.86s\tremaining: 16s\n",
            "104:\tlearn: 1.8180735\ttest: 1.7873760\tbest: 1.7873760 (104)\ttotal: 1.89s\tremaining: 16.1s\n",
            "105:\tlearn: 1.8170662\ttest: 1.7864707\tbest: 1.7864707 (105)\ttotal: 1.92s\tremaining: 16.2s\n",
            "106:\tlearn: 1.8161732\ttest: 1.7857683\tbest: 1.7857683 (106)\ttotal: 1.95s\tremaining: 16.3s\n",
            "107:\tlearn: 1.8153101\ttest: 1.7849725\tbest: 1.7849725 (107)\ttotal: 1.97s\tremaining: 16.3s\n",
            "108:\tlearn: 1.8143282\ttest: 1.7841219\tbest: 1.7841219 (108)\ttotal: 2s\tremaining: 16.4s\n",
            "109:\tlearn: 1.8133637\ttest: 1.7831541\tbest: 1.7831541 (109)\ttotal: 2.03s\tremaining: 16.4s\n",
            "110:\tlearn: 1.8123637\ttest: 1.7823166\tbest: 1.7823166 (110)\ttotal: 2.05s\tremaining: 16.4s\n",
            "111:\tlearn: 1.8114455\ttest: 1.7816449\tbest: 1.7816449 (111)\ttotal: 2.08s\tremaining: 16.5s\n",
            "112:\tlearn: 1.8106924\ttest: 1.7808901\tbest: 1.7808901 (112)\ttotal: 2.11s\tremaining: 16.6s\n",
            "113:\tlearn: 1.8098066\ttest: 1.7800998\tbest: 1.7800998 (113)\ttotal: 2.13s\tremaining: 16.6s\n",
            "114:\tlearn: 1.8087777\ttest: 1.7792839\tbest: 1.7792839 (114)\ttotal: 2.16s\tremaining: 16.7s\n",
            "115:\tlearn: 1.8078057\ttest: 1.7785229\tbest: 1.7785229 (115)\ttotal: 2.19s\tremaining: 16.7s\n",
            "116:\tlearn: 1.8067188\ttest: 1.7773904\tbest: 1.7773904 (116)\ttotal: 2.23s\tremaining: 16.8s\n",
            "117:\tlearn: 1.8058301\ttest: 1.7768446\tbest: 1.7768446 (117)\ttotal: 2.26s\tremaining: 16.9s\n",
            "118:\tlearn: 1.8050387\ttest: 1.7761352\tbest: 1.7761352 (118)\ttotal: 2.28s\tremaining: 16.9s\n",
            "119:\tlearn: 1.8041253\ttest: 1.7755390\tbest: 1.7755390 (119)\ttotal: 2.31s\tremaining: 16.9s\n",
            "120:\tlearn: 1.8032767\ttest: 1.7746957\tbest: 1.7746957 (120)\ttotal: 2.33s\tremaining: 16.9s\n",
            "121:\tlearn: 1.8022208\ttest: 1.7738431\tbest: 1.7738431 (121)\ttotal: 2.35s\tremaining: 17s\n",
            "122:\tlearn: 1.8014074\ttest: 1.7731935\tbest: 1.7731935 (122)\ttotal: 2.37s\tremaining: 16.9s\n",
            "123:\tlearn: 1.8005536\ttest: 1.7722694\tbest: 1.7722694 (123)\ttotal: 2.38s\tremaining: 16.8s\n",
            "124:\tlearn: 1.7996219\ttest: 1.7716605\tbest: 1.7716605 (124)\ttotal: 2.39s\tremaining: 16.7s\n",
            "125:\tlearn: 1.7989952\ttest: 1.7712545\tbest: 1.7712545 (125)\ttotal: 2.4s\tremaining: 16.6s\n",
            "126:\tlearn: 1.7981035\ttest: 1.7704610\tbest: 1.7704610 (126)\ttotal: 2.41s\tremaining: 16.6s\n",
            "127:\tlearn: 1.7972407\ttest: 1.7695593\tbest: 1.7695593 (127)\ttotal: 2.42s\tremaining: 16.5s\n",
            "128:\tlearn: 1.7963726\ttest: 1.7688182\tbest: 1.7688182 (128)\ttotal: 2.43s\tremaining: 16.4s\n",
            "129:\tlearn: 1.7956298\ttest: 1.7680755\tbest: 1.7680755 (129)\ttotal: 2.44s\tremaining: 16.3s\n",
            "130:\tlearn: 1.7949672\ttest: 1.7672857\tbest: 1.7672857 (130)\ttotal: 2.45s\tremaining: 16.3s\n",
            "131:\tlearn: 1.7941048\ttest: 1.7667755\tbest: 1.7667755 (131)\ttotal: 2.46s\tremaining: 16.2s\n",
            "132:\tlearn: 1.7932294\ttest: 1.7658151\tbest: 1.7658151 (132)\ttotal: 2.48s\tremaining: 16.1s\n",
            "133:\tlearn: 1.7922734\ttest: 1.7654615\tbest: 1.7654615 (133)\ttotal: 2.49s\tremaining: 16.1s\n",
            "134:\tlearn: 1.7914937\ttest: 1.7647663\tbest: 1.7647663 (134)\ttotal: 2.5s\tremaining: 16s\n",
            "135:\tlearn: 1.7908902\ttest: 1.7642801\tbest: 1.7642801 (135)\ttotal: 2.53s\tremaining: 16.1s\n",
            "136:\tlearn: 1.7900913\ttest: 1.7634696\tbest: 1.7634696 (136)\ttotal: 2.56s\tremaining: 16.1s\n",
            "137:\tlearn: 1.7893077\ttest: 1.7630177\tbest: 1.7630177 (137)\ttotal: 2.57s\tremaining: 16.1s\n",
            "138:\tlearn: 1.7885360\ttest: 1.7622802\tbest: 1.7622802 (138)\ttotal: 2.58s\tremaining: 16s\n",
            "139:\tlearn: 1.7878771\ttest: 1.7615902\tbest: 1.7615902 (139)\ttotal: 2.6s\tremaining: 16s\n",
            "140:\tlearn: 1.7870431\ttest: 1.7608465\tbest: 1.7608465 (140)\ttotal: 2.61s\tremaining: 15.9s\n",
            "141:\tlearn: 1.7864109\ttest: 1.7603414\tbest: 1.7603414 (141)\ttotal: 2.62s\tremaining: 15.8s\n",
            "142:\tlearn: 1.7853953\ttest: 1.7598871\tbest: 1.7598871 (142)\ttotal: 2.63s\tremaining: 15.8s\n",
            "143:\tlearn: 1.7846346\ttest: 1.7592932\tbest: 1.7592932 (143)\ttotal: 2.65s\tremaining: 15.8s\n",
            "144:\tlearn: 1.7838399\ttest: 1.7584868\tbest: 1.7584868 (144)\ttotal: 2.67s\tremaining: 15.7s\n",
            "145:\tlearn: 1.7831885\ttest: 1.7580133\tbest: 1.7580133 (145)\ttotal: 2.68s\tremaining: 15.7s\n",
            "146:\tlearn: 1.7825187\ttest: 1.7572873\tbest: 1.7572873 (146)\ttotal: 2.69s\tremaining: 15.6s\n",
            "147:\tlearn: 1.7815066\ttest: 1.7565117\tbest: 1.7565117 (147)\ttotal: 2.71s\tremaining: 15.6s\n",
            "148:\tlearn: 1.7806843\ttest: 1.7557866\tbest: 1.7557866 (148)\ttotal: 2.73s\tremaining: 15.6s\n",
            "149:\tlearn: 1.7800388\ttest: 1.7555633\tbest: 1.7555633 (149)\ttotal: 2.75s\tremaining: 15.6s\n",
            "150:\tlearn: 1.7793645\ttest: 1.7547914\tbest: 1.7547914 (150)\ttotal: 2.76s\tremaining: 15.5s\n",
            "151:\tlearn: 1.7787717\ttest: 1.7543260\tbest: 1.7543260 (151)\ttotal: 2.77s\tremaining: 15.4s\n",
            "152:\tlearn: 1.7781420\ttest: 1.7539480\tbest: 1.7539480 (152)\ttotal: 2.78s\tremaining: 15.4s\n",
            "153:\tlearn: 1.7774665\ttest: 1.7532960\tbest: 1.7532960 (153)\ttotal: 2.79s\tremaining: 15.3s\n",
            "154:\tlearn: 1.7768803\ttest: 1.7525727\tbest: 1.7525727 (154)\ttotal: 2.82s\tremaining: 15.4s\n",
            "155:\tlearn: 1.7764616\ttest: 1.7522790\tbest: 1.7522790 (155)\ttotal: 2.85s\tremaining: 15.4s\n",
            "156:\tlearn: 1.7758254\ttest: 1.7517237\tbest: 1.7517237 (156)\ttotal: 2.87s\tremaining: 15.4s\n",
            "157:\tlearn: 1.7751950\ttest: 1.7512488\tbest: 1.7512488 (157)\ttotal: 2.89s\tremaining: 15.4s\n",
            "158:\tlearn: 1.7744539\ttest: 1.7505187\tbest: 1.7505187 (158)\ttotal: 2.92s\tremaining: 15.4s\n",
            "159:\tlearn: 1.7735980\ttest: 1.7501087\tbest: 1.7501087 (159)\ttotal: 2.97s\tremaining: 15.6s\n",
            "160:\tlearn: 1.7728940\ttest: 1.7494089\tbest: 1.7494089 (160)\ttotal: 3s\tremaining: 15.7s\n",
            "161:\tlearn: 1.7723307\ttest: 1.7488052\tbest: 1.7488052 (161)\ttotal: 3.03s\tremaining: 15.7s\n",
            "162:\tlearn: 1.7717006\ttest: 1.7485774\tbest: 1.7485774 (162)\ttotal: 3.05s\tremaining: 15.7s\n",
            "163:\tlearn: 1.7711738\ttest: 1.7480648\tbest: 1.7480648 (163)\ttotal: 3.07s\tremaining: 15.6s\n",
            "164:\tlearn: 1.7706414\ttest: 1.7476653\tbest: 1.7476653 (164)\ttotal: 3.08s\tremaining: 15.6s\n",
            "165:\tlearn: 1.7699937\ttest: 1.7473279\tbest: 1.7473279 (165)\ttotal: 3.09s\tremaining: 15.5s\n",
            "166:\tlearn: 1.7694271\ttest: 1.7468723\tbest: 1.7468723 (166)\ttotal: 3.11s\tremaining: 15.5s\n",
            "167:\tlearn: 1.7687518\ttest: 1.7462973\tbest: 1.7462973 (167)\ttotal: 3.13s\tremaining: 15.5s\n",
            "168:\tlearn: 1.7683166\ttest: 1.7458576\tbest: 1.7458576 (168)\ttotal: 3.14s\tremaining: 15.5s\n",
            "169:\tlearn: 1.7677640\ttest: 1.7456049\tbest: 1.7456049 (169)\ttotal: 3.16s\tremaining: 15.4s\n",
            "170:\tlearn: 1.7671525\ttest: 1.7450532\tbest: 1.7450532 (170)\ttotal: 3.17s\tremaining: 15.4s\n",
            "171:\tlearn: 1.7665898\ttest: 1.7445815\tbest: 1.7445815 (171)\ttotal: 3.18s\tremaining: 15.3s\n",
            "172:\tlearn: 1.7660292\ttest: 1.7441588\tbest: 1.7441588 (172)\ttotal: 3.19s\tremaining: 15.3s\n",
            "173:\tlearn: 1.7654684\ttest: 1.7438658\tbest: 1.7438658 (173)\ttotal: 3.21s\tremaining: 15.2s\n",
            "174:\tlearn: 1.7649208\ttest: 1.7434900\tbest: 1.7434900 (174)\ttotal: 3.22s\tremaining: 15.2s\n",
            "175:\tlearn: 1.7642675\ttest: 1.7429544\tbest: 1.7429544 (175)\ttotal: 3.23s\tremaining: 15.1s\n",
            "176:\tlearn: 1.7638107\ttest: 1.7425982\tbest: 1.7425982 (176)\ttotal: 3.25s\tremaining: 15.1s\n",
            "177:\tlearn: 1.7633786\ttest: 1.7423641\tbest: 1.7423641 (177)\ttotal: 3.26s\tremaining: 15s\n",
            "178:\tlearn: 1.7629628\ttest: 1.7419712\tbest: 1.7419712 (178)\ttotal: 3.27s\tremaining: 15s\n",
            "179:\tlearn: 1.7624488\ttest: 1.7415246\tbest: 1.7415246 (179)\ttotal: 3.28s\tremaining: 14.9s\n",
            "180:\tlearn: 1.7619215\ttest: 1.7410911\tbest: 1.7410911 (180)\ttotal: 3.3s\tremaining: 14.9s\n",
            "181:\tlearn: 1.7613375\ttest: 1.7408193\tbest: 1.7408193 (181)\ttotal: 3.33s\tremaining: 15s\n",
            "182:\tlearn: 1.7608064\ttest: 1.7404155\tbest: 1.7404155 (182)\ttotal: 3.35s\tremaining: 14.9s\n",
            "183:\tlearn: 1.7602966\ttest: 1.7399540\tbest: 1.7399540 (183)\ttotal: 3.37s\tremaining: 15s\n",
            "184:\tlearn: 1.7595165\ttest: 1.7397347\tbest: 1.7397347 (184)\ttotal: 3.4s\tremaining: 15s\n",
            "185:\tlearn: 1.7589011\ttest: 1.7392991\tbest: 1.7392991 (185)\ttotal: 3.42s\tremaining: 15s\n",
            "186:\tlearn: 1.7585054\ttest: 1.7389435\tbest: 1.7389435 (186)\ttotal: 3.45s\tremaining: 15s\n",
            "187:\tlearn: 1.7579984\ttest: 1.7385074\tbest: 1.7385074 (187)\ttotal: 3.48s\tremaining: 15s\n",
            "188:\tlearn: 1.7575852\ttest: 1.7380373\tbest: 1.7380373 (188)\ttotal: 3.51s\tremaining: 15.1s\n",
            "189:\tlearn: 1.7569310\ttest: 1.7374417\tbest: 1.7374417 (189)\ttotal: 3.53s\tremaining: 15s\n",
            "190:\tlearn: 1.7562595\ttest: 1.7370386\tbest: 1.7370386 (190)\ttotal: 3.56s\tremaining: 15.1s\n",
            "191:\tlearn: 1.7558555\ttest: 1.7367025\tbest: 1.7367025 (191)\ttotal: 3.57s\tremaining: 15s\n",
            "192:\tlearn: 1.7553272\ttest: 1.7365637\tbest: 1.7365637 (192)\ttotal: 3.59s\tremaining: 15s\n",
            "193:\tlearn: 1.7548755\ttest: 1.7361958\tbest: 1.7361958 (193)\ttotal: 3.6s\tremaining: 15s\n",
            "194:\tlearn: 1.7543454\ttest: 1.7357941\tbest: 1.7357941 (194)\ttotal: 3.62s\tremaining: 14.9s\n",
            "195:\tlearn: 1.7539284\ttest: 1.7354793\tbest: 1.7354793 (195)\ttotal: 3.64s\tremaining: 14.9s\n",
            "196:\tlearn: 1.7534023\ttest: 1.7349518\tbest: 1.7349518 (196)\ttotal: 3.66s\tremaining: 14.9s\n",
            "197:\tlearn: 1.7527506\ttest: 1.7345643\tbest: 1.7345643 (197)\ttotal: 3.69s\tremaining: 14.9s\n",
            "198:\tlearn: 1.7522003\ttest: 1.7339626\tbest: 1.7339626 (198)\ttotal: 3.71s\tremaining: 14.9s\n",
            "199:\tlearn: 1.7517049\ttest: 1.7334927\tbest: 1.7334927 (199)\ttotal: 3.74s\tremaining: 15s\n",
            "200:\tlearn: 1.7511835\ttest: 1.7331955\tbest: 1.7331955 (200)\ttotal: 3.76s\tremaining: 14.9s\n",
            "201:\tlearn: 1.7508337\ttest: 1.7328480\tbest: 1.7328480 (201)\ttotal: 3.79s\tremaining: 15s\n",
            "202:\tlearn: 1.7502337\ttest: 1.7322636\tbest: 1.7322636 (202)\ttotal: 3.81s\tremaining: 15s\n",
            "203:\tlearn: 1.7498079\ttest: 1.7318975\tbest: 1.7318975 (203)\ttotal: 3.83s\tremaining: 15s\n",
            "204:\tlearn: 1.7494232\ttest: 1.7317215\tbest: 1.7317215 (204)\ttotal: 3.86s\tremaining: 15s\n",
            "205:\tlearn: 1.7490108\ttest: 1.7312678\tbest: 1.7312678 (205)\ttotal: 3.88s\tremaining: 15s\n",
            "206:\tlearn: 1.7484695\ttest: 1.7309809\tbest: 1.7309809 (206)\ttotal: 3.91s\tremaining: 15s\n",
            "207:\tlearn: 1.7480574\ttest: 1.7306899\tbest: 1.7306899 (207)\ttotal: 3.94s\tremaining: 15s\n",
            "208:\tlearn: 1.7476792\ttest: 1.7305528\tbest: 1.7305528 (208)\ttotal: 3.95s\tremaining: 14.9s\n",
            "209:\tlearn: 1.7471622\ttest: 1.7300952\tbest: 1.7300952 (209)\ttotal: 3.96s\tremaining: 14.9s\n",
            "210:\tlearn: 1.7468690\ttest: 1.7298371\tbest: 1.7298371 (210)\ttotal: 3.97s\tremaining: 14.8s\n",
            "211:\tlearn: 1.7464027\ttest: 1.7294082\tbest: 1.7294082 (211)\ttotal: 3.98s\tremaining: 14.8s\n",
            "212:\tlearn: 1.7459500\ttest: 1.7289609\tbest: 1.7289609 (212)\ttotal: 4s\tremaining: 14.8s\n",
            "213:\tlearn: 1.7455567\ttest: 1.7286762\tbest: 1.7286762 (213)\ttotal: 4.01s\tremaining: 14.7s\n",
            "214:\tlearn: 1.7452484\ttest: 1.7283450\tbest: 1.7283450 (214)\ttotal: 4.02s\tremaining: 14.7s\n",
            "215:\tlearn: 1.7447987\ttest: 1.7279317\tbest: 1.7279317 (215)\ttotal: 4.03s\tremaining: 14.6s\n",
            "216:\tlearn: 1.7443020\ttest: 1.7277461\tbest: 1.7277461 (216)\ttotal: 4.04s\tremaining: 14.6s\n",
            "217:\tlearn: 1.7438145\ttest: 1.7271494\tbest: 1.7271494 (217)\ttotal: 4.05s\tremaining: 14.5s\n",
            "218:\tlearn: 1.7433281\ttest: 1.7268458\tbest: 1.7268458 (218)\ttotal: 4.06s\tremaining: 14.5s\n",
            "219:\tlearn: 1.7429386\ttest: 1.7266104\tbest: 1.7266104 (219)\ttotal: 4.07s\tremaining: 14.4s\n",
            "220:\tlearn: 1.7425139\ttest: 1.7265262\tbest: 1.7265262 (220)\ttotal: 4.07s\tremaining: 14.4s\n",
            "221:\tlearn: 1.7420474\ttest: 1.7261764\tbest: 1.7261764 (221)\ttotal: 4.08s\tremaining: 14.3s\n",
            "222:\tlearn: 1.7415075\ttest: 1.7256867\tbest: 1.7256867 (222)\ttotal: 4.09s\tremaining: 14.3s\n",
            "223:\tlearn: 1.7411156\ttest: 1.7254896\tbest: 1.7254896 (223)\ttotal: 4.1s\tremaining: 14.2s\n",
            "224:\tlearn: 1.7408094\ttest: 1.7254072\tbest: 1.7254072 (224)\ttotal: 4.11s\tremaining: 14.2s\n",
            "225:\tlearn: 1.7405430\ttest: 1.7252852\tbest: 1.7252852 (225)\ttotal: 4.12s\tremaining: 14.1s\n",
            "226:\tlearn: 1.7401069\ttest: 1.7252335\tbest: 1.7252335 (226)\ttotal: 4.13s\tremaining: 14.1s\n",
            "227:\tlearn: 1.7395047\ttest: 1.7249827\tbest: 1.7249827 (227)\ttotal: 4.14s\tremaining: 14s\n",
            "228:\tlearn: 1.7390691\ttest: 1.7247003\tbest: 1.7247003 (228)\ttotal: 4.15s\tremaining: 14s\n",
            "229:\tlearn: 1.7386840\ttest: 1.7243449\tbest: 1.7243449 (229)\ttotal: 4.16s\tremaining: 13.9s\n",
            "230:\tlearn: 1.7383496\ttest: 1.7240790\tbest: 1.7240790 (230)\ttotal: 4.17s\tremaining: 13.9s\n",
            "231:\tlearn: 1.7378854\ttest: 1.7237343\tbest: 1.7237343 (231)\ttotal: 4.17s\tremaining: 13.8s\n",
            "232:\tlearn: 1.7374289\ttest: 1.7235883\tbest: 1.7235883 (232)\ttotal: 4.18s\tremaining: 13.8s\n",
            "233:\tlearn: 1.7370037\ttest: 1.7234587\tbest: 1.7234587 (233)\ttotal: 4.2s\tremaining: 13.7s\n",
            "234:\tlearn: 1.7365287\ttest: 1.7231568\tbest: 1.7231568 (234)\ttotal: 4.21s\tremaining: 13.7s\n",
            "235:\tlearn: 1.7361037\ttest: 1.7228106\tbest: 1.7228106 (235)\ttotal: 4.22s\tremaining: 13.6s\n",
            "236:\tlearn: 1.7359717\ttest: 1.7227913\tbest: 1.7227913 (236)\ttotal: 4.22s\tremaining: 13.6s\n",
            "237:\tlearn: 1.7356278\ttest: 1.7226800\tbest: 1.7226800 (237)\ttotal: 4.24s\tremaining: 13.6s\n",
            "238:\tlearn: 1.7352329\ttest: 1.7223602\tbest: 1.7223602 (238)\ttotal: 4.25s\tremaining: 13.5s\n",
            "239:\tlearn: 1.7348817\ttest: 1.7221712\tbest: 1.7221712 (239)\ttotal: 4.26s\tremaining: 13.5s\n",
            "240:\tlearn: 1.7345972\ttest: 1.7220587\tbest: 1.7220587 (240)\ttotal: 4.26s\tremaining: 13.4s\n",
            "241:\tlearn: 1.7340681\ttest: 1.7216905\tbest: 1.7216905 (241)\ttotal: 4.27s\tremaining: 13.4s\n",
            "242:\tlearn: 1.7337685\ttest: 1.7214551\tbest: 1.7214551 (242)\ttotal: 4.28s\tremaining: 13.3s\n",
            "243:\tlearn: 1.7333689\ttest: 1.7212704\tbest: 1.7212704 (243)\ttotal: 4.29s\tremaining: 13.3s\n",
            "244:\tlearn: 1.7329647\ttest: 1.7211473\tbest: 1.7211473 (244)\ttotal: 4.3s\tremaining: 13.3s\n",
            "245:\tlearn: 1.7325011\ttest: 1.7209556\tbest: 1.7209556 (245)\ttotal: 4.32s\tremaining: 13.2s\n",
            "246:\tlearn: 1.7322232\ttest: 1.7208078\tbest: 1.7208078 (246)\ttotal: 4.33s\tremaining: 13.2s\n",
            "247:\tlearn: 1.7319188\ttest: 1.7206301\tbest: 1.7206301 (247)\ttotal: 4.33s\tremaining: 13.1s\n",
            "248:\tlearn: 1.7316102\ttest: 1.7203839\tbest: 1.7203839 (248)\ttotal: 4.34s\tremaining: 13.1s\n",
            "249:\tlearn: 1.7313984\ttest: 1.7202434\tbest: 1.7202434 (249)\ttotal: 4.35s\tremaining: 13.1s\n",
            "250:\tlearn: 1.7311391\ttest: 1.7200932\tbest: 1.7200932 (250)\ttotal: 4.36s\tremaining: 13s\n",
            "251:\tlearn: 1.7306942\ttest: 1.7197300\tbest: 1.7197300 (251)\ttotal: 4.37s\tremaining: 13s\n",
            "252:\tlearn: 1.7302951\ttest: 1.7195273\tbest: 1.7195273 (252)\ttotal: 4.38s\tremaining: 12.9s\n",
            "253:\tlearn: 1.7298664\ttest: 1.7191874\tbest: 1.7191874 (253)\ttotal: 4.39s\tremaining: 12.9s\n",
            "254:\tlearn: 1.7295927\ttest: 1.7189000\tbest: 1.7189000 (254)\ttotal: 4.4s\tremaining: 12.9s\n",
            "255:\tlearn: 1.7293408\ttest: 1.7186359\tbest: 1.7186359 (255)\ttotal: 4.41s\tremaining: 12.8s\n",
            "256:\tlearn: 1.7289424\ttest: 1.7184549\tbest: 1.7184549 (256)\ttotal: 4.42s\tremaining: 12.8s\n",
            "257:\tlearn: 1.7284340\ttest: 1.7181813\tbest: 1.7181813 (257)\ttotal: 4.43s\tremaining: 12.7s\n",
            "258:\tlearn: 1.7280809\ttest: 1.7179059\tbest: 1.7179059 (258)\ttotal: 4.44s\tremaining: 12.7s\n",
            "259:\tlearn: 1.7276145\ttest: 1.7176126\tbest: 1.7176126 (259)\ttotal: 4.45s\tremaining: 12.7s\n",
            "260:\tlearn: 1.7273738\ttest: 1.7173905\tbest: 1.7173905 (260)\ttotal: 4.46s\tremaining: 12.6s\n",
            "261:\tlearn: 1.7270518\ttest: 1.7170542\tbest: 1.7170542 (261)\ttotal: 4.47s\tremaining: 12.6s\n",
            "262:\tlearn: 1.7267346\ttest: 1.7169130\tbest: 1.7169130 (262)\ttotal: 4.48s\tremaining: 12.6s\n",
            "263:\tlearn: 1.7265707\ttest: 1.7168746\tbest: 1.7168746 (263)\ttotal: 4.49s\tremaining: 12.5s\n",
            "264:\tlearn: 1.7263449\ttest: 1.7167564\tbest: 1.7167564 (264)\ttotal: 4.5s\tremaining: 12.5s\n",
            "265:\tlearn: 1.7260706\ttest: 1.7164828\tbest: 1.7164828 (265)\ttotal: 4.51s\tremaining: 12.4s\n",
            "266:\tlearn: 1.7256813\ttest: 1.7162349\tbest: 1.7162349 (266)\ttotal: 4.52s\tremaining: 12.4s\n",
            "267:\tlearn: 1.7255810\ttest: 1.7161682\tbest: 1.7161682 (267)\ttotal: 4.52s\tremaining: 12.4s\n",
            "268:\tlearn: 1.7252263\ttest: 1.7159091\tbest: 1.7159091 (268)\ttotal: 4.53s\tremaining: 12.3s\n",
            "269:\tlearn: 1.7249249\ttest: 1.7158701\tbest: 1.7158701 (269)\ttotal: 4.54s\tremaining: 12.3s\n",
            "270:\tlearn: 1.7247504\ttest: 1.7158499\tbest: 1.7158499 (270)\ttotal: 4.55s\tremaining: 12.3s\n",
            "271:\tlearn: 1.7244815\ttest: 1.7157926\tbest: 1.7157926 (271)\ttotal: 4.56s\tremaining: 12.2s\n",
            "272:\tlearn: 1.7241523\ttest: 1.7156253\tbest: 1.7156253 (272)\ttotal: 4.57s\tremaining: 12.2s\n",
            "273:\tlearn: 1.7238052\ttest: 1.7155254\tbest: 1.7155254 (273)\ttotal: 4.58s\tremaining: 12.1s\n",
            "274:\tlearn: 1.7235381\ttest: 1.7154117\tbest: 1.7154117 (274)\ttotal: 4.59s\tremaining: 12.1s\n",
            "275:\tlearn: 1.7231777\ttest: 1.7153269\tbest: 1.7153269 (275)\ttotal: 4.6s\tremaining: 12.1s\n",
            "276:\tlearn: 1.7228742\ttest: 1.7151751\tbest: 1.7151751 (276)\ttotal: 4.61s\tremaining: 12s\n",
            "277:\tlearn: 1.7224869\ttest: 1.7150715\tbest: 1.7150715 (277)\ttotal: 4.62s\tremaining: 12s\n",
            "278:\tlearn: 1.7222633\ttest: 1.7149169\tbest: 1.7149169 (278)\ttotal: 4.63s\tremaining: 12s\n",
            "279:\tlearn: 1.7218769\ttest: 1.7147325\tbest: 1.7147325 (279)\ttotal: 4.64s\tremaining: 11.9s\n",
            "280:\tlearn: 1.7215196\ttest: 1.7147748\tbest: 1.7147325 (279)\ttotal: 4.65s\tremaining: 11.9s\n",
            "281:\tlearn: 1.7213219\ttest: 1.7147094\tbest: 1.7147094 (281)\ttotal: 4.66s\tremaining: 11.9s\n",
            "282:\tlearn: 1.7211422\ttest: 1.7145485\tbest: 1.7145485 (282)\ttotal: 4.67s\tremaining: 11.8s\n",
            "283:\tlearn: 1.7208630\ttest: 1.7143230\tbest: 1.7143230 (283)\ttotal: 4.68s\tremaining: 11.8s\n",
            "284:\tlearn: 1.7205181\ttest: 1.7141269\tbest: 1.7141269 (284)\ttotal: 4.69s\tremaining: 11.8s\n",
            "285:\tlearn: 1.7201970\ttest: 1.7138561\tbest: 1.7138561 (285)\ttotal: 4.7s\tremaining: 11.7s\n",
            "286:\tlearn: 1.7197771\ttest: 1.7135751\tbest: 1.7135751 (286)\ttotal: 4.71s\tremaining: 11.7s\n",
            "287:\tlearn: 1.7194065\ttest: 1.7133805\tbest: 1.7133805 (287)\ttotal: 4.72s\tremaining: 11.7s\n",
            "288:\tlearn: 1.7192281\ttest: 1.7133242\tbest: 1.7133242 (288)\ttotal: 4.73s\tremaining: 11.6s\n",
            "289:\tlearn: 1.7189867\ttest: 1.7131984\tbest: 1.7131984 (289)\ttotal: 4.74s\tremaining: 11.6s\n",
            "290:\tlearn: 1.7186564\ttest: 1.7130639\tbest: 1.7130639 (290)\ttotal: 4.74s\tremaining: 11.6s\n",
            "291:\tlearn: 1.7183884\ttest: 1.7128800\tbest: 1.7128800 (291)\ttotal: 4.75s\tremaining: 11.5s\n",
            "292:\tlearn: 1.7182083\ttest: 1.7128385\tbest: 1.7128385 (292)\ttotal: 4.76s\tremaining: 11.5s\n",
            "293:\tlearn: 1.7179285\ttest: 1.7126152\tbest: 1.7126152 (293)\ttotal: 4.77s\tremaining: 11.5s\n",
            "294:\tlearn: 1.7177236\ttest: 1.7125080\tbest: 1.7125080 (294)\ttotal: 4.78s\tremaining: 11.4s\n",
            "295:\tlearn: 1.7174308\ttest: 1.7123217\tbest: 1.7123217 (295)\ttotal: 4.79s\tremaining: 11.4s\n",
            "296:\tlearn: 1.7171220\ttest: 1.7121815\tbest: 1.7121815 (296)\ttotal: 4.79s\tremaining: 11.3s\n",
            "297:\tlearn: 1.7169403\ttest: 1.7121140\tbest: 1.7121140 (297)\ttotal: 4.8s\tremaining: 11.3s\n",
            "298:\tlearn: 1.7167598\ttest: 1.7121540\tbest: 1.7121140 (297)\ttotal: 4.81s\tremaining: 11.3s\n",
            "299:\tlearn: 1.7165402\ttest: 1.7120810\tbest: 1.7120810 (299)\ttotal: 4.82s\tremaining: 11.2s\n",
            "300:\tlearn: 1.7161988\ttest: 1.7117290\tbest: 1.7117290 (300)\ttotal: 4.83s\tremaining: 11.2s\n",
            "301:\tlearn: 1.7158295\ttest: 1.7115986\tbest: 1.7115986 (301)\ttotal: 4.84s\tremaining: 11.2s\n",
            "302:\tlearn: 1.7155931\ttest: 1.7114880\tbest: 1.7114880 (302)\ttotal: 4.84s\tremaining: 11.1s\n",
            "303:\tlearn: 1.7154082\ttest: 1.7113131\tbest: 1.7113131 (303)\ttotal: 4.85s\tremaining: 11.1s\n",
            "304:\tlearn: 1.7152430\ttest: 1.7112589\tbest: 1.7112589 (304)\ttotal: 4.86s\tremaining: 11.1s\n",
            "305:\tlearn: 1.7150632\ttest: 1.7112639\tbest: 1.7112589 (304)\ttotal: 4.88s\tremaining: 11.1s\n",
            "306:\tlearn: 1.7147875\ttest: 1.7110731\tbest: 1.7110731 (306)\ttotal: 4.88s\tremaining: 11s\n",
            "307:\tlearn: 1.7144850\ttest: 1.7109051\tbest: 1.7109051 (307)\ttotal: 4.89s\tremaining: 11s\n",
            "308:\tlearn: 1.7143562\ttest: 1.7109157\tbest: 1.7109051 (307)\ttotal: 4.9s\tremaining: 11s\n",
            "309:\tlearn: 1.7140932\ttest: 1.7108460\tbest: 1.7108460 (309)\ttotal: 4.91s\tremaining: 10.9s\n",
            "310:\tlearn: 1.7137594\ttest: 1.7107047\tbest: 1.7107047 (310)\ttotal: 4.92s\tremaining: 10.9s\n",
            "311:\tlearn: 1.7134991\ttest: 1.7105811\tbest: 1.7105811 (311)\ttotal: 4.93s\tremaining: 10.9s\n",
            "312:\tlearn: 1.7131684\ttest: 1.7105623\tbest: 1.7105623 (312)\ttotal: 4.94s\tremaining: 10.8s\n",
            "313:\tlearn: 1.7129601\ttest: 1.7105058\tbest: 1.7105058 (313)\ttotal: 4.95s\tremaining: 10.8s\n",
            "314:\tlearn: 1.7128104\ttest: 1.7103569\tbest: 1.7103569 (314)\ttotal: 4.96s\tremaining: 10.8s\n",
            "315:\tlearn: 1.7124853\ttest: 1.7102692\tbest: 1.7102692 (315)\ttotal: 4.97s\tremaining: 10.8s\n",
            "316:\tlearn: 1.7123286\ttest: 1.7101354\tbest: 1.7101354 (316)\ttotal: 4.98s\tremaining: 10.7s\n",
            "317:\tlearn: 1.7121101\ttest: 1.7100084\tbest: 1.7100084 (317)\ttotal: 4.99s\tremaining: 10.7s\n",
            "318:\tlearn: 1.7119453\ttest: 1.7099883\tbest: 1.7099883 (318)\ttotal: 5s\tremaining: 10.7s\n",
            "319:\tlearn: 1.7117943\ttest: 1.7099571\tbest: 1.7099571 (319)\ttotal: 5.01s\tremaining: 10.6s\n",
            "320:\tlearn: 1.7115300\ttest: 1.7098932\tbest: 1.7098932 (320)\ttotal: 5.01s\tremaining: 10.6s\n",
            "321:\tlearn: 1.7113308\ttest: 1.7098968\tbest: 1.7098932 (320)\ttotal: 5.02s\tremaining: 10.6s\n",
            "322:\tlearn: 1.7111673\ttest: 1.7099036\tbest: 1.7098932 (320)\ttotal: 5.03s\tremaining: 10.5s\n",
            "323:\tlearn: 1.7108109\ttest: 1.7096612\tbest: 1.7096612 (323)\ttotal: 5.04s\tremaining: 10.5s\n",
            "324:\tlearn: 1.7104320\ttest: 1.7095747\tbest: 1.7095747 (324)\ttotal: 5.05s\tremaining: 10.5s\n",
            "325:\tlearn: 1.7102133\ttest: 1.7095236\tbest: 1.7095236 (325)\ttotal: 5.06s\tremaining: 10.5s\n",
            "326:\tlearn: 1.7099271\ttest: 1.7094272\tbest: 1.7094272 (326)\ttotal: 5.07s\tremaining: 10.4s\n",
            "327:\tlearn: 1.7096687\ttest: 1.7094072\tbest: 1.7094072 (327)\ttotal: 5.08s\tremaining: 10.4s\n",
            "328:\tlearn: 1.7093211\ttest: 1.7092350\tbest: 1.7092350 (328)\ttotal: 5.08s\tremaining: 10.4s\n",
            "329:\tlearn: 1.7091824\ttest: 1.7092079\tbest: 1.7092079 (329)\ttotal: 5.09s\tremaining: 10.3s\n",
            "330:\tlearn: 1.7090524\ttest: 1.7091837\tbest: 1.7091837 (330)\ttotal: 5.1s\tremaining: 10.3s\n",
            "331:\tlearn: 1.7090184\ttest: 1.7091724\tbest: 1.7091724 (331)\ttotal: 5.11s\tremaining: 10.3s\n",
            "332:\tlearn: 1.7087701\ttest: 1.7091337\tbest: 1.7091337 (332)\ttotal: 5.12s\tremaining: 10.3s\n",
            "333:\tlearn: 1.7085683\ttest: 1.7089926\tbest: 1.7089926 (333)\ttotal: 5.13s\tremaining: 10.2s\n",
            "334:\tlearn: 1.7083313\ttest: 1.7089629\tbest: 1.7089629 (334)\ttotal: 5.14s\tremaining: 10.2s\n",
            "335:\tlearn: 1.7082990\ttest: 1.7089565\tbest: 1.7089565 (335)\ttotal: 5.15s\tremaining: 10.2s\n",
            "336:\tlearn: 1.7080173\ttest: 1.7087197\tbest: 1.7087197 (336)\ttotal: 5.16s\tremaining: 10.2s\n",
            "337:\tlearn: 1.7078222\ttest: 1.7085996\tbest: 1.7085996 (337)\ttotal: 5.17s\tremaining: 10.1s\n",
            "338:\tlearn: 1.7075584\ttest: 1.7083781\tbest: 1.7083781 (338)\ttotal: 5.18s\tremaining: 10.1s\n",
            "339:\tlearn: 1.7072645\ttest: 1.7083531\tbest: 1.7083531 (339)\ttotal: 5.19s\tremaining: 10.1s\n",
            "340:\tlearn: 1.7072073\ttest: 1.7083270\tbest: 1.7083270 (340)\ttotal: 5.2s\tremaining: 10.1s\n",
            "341:\tlearn: 1.7070057\ttest: 1.7082739\tbest: 1.7082739 (341)\ttotal: 5.21s\tremaining: 10s\n",
            "342:\tlearn: 1.7067326\ttest: 1.7081086\tbest: 1.7081086 (342)\ttotal: 5.22s\tremaining: 9.99s\n",
            "343:\tlearn: 1.7065921\ttest: 1.7080924\tbest: 1.7080924 (343)\ttotal: 5.23s\tremaining: 9.97s\n",
            "344:\tlearn: 1.7064631\ttest: 1.7081130\tbest: 1.7080924 (343)\ttotal: 5.23s\tremaining: 9.94s\n",
            "345:\tlearn: 1.7063037\ttest: 1.7081370\tbest: 1.7080924 (343)\ttotal: 5.24s\tremaining: 9.91s\n",
            "346:\tlearn: 1.7062619\ttest: 1.7081118\tbest: 1.7080924 (343)\ttotal: 5.25s\tremaining: 9.88s\n",
            "347:\tlearn: 1.7060100\ttest: 1.7079967\tbest: 1.7079967 (347)\ttotal: 5.26s\tremaining: 9.86s\n",
            "348:\tlearn: 1.7058281\ttest: 1.7079734\tbest: 1.7079734 (348)\ttotal: 5.28s\tremaining: 9.84s\n",
            "349:\tlearn: 1.7055407\ttest: 1.7080045\tbest: 1.7079734 (348)\ttotal: 5.29s\tremaining: 9.83s\n",
            "350:\tlearn: 1.7052897\ttest: 1.7079389\tbest: 1.7079389 (350)\ttotal: 5.3s\tremaining: 9.81s\n",
            "351:\tlearn: 1.7051800\ttest: 1.7078647\tbest: 1.7078647 (351)\ttotal: 5.31s\tremaining: 9.78s\n",
            "352:\tlearn: 1.7050789\ttest: 1.7078103\tbest: 1.7078103 (352)\ttotal: 5.32s\tremaining: 9.75s\n",
            "353:\tlearn: 1.7047779\ttest: 1.7074871\tbest: 1.7074871 (353)\ttotal: 5.33s\tremaining: 9.73s\n",
            "354:\tlearn: 1.7045325\ttest: 1.7072208\tbest: 1.7072208 (354)\ttotal: 5.34s\tremaining: 9.7s\n",
            "355:\tlearn: 1.7044007\ttest: 1.7072221\tbest: 1.7072208 (354)\ttotal: 5.35s\tremaining: 9.67s\n",
            "356:\tlearn: 1.7042150\ttest: 1.7071526\tbest: 1.7071526 (356)\ttotal: 5.36s\tremaining: 9.65s\n",
            "357:\tlearn: 1.7040590\ttest: 1.7071146\tbest: 1.7071146 (357)\ttotal: 5.37s\tremaining: 9.63s\n",
            "358:\tlearn: 1.7037111\ttest: 1.7070707\tbest: 1.7070707 (358)\ttotal: 5.38s\tremaining: 9.6s\n",
            "359:\tlearn: 1.7034999\ttest: 1.7069122\tbest: 1.7069122 (359)\ttotal: 5.39s\tremaining: 9.58s\n",
            "360:\tlearn: 1.7034077\ttest: 1.7067891\tbest: 1.7067891 (360)\ttotal: 5.4s\tremaining: 9.56s\n",
            "361:\tlearn: 1.7032816\ttest: 1.7067167\tbest: 1.7067167 (361)\ttotal: 5.41s\tremaining: 9.53s\n",
            "362:\tlearn: 1.7029582\ttest: 1.7066424\tbest: 1.7066424 (362)\ttotal: 5.42s\tremaining: 9.51s\n",
            "363:\tlearn: 1.7028431\ttest: 1.7065420\tbest: 1.7065420 (363)\ttotal: 5.43s\tremaining: 9.48s\n",
            "364:\tlearn: 1.7026674\ttest: 1.7064568\tbest: 1.7064568 (364)\ttotal: 5.43s\tremaining: 9.46s\n",
            "365:\tlearn: 1.7023817\ttest: 1.7062728\tbest: 1.7062728 (365)\ttotal: 5.44s\tremaining: 9.43s\n",
            "366:\tlearn: 1.7021821\ttest: 1.7061955\tbest: 1.7061955 (366)\ttotal: 5.45s\tremaining: 9.4s\n",
            "367:\tlearn: 1.7020256\ttest: 1.7060982\tbest: 1.7060982 (367)\ttotal: 5.46s\tremaining: 9.38s\n",
            "368:\tlearn: 1.7019344\ttest: 1.7060486\tbest: 1.7060486 (368)\ttotal: 5.47s\tremaining: 9.36s\n",
            "369:\tlearn: 1.7016790\ttest: 1.7059857\tbest: 1.7059857 (369)\ttotal: 5.48s\tremaining: 9.33s\n",
            "370:\tlearn: 1.7015113\ttest: 1.7058950\tbest: 1.7058950 (370)\ttotal: 5.49s\tremaining: 9.3s\n",
            "371:\tlearn: 1.7013471\ttest: 1.7058173\tbest: 1.7058173 (371)\ttotal: 5.5s\tremaining: 9.28s\n",
            "372:\tlearn: 1.7011349\ttest: 1.7056398\tbest: 1.7056398 (372)\ttotal: 5.5s\tremaining: 9.26s\n",
            "373:\tlearn: 1.7008351\ttest: 1.7055883\tbest: 1.7055883 (373)\ttotal: 5.51s\tremaining: 9.23s\n",
            "374:\tlearn: 1.7006706\ttest: 1.7055250\tbest: 1.7055250 (374)\ttotal: 5.52s\tremaining: 9.21s\n",
            "375:\tlearn: 1.7006003\ttest: 1.7054898\tbest: 1.7054898 (375)\ttotal: 5.53s\tremaining: 9.18s\n",
            "376:\tlearn: 1.7005664\ttest: 1.7055250\tbest: 1.7054898 (375)\ttotal: 5.54s\tremaining: 9.16s\n",
            "377:\tlearn: 1.7002737\ttest: 1.7054244\tbest: 1.7054244 (377)\ttotal: 5.55s\tremaining: 9.13s\n",
            "378:\tlearn: 1.7000828\ttest: 1.7054088\tbest: 1.7054088 (378)\ttotal: 5.56s\tremaining: 9.11s\n",
            "379:\tlearn: 1.6999114\ttest: 1.7053234\tbest: 1.7053234 (379)\ttotal: 5.57s\tremaining: 9.08s\n",
            "380:\tlearn: 1.6996382\ttest: 1.7052911\tbest: 1.7052911 (380)\ttotal: 5.58s\tremaining: 9.06s\n",
            "381:\tlearn: 1.6995062\ttest: 1.7052460\tbest: 1.7052460 (381)\ttotal: 5.59s\tremaining: 9.04s\n",
            "382:\tlearn: 1.6993737\ttest: 1.7051902\tbest: 1.7051902 (382)\ttotal: 5.61s\tremaining: 9.04s\n",
            "383:\tlearn: 1.6991048\ttest: 1.7050707\tbest: 1.7050707 (383)\ttotal: 5.62s\tremaining: 9.01s\n",
            "384:\tlearn: 1.6989718\ttest: 1.7050211\tbest: 1.7050211 (384)\ttotal: 5.63s\tremaining: 8.99s\n",
            "385:\tlearn: 1.6987956\ttest: 1.7050125\tbest: 1.7050125 (385)\ttotal: 5.64s\tremaining: 8.96s\n",
            "386:\tlearn: 1.6984697\ttest: 1.7047439\tbest: 1.7047439 (386)\ttotal: 5.64s\tremaining: 8.94s\n",
            "387:\tlearn: 1.6981488\ttest: 1.7046037\tbest: 1.7046037 (387)\ttotal: 5.65s\tremaining: 8.92s\n",
            "388:\tlearn: 1.6980666\ttest: 1.7045569\tbest: 1.7045569 (388)\ttotal: 5.66s\tremaining: 8.89s\n",
            "389:\tlearn: 1.6979784\ttest: 1.7044913\tbest: 1.7044913 (389)\ttotal: 5.67s\tremaining: 8.87s\n",
            "390:\tlearn: 1.6977700\ttest: 1.7044441\tbest: 1.7044441 (390)\ttotal: 5.68s\tremaining: 8.85s\n",
            "391:\tlearn: 1.6976090\ttest: 1.7043752\tbest: 1.7043752 (391)\ttotal: 5.69s\tremaining: 8.82s\n",
            "392:\tlearn: 1.6974148\ttest: 1.7043310\tbest: 1.7043310 (392)\ttotal: 5.7s\tremaining: 8.8s\n",
            "393:\tlearn: 1.6971385\ttest: 1.7042070\tbest: 1.7042070 (393)\ttotal: 5.71s\tremaining: 8.78s\n",
            "394:\tlearn: 1.6969457\ttest: 1.7042537\tbest: 1.7042070 (393)\ttotal: 5.72s\tremaining: 8.76s\n",
            "395:\tlearn: 1.6968400\ttest: 1.7043067\tbest: 1.7042070 (393)\ttotal: 5.72s\tremaining: 8.73s\n",
            "396:\tlearn: 1.6966667\ttest: 1.7041660\tbest: 1.7041660 (396)\ttotal: 5.73s\tremaining: 8.71s\n",
            "397:\tlearn: 1.6963618\ttest: 1.7039498\tbest: 1.7039498 (397)\ttotal: 5.74s\tremaining: 8.69s\n",
            "398:\tlearn: 1.6960854\ttest: 1.7036330\tbest: 1.7036330 (398)\ttotal: 5.75s\tremaining: 8.66s\n",
            "399:\tlearn: 1.6959721\ttest: 1.7036240\tbest: 1.7036240 (399)\ttotal: 5.76s\tremaining: 8.64s\n",
            "400:\tlearn: 1.6956496\ttest: 1.7035747\tbest: 1.7035747 (400)\ttotal: 5.77s\tremaining: 8.62s\n",
            "401:\tlearn: 1.6954989\ttest: 1.7034615\tbest: 1.7034615 (401)\ttotal: 5.78s\tremaining: 8.6s\n",
            "402:\tlearn: 1.6953714\ttest: 1.7032991\tbest: 1.7032991 (402)\ttotal: 5.79s\tremaining: 8.58s\n",
            "403:\tlearn: 1.6953026\ttest: 1.7032181\tbest: 1.7032181 (403)\ttotal: 5.8s\tremaining: 8.56s\n",
            "404:\tlearn: 1.6950845\ttest: 1.7031427\tbest: 1.7031427 (404)\ttotal: 5.81s\tremaining: 8.54s\n",
            "405:\tlearn: 1.6949013\ttest: 1.7030207\tbest: 1.7030207 (405)\ttotal: 5.82s\tremaining: 8.52s\n",
            "406:\tlearn: 1.6948143\ttest: 1.7029272\tbest: 1.7029272 (406)\ttotal: 5.83s\tremaining: 8.5s\n",
            "407:\tlearn: 1.6946585\ttest: 1.7028949\tbest: 1.7028949 (407)\ttotal: 5.85s\tremaining: 8.48s\n",
            "408:\tlearn: 1.6944277\ttest: 1.7028044\tbest: 1.7028044 (408)\ttotal: 5.86s\tremaining: 8.46s\n",
            "409:\tlearn: 1.6943602\ttest: 1.7028143\tbest: 1.7028044 (408)\ttotal: 5.86s\tremaining: 8.44s\n",
            "410:\tlearn: 1.6941961\ttest: 1.7026516\tbest: 1.7026516 (410)\ttotal: 5.87s\tremaining: 8.41s\n",
            "411:\tlearn: 1.6939761\ttest: 1.7025405\tbest: 1.7025405 (411)\ttotal: 5.88s\tremaining: 8.39s\n",
            "412:\tlearn: 1.6937984\ttest: 1.7025282\tbest: 1.7025282 (412)\ttotal: 5.89s\tremaining: 8.37s\n",
            "413:\tlearn: 1.6935328\ttest: 1.7023013\tbest: 1.7023013 (413)\ttotal: 5.9s\tremaining: 8.35s\n",
            "414:\tlearn: 1.6933477\ttest: 1.7021960\tbest: 1.7021960 (414)\ttotal: 5.91s\tremaining: 8.33s\n",
            "415:\tlearn: 1.6932573\ttest: 1.7020785\tbest: 1.7020785 (415)\ttotal: 5.92s\tremaining: 8.31s\n",
            "416:\tlearn: 1.6930189\ttest: 1.7019150\tbest: 1.7019150 (416)\ttotal: 5.93s\tremaining: 8.29s\n",
            "417:\tlearn: 1.6928766\ttest: 1.7018803\tbest: 1.7018803 (417)\ttotal: 5.93s\tremaining: 8.26s\n",
            "418:\tlearn: 1.6927677\ttest: 1.7018453\tbest: 1.7018453 (418)\ttotal: 5.94s\tremaining: 8.24s\n",
            "419:\tlearn: 1.6925365\ttest: 1.7018350\tbest: 1.7018350 (419)\ttotal: 5.95s\tremaining: 8.22s\n",
            "420:\tlearn: 1.6923321\ttest: 1.7018030\tbest: 1.7018030 (420)\ttotal: 5.96s\tremaining: 8.2s\n",
            "421:\tlearn: 1.6923098\ttest: 1.7018010\tbest: 1.7018010 (421)\ttotal: 5.97s\tremaining: 8.18s\n",
            "422:\tlearn: 1.6920608\ttest: 1.7016901\tbest: 1.7016901 (422)\ttotal: 5.98s\tremaining: 8.16s\n",
            "423:\tlearn: 1.6918890\ttest: 1.7017136\tbest: 1.7016901 (422)\ttotal: 5.99s\tremaining: 8.14s\n",
            "424:\tlearn: 1.6918107\ttest: 1.7016476\tbest: 1.7016476 (424)\ttotal: 6s\tremaining: 8.12s\n",
            "425:\tlearn: 1.6915785\ttest: 1.7015179\tbest: 1.7015179 (425)\ttotal: 6.01s\tremaining: 8.1s\n",
            "426:\tlearn: 1.6913199\ttest: 1.7015852\tbest: 1.7015179 (425)\ttotal: 6.03s\tremaining: 8.09s\n",
            "427:\tlearn: 1.6909760\ttest: 1.7013618\tbest: 1.7013618 (427)\ttotal: 6.04s\tremaining: 8.06s\n",
            "428:\tlearn: 1.6908351\ttest: 1.7012628\tbest: 1.7012628 (428)\ttotal: 6.04s\tremaining: 8.04s\n",
            "429:\tlearn: 1.6907574\ttest: 1.7013034\tbest: 1.7012628 (428)\ttotal: 6.05s\tremaining: 8.03s\n",
            "430:\tlearn: 1.6905837\ttest: 1.7012408\tbest: 1.7012408 (430)\ttotal: 6.07s\tremaining: 8.01s\n",
            "431:\tlearn: 1.6904163\ttest: 1.7010987\tbest: 1.7010987 (431)\ttotal: 6.07s\tremaining: 7.99s\n",
            "432:\tlearn: 1.6901745\ttest: 1.7010619\tbest: 1.7010619 (432)\ttotal: 6.08s\tremaining: 7.97s\n",
            "433:\tlearn: 1.6900108\ttest: 1.7009798\tbest: 1.7009798 (433)\ttotal: 6.09s\tremaining: 7.95s\n",
            "434:\tlearn: 1.6898772\ttest: 1.7010486\tbest: 1.7009798 (433)\ttotal: 6.1s\tremaining: 7.92s\n",
            "435:\tlearn: 1.6897098\ttest: 1.7009464\tbest: 1.7009464 (435)\ttotal: 6.11s\tremaining: 7.9s\n",
            "436:\tlearn: 1.6896242\ttest: 1.7008248\tbest: 1.7008248 (436)\ttotal: 6.12s\tremaining: 7.88s\n",
            "437:\tlearn: 1.6895344\ttest: 1.7007626\tbest: 1.7007626 (437)\ttotal: 6.13s\tremaining: 7.86s\n",
            "438:\tlearn: 1.6893154\ttest: 1.7007310\tbest: 1.7007310 (438)\ttotal: 6.14s\tremaining: 7.84s\n",
            "439:\tlearn: 1.6891187\ttest: 1.7006994\tbest: 1.7006994 (439)\ttotal: 6.15s\tremaining: 7.82s\n",
            "440:\tlearn: 1.6890626\ttest: 1.7006842\tbest: 1.7006842 (440)\ttotal: 6.16s\tremaining: 7.8s\n",
            "441:\tlearn: 1.6890256\ttest: 1.7006619\tbest: 1.7006619 (441)\ttotal: 6.16s\tremaining: 7.78s\n",
            "442:\tlearn: 1.6888880\ttest: 1.7005508\tbest: 1.7005508 (442)\ttotal: 6.17s\tremaining: 7.76s\n",
            "443:\tlearn: 1.6886523\ttest: 1.7006156\tbest: 1.7005508 (442)\ttotal: 6.18s\tremaining: 7.74s\n",
            "444:\tlearn: 1.6885299\ttest: 1.7006257\tbest: 1.7005508 (442)\ttotal: 6.2s\tremaining: 7.73s\n",
            "445:\tlearn: 1.6883259\ttest: 1.7003590\tbest: 1.7003590 (445)\ttotal: 6.2s\tremaining: 7.71s\n",
            "446:\tlearn: 1.6882408\ttest: 1.7002922\tbest: 1.7002922 (446)\ttotal: 6.21s\tremaining: 7.69s\n",
            "447:\tlearn: 1.6881210\ttest: 1.7002930\tbest: 1.7002922 (446)\ttotal: 6.22s\tremaining: 7.67s\n",
            "448:\tlearn: 1.6880966\ttest: 1.7002960\tbest: 1.7002922 (446)\ttotal: 6.23s\tremaining: 7.64s\n",
            "449:\tlearn: 1.6879049\ttest: 1.7002500\tbest: 1.7002500 (449)\ttotal: 6.24s\tremaining: 7.63s\n",
            "450:\tlearn: 1.6877808\ttest: 1.7002013\tbest: 1.7002013 (450)\ttotal: 6.25s\tremaining: 7.61s\n",
            "451:\tlearn: 1.6876489\ttest: 1.7000984\tbest: 1.7000984 (451)\ttotal: 6.27s\tremaining: 7.6s\n",
            "452:\tlearn: 1.6874712\ttest: 1.7000919\tbest: 1.7000919 (452)\ttotal: 6.28s\tremaining: 7.58s\n",
            "453:\tlearn: 1.6873400\ttest: 1.7000406\tbest: 1.7000406 (453)\ttotal: 6.29s\tremaining: 7.57s\n",
            "454:\tlearn: 1.6870393\ttest: 1.6998673\tbest: 1.6998673 (454)\ttotal: 6.3s\tremaining: 7.55s\n",
            "455:\tlearn: 1.6867266\ttest: 1.6996919\tbest: 1.6996919 (455)\ttotal: 6.31s\tremaining: 7.53s\n",
            "456:\tlearn: 1.6867013\ttest: 1.6996944\tbest: 1.6996919 (455)\ttotal: 6.32s\tremaining: 7.51s\n",
            "457:\tlearn: 1.6866347\ttest: 1.6996470\tbest: 1.6996470 (457)\ttotal: 6.33s\tremaining: 7.49s\n",
            "458:\tlearn: 1.6865941\ttest: 1.6996290\tbest: 1.6996290 (458)\ttotal: 6.34s\tremaining: 7.47s\n",
            "459:\tlearn: 1.6863319\ttest: 1.6993264\tbest: 1.6993264 (459)\ttotal: 6.34s\tremaining: 7.45s\n",
            "460:\tlearn: 1.6861721\ttest: 1.6992900\tbest: 1.6992900 (460)\ttotal: 6.35s\tremaining: 7.43s\n",
            "461:\tlearn: 1.6860283\ttest: 1.6992292\tbest: 1.6992292 (461)\ttotal: 6.36s\tremaining: 7.41s\n",
            "462:\tlearn: 1.6858538\ttest: 1.6991081\tbest: 1.6991081 (462)\ttotal: 6.37s\tremaining: 7.39s\n",
            "463:\tlearn: 1.6858298\ttest: 1.6991058\tbest: 1.6991058 (463)\ttotal: 6.38s\tremaining: 7.37s\n",
            "464:\tlearn: 1.6857912\ttest: 1.6991080\tbest: 1.6991058 (463)\ttotal: 6.39s\tremaining: 7.35s\n",
            "465:\tlearn: 1.6855743\ttest: 1.6990114\tbest: 1.6990114 (465)\ttotal: 6.4s\tremaining: 7.34s\n",
            "466:\tlearn: 1.6854202\ttest: 1.6991149\tbest: 1.6990114 (465)\ttotal: 6.41s\tremaining: 7.32s\n",
            "467:\tlearn: 1.6852780\ttest: 1.6990785\tbest: 1.6990114 (465)\ttotal: 6.42s\tremaining: 7.3s\n",
            "468:\tlearn: 1.6849970\ttest: 1.6989929\tbest: 1.6989929 (468)\ttotal: 6.43s\tremaining: 7.28s\n",
            "469:\tlearn: 1.6848003\ttest: 1.6987874\tbest: 1.6987874 (469)\ttotal: 6.44s\tremaining: 7.26s\n",
            "470:\tlearn: 1.6847714\ttest: 1.6987554\tbest: 1.6987554 (470)\ttotal: 6.45s\tremaining: 7.24s\n",
            "471:\tlearn: 1.6847542\ttest: 1.6987577\tbest: 1.6987554 (470)\ttotal: 6.46s\tremaining: 7.22s\n",
            "472:\tlearn: 1.6847245\ttest: 1.6987352\tbest: 1.6987352 (472)\ttotal: 6.46s\tremaining: 7.2s\n",
            "473:\tlearn: 1.6845472\ttest: 1.6986671\tbest: 1.6986671 (473)\ttotal: 6.47s\tremaining: 7.18s\n",
            "474:\tlearn: 1.6844274\ttest: 1.6986043\tbest: 1.6986043 (474)\ttotal: 6.48s\tremaining: 7.17s\n",
            "475:\tlearn: 1.6843169\ttest: 1.6985466\tbest: 1.6985466 (475)\ttotal: 6.49s\tremaining: 7.15s\n",
            "476:\tlearn: 1.6840719\ttest: 1.6985485\tbest: 1.6985466 (475)\ttotal: 6.5s\tremaining: 7.13s\n",
            "477:\tlearn: 1.6840424\ttest: 1.6985091\tbest: 1.6985091 (477)\ttotal: 6.51s\tremaining: 7.11s\n",
            "478:\tlearn: 1.6839068\ttest: 1.6983075\tbest: 1.6983075 (478)\ttotal: 6.52s\tremaining: 7.09s\n",
            "479:\tlearn: 1.6837105\ttest: 1.6981404\tbest: 1.6981404 (479)\ttotal: 6.53s\tremaining: 7.08s\n",
            "480:\tlearn: 1.6835611\ttest: 1.6981432\tbest: 1.6981404 (479)\ttotal: 6.54s\tremaining: 7.06s\n",
            "481:\tlearn: 1.6835215\ttest: 1.6981396\tbest: 1.6981396 (481)\ttotal: 6.55s\tremaining: 7.04s\n",
            "482:\tlearn: 1.6834550\ttest: 1.6980845\tbest: 1.6980845 (482)\ttotal: 6.56s\tremaining: 7.02s\n",
            "483:\tlearn: 1.6834147\ttest: 1.6980685\tbest: 1.6980685 (483)\ttotal: 6.57s\tremaining: 7s\n",
            "484:\tlearn: 1.6832810\ttest: 1.6979873\tbest: 1.6979873 (484)\ttotal: 6.58s\tremaining: 6.98s\n",
            "485:\tlearn: 1.6830927\ttest: 1.6978704\tbest: 1.6978704 (485)\ttotal: 6.58s\tremaining: 6.96s\n",
            "486:\tlearn: 1.6830366\ttest: 1.6978660\tbest: 1.6978660 (486)\ttotal: 6.59s\tremaining: 6.95s\n",
            "487:\tlearn: 1.6828090\ttest: 1.6978728\tbest: 1.6978660 (486)\ttotal: 6.61s\tremaining: 6.93s\n",
            "488:\tlearn: 1.6826796\ttest: 1.6977254\tbest: 1.6977254 (488)\ttotal: 6.62s\tremaining: 6.91s\n",
            "489:\tlearn: 1.6824857\ttest: 1.6975525\tbest: 1.6975525 (489)\ttotal: 6.63s\tremaining: 6.89s\n",
            "490:\tlearn: 1.6824514\ttest: 1.6975130\tbest: 1.6975130 (490)\ttotal: 6.63s\tremaining: 6.88s\n",
            "491:\tlearn: 1.6822898\ttest: 1.6973747\tbest: 1.6973747 (491)\ttotal: 6.64s\tremaining: 6.86s\n",
            "492:\tlearn: 1.6822081\ttest: 1.6973355\tbest: 1.6973355 (492)\ttotal: 6.65s\tremaining: 6.84s\n",
            "493:\tlearn: 1.6821082\ttest: 1.6972662\tbest: 1.6972662 (493)\ttotal: 6.66s\tremaining: 6.82s\n",
            "494:\tlearn: 1.6818888\ttest: 1.6970870\tbest: 1.6970870 (494)\ttotal: 6.67s\tremaining: 6.8s\n",
            "495:\tlearn: 1.6816865\ttest: 1.6969542\tbest: 1.6969542 (495)\ttotal: 6.67s\tremaining: 6.78s\n",
            "496:\tlearn: 1.6816135\ttest: 1.6968865\tbest: 1.6968865 (496)\ttotal: 6.68s\tremaining: 6.76s\n",
            "497:\tlearn: 1.6814782\ttest: 1.6968153\tbest: 1.6968153 (497)\ttotal: 6.69s\tremaining: 6.75s\n",
            "498:\tlearn: 1.6813934\ttest: 1.6968253\tbest: 1.6968153 (497)\ttotal: 6.7s\tremaining: 6.73s\n",
            "499:\tlearn: 1.6811102\ttest: 1.6964598\tbest: 1.6964598 (499)\ttotal: 6.71s\tremaining: 6.71s\n",
            "500:\tlearn: 1.6810163\ttest: 1.6964404\tbest: 1.6964404 (500)\ttotal: 6.72s\tremaining: 6.69s\n",
            "501:\tlearn: 1.6809780\ttest: 1.6964626\tbest: 1.6964404 (500)\ttotal: 6.73s\tremaining: 6.67s\n",
            "502:\tlearn: 1.6808254\ttest: 1.6964805\tbest: 1.6964404 (500)\ttotal: 6.74s\tremaining: 6.66s\n",
            "503:\tlearn: 1.6807071\ttest: 1.6964973\tbest: 1.6964404 (500)\ttotal: 6.75s\tremaining: 6.64s\n",
            "504:\tlearn: 1.6804519\ttest: 1.6963925\tbest: 1.6963925 (504)\ttotal: 6.76s\tremaining: 6.62s\n",
            "505:\tlearn: 1.6803527\ttest: 1.6963641\tbest: 1.6963641 (505)\ttotal: 6.77s\tremaining: 6.61s\n",
            "506:\tlearn: 1.6801528\ttest: 1.6963140\tbest: 1.6963140 (506)\ttotal: 6.78s\tremaining: 6.59s\n",
            "507:\tlearn: 1.6800697\ttest: 1.6962542\tbest: 1.6962542 (507)\ttotal: 6.78s\tremaining: 6.57s\n",
            "508:\tlearn: 1.6800450\ttest: 1.6962491\tbest: 1.6962491 (508)\ttotal: 6.79s\tremaining: 6.55s\n",
            "509:\tlearn: 1.6799896\ttest: 1.6962286\tbest: 1.6962286 (509)\ttotal: 6.81s\tremaining: 6.54s\n",
            "510:\tlearn: 1.6798725\ttest: 1.6962559\tbest: 1.6962286 (509)\ttotal: 6.82s\tremaining: 6.52s\n",
            "511:\tlearn: 1.6798197\ttest: 1.6962503\tbest: 1.6962286 (509)\ttotal: 6.83s\tremaining: 6.51s\n",
            "512:\tlearn: 1.6797740\ttest: 1.6962501\tbest: 1.6962286 (509)\ttotal: 6.83s\tremaining: 6.49s\n",
            "513:\tlearn: 1.6796385\ttest: 1.6962600\tbest: 1.6962286 (509)\ttotal: 6.85s\tremaining: 6.47s\n",
            "514:\tlearn: 1.6794124\ttest: 1.6961112\tbest: 1.6961112 (514)\ttotal: 6.86s\tremaining: 6.46s\n",
            "515:\tlearn: 1.6793417\ttest: 1.6960700\tbest: 1.6960700 (515)\ttotal: 6.89s\tremaining: 6.46s\n",
            "516:\tlearn: 1.6792343\ttest: 1.6960670\tbest: 1.6960670 (516)\ttotal: 6.93s\tremaining: 6.47s\n",
            "517:\tlearn: 1.6790998\ttest: 1.6960019\tbest: 1.6960019 (517)\ttotal: 6.97s\tremaining: 6.48s\n",
            "518:\tlearn: 1.6789974\ttest: 1.6959440\tbest: 1.6959440 (518)\ttotal: 6.99s\tremaining: 6.48s\n",
            "519:\tlearn: 1.6788115\ttest: 1.6957635\tbest: 1.6957635 (519)\ttotal: 7.02s\tremaining: 6.48s\n",
            "520:\tlearn: 1.6786952\ttest: 1.6957476\tbest: 1.6957476 (520)\ttotal: 7.04s\tremaining: 6.47s\n",
            "521:\tlearn: 1.6785288\ttest: 1.6957299\tbest: 1.6957299 (521)\ttotal: 7.05s\tremaining: 6.46s\n",
            "522:\tlearn: 1.6783298\ttest: 1.6955830\tbest: 1.6955830 (522)\ttotal: 7.06s\tremaining: 6.44s\n",
            "523:\tlearn: 1.6782418\ttest: 1.6955352\tbest: 1.6955352 (523)\ttotal: 7.07s\tremaining: 6.42s\n",
            "524:\tlearn: 1.6780776\ttest: 1.6954730\tbest: 1.6954730 (524)\ttotal: 7.08s\tremaining: 6.4s\n",
            "525:\tlearn: 1.6779954\ttest: 1.6954638\tbest: 1.6954638 (525)\ttotal: 7.1s\tremaining: 6.39s\n",
            "526:\tlearn: 1.6779622\ttest: 1.6954657\tbest: 1.6954638 (525)\ttotal: 7.12s\tremaining: 6.39s\n",
            "527:\tlearn: 1.6778823\ttest: 1.6954805\tbest: 1.6954638 (525)\ttotal: 7.13s\tremaining: 6.37s\n",
            "528:\tlearn: 1.6777280\ttest: 1.6954564\tbest: 1.6954564 (528)\ttotal: 7.14s\tremaining: 6.35s\n",
            "529:\tlearn: 1.6776658\ttest: 1.6953996\tbest: 1.6953996 (529)\ttotal: 7.15s\tremaining: 6.34s\n",
            "530:\tlearn: 1.6775353\ttest: 1.6953722\tbest: 1.6953722 (530)\ttotal: 7.16s\tremaining: 6.32s\n",
            "531:\tlearn: 1.6774151\ttest: 1.6953785\tbest: 1.6953722 (530)\ttotal: 7.17s\tremaining: 6.3s\n",
            "532:\tlearn: 1.6773872\ttest: 1.6953712\tbest: 1.6953712 (532)\ttotal: 7.18s\tremaining: 6.29s\n",
            "533:\tlearn: 1.6772827\ttest: 1.6954205\tbest: 1.6953712 (532)\ttotal: 7.19s\tremaining: 6.27s\n",
            "534:\tlearn: 1.6772615\ttest: 1.6954231\tbest: 1.6953712 (532)\ttotal: 7.2s\tremaining: 6.25s\n",
            "535:\tlearn: 1.6769858\ttest: 1.6953953\tbest: 1.6953712 (532)\ttotal: 7.2s\tremaining: 6.24s\n",
            "536:\tlearn: 1.6769594\ttest: 1.6953988\tbest: 1.6953712 (532)\ttotal: 7.23s\tremaining: 6.23s\n",
            "537:\tlearn: 1.6768686\ttest: 1.6953631\tbest: 1.6953631 (537)\ttotal: 7.25s\tremaining: 6.22s\n",
            "538:\tlearn: 1.6766812\ttest: 1.6953889\tbest: 1.6953631 (537)\ttotal: 7.25s\tremaining: 6.21s\n",
            "539:\tlearn: 1.6764918\ttest: 1.6953454\tbest: 1.6953454 (539)\ttotal: 7.26s\tremaining: 6.19s\n",
            "540:\tlearn: 1.6763992\ttest: 1.6952723\tbest: 1.6952723 (540)\ttotal: 7.27s\tremaining: 6.17s\n",
            "541:\tlearn: 1.6762285\ttest: 1.6952253\tbest: 1.6952253 (541)\ttotal: 7.28s\tremaining: 6.15s\n",
            "542:\tlearn: 1.6761439\ttest: 1.6952042\tbest: 1.6952042 (542)\ttotal: 7.29s\tremaining: 6.14s\n",
            "543:\tlearn: 1.6761204\ttest: 1.6952095\tbest: 1.6952042 (542)\ttotal: 7.3s\tremaining: 6.12s\n",
            "544:\tlearn: 1.6760992\ttest: 1.6951900\tbest: 1.6951900 (544)\ttotal: 7.31s\tremaining: 6.1s\n",
            "545:\tlearn: 1.6759000\ttest: 1.6951083\tbest: 1.6951083 (545)\ttotal: 7.32s\tremaining: 6.08s\n",
            "546:\tlearn: 1.6757120\ttest: 1.6950270\tbest: 1.6950270 (546)\ttotal: 7.33s\tremaining: 6.07s\n",
            "547:\tlearn: 1.6756273\ttest: 1.6950348\tbest: 1.6950270 (546)\ttotal: 7.33s\tremaining: 6.05s\n",
            "548:\tlearn: 1.6754453\ttest: 1.6950520\tbest: 1.6950270 (546)\ttotal: 7.34s\tremaining: 6.03s\n",
            "549:\tlearn: 1.6752319\ttest: 1.6949985\tbest: 1.6949985 (549)\ttotal: 7.35s\tremaining: 6.02s\n",
            "550:\tlearn: 1.6751978\ttest: 1.6950166\tbest: 1.6949985 (549)\ttotal: 7.36s\tremaining: 6s\n",
            "551:\tlearn: 1.6750078\ttest: 1.6949987\tbest: 1.6949985 (549)\ttotal: 7.37s\tremaining: 5.98s\n",
            "552:\tlearn: 1.6748160\ttest: 1.6950108\tbest: 1.6949985 (549)\ttotal: 7.38s\tremaining: 5.96s\n",
            "553:\tlearn: 1.6747066\ttest: 1.6948866\tbest: 1.6948866 (553)\ttotal: 7.39s\tremaining: 5.95s\n",
            "554:\tlearn: 1.6746585\ttest: 1.6948985\tbest: 1.6948866 (553)\ttotal: 7.4s\tremaining: 5.93s\n",
            "555:\tlearn: 1.6745587\ttest: 1.6948648\tbest: 1.6948648 (555)\ttotal: 7.41s\tremaining: 5.91s\n",
            "556:\tlearn: 1.6744988\ttest: 1.6948513\tbest: 1.6948513 (556)\ttotal: 7.42s\tremaining: 5.9s\n",
            "557:\tlearn: 1.6744594\ttest: 1.6948329\tbest: 1.6948329 (557)\ttotal: 7.43s\tremaining: 5.88s\n",
            "558:\tlearn: 1.6743744\ttest: 1.6947910\tbest: 1.6947910 (558)\ttotal: 7.44s\tremaining: 5.87s\n",
            "559:\tlearn: 1.6742355\ttest: 1.6947728\tbest: 1.6947728 (559)\ttotal: 7.45s\tremaining: 5.86s\n",
            "560:\tlearn: 1.6741736\ttest: 1.6947450\tbest: 1.6947450 (560)\ttotal: 7.46s\tremaining: 5.84s\n",
            "561:\tlearn: 1.6740738\ttest: 1.6947266\tbest: 1.6947266 (561)\ttotal: 7.47s\tremaining: 5.82s\n",
            "562:\tlearn: 1.6740432\ttest: 1.6947241\tbest: 1.6947241 (562)\ttotal: 7.48s\tremaining: 5.8s\n",
            "563:\tlearn: 1.6739861\ttest: 1.6947054\tbest: 1.6947054 (563)\ttotal: 7.49s\tremaining: 5.79s\n",
            "564:\tlearn: 1.6739294\ttest: 1.6947411\tbest: 1.6947054 (563)\ttotal: 7.5s\tremaining: 5.77s\n",
            "565:\tlearn: 1.6739139\ttest: 1.6947439\tbest: 1.6947054 (563)\ttotal: 7.5s\tremaining: 5.75s\n",
            "566:\tlearn: 1.6738555\ttest: 1.6947385\tbest: 1.6947054 (563)\ttotal: 7.51s\tremaining: 5.74s\n",
            "567:\tlearn: 1.6737821\ttest: 1.6947137\tbest: 1.6947054 (563)\ttotal: 7.52s\tremaining: 5.72s\n",
            "568:\tlearn: 1.6736581\ttest: 1.6947482\tbest: 1.6947054 (563)\ttotal: 7.53s\tremaining: 5.71s\n",
            "569:\tlearn: 1.6735689\ttest: 1.6948038\tbest: 1.6947054 (563)\ttotal: 7.54s\tremaining: 5.69s\n",
            "570:\tlearn: 1.6735192\ttest: 1.6948414\tbest: 1.6947054 (563)\ttotal: 7.55s\tremaining: 5.67s\n",
            "571:\tlearn: 1.6734497\ttest: 1.6947445\tbest: 1.6947054 (563)\ttotal: 7.56s\tremaining: 5.66s\n",
            "572:\tlearn: 1.6733274\ttest: 1.6947103\tbest: 1.6947054 (563)\ttotal: 7.57s\tremaining: 5.64s\n",
            "573:\tlearn: 1.6732292\ttest: 1.6947233\tbest: 1.6947054 (563)\ttotal: 7.58s\tremaining: 5.62s\n",
            "574:\tlearn: 1.6730504\ttest: 1.6945326\tbest: 1.6945326 (574)\ttotal: 7.58s\tremaining: 5.61s\n",
            "575:\tlearn: 1.6729673\ttest: 1.6945455\tbest: 1.6945326 (574)\ttotal: 7.59s\tremaining: 5.59s\n",
            "576:\tlearn: 1.6728792\ttest: 1.6945233\tbest: 1.6945233 (576)\ttotal: 7.6s\tremaining: 5.57s\n",
            "577:\tlearn: 1.6727327\ttest: 1.6945428\tbest: 1.6945233 (576)\ttotal: 7.61s\tremaining: 5.56s\n",
            "578:\tlearn: 1.6726843\ttest: 1.6945001\tbest: 1.6945001 (578)\ttotal: 7.62s\tremaining: 5.54s\n",
            "579:\tlearn: 1.6725428\ttest: 1.6944645\tbest: 1.6944645 (579)\ttotal: 7.63s\tremaining: 5.53s\n",
            "580:\tlearn: 1.6723958\ttest: 1.6944558\tbest: 1.6944558 (580)\ttotal: 7.64s\tremaining: 5.51s\n",
            "581:\tlearn: 1.6722774\ttest: 1.6944494\tbest: 1.6944494 (581)\ttotal: 7.65s\tremaining: 5.5s\n",
            "582:\tlearn: 1.6720717\ttest: 1.6942985\tbest: 1.6942985 (582)\ttotal: 7.66s\tremaining: 5.48s\n",
            "583:\tlearn: 1.6719945\ttest: 1.6942769\tbest: 1.6942769 (583)\ttotal: 7.67s\tremaining: 5.46s\n",
            "584:\tlearn: 1.6719046\ttest: 1.6942738\tbest: 1.6942738 (584)\ttotal: 7.68s\tremaining: 5.45s\n",
            "585:\tlearn: 1.6717791\ttest: 1.6943243\tbest: 1.6942738 (584)\ttotal: 7.69s\tremaining: 5.43s\n",
            "586:\tlearn: 1.6717589\ttest: 1.6943108\tbest: 1.6942738 (584)\ttotal: 7.7s\tremaining: 5.42s\n",
            "587:\tlearn: 1.6716824\ttest: 1.6943054\tbest: 1.6942738 (584)\ttotal: 7.71s\tremaining: 5.4s\n",
            "588:\tlearn: 1.6715346\ttest: 1.6942555\tbest: 1.6942555 (588)\ttotal: 7.72s\tremaining: 5.39s\n",
            "589:\tlearn: 1.6714278\ttest: 1.6941930\tbest: 1.6941930 (589)\ttotal: 7.73s\tremaining: 5.37s\n",
            "590:\tlearn: 1.6713276\ttest: 1.6941050\tbest: 1.6941050 (590)\ttotal: 7.74s\tremaining: 5.35s\n",
            "591:\tlearn: 1.6711317\ttest: 1.6939937\tbest: 1.6939937 (591)\ttotal: 7.75s\tremaining: 5.34s\n",
            "592:\tlearn: 1.6710195\ttest: 1.6939854\tbest: 1.6939854 (592)\ttotal: 7.75s\tremaining: 5.32s\n",
            "593:\tlearn: 1.6708442\ttest: 1.6938051\tbest: 1.6938051 (593)\ttotal: 7.76s\tremaining: 5.31s\n",
            "594:\tlearn: 1.6707394\ttest: 1.6937597\tbest: 1.6937597 (594)\ttotal: 7.77s\tremaining: 5.29s\n",
            "595:\tlearn: 1.6705597\ttest: 1.6937268\tbest: 1.6937268 (595)\ttotal: 7.78s\tremaining: 5.28s\n",
            "596:\tlearn: 1.6704989\ttest: 1.6936700\tbest: 1.6936700 (596)\ttotal: 7.79s\tremaining: 5.26s\n",
            "597:\tlearn: 1.6703692\ttest: 1.6936154\tbest: 1.6936154 (597)\ttotal: 7.8s\tremaining: 5.24s\n",
            "598:\tlearn: 1.6703181\ttest: 1.6935826\tbest: 1.6935826 (598)\ttotal: 7.81s\tremaining: 5.23s\n",
            "599:\tlearn: 1.6702029\ttest: 1.6934853\tbest: 1.6934853 (599)\ttotal: 7.82s\tremaining: 5.21s\n",
            "600:\tlearn: 1.6701238\ttest: 1.6934814\tbest: 1.6934814 (600)\ttotal: 7.83s\tremaining: 5.2s\n",
            "601:\tlearn: 1.6699723\ttest: 1.6934216\tbest: 1.6934216 (601)\ttotal: 7.84s\tremaining: 5.18s\n",
            "602:\tlearn: 1.6698269\ttest: 1.6933406\tbest: 1.6933406 (602)\ttotal: 7.85s\tremaining: 5.17s\n",
            "603:\tlearn: 1.6697762\ttest: 1.6933323\tbest: 1.6933323 (603)\ttotal: 7.86s\tremaining: 5.15s\n",
            "604:\tlearn: 1.6697180\ttest: 1.6933070\tbest: 1.6933070 (604)\ttotal: 7.87s\tremaining: 5.14s\n",
            "605:\tlearn: 1.6696622\ttest: 1.6932884\tbest: 1.6932884 (605)\ttotal: 7.88s\tremaining: 5.12s\n",
            "606:\tlearn: 1.6695107\ttest: 1.6933076\tbest: 1.6932884 (605)\ttotal: 7.88s\tremaining: 5.11s\n",
            "607:\tlearn: 1.6694791\ttest: 1.6933073\tbest: 1.6932884 (605)\ttotal: 7.89s\tremaining: 5.09s\n",
            "608:\tlearn: 1.6694314\ttest: 1.6932576\tbest: 1.6932576 (608)\ttotal: 7.9s\tremaining: 5.07s\n",
            "609:\tlearn: 1.6693651\ttest: 1.6932221\tbest: 1.6932221 (609)\ttotal: 7.91s\tremaining: 5.06s\n",
            "610:\tlearn: 1.6692991\ttest: 1.6932129\tbest: 1.6932129 (610)\ttotal: 7.92s\tremaining: 5.04s\n",
            "611:\tlearn: 1.6691420\ttest: 1.6931837\tbest: 1.6931837 (611)\ttotal: 7.93s\tremaining: 5.03s\n",
            "612:\tlearn: 1.6690672\ttest: 1.6932177\tbest: 1.6931837 (611)\ttotal: 7.94s\tremaining: 5.01s\n",
            "613:\tlearn: 1.6688626\ttest: 1.6931845\tbest: 1.6931837 (611)\ttotal: 7.95s\tremaining: 5s\n",
            "614:\tlearn: 1.6687287\ttest: 1.6932339\tbest: 1.6931837 (611)\ttotal: 7.96s\tremaining: 4.98s\n",
            "615:\tlearn: 1.6686863\ttest: 1.6932235\tbest: 1.6931837 (611)\ttotal: 7.97s\tremaining: 4.97s\n",
            "616:\tlearn: 1.6684295\ttest: 1.6929586\tbest: 1.6929586 (616)\ttotal: 7.98s\tremaining: 4.95s\n",
            "617:\tlearn: 1.6682063\ttest: 1.6927827\tbest: 1.6927827 (617)\ttotal: 7.99s\tremaining: 4.94s\n",
            "618:\tlearn: 1.6680139\ttest: 1.6927207\tbest: 1.6927207 (618)\ttotal: 8s\tremaining: 4.92s\n",
            "619:\tlearn: 1.6679436\ttest: 1.6927572\tbest: 1.6927207 (618)\ttotal: 8.01s\tremaining: 4.91s\n",
            "620:\tlearn: 1.6679349\ttest: 1.6927581\tbest: 1.6927207 (618)\ttotal: 8.02s\tremaining: 4.89s\n",
            "621:\tlearn: 1.6679143\ttest: 1.6927697\tbest: 1.6927207 (618)\ttotal: 8.03s\tremaining: 4.88s\n",
            "622:\tlearn: 1.6678730\ttest: 1.6927551\tbest: 1.6927207 (618)\ttotal: 8.04s\tremaining: 4.87s\n",
            "623:\tlearn: 1.6677560\ttest: 1.6927083\tbest: 1.6927083 (623)\ttotal: 8.05s\tremaining: 4.85s\n",
            "624:\tlearn: 1.6676536\ttest: 1.6927571\tbest: 1.6927083 (623)\ttotal: 8.06s\tremaining: 4.84s\n",
            "625:\tlearn: 1.6676457\ttest: 1.6927518\tbest: 1.6927083 (623)\ttotal: 8.07s\tremaining: 4.82s\n",
            "626:\tlearn: 1.6674662\ttest: 1.6926554\tbest: 1.6926554 (626)\ttotal: 8.08s\tremaining: 4.8s\n",
            "627:\tlearn: 1.6673744\ttest: 1.6926146\tbest: 1.6926146 (627)\ttotal: 8.09s\tremaining: 4.79s\n",
            "628:\tlearn: 1.6672491\ttest: 1.6925696\tbest: 1.6925696 (628)\ttotal: 8.1s\tremaining: 4.78s\n",
            "629:\tlearn: 1.6672295\ttest: 1.6925693\tbest: 1.6925693 (629)\ttotal: 8.1s\tremaining: 4.76s\n",
            "630:\tlearn: 1.6670718\ttest: 1.6925553\tbest: 1.6925553 (630)\ttotal: 8.11s\tremaining: 4.74s\n",
            "631:\tlearn: 1.6668132\ttest: 1.6922581\tbest: 1.6922581 (631)\ttotal: 8.12s\tremaining: 4.73s\n",
            "632:\tlearn: 1.6667575\ttest: 1.6922387\tbest: 1.6922387 (632)\ttotal: 8.13s\tremaining: 4.71s\n",
            "633:\tlearn: 1.6665058\ttest: 1.6920508\tbest: 1.6920508 (633)\ttotal: 8.14s\tremaining: 4.7s\n",
            "634:\tlearn: 1.6664270\ttest: 1.6920567\tbest: 1.6920508 (633)\ttotal: 8.15s\tremaining: 4.68s\n",
            "635:\tlearn: 1.6664016\ttest: 1.6920514\tbest: 1.6920508 (633)\ttotal: 8.16s\tremaining: 4.67s\n",
            "636:\tlearn: 1.6663006\ttest: 1.6920500\tbest: 1.6920500 (636)\ttotal: 8.17s\tremaining: 4.65s\n",
            "637:\tlearn: 1.6661299\ttest: 1.6919834\tbest: 1.6919834 (637)\ttotal: 8.18s\tremaining: 4.64s\n",
            "638:\tlearn: 1.6660991\ttest: 1.6919545\tbest: 1.6919545 (638)\ttotal: 8.19s\tremaining: 4.63s\n",
            "639:\tlearn: 1.6660076\ttest: 1.6919450\tbest: 1.6919450 (639)\ttotal: 8.2s\tremaining: 4.61s\n",
            "640:\tlearn: 1.6659810\ttest: 1.6919519\tbest: 1.6919450 (639)\ttotal: 8.21s\tremaining: 4.6s\n",
            "641:\tlearn: 1.6659583\ttest: 1.6919318\tbest: 1.6919318 (641)\ttotal: 8.24s\tremaining: 4.59s\n",
            "642:\tlearn: 1.6658958\ttest: 1.6918301\tbest: 1.6918301 (642)\ttotal: 8.25s\tremaining: 4.58s\n",
            "643:\tlearn: 1.6657990\ttest: 1.6918188\tbest: 1.6918188 (643)\ttotal: 8.26s\tremaining: 4.56s\n",
            "644:\tlearn: 1.6657162\ttest: 1.6917993\tbest: 1.6917993 (644)\ttotal: 8.27s\tremaining: 4.55s\n",
            "645:\tlearn: 1.6655214\ttest: 1.6916382\tbest: 1.6916382 (645)\ttotal: 8.28s\tremaining: 4.53s\n",
            "646:\tlearn: 1.6654539\ttest: 1.6915444\tbest: 1.6915444 (646)\ttotal: 8.28s\tremaining: 4.52s\n",
            "647:\tlearn: 1.6653471\ttest: 1.6914489\tbest: 1.6914489 (647)\ttotal: 8.29s\tremaining: 4.5s\n",
            "648:\tlearn: 1.6652912\ttest: 1.6914728\tbest: 1.6914489 (647)\ttotal: 8.3s\tremaining: 4.49s\n",
            "649:\tlearn: 1.6652044\ttest: 1.6914629\tbest: 1.6914489 (647)\ttotal: 8.31s\tremaining: 4.47s\n",
            "650:\tlearn: 1.6651097\ttest: 1.6914431\tbest: 1.6914431 (650)\ttotal: 8.32s\tremaining: 4.46s\n",
            "651:\tlearn: 1.6649386\ttest: 1.6913406\tbest: 1.6913406 (651)\ttotal: 8.33s\tremaining: 4.45s\n",
            "652:\tlearn: 1.6648064\ttest: 1.6913582\tbest: 1.6913406 (651)\ttotal: 8.34s\tremaining: 4.43s\n",
            "653:\tlearn: 1.6645653\ttest: 1.6912418\tbest: 1.6912418 (653)\ttotal: 8.35s\tremaining: 4.42s\n",
            "654:\tlearn: 1.6643860\ttest: 1.6911279\tbest: 1.6911279 (654)\ttotal: 8.36s\tremaining: 4.4s\n",
            "655:\tlearn: 1.6642489\ttest: 1.6911070\tbest: 1.6911070 (655)\ttotal: 8.36s\tremaining: 4.39s\n",
            "656:\tlearn: 1.6642006\ttest: 1.6910763\tbest: 1.6910763 (656)\ttotal: 8.37s\tremaining: 4.37s\n",
            "657:\tlearn: 1.6641598\ttest: 1.6910402\tbest: 1.6910402 (657)\ttotal: 8.38s\tremaining: 4.36s\n",
            "658:\tlearn: 1.6641165\ttest: 1.6910006\tbest: 1.6910006 (658)\ttotal: 8.39s\tremaining: 4.34s\n",
            "659:\tlearn: 1.6640617\ttest: 1.6909958\tbest: 1.6909958 (659)\ttotal: 8.4s\tremaining: 4.33s\n",
            "660:\tlearn: 1.6640316\ttest: 1.6909651\tbest: 1.6909651 (660)\ttotal: 8.41s\tremaining: 4.31s\n",
            "661:\tlearn: 1.6638365\ttest: 1.6909374\tbest: 1.6909374 (661)\ttotal: 8.42s\tremaining: 4.3s\n",
            "662:\tlearn: 1.6638017\ttest: 1.6909391\tbest: 1.6909374 (661)\ttotal: 8.43s\tremaining: 4.29s\n",
            "663:\tlearn: 1.6637447\ttest: 1.6909641\tbest: 1.6909374 (661)\ttotal: 8.44s\tremaining: 4.27s\n",
            "664:\tlearn: 1.6637215\ttest: 1.6909844\tbest: 1.6909374 (661)\ttotal: 8.45s\tremaining: 4.26s\n",
            "665:\tlearn: 1.6635351\ttest: 1.6909624\tbest: 1.6909374 (661)\ttotal: 8.46s\tremaining: 4.24s\n",
            "666:\tlearn: 1.6634384\ttest: 1.6909586\tbest: 1.6909374 (661)\ttotal: 8.47s\tremaining: 4.23s\n",
            "667:\tlearn: 1.6634140\ttest: 1.6909510\tbest: 1.6909374 (661)\ttotal: 8.48s\tremaining: 4.21s\n",
            "668:\tlearn: 1.6632561\ttest: 1.6909121\tbest: 1.6909121 (668)\ttotal: 8.49s\tremaining: 4.2s\n",
            "669:\tlearn: 1.6630577\ttest: 1.6908916\tbest: 1.6908916 (669)\ttotal: 8.5s\tremaining: 4.19s\n",
            "670:\tlearn: 1.6630019\ttest: 1.6907975\tbest: 1.6907975 (670)\ttotal: 8.51s\tremaining: 4.17s\n",
            "671:\tlearn: 1.6629311\ttest: 1.6908221\tbest: 1.6907975 (670)\ttotal: 8.52s\tremaining: 4.16s\n",
            "672:\tlearn: 1.6628507\ttest: 1.6907667\tbest: 1.6907667 (672)\ttotal: 8.53s\tremaining: 4.14s\n",
            "673:\tlearn: 1.6627766\ttest: 1.6907111\tbest: 1.6907111 (673)\ttotal: 8.54s\tremaining: 4.13s\n",
            "674:\tlearn: 1.6626146\ttest: 1.6906272\tbest: 1.6906272 (674)\ttotal: 8.54s\tremaining: 4.11s\n",
            "675:\tlearn: 1.6624792\ttest: 1.6905556\tbest: 1.6905556 (675)\ttotal: 8.55s\tremaining: 4.1s\n",
            "676:\tlearn: 1.6624536\ttest: 1.6905540\tbest: 1.6905540 (676)\ttotal: 8.56s\tremaining: 4.08s\n",
            "677:\tlearn: 1.6624008\ttest: 1.6904960\tbest: 1.6904960 (677)\ttotal: 8.57s\tremaining: 4.07s\n",
            "678:\tlearn: 1.6622746\ttest: 1.6903959\tbest: 1.6903959 (678)\ttotal: 8.58s\tremaining: 4.06s\n",
            "679:\tlearn: 1.6622190\ttest: 1.6903823\tbest: 1.6903823 (679)\ttotal: 8.59s\tremaining: 4.04s\n",
            "680:\tlearn: 1.6620477\ttest: 1.6904117\tbest: 1.6903823 (679)\ttotal: 8.6s\tremaining: 4.03s\n",
            "681:\tlearn: 1.6618232\ttest: 1.6903768\tbest: 1.6903768 (681)\ttotal: 8.61s\tremaining: 4.01s\n",
            "682:\tlearn: 1.6617374\ttest: 1.6903866\tbest: 1.6903768 (681)\ttotal: 8.62s\tremaining: 4s\n",
            "683:\tlearn: 1.6617045\ttest: 1.6903696\tbest: 1.6903696 (683)\ttotal: 8.63s\tremaining: 3.98s\n",
            "684:\tlearn: 1.6615964\ttest: 1.6903799\tbest: 1.6903696 (683)\ttotal: 8.64s\tremaining: 3.97s\n",
            "685:\tlearn: 1.6615754\ttest: 1.6903905\tbest: 1.6903696 (683)\ttotal: 8.65s\tremaining: 3.96s\n",
            "686:\tlearn: 1.6614225\ttest: 1.6904201\tbest: 1.6903696 (683)\ttotal: 8.66s\tremaining: 3.94s\n",
            "687:\tlearn: 1.6613579\ttest: 1.6904001\tbest: 1.6903696 (683)\ttotal: 8.67s\tremaining: 3.93s\n",
            "688:\tlearn: 1.6613064\ttest: 1.6903512\tbest: 1.6903512 (688)\ttotal: 8.68s\tremaining: 3.92s\n",
            "689:\tlearn: 1.6612594\ttest: 1.6903294\tbest: 1.6903294 (689)\ttotal: 8.69s\tremaining: 3.9s\n",
            "690:\tlearn: 1.6611951\ttest: 1.6903246\tbest: 1.6903246 (690)\ttotal: 8.7s\tremaining: 3.89s\n",
            "691:\tlearn: 1.6611403\ttest: 1.6903167\tbest: 1.6903167 (691)\ttotal: 8.7s\tremaining: 3.87s\n",
            "692:\tlearn: 1.6610603\ttest: 1.6902902\tbest: 1.6902902 (692)\ttotal: 8.71s\tremaining: 3.86s\n",
            "693:\tlearn: 1.6610095\ttest: 1.6902778\tbest: 1.6902778 (693)\ttotal: 8.72s\tremaining: 3.85s\n",
            "694:\tlearn: 1.6609741\ttest: 1.6902471\tbest: 1.6902471 (694)\ttotal: 8.73s\tremaining: 3.83s\n",
            "695:\tlearn: 1.6609450\ttest: 1.6902469\tbest: 1.6902469 (695)\ttotal: 8.74s\tremaining: 3.82s\n",
            "696:\tlearn: 1.6608682\ttest: 1.6902394\tbest: 1.6902394 (696)\ttotal: 8.75s\tremaining: 3.8s\n",
            "697:\tlearn: 1.6607647\ttest: 1.6902558\tbest: 1.6902394 (696)\ttotal: 8.76s\tremaining: 3.79s\n",
            "698:\tlearn: 1.6606112\ttest: 1.6902891\tbest: 1.6902394 (696)\ttotal: 8.76s\tremaining: 3.77s\n",
            "699:\tlearn: 1.6605955\ttest: 1.6902882\tbest: 1.6902394 (696)\ttotal: 8.77s\tremaining: 3.76s\n",
            "700:\tlearn: 1.6605618\ttest: 1.6902599\tbest: 1.6902394 (696)\ttotal: 8.78s\tremaining: 3.75s\n",
            "701:\tlearn: 1.6605026\ttest: 1.6902524\tbest: 1.6902394 (696)\ttotal: 8.79s\tremaining: 3.73s\n",
            "702:\tlearn: 1.6603885\ttest: 1.6901775\tbest: 1.6901775 (702)\ttotal: 8.8s\tremaining: 3.72s\n",
            "703:\tlearn: 1.6603655\ttest: 1.6901791\tbest: 1.6901775 (702)\ttotal: 8.81s\tremaining: 3.7s\n",
            "704:\tlearn: 1.6602411\ttest: 1.6900969\tbest: 1.6900969 (704)\ttotal: 8.81s\tremaining: 3.69s\n",
            "705:\tlearn: 1.6600770\ttest: 1.6900575\tbest: 1.6900575 (705)\ttotal: 8.83s\tremaining: 3.68s\n",
            "706:\tlearn: 1.6600436\ttest: 1.6900574\tbest: 1.6900574 (706)\ttotal: 8.84s\tremaining: 3.66s\n",
            "707:\tlearn: 1.6599933\ttest: 1.6900092\tbest: 1.6900092 (707)\ttotal: 8.85s\tremaining: 3.65s\n",
            "708:\tlearn: 1.6599460\ttest: 1.6900158\tbest: 1.6900092 (707)\ttotal: 8.86s\tremaining: 3.63s\n",
            "709:\tlearn: 1.6598409\ttest: 1.6899680\tbest: 1.6899680 (709)\ttotal: 8.87s\tremaining: 3.62s\n",
            "710:\tlearn: 1.6597780\ttest: 1.6899645\tbest: 1.6899645 (710)\ttotal: 8.87s\tremaining: 3.61s\n",
            "711:\tlearn: 1.6597164\ttest: 1.6899545\tbest: 1.6899545 (711)\ttotal: 8.88s\tremaining: 3.59s\n",
            "712:\tlearn: 1.6595461\ttest: 1.6899446\tbest: 1.6899446 (712)\ttotal: 8.89s\tremaining: 3.58s\n",
            "713:\tlearn: 1.6594158\ttest: 1.6899635\tbest: 1.6899446 (712)\ttotal: 8.9s\tremaining: 3.56s\n",
            "714:\tlearn: 1.6593435\ttest: 1.6899537\tbest: 1.6899446 (712)\ttotal: 8.91s\tremaining: 3.55s\n",
            "715:\tlearn: 1.6592447\ttest: 1.6899199\tbest: 1.6899199 (715)\ttotal: 8.92s\tremaining: 3.54s\n",
            "716:\tlearn: 1.6592323\ttest: 1.6899202\tbest: 1.6899199 (715)\ttotal: 8.93s\tremaining: 3.52s\n",
            "717:\tlearn: 1.6591507\ttest: 1.6899028\tbest: 1.6899028 (717)\ttotal: 8.94s\tremaining: 3.51s\n",
            "718:\tlearn: 1.6590543\ttest: 1.6899456\tbest: 1.6899028 (717)\ttotal: 8.95s\tremaining: 3.5s\n",
            "719:\tlearn: 1.6589378\ttest: 1.6899396\tbest: 1.6899028 (717)\ttotal: 8.96s\tremaining: 3.48s\n",
            "720:\tlearn: 1.6589038\ttest: 1.6899159\tbest: 1.6899028 (717)\ttotal: 8.97s\tremaining: 3.47s\n",
            "721:\tlearn: 1.6588253\ttest: 1.6899112\tbest: 1.6899028 (717)\ttotal: 8.98s\tremaining: 3.46s\n",
            "722:\tlearn: 1.6587610\ttest: 1.6898300\tbest: 1.6898300 (722)\ttotal: 8.99s\tremaining: 3.44s\n",
            "723:\tlearn: 1.6586371\ttest: 1.6898319\tbest: 1.6898300 (722)\ttotal: 8.99s\tremaining: 3.43s\n",
            "724:\tlearn: 1.6586085\ttest: 1.6898276\tbest: 1.6898276 (724)\ttotal: 9s\tremaining: 3.42s\n",
            "725:\tlearn: 1.6584869\ttest: 1.6898305\tbest: 1.6898276 (724)\ttotal: 9.01s\tremaining: 3.4s\n",
            "726:\tlearn: 1.6583137\ttest: 1.6897307\tbest: 1.6897307 (726)\ttotal: 9.02s\tremaining: 3.39s\n",
            "727:\tlearn: 1.6582159\ttest: 1.6897294\tbest: 1.6897294 (727)\ttotal: 9.04s\tremaining: 3.38s\n",
            "728:\tlearn: 1.6578906\ttest: 1.6897253\tbest: 1.6897253 (728)\ttotal: 9.04s\tremaining: 3.36s\n",
            "729:\tlearn: 1.6577121\ttest: 1.6895604\tbest: 1.6895604 (729)\ttotal: 9.05s\tremaining: 3.35s\n",
            "730:\tlearn: 1.6575528\ttest: 1.6895806\tbest: 1.6895604 (729)\ttotal: 9.06s\tremaining: 3.33s\n",
            "731:\tlearn: 1.6575395\ttest: 1.6895771\tbest: 1.6895604 (729)\ttotal: 9.07s\tremaining: 3.32s\n",
            "732:\tlearn: 1.6575298\ttest: 1.6895778\tbest: 1.6895604 (729)\ttotal: 9.08s\tremaining: 3.31s\n",
            "733:\tlearn: 1.6573620\ttest: 1.6894803\tbest: 1.6894803 (733)\ttotal: 9.09s\tremaining: 3.29s\n",
            "734:\tlearn: 1.6572803\ttest: 1.6894443\tbest: 1.6894443 (734)\ttotal: 9.1s\tremaining: 3.28s\n",
            "735:\tlearn: 1.6571166\ttest: 1.6894671\tbest: 1.6894443 (734)\ttotal: 9.11s\tremaining: 3.27s\n",
            "736:\tlearn: 1.6570046\ttest: 1.6894763\tbest: 1.6894443 (734)\ttotal: 9.11s\tremaining: 3.25s\n",
            "737:\tlearn: 1.6569340\ttest: 1.6894252\tbest: 1.6894252 (737)\ttotal: 9.13s\tremaining: 3.24s\n",
            "738:\tlearn: 1.6568977\ttest: 1.6894364\tbest: 1.6894252 (737)\ttotal: 9.14s\tremaining: 3.23s\n",
            "739:\tlearn: 1.6568457\ttest: 1.6894245\tbest: 1.6894245 (739)\ttotal: 9.14s\tremaining: 3.21s\n",
            "740:\tlearn: 1.6567596\ttest: 1.6894182\tbest: 1.6894182 (740)\ttotal: 9.15s\tremaining: 3.2s\n",
            "741:\tlearn: 1.6566870\ttest: 1.6893252\tbest: 1.6893252 (741)\ttotal: 9.16s\tremaining: 3.19s\n",
            "742:\tlearn: 1.6566272\ttest: 1.6892879\tbest: 1.6892879 (742)\ttotal: 9.17s\tremaining: 3.17s\n",
            "743:\tlearn: 1.6564582\ttest: 1.6891067\tbest: 1.6891067 (743)\ttotal: 9.18s\tremaining: 3.16s\n",
            "744:\tlearn: 1.6564175\ttest: 1.6890735\tbest: 1.6890735 (744)\ttotal: 9.19s\tremaining: 3.15s\n",
            "745:\tlearn: 1.6563512\ttest: 1.6890828\tbest: 1.6890735 (744)\ttotal: 9.21s\tremaining: 3.13s\n",
            "746:\tlearn: 1.6561478\ttest: 1.6890676\tbest: 1.6890676 (746)\ttotal: 9.22s\tremaining: 3.12s\n",
            "747:\tlearn: 1.6560221\ttest: 1.6890436\tbest: 1.6890436 (747)\ttotal: 9.23s\tremaining: 3.11s\n",
            "748:\tlearn: 1.6559015\ttest: 1.6888519\tbest: 1.6888519 (748)\ttotal: 9.24s\tremaining: 3.1s\n",
            "749:\tlearn: 1.6557779\ttest: 1.6887523\tbest: 1.6887523 (749)\ttotal: 9.25s\tremaining: 3.08s\n",
            "750:\tlearn: 1.6555774\ttest: 1.6886788\tbest: 1.6886788 (750)\ttotal: 9.26s\tremaining: 3.07s\n",
            "751:\tlearn: 1.6554346\ttest: 1.6886175\tbest: 1.6886175 (751)\ttotal: 9.27s\tremaining: 3.06s\n",
            "752:\tlearn: 1.6553951\ttest: 1.6885984\tbest: 1.6885984 (752)\ttotal: 9.28s\tremaining: 3.04s\n",
            "753:\tlearn: 1.6553729\ttest: 1.6885938\tbest: 1.6885938 (753)\ttotal: 9.29s\tremaining: 3.03s\n",
            "754:\tlearn: 1.6553259\ttest: 1.6885686\tbest: 1.6885686 (754)\ttotal: 9.29s\tremaining: 3.02s\n",
            "755:\tlearn: 1.6551380\ttest: 1.6886050\tbest: 1.6885686 (754)\ttotal: 9.3s\tremaining: 3s\n",
            "756:\tlearn: 1.6550942\ttest: 1.6886077\tbest: 1.6885686 (754)\ttotal: 9.31s\tremaining: 2.99s\n",
            "757:\tlearn: 1.6549674\ttest: 1.6885711\tbest: 1.6885686 (754)\ttotal: 9.32s\tremaining: 2.98s\n",
            "758:\tlearn: 1.6548822\ttest: 1.6885304\tbest: 1.6885304 (758)\ttotal: 9.33s\tremaining: 2.96s\n",
            "759:\tlearn: 1.6545831\ttest: 1.6884749\tbest: 1.6884749 (759)\ttotal: 9.34s\tremaining: 2.95s\n",
            "760:\tlearn: 1.6545570\ttest: 1.6884780\tbest: 1.6884749 (759)\ttotal: 9.35s\tremaining: 2.94s\n",
            "761:\tlearn: 1.6545324\ttest: 1.6884785\tbest: 1.6884749 (759)\ttotal: 9.36s\tremaining: 2.92s\n",
            "762:\tlearn: 1.6544922\ttest: 1.6884690\tbest: 1.6884690 (762)\ttotal: 9.37s\tremaining: 2.91s\n",
            "763:\tlearn: 1.6543770\ttest: 1.6884899\tbest: 1.6884690 (762)\ttotal: 9.38s\tremaining: 2.9s\n",
            "764:\tlearn: 1.6542603\ttest: 1.6885056\tbest: 1.6884690 (762)\ttotal: 9.39s\tremaining: 2.88s\n",
            "765:\tlearn: 1.6540606\ttest: 1.6883737\tbest: 1.6883737 (765)\ttotal: 9.4s\tremaining: 2.87s\n",
            "766:\tlearn: 1.6539762\ttest: 1.6883248\tbest: 1.6883248 (766)\ttotal: 9.4s\tremaining: 2.86s\n",
            "767:\tlearn: 1.6539398\ttest: 1.6883440\tbest: 1.6883248 (766)\ttotal: 9.41s\tremaining: 2.84s\n",
            "768:\tlearn: 1.6539161\ttest: 1.6883299\tbest: 1.6883248 (766)\ttotal: 9.42s\tremaining: 2.83s\n",
            "769:\tlearn: 1.6537838\ttest: 1.6883491\tbest: 1.6883248 (766)\ttotal: 9.44s\tremaining: 2.82s\n",
            "770:\tlearn: 1.6537549\ttest: 1.6883319\tbest: 1.6883248 (766)\ttotal: 9.45s\tremaining: 2.81s\n",
            "771:\tlearn: 1.6536392\ttest: 1.6883003\tbest: 1.6883003 (771)\ttotal: 9.45s\tremaining: 2.79s\n",
            "772:\tlearn: 1.6536179\ttest: 1.6882904\tbest: 1.6882904 (772)\ttotal: 9.46s\tremaining: 2.78s\n",
            "773:\tlearn: 1.6535643\ttest: 1.6883031\tbest: 1.6882904 (772)\ttotal: 9.47s\tremaining: 2.77s\n",
            "774:\tlearn: 1.6534164\ttest: 1.6882747\tbest: 1.6882747 (774)\ttotal: 9.48s\tremaining: 2.75s\n",
            "775:\tlearn: 1.6533731\ttest: 1.6882441\tbest: 1.6882441 (775)\ttotal: 9.49s\tremaining: 2.74s\n",
            "776:\tlearn: 1.6532094\ttest: 1.6881832\tbest: 1.6881832 (776)\ttotal: 9.5s\tremaining: 2.73s\n",
            "777:\tlearn: 1.6531885\ttest: 1.6881700\tbest: 1.6881700 (777)\ttotal: 9.51s\tremaining: 2.71s\n",
            "778:\tlearn: 1.6530890\ttest: 1.6882535\tbest: 1.6881700 (777)\ttotal: 9.52s\tremaining: 2.7s\n",
            "779:\tlearn: 1.6529999\ttest: 1.6882351\tbest: 1.6881700 (777)\ttotal: 9.52s\tremaining: 2.69s\n",
            "780:\tlearn: 1.6527955\ttest: 1.6881178\tbest: 1.6881178 (780)\ttotal: 9.53s\tremaining: 2.67s\n",
            "781:\tlearn: 1.6525684\ttest: 1.6881834\tbest: 1.6881178 (780)\ttotal: 9.54s\tremaining: 2.66s\n",
            "782:\tlearn: 1.6525314\ttest: 1.6881657\tbest: 1.6881178 (780)\ttotal: 9.55s\tremaining: 2.65s\n",
            "783:\tlearn: 1.6523499\ttest: 1.6880769\tbest: 1.6880769 (783)\ttotal: 9.56s\tremaining: 2.63s\n",
            "784:\tlearn: 1.6522406\ttest: 1.6880543\tbest: 1.6880543 (784)\ttotal: 9.57s\tremaining: 2.62s\n",
            "785:\tlearn: 1.6522138\ttest: 1.6880475\tbest: 1.6880475 (785)\ttotal: 9.58s\tremaining: 2.61s\n",
            "786:\tlearn: 1.6521741\ttest: 1.6880218\tbest: 1.6880218 (786)\ttotal: 9.59s\tremaining: 2.59s\n",
            "787:\tlearn: 1.6520769\ttest: 1.6879855\tbest: 1.6879855 (787)\ttotal: 9.6s\tremaining: 2.58s\n",
            "788:\tlearn: 1.6519741\ttest: 1.6878825\tbest: 1.6878825 (788)\ttotal: 9.61s\tremaining: 2.57s\n",
            "789:\tlearn: 1.6517642\ttest: 1.6877961\tbest: 1.6877961 (789)\ttotal: 9.62s\tremaining: 2.56s\n",
            "790:\tlearn: 1.6517103\ttest: 1.6877615\tbest: 1.6877615 (790)\ttotal: 9.63s\tremaining: 2.54s\n",
            "791:\tlearn: 1.6516804\ttest: 1.6877634\tbest: 1.6877615 (790)\ttotal: 9.64s\tremaining: 2.53s\n",
            "792:\tlearn: 1.6516709\ttest: 1.6877693\tbest: 1.6877615 (790)\ttotal: 9.65s\tremaining: 2.52s\n",
            "793:\tlearn: 1.6516181\ttest: 1.6877458\tbest: 1.6877458 (793)\ttotal: 9.66s\tremaining: 2.51s\n",
            "794:\tlearn: 1.6514725\ttest: 1.6876335\tbest: 1.6876335 (794)\ttotal: 9.67s\tremaining: 2.49s\n",
            "795:\tlearn: 1.6512967\ttest: 1.6875182\tbest: 1.6875182 (795)\ttotal: 9.68s\tremaining: 2.48s\n",
            "796:\tlearn: 1.6510000\ttest: 1.6872877\tbest: 1.6872877 (796)\ttotal: 9.69s\tremaining: 2.47s\n",
            "797:\tlearn: 1.6509597\ttest: 1.6872666\tbest: 1.6872666 (797)\ttotal: 9.7s\tremaining: 2.46s\n",
            "798:\tlearn: 1.6509238\ttest: 1.6872931\tbest: 1.6872666 (797)\ttotal: 9.71s\tremaining: 2.44s\n",
            "799:\tlearn: 1.6507785\ttest: 1.6872746\tbest: 1.6872666 (797)\ttotal: 9.72s\tremaining: 2.43s\n",
            "800:\tlearn: 1.6507563\ttest: 1.6872798\tbest: 1.6872666 (797)\ttotal: 9.72s\tremaining: 2.42s\n",
            "801:\tlearn: 1.6507167\ttest: 1.6872820\tbest: 1.6872666 (797)\ttotal: 9.73s\tremaining: 2.4s\n",
            "802:\tlearn: 1.6506136\ttest: 1.6873170\tbest: 1.6872666 (797)\ttotal: 9.74s\tremaining: 2.39s\n",
            "803:\tlearn: 1.6505498\ttest: 1.6873027\tbest: 1.6872666 (797)\ttotal: 9.75s\tremaining: 2.38s\n",
            "804:\tlearn: 1.6504688\ttest: 1.6873115\tbest: 1.6872666 (797)\ttotal: 9.76s\tremaining: 2.36s\n",
            "805:\tlearn: 1.6504261\ttest: 1.6872999\tbest: 1.6872666 (797)\ttotal: 9.77s\tremaining: 2.35s\n",
            "806:\tlearn: 1.6504055\ttest: 1.6873053\tbest: 1.6872666 (797)\ttotal: 9.78s\tremaining: 2.34s\n",
            "807:\tlearn: 1.6503544\ttest: 1.6872686\tbest: 1.6872666 (797)\ttotal: 9.79s\tremaining: 2.33s\n",
            "808:\tlearn: 1.6503314\ttest: 1.6872730\tbest: 1.6872666 (797)\ttotal: 9.8s\tremaining: 2.31s\n",
            "809:\tlearn: 1.6502827\ttest: 1.6871996\tbest: 1.6871996 (809)\ttotal: 9.8s\tremaining: 2.3s\n",
            "810:\tlearn: 1.6500904\ttest: 1.6871253\tbest: 1.6871253 (810)\ttotal: 9.81s\tremaining: 2.29s\n",
            "811:\tlearn: 1.6500442\ttest: 1.6871244\tbest: 1.6871244 (811)\ttotal: 9.83s\tremaining: 2.27s\n",
            "812:\tlearn: 1.6500167\ttest: 1.6871225\tbest: 1.6871225 (812)\ttotal: 9.84s\tremaining: 2.26s\n",
            "813:\tlearn: 1.6498811\ttest: 1.6870651\tbest: 1.6870651 (813)\ttotal: 9.85s\tremaining: 2.25s\n",
            "814:\tlearn: 1.6498717\ttest: 1.6870655\tbest: 1.6870651 (813)\ttotal: 9.86s\tremaining: 2.24s\n",
            "815:\tlearn: 1.6498530\ttest: 1.6870666\tbest: 1.6870651 (813)\ttotal: 9.87s\tremaining: 2.23s\n",
            "816:\tlearn: 1.6498108\ttest: 1.6870787\tbest: 1.6870651 (813)\ttotal: 9.88s\tremaining: 2.21s\n",
            "817:\tlearn: 1.6495195\ttest: 1.6868733\tbest: 1.6868733 (817)\ttotal: 9.89s\tremaining: 2.2s\n",
            "818:\tlearn: 1.6494696\ttest: 1.6869028\tbest: 1.6868733 (817)\ttotal: 9.89s\tremaining: 2.19s\n",
            "819:\tlearn: 1.6492464\ttest: 1.6867932\tbest: 1.6867932 (819)\ttotal: 9.9s\tremaining: 2.17s\n",
            "820:\tlearn: 1.6492099\ttest: 1.6867765\tbest: 1.6867765 (820)\ttotal: 9.91s\tremaining: 2.16s\n",
            "821:\tlearn: 1.6491762\ttest: 1.6867778\tbest: 1.6867765 (820)\ttotal: 9.92s\tremaining: 2.15s\n",
            "822:\tlearn: 1.6490555\ttest: 1.6868142\tbest: 1.6867765 (820)\ttotal: 9.93s\tremaining: 2.13s\n",
            "823:\tlearn: 1.6490430\ttest: 1.6868153\tbest: 1.6867765 (820)\ttotal: 9.94s\tremaining: 2.12s\n",
            "824:\tlearn: 1.6490145\ttest: 1.6868257\tbest: 1.6867765 (820)\ttotal: 9.95s\tremaining: 2.11s\n",
            "825:\tlearn: 1.6489814\ttest: 1.6868277\tbest: 1.6867765 (820)\ttotal: 9.96s\tremaining: 2.1s\n",
            "826:\tlearn: 1.6489217\ttest: 1.6868018\tbest: 1.6867765 (820)\ttotal: 9.97s\tremaining: 2.08s\n",
            "827:\tlearn: 1.6488948\ttest: 1.6868021\tbest: 1.6867765 (820)\ttotal: 9.97s\tremaining: 2.07s\n",
            "828:\tlearn: 1.6488695\ttest: 1.6867994\tbest: 1.6867765 (820)\ttotal: 9.98s\tremaining: 2.06s\n",
            "829:\tlearn: 1.6488094\ttest: 1.6867913\tbest: 1.6867765 (820)\ttotal: 9.99s\tremaining: 2.05s\n",
            "830:\tlearn: 1.6487944\ttest: 1.6867880\tbest: 1.6867765 (820)\ttotal: 10s\tremaining: 2.03s\n",
            "831:\tlearn: 1.6486149\ttest: 1.6867112\tbest: 1.6867112 (831)\ttotal: 10s\tremaining: 2.02s\n",
            "832:\tlearn: 1.6485438\ttest: 1.6867468\tbest: 1.6867112 (831)\ttotal: 10s\tremaining: 2.01s\n",
            "833:\tlearn: 1.6484010\ttest: 1.6868008\tbest: 1.6867112 (831)\ttotal: 10s\tremaining: 2s\n",
            "834:\tlearn: 1.6483436\ttest: 1.6867849\tbest: 1.6867112 (831)\ttotal: 10s\tremaining: 1.98s\n",
            "835:\tlearn: 1.6483206\ttest: 1.6867907\tbest: 1.6867112 (831)\ttotal: 10s\tremaining: 1.97s\n",
            "836:\tlearn: 1.6482845\ttest: 1.6868021\tbest: 1.6867112 (831)\ttotal: 10.1s\tremaining: 1.96s\n",
            "837:\tlearn: 1.6482511\ttest: 1.6867786\tbest: 1.6867112 (831)\ttotal: 10.1s\tremaining: 1.95s\n",
            "838:\tlearn: 1.6482310\ttest: 1.6867825\tbest: 1.6867112 (831)\ttotal: 10.1s\tremaining: 1.93s\n",
            "839:\tlearn: 1.6482055\ttest: 1.6867874\tbest: 1.6867112 (831)\ttotal: 10.1s\tremaining: 1.92s\n",
            "840:\tlearn: 1.6481804\ttest: 1.6867868\tbest: 1.6867112 (831)\ttotal: 10.1s\tremaining: 1.91s\n",
            "841:\tlearn: 1.6480025\ttest: 1.6867181\tbest: 1.6867112 (831)\ttotal: 10.1s\tremaining: 1.9s\n",
            "842:\tlearn: 1.6479713\ttest: 1.6867229\tbest: 1.6867112 (831)\ttotal: 10.1s\tremaining: 1.88s\n",
            "843:\tlearn: 1.6477348\ttest: 1.6863782\tbest: 1.6863782 (843)\ttotal: 10.1s\tremaining: 1.87s\n",
            "844:\tlearn: 1.6476586\ttest: 1.6863612\tbest: 1.6863612 (844)\ttotal: 10.1s\tremaining: 1.86s\n",
            "845:\tlearn: 1.6475282\ttest: 1.6863472\tbest: 1.6863472 (845)\ttotal: 10.1s\tremaining: 1.85s\n",
            "846:\tlearn: 1.6474942\ttest: 1.6863603\tbest: 1.6863472 (845)\ttotal: 10.2s\tremaining: 1.83s\n",
            "847:\tlearn: 1.6474637\ttest: 1.6863591\tbest: 1.6863472 (845)\ttotal: 10.2s\tremaining: 1.82s\n",
            "848:\tlearn: 1.6472792\ttest: 1.6861979\tbest: 1.6861979 (848)\ttotal: 10.2s\tremaining: 1.81s\n",
            "849:\tlearn: 1.6471587\ttest: 1.6861410\tbest: 1.6861410 (849)\ttotal: 10.2s\tremaining: 1.8s\n",
            "850:\tlearn: 1.6471133\ttest: 1.6861369\tbest: 1.6861369 (850)\ttotal: 10.2s\tremaining: 1.79s\n",
            "851:\tlearn: 1.6469588\ttest: 1.6861633\tbest: 1.6861369 (850)\ttotal: 10.2s\tremaining: 1.77s\n",
            "852:\tlearn: 1.6469135\ttest: 1.6861565\tbest: 1.6861369 (850)\ttotal: 10.2s\tremaining: 1.76s\n",
            "853:\tlearn: 1.6468068\ttest: 1.6861287\tbest: 1.6861287 (853)\ttotal: 10.2s\tremaining: 1.75s\n",
            "854:\tlearn: 1.6467811\ttest: 1.6861275\tbest: 1.6861275 (854)\ttotal: 10.2s\tremaining: 1.74s\n",
            "855:\tlearn: 1.6467403\ttest: 1.6861346\tbest: 1.6861275 (854)\ttotal: 10.3s\tremaining: 1.72s\n",
            "856:\tlearn: 1.6467045\ttest: 1.6861191\tbest: 1.6861191 (856)\ttotal: 10.3s\tremaining: 1.71s\n",
            "857:\tlearn: 1.6466695\ttest: 1.6861249\tbest: 1.6861191 (856)\ttotal: 10.3s\tremaining: 1.7s\n",
            "858:\tlearn: 1.6465225\ttest: 1.6860931\tbest: 1.6860931 (858)\ttotal: 10.3s\tremaining: 1.69s\n",
            "859:\tlearn: 1.6464608\ttest: 1.6860959\tbest: 1.6860931 (858)\ttotal: 10.3s\tremaining: 1.67s\n",
            "860:\tlearn: 1.6464370\ttest: 1.6860811\tbest: 1.6860811 (860)\ttotal: 10.3s\tremaining: 1.66s\n",
            "861:\tlearn: 1.6463954\ttest: 1.6860578\tbest: 1.6860578 (861)\ttotal: 10.3s\tremaining: 1.65s\n",
            "862:\tlearn: 1.6462132\ttest: 1.6859827\tbest: 1.6859827 (862)\ttotal: 10.3s\tremaining: 1.64s\n",
            "863:\tlearn: 1.6461955\ttest: 1.6859845\tbest: 1.6859827 (862)\ttotal: 10.3s\tremaining: 1.62s\n",
            "864:\tlearn: 1.6461426\ttest: 1.6859859\tbest: 1.6859827 (862)\ttotal: 10.3s\tremaining: 1.61s\n",
            "865:\tlearn: 1.6461233\ttest: 1.6859906\tbest: 1.6859827 (862)\ttotal: 10.3s\tremaining: 1.6s\n",
            "866:\tlearn: 1.6460439\ttest: 1.6859344\tbest: 1.6859344 (866)\ttotal: 10.3s\tremaining: 1.59s\n",
            "867:\tlearn: 1.6460000\ttest: 1.6859476\tbest: 1.6859344 (866)\ttotal: 10.4s\tremaining: 1.57s\n",
            "868:\tlearn: 1.6459696\ttest: 1.6859281\tbest: 1.6859281 (868)\ttotal: 10.4s\tremaining: 1.56s\n",
            "869:\tlearn: 1.6459071\ttest: 1.6858859\tbest: 1.6858859 (869)\ttotal: 10.4s\tremaining: 1.55s\n",
            "870:\tlearn: 1.6458370\ttest: 1.6858764\tbest: 1.6858764 (870)\ttotal: 10.4s\tremaining: 1.54s\n",
            "871:\tlearn: 1.6457711\ttest: 1.6858567\tbest: 1.6858567 (871)\ttotal: 10.4s\tremaining: 1.52s\n",
            "872:\tlearn: 1.6457267\ttest: 1.6858461\tbest: 1.6858461 (872)\ttotal: 10.4s\tremaining: 1.51s\n",
            "873:\tlearn: 1.6456506\ttest: 1.6858579\tbest: 1.6858461 (872)\ttotal: 10.4s\tremaining: 1.5s\n",
            "874:\tlearn: 1.6456352\ttest: 1.6858658\tbest: 1.6858461 (872)\ttotal: 10.4s\tremaining: 1.49s\n",
            "875:\tlearn: 1.6454581\ttest: 1.6858032\tbest: 1.6858032 (875)\ttotal: 10.4s\tremaining: 1.48s\n",
            "876:\tlearn: 1.6454436\ttest: 1.6858110\tbest: 1.6858032 (875)\ttotal: 10.4s\tremaining: 1.46s\n",
            "877:\tlearn: 1.6452800\ttest: 1.6857248\tbest: 1.6857248 (877)\ttotal: 10.5s\tremaining: 1.45s\n",
            "878:\tlearn: 1.6452109\ttest: 1.6857523\tbest: 1.6857248 (877)\ttotal: 10.5s\tremaining: 1.44s\n",
            "879:\tlearn: 1.6451766\ttest: 1.6857684\tbest: 1.6857248 (877)\ttotal: 10.5s\tremaining: 1.43s\n",
            "880:\tlearn: 1.6449967\ttest: 1.6857075\tbest: 1.6857075 (880)\ttotal: 10.5s\tremaining: 1.42s\n",
            "881:\tlearn: 1.6449623\ttest: 1.6857102\tbest: 1.6857075 (880)\ttotal: 10.5s\tremaining: 1.4s\n",
            "882:\tlearn: 1.6449355\ttest: 1.6856985\tbest: 1.6856985 (882)\ttotal: 10.5s\tremaining: 1.39s\n",
            "883:\tlearn: 1.6448904\ttest: 1.6856950\tbest: 1.6856950 (883)\ttotal: 10.5s\tremaining: 1.38s\n",
            "884:\tlearn: 1.6448469\ttest: 1.6856720\tbest: 1.6856720 (884)\ttotal: 10.5s\tremaining: 1.37s\n",
            "885:\tlearn: 1.6448165\ttest: 1.6856625\tbest: 1.6856625 (885)\ttotal: 10.5s\tremaining: 1.35s\n",
            "886:\tlearn: 1.6447733\ttest: 1.6856434\tbest: 1.6856434 (886)\ttotal: 10.5s\tremaining: 1.34s\n",
            "887:\tlearn: 1.6447077\ttest: 1.6856136\tbest: 1.6856136 (887)\ttotal: 10.5s\tremaining: 1.33s\n",
            "888:\tlearn: 1.6446732\ttest: 1.6856009\tbest: 1.6856009 (888)\ttotal: 10.6s\tremaining: 1.32s\n",
            "889:\tlearn: 1.6446086\ttest: 1.6855785\tbest: 1.6855785 (889)\ttotal: 10.6s\tremaining: 1.3s\n",
            "890:\tlearn: 1.6445568\ttest: 1.6855859\tbest: 1.6855785 (889)\ttotal: 10.6s\tremaining: 1.29s\n",
            "891:\tlearn: 1.6445009\ttest: 1.6856225\tbest: 1.6855785 (889)\ttotal: 10.6s\tremaining: 1.28s\n",
            "892:\tlearn: 1.6444834\ttest: 1.6856257\tbest: 1.6855785 (889)\ttotal: 10.6s\tremaining: 1.27s\n",
            "893:\tlearn: 1.6444510\ttest: 1.6856239\tbest: 1.6855785 (889)\ttotal: 10.6s\tremaining: 1.26s\n",
            "894:\tlearn: 1.6443315\ttest: 1.6855468\tbest: 1.6855468 (894)\ttotal: 10.6s\tremaining: 1.24s\n",
            "895:\tlearn: 1.6442920\ttest: 1.6855454\tbest: 1.6855454 (895)\ttotal: 10.6s\tremaining: 1.23s\n",
            "896:\tlearn: 1.6442220\ttest: 1.6855430\tbest: 1.6855430 (896)\ttotal: 10.6s\tremaining: 1.22s\n",
            "897:\tlearn: 1.6442024\ttest: 1.6855473\tbest: 1.6855430 (896)\ttotal: 10.6s\tremaining: 1.21s\n",
            "898:\tlearn: 1.6439948\ttest: 1.6854795\tbest: 1.6854795 (898)\ttotal: 10.6s\tremaining: 1.2s\n",
            "899:\tlearn: 1.6439632\ttest: 1.6854805\tbest: 1.6854795 (898)\ttotal: 10.7s\tremaining: 1.18s\n",
            "900:\tlearn: 1.6439388\ttest: 1.6854881\tbest: 1.6854795 (898)\ttotal: 10.7s\tremaining: 1.17s\n",
            "901:\tlearn: 1.6438427\ttest: 1.6855030\tbest: 1.6854795 (898)\ttotal: 10.7s\tremaining: 1.16s\n",
            "902:\tlearn: 1.6438145\ttest: 1.6855076\tbest: 1.6854795 (898)\ttotal: 10.7s\tremaining: 1.15s\n",
            "903:\tlearn: 1.6437113\ttest: 1.6854556\tbest: 1.6854556 (903)\ttotal: 10.7s\tremaining: 1.14s\n",
            "904:\tlearn: 1.6436745\ttest: 1.6854247\tbest: 1.6854247 (904)\ttotal: 10.7s\tremaining: 1.12s\n",
            "905:\tlearn: 1.6435542\ttest: 1.6854120\tbest: 1.6854120 (905)\ttotal: 10.7s\tremaining: 1.11s\n",
            "906:\tlearn: 1.6435234\ttest: 1.6854239\tbest: 1.6854120 (905)\ttotal: 10.7s\tremaining: 1.1s\n",
            "907:\tlearn: 1.6435001\ttest: 1.6854280\tbest: 1.6854120 (905)\ttotal: 10.7s\tremaining: 1.09s\n",
            "908:\tlearn: 1.6434605\ttest: 1.6854361\tbest: 1.6854120 (905)\ttotal: 10.7s\tremaining: 1.07s\n",
            "909:\tlearn: 1.6434453\ttest: 1.6854383\tbest: 1.6854120 (905)\ttotal: 10.8s\tremaining: 1.06s\n",
            "910:\tlearn: 1.6433479\ttest: 1.6854181\tbest: 1.6854120 (905)\ttotal: 10.8s\tremaining: 1.05s\n",
            "911:\tlearn: 1.6433113\ttest: 1.6853997\tbest: 1.6853997 (911)\ttotal: 10.8s\tremaining: 1.04s\n",
            "912:\tlearn: 1.6432486\ttest: 1.6853942\tbest: 1.6853942 (912)\ttotal: 10.8s\tremaining: 1.03s\n",
            "913:\tlearn: 1.6430954\ttest: 1.6854332\tbest: 1.6853942 (912)\ttotal: 10.8s\tremaining: 1.01s\n",
            "914:\tlearn: 1.6430674\ttest: 1.6854196\tbest: 1.6853942 (912)\ttotal: 10.8s\tremaining: 1s\n",
            "915:\tlearn: 1.6430565\ttest: 1.6854217\tbest: 1.6853942 (912)\ttotal: 10.8s\tremaining: 991ms\n",
            "916:\tlearn: 1.6430272\ttest: 1.6854255\tbest: 1.6853942 (912)\ttotal: 10.8s\tremaining: 979ms\n",
            "917:\tlearn: 1.6429961\ttest: 1.6854030\tbest: 1.6853942 (912)\ttotal: 10.8s\tremaining: 967ms\n",
            "918:\tlearn: 1.6429708\ttest: 1.6854083\tbest: 1.6853942 (912)\ttotal: 10.8s\tremaining: 955ms\n",
            "919:\tlearn: 1.6429345\ttest: 1.6854272\tbest: 1.6853942 (912)\ttotal: 10.8s\tremaining: 943ms\n",
            "920:\tlearn: 1.6428476\ttest: 1.6854297\tbest: 1.6853942 (912)\ttotal: 10.8s\tremaining: 931ms\n",
            "921:\tlearn: 1.6428188\ttest: 1.6854344\tbest: 1.6853942 (912)\ttotal: 10.9s\tremaining: 919ms\n",
            "922:\tlearn: 1.6426616\ttest: 1.6854561\tbest: 1.6853942 (912)\ttotal: 10.9s\tremaining: 908ms\n",
            "923:\tlearn: 1.6425805\ttest: 1.6854073\tbest: 1.6853942 (912)\ttotal: 10.9s\tremaining: 896ms\n",
            "924:\tlearn: 1.6423931\ttest: 1.6853267\tbest: 1.6853267 (924)\ttotal: 10.9s\tremaining: 884ms\n",
            "925:\tlearn: 1.6423772\ttest: 1.6853323\tbest: 1.6853267 (924)\ttotal: 10.9s\tremaining: 872ms\n",
            "926:\tlearn: 1.6423624\ttest: 1.6853336\tbest: 1.6853267 (924)\ttotal: 10.9s\tremaining: 860ms\n",
            "927:\tlearn: 1.6423407\ttest: 1.6853421\tbest: 1.6853267 (924)\ttotal: 10.9s\tremaining: 848ms\n",
            "928:\tlearn: 1.6422519\ttest: 1.6853011\tbest: 1.6853011 (928)\ttotal: 10.9s\tremaining: 836ms\n",
            "929:\tlearn: 1.6421894\ttest: 1.6852522\tbest: 1.6852522 (929)\ttotal: 10.9s\tremaining: 824ms\n",
            "930:\tlearn: 1.6421490\ttest: 1.6852232\tbest: 1.6852232 (930)\ttotal: 11s\tremaining: 812ms\n",
            "931:\tlearn: 1.6421247\ttest: 1.6852313\tbest: 1.6852232 (930)\ttotal: 11s\tremaining: 800ms\n",
            "932:\tlearn: 1.6420595\ttest: 1.6851987\tbest: 1.6851987 (932)\ttotal: 11s\tremaining: 788ms\n",
            "933:\tlearn: 1.6419312\ttest: 1.6852968\tbest: 1.6851987 (932)\ttotal: 11s\tremaining: 776ms\n",
            "934:\tlearn: 1.6418943\ttest: 1.6852735\tbest: 1.6851987 (932)\ttotal: 11s\tremaining: 764ms\n",
            "935:\tlearn: 1.6418289\ttest: 1.6852659\tbest: 1.6851987 (932)\ttotal: 11s\tremaining: 752ms\n",
            "936:\tlearn: 1.6416327\ttest: 1.6852875\tbest: 1.6851987 (932)\ttotal: 11s\tremaining: 740ms\n",
            "937:\tlearn: 1.6416035\ttest: 1.6853018\tbest: 1.6851987 (932)\ttotal: 11s\tremaining: 729ms\n",
            "938:\tlearn: 1.6414044\ttest: 1.6852770\tbest: 1.6851987 (932)\ttotal: 11s\tremaining: 717ms\n",
            "939:\tlearn: 1.6413694\ttest: 1.6852465\tbest: 1.6851987 (932)\ttotal: 11s\tremaining: 705ms\n",
            "940:\tlearn: 1.6413583\ttest: 1.6852570\tbest: 1.6851987 (932)\ttotal: 11.1s\tremaining: 693ms\n",
            "941:\tlearn: 1.6413129\ttest: 1.6852432\tbest: 1.6851987 (932)\ttotal: 11.1s\tremaining: 681ms\n",
            "942:\tlearn: 1.6412444\ttest: 1.6852482\tbest: 1.6851987 (932)\ttotal: 11.1s\tremaining: 669ms\n",
            "943:\tlearn: 1.6412222\ttest: 1.6852511\tbest: 1.6851987 (932)\ttotal: 11.1s\tremaining: 657ms\n",
            "944:\tlearn: 1.6411553\ttest: 1.6852550\tbest: 1.6851987 (932)\ttotal: 11.1s\tremaining: 645ms\n",
            "945:\tlearn: 1.6408101\ttest: 1.6851067\tbest: 1.6851067 (945)\ttotal: 11.1s\tremaining: 634ms\n",
            "946:\tlearn: 1.6407942\ttest: 1.6851035\tbest: 1.6851035 (946)\ttotal: 11.1s\tremaining: 622ms\n",
            "947:\tlearn: 1.6407852\ttest: 1.6851090\tbest: 1.6851035 (946)\ttotal: 11.1s\tremaining: 610ms\n",
            "948:\tlearn: 1.6407686\ttest: 1.6851095\tbest: 1.6851035 (946)\ttotal: 11.1s\tremaining: 598ms\n",
            "949:\tlearn: 1.6406362\ttest: 1.6850740\tbest: 1.6850740 (949)\ttotal: 11.1s\tremaining: 586ms\n",
            "950:\tlearn: 1.6406255\ttest: 1.6850741\tbest: 1.6850740 (949)\ttotal: 11.1s\tremaining: 574ms\n",
            "951:\tlearn: 1.6406141\ttest: 1.6850697\tbest: 1.6850697 (951)\ttotal: 11.2s\tremaining: 562ms\n",
            "952:\tlearn: 1.6405952\ttest: 1.6850717\tbest: 1.6850697 (951)\ttotal: 11.2s\tremaining: 551ms\n",
            "953:\tlearn: 1.6405525\ttest: 1.6850481\tbest: 1.6850481 (953)\ttotal: 11.2s\tremaining: 539ms\n",
            "954:\tlearn: 1.6403366\ttest: 1.6849833\tbest: 1.6849833 (954)\ttotal: 11.2s\tremaining: 527ms\n",
            "955:\tlearn: 1.6403137\ttest: 1.6849873\tbest: 1.6849833 (954)\ttotal: 11.2s\tremaining: 515ms\n",
            "956:\tlearn: 1.6402711\ttest: 1.6849660\tbest: 1.6849660 (956)\ttotal: 11.2s\tremaining: 504ms\n",
            "957:\tlearn: 1.6402410\ttest: 1.6849433\tbest: 1.6849433 (957)\ttotal: 11.2s\tremaining: 492ms\n",
            "958:\tlearn: 1.6399852\ttest: 1.6847864\tbest: 1.6847864 (958)\ttotal: 11.2s\tremaining: 480ms\n",
            "959:\tlearn: 1.6399256\ttest: 1.6847701\tbest: 1.6847701 (959)\ttotal: 11.2s\tremaining: 468ms\n",
            "960:\tlearn: 1.6399097\ttest: 1.6847670\tbest: 1.6847670 (960)\ttotal: 11.2s\tremaining: 457ms\n",
            "961:\tlearn: 1.6398390\ttest: 1.6847424\tbest: 1.6847424 (961)\ttotal: 11.3s\tremaining: 445ms\n",
            "962:\tlearn: 1.6398212\ttest: 1.6847453\tbest: 1.6847424 (961)\ttotal: 11.3s\tremaining: 433ms\n",
            "963:\tlearn: 1.6398114\ttest: 1.6847504\tbest: 1.6847424 (961)\ttotal: 11.3s\tremaining: 421ms\n",
            "964:\tlearn: 1.6394778\ttest: 1.6848596\tbest: 1.6847424 (961)\ttotal: 11.3s\tremaining: 409ms\n",
            "965:\tlearn: 1.6394591\ttest: 1.6848568\tbest: 1.6847424 (961)\ttotal: 11.3s\tremaining: 398ms\n",
            "966:\tlearn: 1.6394459\ttest: 1.6848624\tbest: 1.6847424 (961)\ttotal: 11.3s\tremaining: 386ms\n",
            "967:\tlearn: 1.6394324\ttest: 1.6848654\tbest: 1.6847424 (961)\ttotal: 11.3s\tremaining: 374ms\n",
            "968:\tlearn: 1.6393478\ttest: 1.6848025\tbest: 1.6847424 (961)\ttotal: 11.3s\tremaining: 362ms\n",
            "969:\tlearn: 1.6392276\ttest: 1.6847078\tbest: 1.6847078 (969)\ttotal: 11.3s\tremaining: 350ms\n",
            "970:\tlearn: 1.6391188\ttest: 1.6846998\tbest: 1.6846998 (970)\ttotal: 11.3s\tremaining: 339ms\n",
            "971:\tlearn: 1.6390652\ttest: 1.6846733\tbest: 1.6846733 (971)\ttotal: 11.3s\tremaining: 327ms\n",
            "972:\tlearn: 1.6390523\ttest: 1.6846709\tbest: 1.6846709 (972)\ttotal: 11.4s\tremaining: 315ms\n",
            "973:\tlearn: 1.6390370\ttest: 1.6846755\tbest: 1.6846709 (972)\ttotal: 11.4s\tremaining: 303ms\n",
            "974:\tlearn: 1.6389816\ttest: 1.6846560\tbest: 1.6846560 (974)\ttotal: 11.4s\tremaining: 292ms\n",
            "975:\tlearn: 1.6389680\ttest: 1.6846626\tbest: 1.6846560 (974)\ttotal: 11.4s\tremaining: 280ms\n",
            "976:\tlearn: 1.6389308\ttest: 1.6846481\tbest: 1.6846481 (976)\ttotal: 11.4s\tremaining: 268ms\n",
            "977:\tlearn: 1.6388986\ttest: 1.6846263\tbest: 1.6846263 (977)\ttotal: 11.4s\tremaining: 256ms\n",
            "978:\tlearn: 1.6388759\ttest: 1.6846335\tbest: 1.6846263 (977)\ttotal: 11.4s\tremaining: 245ms\n",
            "979:\tlearn: 1.6387713\ttest: 1.6845874\tbest: 1.6845874 (979)\ttotal: 11.4s\tremaining: 233ms\n",
            "980:\tlearn: 1.6387561\ttest: 1.6845948\tbest: 1.6845874 (979)\ttotal: 11.4s\tremaining: 221ms\n",
            "981:\tlearn: 1.6387353\ttest: 1.6845988\tbest: 1.6845874 (979)\ttotal: 11.4s\tremaining: 210ms\n",
            "982:\tlearn: 1.6385105\ttest: 1.6845290\tbest: 1.6845290 (982)\ttotal: 11.5s\tremaining: 198ms\n",
            "983:\tlearn: 1.6384655\ttest: 1.6845241\tbest: 1.6845241 (983)\ttotal: 11.5s\tremaining: 186ms\n",
            "984:\tlearn: 1.6384441\ttest: 1.6845221\tbest: 1.6845221 (984)\ttotal: 11.5s\tremaining: 175ms\n",
            "985:\tlearn: 1.6383967\ttest: 1.6845077\tbest: 1.6845077 (985)\ttotal: 11.5s\tremaining: 163ms\n",
            "986:\tlearn: 1.6383838\ttest: 1.6845109\tbest: 1.6845077 (985)\ttotal: 11.5s\tremaining: 151ms\n",
            "987:\tlearn: 1.6383640\ttest: 1.6845084\tbest: 1.6845077 (985)\ttotal: 11.5s\tremaining: 140ms\n",
            "988:\tlearn: 1.6383312\ttest: 1.6844848\tbest: 1.6844848 (988)\ttotal: 11.5s\tremaining: 128ms\n",
            "989:\tlearn: 1.6381382\ttest: 1.6845155\tbest: 1.6844848 (988)\ttotal: 11.5s\tremaining: 116ms\n",
            "990:\tlearn: 1.6381212\ttest: 1.6845186\tbest: 1.6844848 (988)\ttotal: 11.5s\tremaining: 105ms\n",
            "991:\tlearn: 1.6378225\ttest: 1.6843837\tbest: 1.6843837 (991)\ttotal: 11.5s\tremaining: 93ms\n",
            "992:\tlearn: 1.6377695\ttest: 1.6843819\tbest: 1.6843819 (992)\ttotal: 11.5s\tremaining: 81.4ms\n",
            "993:\tlearn: 1.6374220\ttest: 1.6842666\tbest: 1.6842666 (993)\ttotal: 11.6s\tremaining: 69.7ms\n",
            "994:\tlearn: 1.6372923\ttest: 1.6842569\tbest: 1.6842569 (994)\ttotal: 11.6s\tremaining: 58.1ms\n",
            "995:\tlearn: 1.6372632\ttest: 1.6842646\tbest: 1.6842569 (994)\ttotal: 11.6s\tremaining: 46.5ms\n",
            "996:\tlearn: 1.6371864\ttest: 1.6842195\tbest: 1.6842195 (996)\ttotal: 11.6s\tremaining: 34.9ms\n",
            "997:\tlearn: 1.6371735\ttest: 1.6842243\tbest: 1.6842195 (996)\ttotal: 11.6s\tremaining: 23.2ms\n",
            "998:\tlearn: 1.6371609\ttest: 1.6842250\tbest: 1.6842195 (996)\ttotal: 11.6s\tremaining: 11.6ms\n",
            "999:\tlearn: 1.6371276\ttest: 1.6841887\tbest: 1.6841887 (999)\ttotal: 11.6s\tremaining: 0us\n",
            "\n",
            "bestTest = 1.684188723\n",
            "bestIteration = 999\n",
            "\n"
          ]
        },
        {
          "output_type": "execute_result",
          "data": {
            "text/plain": [
              "<catboost.core.CatBoostRegressor at 0x7fba05625710>"
            ]
          },
          "metadata": {},
          "execution_count": 92
        }
      ]
    },
    {
      "cell_type": "code",
      "source": [
        "pred_train = cb.predict(X[idx_train]).reshape(-1, 1)\n",
        "pred_val = cb.predict(X[idx_val]).reshape(-1, 1)\n",
        "pred_test = cb.predict(X[idx_test]).reshape(-1, 1)"
      ],
      "metadata": {
        "id": "wYr0G6cYWh0s"
      },
      "execution_count": 93,
      "outputs": []
    },
    {
      "cell_type": "code",
      "source": [
        "train_rmse = mean_squared_error(y[idx_train], pred_train, squared=False)\n",
        "val_rmse = mean_squared_error(y[idx_val], pred_val, squared=False)\n",
        "test_rmse = mean_squared_error(y[idx_test], pred_test, squared=False)"
      ],
      "metadata": {
        "id": "IAtDF6p_o4qg"
      },
      "execution_count": 94,
      "outputs": []
    },
    {
      "cell_type": "code",
      "source": [
        "print('Train RMSE:', train_rmse)\n",
        "print('Val RMSE:', val_rmse)\n",
        "print('Test RMSE:', test_rmse)"
      ],
      "metadata": {
        "colab": {
          "base_uri": "https://localhost:8080/"
        },
        "outputId": "8927999c-cac5-474f-d4e6-8928adbe4253",
        "id": "3NBLVPnoo4qh"
      },
      "execution_count": 95,
      "outputs": [
        {
          "output_type": "stream",
          "name": "stdout",
          "text": [
            "Train RMSE: 1.6371275648898376\n",
            "Val RMSE: 1.6841887158642956\n",
            "Test RMSE: 1.945340219489591\n"
          ]
        }
      ]
    },
    {
      "cell_type": "code",
      "source": [
        "n_neighbors_space = np.arange(1, 101)\n",
        "val_rmse = []\n",
        "best_rmse = 1e9\n",
        "best_n_neighbors = n_neighbors_space[0]\n",
        "for n_neighbors in tqdm(n_neighbors_space):\n",
        "    z = hyper_propagation(X, y[idx_train], idx_train, idx_val, n_neighbors, pred_train=pred_train, pred_test=pred_val)\n",
        "    val_rmse.append(mean_squared_error(y[idx_val], z, squared=False))\n",
        "    if val_rmse[-1] < best_rmse:\n",
        "        best_n_neighbors = n_neighbors\n",
        "        best_rmse = val_rmse[-1]"
      ],
      "metadata": {
        "colab": {
          "base_uri": "https://localhost:8080/"
        },
        "outputId": "7288865d-72c9-41c9-b35b-ae967972ea75",
        "id": "AOyte5Suo4qi"
      },
      "execution_count": 96,
      "outputs": [
        {
          "output_type": "stream",
          "name": "stderr",
          "text": [
            "100%|██████████| 100/100 [00:39<00:00,  2.55it/s]\n"
          ]
        }
      ]
    },
    {
      "cell_type": "code",
      "source": [
        "plt.plot(n_neighbors_space, val_rmse)\n",
        "plt.xlabel('Number of neighbors')\n",
        "plt.ylabel('Val RMSE')\n",
        "plt.show()"
      ],
      "metadata": {
        "colab": {
          "base_uri": "https://localhost:8080/",
          "height": 279
        },
        "outputId": "79523151-b698-455c-c0ec-a05c04d204b9",
        "id": "cGqcrsXFo4qj"
      },
      "execution_count": 97,
      "outputs": [
        {
          "output_type": "display_data",
          "data": {
            "text/plain": [
              "<Figure size 432x288 with 1 Axes>"
            ],
            "image/png": "[encoded data removed]"
          },
          "metadata": {
            "needs_background": "light"
          }
        }
      ]
    },
    {
      "cell_type": "code",
      "source": [
        "print('Best K Neighbors:', best_n_neighbors)"
      ],
      "metadata": {
        "colab": {
          "base_uri": "https://localhost:8080/"
        },
        "outputId": "a79aa40c-fd6d-40ca-c8b1-009fc30c74c4",
        "id": "6VlHQDxso4qj"
      },
      "execution_count": 98,
      "outputs": [
        {
          "output_type": "stream",
          "name": "stdout",
          "text": [
            "Best K Neighbors: 34\n"
          ]
        }
      ]
    },
    {
      "cell_type": "code",
      "source": [
        "z_val = hyper_propagation(X, y[idx_train], idx_train, idx_val, best_n_neighbors, pred_train=pred_train, pred_test=pred_val)\n",
        "z_test = hyper_propagation(X, y[idx_train], idx_train, idx_test, best_n_neighbors, pred_train=pred_train, pred_test=pred_test)"
      ],
      "metadata": {
        "id": "7fmIqViGo4qk"
      },
      "execution_count": 99,
      "outputs": []
    },
    {
      "cell_type": "code",
      "source": [
        "val_rmse = mean_squared_error(y[idx_val], z_val, squared=False)\n",
        "test_rmse = mean_squared_error(y[idx_test], z_test, squared=False)"
      ],
      "metadata": {
        "id": "WeaNDVjKo4qk"
      },
      "execution_count": 100,
      "outputs": []
    },
    {
      "cell_type": "code",
      "source": [
        "print('Val RMSE:', val_rmse)\n",
        "print('Test RMSE:', test_rmse)"
      ],
      "metadata": {
        "colab": {
          "base_uri": "https://localhost:8080/"
        },
        "outputId": "3542962c-394d-4d37-dfa2-c33489f2b118",
        "id": "6h5TEuNBo4ql"
      },
      "execution_count": 101,
      "outputs": [
        {
          "output_type": "stream",
          "name": "stdout",
          "text": [
            "Val RMSE: 1.6780225895951666\n",
            "Test RMSE: 1.9199001877585002\n"
          ]
        }
      ]
    },
    {
      "cell_type": "code",
      "source": [
        ""
      ],
      "metadata": {
        "id": "PqInN2kFXPE4"
      },
      "execution_count": null,
      "outputs": []
    }
  ]
}