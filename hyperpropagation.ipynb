{
  "nbformat": 4,
  "nbformat_minor": 0,
  "metadata": {
    "colab": {
      "name": "hyperpropagation.ipynb",
      "provenance": [],
      "collapsed_sections": [],
      "toc_visible": true,
      "authorship_tag": "ABX9TyN/vEu50BemxMos7FEflCFV",
      "include_colab_link": true
    },
    "kernelspec": {
      "name": "python3",
      "display_name": "Python 3"
    },
    "language_info": {
      "name": "python"
    },
    "accelerator": "GPU"
  },
  "cells": [
    {
      "cell_type": "markdown",
      "metadata": {
        "id": "view-in-github",
        "colab_type": "text"
      },
      "source": [
        "<a href=\"https://colab.research.google.com/github/realfolkcode/GraphRegression/blob/main/hyperpropagation.ipynb\" target=\"_parent\"><img src=\"https://colab.research.google.com/assets/colab-badge.svg\" alt=\"Open In Colab\"/></a>"
      ]
    },
    {
      "cell_type": "markdown",
      "source": [
        "# Install and Import"
      ],
      "metadata": {
        "id": "bhdQD76cGWzX"
      }
    },
    {
      "cell_type": "code",
      "execution_count": 1,
      "metadata": {
        "id": "ZKBvAeTiGNah"
      },
      "outputs": [],
      "source": [
        "import numpy as np\n",
        "import pandas as pd\n",
        "import os\n",
        "from sklearn import preprocessing\n",
        "from tqdm import tqdm\n",
        "import matplotlib.pyplot as plt\n",
        "%matplotlib inline\n",
        "\n",
        "from sklearn.metrics.pairwise import cosine_similarity\n",
        "from sklearn.neighbors import NearestNeighbors\n",
        "from sklearn.neighbors import radius_neighbors_graph\n",
        "import scipy\n",
        "from scipy.sparse.linalg import cg\n",
        "from sklearn.metrics import mean_squared_error\n",
        "from sklearn.linear_model import LinearRegression, Ridge\n",
        "import torch\n",
        "from torch import nn\n",
        "from torch.utils.data import DataLoader, TensorDataset"
      ]
    },
    {
      "cell_type": "code",
      "source": [
        "!pip install pickle5"
      ],
      "metadata": {
        "colab": {
          "base_uri": "https://localhost:8080/"
        },
        "id": "uHPoxlu9GUQo",
        "outputId": "902e48ee-b4df-46ec-9841-daf9b0c3522e"
      },
      "execution_count": 2,
      "outputs": [
        {
          "output_type": "stream",
          "name": "stdout",
          "text": [
            "Collecting pickle5\n",
            "  Downloading pickle5-0.0.12-cp37-cp37m-manylinux_2_5_x86_64.manylinux1_x86_64.whl (256 kB)\n",
            "\u001b[K     |████████████████████████████████| 256 kB 4.2 MB/s \n",
            "\u001b[?25hInstalling collected packages: pickle5\n",
            "Successfully installed pickle5-0.0.12\n"
          ]
        }
      ]
    },
    {
      "cell_type": "code",
      "source": [
        "import pickle5 as pickle"
      ],
      "metadata": {
        "id": "8lg7dc3kGVdq"
      },
      "execution_count": 3,
      "outputs": []
    },
    {
      "cell_type": "code",
      "source": [
        "!git clone https://github.com/realfolkcode/GraphRegression.git"
      ],
      "metadata": {
        "colab": {
          "base_uri": "https://localhost:8080/"
        },
        "id": "doq0XFnBSXIX",
        "outputId": "819c474a-6aa2-4c05-920f-4e9dca307ec9"
      },
      "execution_count": 4,
      "outputs": [
        {
          "output_type": "stream",
          "name": "stdout",
          "text": [
            "Cloning into 'GraphRegression'...\n",
            "remote: Enumerating objects: 15, done.\u001b[K\n",
            "remote: Counting objects: 100% (15/15), done.\u001b[K\n",
            "remote: Compressing objects: 100% (13/13), done.\u001b[K\n",
            "remote: Total 15 (delta 3), reused 8 (delta 1), pack-reused 0\u001b[K\n",
            "Unpacking objects: 100% (15/15), done.\n"
          ]
        }
      ]
    },
    {
      "cell_type": "code",
      "source": [
        "from GraphRegression.utils import set_random_seeds\n",
        "from GraphRegression.hypergraph import hyper_propagation"
      ],
      "metadata": {
        "id": "yVN5x58sUN3J"
      },
      "execution_count": 5,
      "outputs": []
    },
    {
      "cell_type": "markdown",
      "source": [
        "# Prepare Data"
      ],
      "metadata": {
        "id": "rAkdsTONGalK"
      }
    },
    {
      "cell_type": "code",
      "source": [
        "from google.colab import drive\n",
        "drive.mount('/gdrive')"
      ],
      "metadata": {
        "colab": {
          "base_uri": "https://localhost:8080/"
        },
        "id": "AuK4IBqhGWZ4",
        "outputId": "8db72f18-c33f-4978-d9a1-ab02f8682fc2"
      },
      "execution_count": 6,
      "outputs": [
        {
          "output_type": "stream",
          "name": "stdout",
          "text": [
            "Mounted at /gdrive\n"
          ]
        }
      ]
    },
    {
      "cell_type": "code",
      "source": [
        "#graphs_dir = '/gdrive/MyDrive/research/67data'\n",
        "graphs_dir = '/gdrive/MyDrive/research/processed_data'"
      ],
      "metadata": {
        "id": "Ln5ius7fGegg"
      },
      "execution_count": 7,
      "outputs": []
    },
    {
      "cell_type": "code",
      "source": [
        "X = []\n",
        "y = []\n",
        "\n",
        "idx = 0\n",
        "idx_train = []\n",
        "idx_val = []\n",
        "idx_test = []"
      ],
      "metadata": {
        "id": "7YHW6NXOQWn8"
      },
      "execution_count": 104,
      "outputs": []
    },
    {
      "cell_type": "code",
      "source": [
        "#file_name = os.path.join(graphs_dir + '/63k_train.pkl')\n",
        "file_name = os.path.join(graphs_dir + '/pdbbind2016_train.pkl')\n",
        "with open(file_name, 'rb') as f:\n",
        "    data_mols, data_Y = pickle.load(f)\n",
        "\n",
        "for mol, target in tqdm(zip(data_mols, data_Y)):\n",
        "    features = np.hstack((mol[2].sum(axis=0), mol[4]))\n",
        "    X.append(features)\n",
        "    y.append(target)\n",
        "    idx_train.append(idx)\n",
        "    idx += 1"
      ],
      "metadata": {
        "colab": {
          "base_uri": "https://localhost:8080/"
        },
        "id": "H4NIdmb1QSm4",
        "outputId": "1075ceca-1449-4e8a-a5e5-a1e8ec6e17e6"
      },
      "execution_count": 105,
      "outputs": [
        {
          "output_type": "stream",
          "name": "stderr",
          "text": [
            "3390it [00:00, 52876.85it/s]\n"
          ]
        }
      ]
    },
    {
      "cell_type": "code",
      "source": [
        "#file_name = os.path.join(graphs_dir + '/63k_val.pkl')\n",
        "file_name = os.path.join(graphs_dir + '/pdbbind2016_val.pkl')\n",
        "with open(file_name, 'rb') as f:\n",
        "    data_mols, data_Y = pickle.load(f)\n",
        "\n",
        "for mol, target in tqdm(zip(data_mols, data_Y)):\n",
        "    features = np.hstack((mol[2].sum(axis=0), mol[4]))\n",
        "    X.append(features)\n",
        "    y.append(target)\n",
        "    idx_val.append(idx)\n",
        "    idx += 1"
      ],
      "metadata": {
        "colab": {
          "base_uri": "https://localhost:8080/"
        },
        "id": "FF5j8QlyQS0h",
        "outputId": "0e12a063-345a-4626-8caf-3dc3ddb25e5b"
      },
      "execution_count": 106,
      "outputs": [
        {
          "output_type": "stream",
          "name": "stderr",
          "text": [
            "377it [00:00, 36119.80it/s]\n"
          ]
        }
      ]
    },
    {
      "cell_type": "code",
      "source": [
        "#file_name = os.path.join(graphs_dir + '/63k_test.pkl')\n",
        "file_name = os.path.join(graphs_dir + '/pdbbind2016_test.pkl')\n",
        "with open(file_name, 'rb') as f:\n",
        "    data_mols, data_Y = pickle.load(f)\n",
        "\n",
        "for mol, target in tqdm(zip(data_mols, data_Y)):\n",
        "    features = np.hstack((mol[2].sum(axis=0), mol[4]))\n",
        "    X.append(features)\n",
        "    y.append(target)\n",
        "    idx_test.append(idx)\n",
        "    idx += 1"
      ],
      "metadata": {
        "colab": {
          "base_uri": "https://localhost:8080/"
        },
        "id": "7S0WeJAOQS53",
        "outputId": "d6b08f91-3543-4d9c-f1db-64302cae93c9"
      },
      "execution_count": 107,
      "outputs": [
        {
          "output_type": "stream",
          "name": "stderr",
          "text": [
            "290it [00:00, 51087.75it/s]\n"
          ]
        }
      ]
    },
    {
      "cell_type": "code",
      "source": [
        "X = np.array(X)\n",
        "#X = preprocessing.normalize(X, norm='l1')\n",
        "scaler = preprocessing.StandardScaler()\n",
        "scaler.fit(X[idx_train])\n",
        "X = scaler.transform(X)\n",
        "y = np.array(y).reshape(-1, 1)"
      ],
      "metadata": {
        "id": "DWYf4RQrS0OP"
      },
      "execution_count": 108,
      "outputs": []
    },
    {
      "cell_type": "code",
      "source": [
        "print('Train size:', len(idx_train))\n",
        "print('Val size:', len(idx_val))\n",
        "print('Test size:', len(idx_test))"
      ],
      "metadata": {
        "colab": {
          "base_uri": "https://localhost:8080/"
        },
        "id": "hjwN0lGNGysn",
        "outputId": "d1dddc76-e72b-4395-9f7b-052ff3dd17a9"
      },
      "execution_count": 109,
      "outputs": [
        {
          "output_type": "stream",
          "name": "stdout",
          "text": [
            "Train size: 3390\n",
            "Val size: 377\n",
            "Test size: 290\n"
          ]
        }
      ]
    },
    {
      "cell_type": "code",
      "source": [
        "idx_train_val = np.hstack((idx_train, idx_val))"
      ],
      "metadata": {
        "id": "cl3f9lZGU-R8"
      },
      "execution_count": 111,
      "outputs": []
    },
    {
      "cell_type": "markdown",
      "source": [
        "# Baselines"
      ],
      "metadata": {
        "id": "Urzpa2sRUy7K"
      }
    },
    {
      "cell_type": "markdown",
      "source": [
        "## Linear Regression"
      ],
      "metadata": {
        "id": "ZGNJgkrLVj7e"
      }
    },
    {
      "cell_type": "code",
      "source": [
        "lr = Ridge(alpha=0.01, random_state=42)\n",
        "lr.fit(X[idx_train], y[idx_train])"
      ],
      "metadata": {
        "colab": {
          "base_uri": "https://localhost:8080/"
        },
        "id": "O0J8UajpR28X",
        "outputId": "3e3d3728-cc5f-4c0b-eea6-dd00e718d6dc"
      },
      "execution_count": 112,
      "outputs": [
        {
          "output_type": "execute_result",
          "data": {
            "text/plain": [
              "Ridge(alpha=0.01, random_state=42)"
            ]
          },
          "metadata": {},
          "execution_count": 112
        }
      ]
    },
    {
      "cell_type": "code",
      "source": [
        "pred_train = lr.predict(X[idx_train])\n",
        "pred_val = lr.predict(X[idx_val])\n",
        "pred_test = lr.predict(X[idx_test])"
      ],
      "metadata": {
        "id": "HrydtLhHAF1o"
      },
      "execution_count": 113,
      "outputs": []
    },
    {
      "cell_type": "code",
      "source": [
        "train_rmse = mean_squared_error(y[idx_train], pred_train, squared=False)\n",
        "val_rmse = mean_squared_error(y[idx_val], pred_val, squared=False)\n",
        "test_rmse = mean_squared_error(y[idx_test], pred_test, squared=False)"
      ],
      "metadata": {
        "id": "xKPALB3Ceo5U"
      },
      "execution_count": 114,
      "outputs": []
    },
    {
      "cell_type": "code",
      "source": [
        "print('Train RMSE:', train_rmse)\n",
        "print('Val RMSE:', val_rmse)\n",
        "print('Test RMSE:', test_rmse)"
      ],
      "metadata": {
        "colab": {
          "base_uri": "https://localhost:8080/"
        },
        "id": "trPFheieAME5",
        "outputId": "399ee10e-8519-41e6-e0f0-f397c579c930"
      },
      "execution_count": 115,
      "outputs": [
        {
          "output_type": "stream",
          "name": "stdout",
          "text": [
            "Train RMSE: 1.5255281521379414\n",
            "Val RMSE: 1.5088171577985405\n",
            "Test RMSE: 1.6315254683315492\n"
          ]
        }
      ]
    },
    {
      "cell_type": "code",
      "source": [
        "n_neighbors_space = np.arange(1, 101)\n",
        "val_rmse = []\n",
        "best_rmse = 1e9\n",
        "best_n_neighbors = n_neighbors_space[0]\n",
        "for n_neighbors in tqdm(n_neighbors_space):\n",
        "    z = hyper_propagation(X, y[idx_train], idx_train, idx_val, n_neighbors, pred_train=pred_train, pred_test=pred_val)\n",
        "    val_rmse.append(mean_squared_error(y[idx_val], z, squared=False))\n",
        "    if val_rmse[-1] < best_rmse:\n",
        "        best_n_neighbors = n_neighbors\n",
        "        best_rmse = val_rmse[-1]"
      ],
      "metadata": {
        "colab": {
          "base_uri": "https://localhost:8080/"
        },
        "id": "3QHrv5YrjyAw",
        "outputId": "cd06c81d-020d-4de6-9651-c0fd6956f1ad"
      },
      "execution_count": 116,
      "outputs": [
        {
          "output_type": "stream",
          "name": "stderr",
          "text": [
            "100%|██████████| 100/100 [00:42<00:00,  2.34it/s]\n"
          ]
        }
      ]
    },
    {
      "cell_type": "code",
      "source": [
        "plt.plot(n_neighbors_space, val_rmse)\n",
        "plt.xlabel('Number of neighbors')\n",
        "plt.ylabel('Val RMSE')\n",
        "plt.show()"
      ],
      "metadata": {
        "colab": {
          "base_uri": "https://localhost:8080/",
          "height": 279
        },
        "id": "j5GSQ6QHkwZD",
        "outputId": "93e6e938-4cf1-48b5-d54d-21ae8aebff9f"
      },
      "execution_count": 117,
      "outputs": [
        {
          "output_type": "display_data",
          "data": {
            "text/plain": [
              "<Figure size 432x288 with 1 Axes>"
            ],
            "image/png": "[encoded data removed]"
          },
          "metadata": {
            "needs_background": "light"
          }
        }
      ]
    },
    {
      "cell_type": "code",
      "source": [
        "print('Best K Neighbors:', best_n_neighbors)"
      ],
      "metadata": {
        "colab": {
          "base_uri": "https://localhost:8080/"
        },
        "id": "klSoQPsHkLBn",
        "outputId": "35d0b97c-e746-4c4d-d30a-8ae42a21c182"
      },
      "execution_count": 118,
      "outputs": [
        {
          "output_type": "stream",
          "name": "stdout",
          "text": [
            "Best K Neighbors: 7\n"
          ]
        }
      ]
    },
    {
      "cell_type": "code",
      "source": [
        "z_val = hyper_propagation(X, y[idx_train], idx_train, idx_val, best_n_neighbors, pred_train=pred_train, pred_test=pred_val)\n",
        "z_test = hyper_propagation(X, y[idx_train], idx_train, idx_test, best_n_neighbors, pred_train=pred_train, pred_test=pred_test)"
      ],
      "metadata": {
        "id": "51XzbpqnkSVO"
      },
      "execution_count": 119,
      "outputs": []
    },
    {
      "cell_type": "code",
      "source": [
        "val_rmse = mean_squared_error(y[idx_val], z_val, squared=False)\n",
        "test_rmse = mean_squared_error(y[idx_test], z_test, squared=False)"
      ],
      "metadata": {
        "id": "FQm7BoS2nkL1"
      },
      "execution_count": 120,
      "outputs": []
    },
    {
      "cell_type": "code",
      "source": [
        "print('Val RMSE:', val_rmse)\n",
        "print('Test RMSE:', test_rmse)"
      ],
      "metadata": {
        "colab": {
          "base_uri": "https://localhost:8080/"
        },
        "id": "rCRHO9-EnyKp",
        "outputId": "6fffdcd3-72ac-4048-d512-e13d9ff15725"
      },
      "execution_count": 121,
      "outputs": [
        {
          "output_type": "stream",
          "name": "stdout",
          "text": [
            "Val RMSE: 1.3368075503599655\n",
            "Test RMSE: 1.4902446725457785\n"
          ]
        }
      ]
    },
    {
      "cell_type": "markdown",
      "source": [
        "## MLP"
      ],
      "metadata": {
        "id": "EW7gfXEKILwX"
      }
    },
    {
      "cell_type": "code",
      "source": [
        "device = torch.device('cuda:0' if torch.cuda.is_available() else 'cpu')\n",
        "RANDOM_SEED = 0"
      ],
      "metadata": {
        "id": "HXQPYPOoSbm_"
      },
      "execution_count": 122,
      "outputs": []
    },
    {
      "cell_type": "code",
      "source": [
        "class MLP(nn.Module):\n",
        "    def __init__(self, n_in):\n",
        "        super().__init__()\n",
        "        self.features = nn.Sequential(\n",
        "            nn.Linear(n_in, 16),\n",
        "            nn.ReLU(),\n",
        "            nn.Linear(16, 16),\n",
        "            nn.ReLU(),\n",
        "        )\n",
        "        self.regressor = nn.Linear(16, 1)\n",
        "    \n",
        "    def forward(self, x):\n",
        "        x = self.features(x)\n",
        "        x = self.regressor(x)\n",
        "        return x\n",
        "    \n",
        "    def get_emb(self, x):\n",
        "        x = self.features(x)\n",
        "        return x"
      ],
      "metadata": {
        "id": "1sMzXIh9IM5X"
      },
      "execution_count": 123,
      "outputs": []
    },
    {
      "cell_type": "code",
      "source": [
        "def epoch_train(model, loader, criterion, opt):\n",
        "    train_loss = 0\n",
        "    model.train()\n",
        "    for data, target in loader:\n",
        "        data = data.to(device)\n",
        "        target = target.to(device)\n",
        "        output = model(data)\n",
        "        loss = criterion(output, target)\n",
        "        opt.zero_grad()\n",
        "        loss.backward()\n",
        "        opt.step()\n",
        "        train_loss += loss.item() * len(target)\n",
        "    train_loss /= len(loader.dataset)\n",
        "    return train_loss"
      ],
      "metadata": {
        "id": "wuhe8IDjNQ-A"
      },
      "execution_count": 124,
      "outputs": []
    },
    {
      "cell_type": "code",
      "source": [
        "def epoch_val(model, loader, criterion):\n",
        "    val_loss = 0\n",
        "    model.eval()\n",
        "    with torch.no_grad():\n",
        "        for data, target in loader:\n",
        "            data = data.to(device)\n",
        "            target = target.to(device)\n",
        "            output = model(data)\n",
        "            val_loss += criterion(output, target).item() * len(target)\n",
        "    val_loss /= len(loader.dataset)\n",
        "    return val_loss"
      ],
      "metadata": {
        "id": "dW7abmTkNSeT"
      },
      "execution_count": 125,
      "outputs": []
    },
    {
      "cell_type": "code",
      "source": [
        "set_random_seeds(seed_value=RANDOM_SEED, device=device)\n",
        "\n",
        "mlp = MLP(72).to(device)"
      ],
      "metadata": {
        "id": "B7DWcuCGNUDv"
      },
      "execution_count": 150,
      "outputs": []
    },
    {
      "cell_type": "code",
      "source": [
        "criterion = nn.MSELoss()\n",
        "opt = torch.optim.Adam(mlp.parameters(), lr=0.1)\n",
        "scheduler = torch.optim.lr_scheduler.StepLR(opt, step_size=50, gamma=0.5)"
      ],
      "metadata": {
        "id": "7tzuDN5XSfVs"
      },
      "execution_count": 151,
      "outputs": []
    },
    {
      "cell_type": "code",
      "source": [
        "batch_size = 128\n",
        "\n",
        "train_loader = DataLoader(TensorDataset(torch.Tensor(X[idx_train]), torch.Tensor(y[idx_train])), batch_size=batch_size, shuffle=True)\n",
        "val_loader = DataLoader(TensorDataset(torch.Tensor(X[idx_val]), torch.Tensor(y[idx_val])), batch_size=batch_size, shuffle=False)\n",
        "test_loader = DataLoader(TensorDataset(torch.Tensor(X[idx_test]), torch.Tensor(y[idx_test])), batch_size=batch_size, shuffle=False)"
      ],
      "metadata": {
        "id": "Z8x6T0qqSh0a"
      },
      "execution_count": 152,
      "outputs": []
    },
    {
      "cell_type": "code",
      "source": [
        "num_epochs = 53\n",
        "\n",
        "train_loss = []\n",
        "val_loss = []\n",
        "best_epoch = 0\n",
        "best_loss = 1e9\n",
        "\n",
        "for i in tqdm(range(num_epochs)):\n",
        "    loss = np.sqrt(epoch_train(mlp, train_loader, criterion, opt))\n",
        "    train_loss.append(loss)\n",
        "\n",
        "    loss = np.sqrt(epoch_val(mlp, val_loader, criterion))\n",
        "    val_loss.append(loss)\n",
        "    if loss < best_loss:\n",
        "        best_epoch = i\n",
        "        best_loss = loss\n",
        "    \n",
        "    scheduler.step()\n",
        "    \n",
        "    print('---------------------------------------------------------')\n",
        "    print(f'Epoch: {i}, Train RMSE: {train_loss[-1]}, Val RMSE: {val_loss[-1]}, Best RMSE: {best_loss}')"
      ],
      "metadata": {
        "colab": {
          "base_uri": "https://localhost:8080/"
        },
        "id": "Dtx2IGY1SkUE",
        "outputId": "40fa710a-2b19-4280-b455-c79afe811d7b"
      },
      "execution_count": 153,
      "outputs": [
        {
          "output_type": "stream",
          "name": "stderr",
          "text": [
            "  4%|▍         | 2/53 [00:00<00:03, 12.94it/s]"
          ]
        },
        {
          "output_type": "stream",
          "name": "stdout",
          "text": [
            "---------------------------------------------------------\n",
            "Epoch: 0, Train RMSE: 3.399602320930779, Val RMSE: 2.2894984414928974, Best RMSE: 2.2894984414928974\n",
            "---------------------------------------------------------\n",
            "Epoch: 1, Train RMSE: 1.9178912387833076, Val RMSE: 1.7626470197224722, Best RMSE: 1.7626470197224722\n",
            "---------------------------------------------------------\n",
            "Epoch: 2, Train RMSE: 1.7229497818878758, Val RMSE: 1.6193034380967788, Best RMSE: 1.6193034380967788\n"
          ]
        },
        {
          "output_type": "stream",
          "name": "stderr",
          "text": [
            " 11%|█▏        | 6/53 [00:00<00:03, 12.68it/s]"
          ]
        },
        {
          "output_type": "stream",
          "name": "stdout",
          "text": [
            "---------------------------------------------------------\n",
            "Epoch: 3, Train RMSE: 1.6262498967462244, Val RMSE: 1.688861662009478, Best RMSE: 1.6193034380967788\n",
            "---------------------------------------------------------\n",
            "Epoch: 4, Train RMSE: 1.6700625172664094, Val RMSE: 1.5451821172930604, Best RMSE: 1.5451821172930604\n",
            "---------------------------------------------------------\n",
            "Epoch: 5, Train RMSE: 1.5636201029593582, Val RMSE: 1.5458763496051309, Best RMSE: 1.5451821172930604\n"
          ]
        },
        {
          "output_type": "stream",
          "name": "stderr",
          "text": [
            "\r 15%|█▌        | 8/53 [00:00<00:03, 12.28it/s]"
          ]
        },
        {
          "output_type": "stream",
          "name": "stdout",
          "text": [
            "---------------------------------------------------------\n",
            "Epoch: 6, Train RMSE: 1.5436455961785074, Val RMSE: 1.5737545637367314, Best RMSE: 1.5451821172930604\n",
            "---------------------------------------------------------\n",
            "Epoch: 7, Train RMSE: 1.570939786852302, Val RMSE: 1.5993452711756548, Best RMSE: 1.5451821172930604\n",
            "---------------------------------------------------------\n",
            "Epoch: 8, Train RMSE: 1.5397735847591951, Val RMSE: 1.479674836183899, Best RMSE: 1.479674836183899\n"
          ]
        },
        {
          "output_type": "stream",
          "name": "stderr",
          "text": [
            "\r 19%|█▉        | 10/53 [00:00<00:04,  9.80it/s]"
          ]
        },
        {
          "output_type": "stream",
          "name": "stdout",
          "text": [
            "---------------------------------------------------------\n",
            "Epoch: 9, Train RMSE: 1.4957919048232222, Val RMSE: 1.5138020554527798, Best RMSE: 1.479674836183899\n",
            "---------------------------------------------------------\n",
            "Epoch: 10, Train RMSE: 1.4743081690259332, Val RMSE: 1.4892859428141976, Best RMSE: 1.479674836183899\n"
          ]
        },
        {
          "output_type": "stream",
          "name": "stderr",
          "text": [
            " 25%|██▍       | 13/53 [00:01<00:04,  8.03it/s]"
          ]
        },
        {
          "output_type": "stream",
          "name": "stdout",
          "text": [
            "---------------------------------------------------------\n",
            "Epoch: 11, Train RMSE: 1.47361276624067, Val RMSE: 1.4782035640026268, Best RMSE: 1.4782035640026268\n",
            "---------------------------------------------------------\n",
            "Epoch: 12, Train RMSE: 1.5219939280631005, Val RMSE: 1.490085749568578, Best RMSE: 1.4782035640026268\n",
            "---------------------------------------------------------\n",
            "Epoch: 13, Train RMSE: 1.4806465156391349, Val RMSE: 1.4448539794720057, Best RMSE: 1.4448539794720057\n"
          ]
        },
        {
          "output_type": "stream",
          "name": "stderr",
          "text": [
            " 34%|███▍      | 18/53 [00:01<00:02, 12.94it/s]"
          ]
        },
        {
          "output_type": "stream",
          "name": "stdout",
          "text": [
            "---------------------------------------------------------\n",
            "Epoch: 14, Train RMSE: 1.4533025114981473, Val RMSE: 1.461431137417128, Best RMSE: 1.4448539794720057\n",
            "---------------------------------------------------------\n",
            "Epoch: 15, Train RMSE: 1.435237624382775, Val RMSE: 1.511619461856149, Best RMSE: 1.4448539794720057\n",
            "---------------------------------------------------------\n",
            "Epoch: 16, Train RMSE: 1.448656718326999, Val RMSE: 1.4570336834439221, Best RMSE: 1.4448539794720057\n",
            "---------------------------------------------------------\n",
            "Epoch: 17, Train RMSE: 1.42845825340646, Val RMSE: 1.4552706866352354, Best RMSE: 1.4448539794720057\n",
            "---------------------------------------------------------\n",
            "Epoch: 18, Train RMSE: 1.422438181832384, Val RMSE: 1.505728470573485, Best RMSE: 1.4448539794720057\n"
          ]
        },
        {
          "output_type": "stream",
          "name": "stderr",
          "text": [
            " 45%|████▌     | 24/53 [00:01<00:01, 17.20it/s]"
          ]
        },
        {
          "output_type": "stream",
          "name": "stdout",
          "text": [
            "---------------------------------------------------------\n",
            "Epoch: 19, Train RMSE: 1.4486048643590121, Val RMSE: 1.4900259128771063, Best RMSE: 1.4448539794720057\n",
            "---------------------------------------------------------\n",
            "Epoch: 20, Train RMSE: 1.411834420758284, Val RMSE: 1.497979477908772, Best RMSE: 1.4448539794720057\n",
            "---------------------------------------------------------\n",
            "Epoch: 21, Train RMSE: 1.4258990623944392, Val RMSE: 1.4359687658394429, Best RMSE: 1.4359687658394429\n",
            "---------------------------------------------------------\n",
            "Epoch: 22, Train RMSE: 1.423103306470883, Val RMSE: 1.4045605749949384, Best RMSE: 1.4045605749949384\n",
            "---------------------------------------------------------\n",
            "Epoch: 23, Train RMSE: 1.428006413928054, Val RMSE: 1.471071592027963, Best RMSE: 1.4045605749949384\n"
          ]
        },
        {
          "output_type": "stream",
          "name": "stderr",
          "text": [
            "\r 51%|█████     | 27/53 [00:02<00:01, 18.25it/s]"
          ]
        },
        {
          "output_type": "stream",
          "name": "stdout",
          "text": [
            "---------------------------------------------------------\n",
            "Epoch: 24, Train RMSE: 1.458642563657778, Val RMSE: 1.5834450461098444, Best RMSE: 1.4045605749949384\n",
            "---------------------------------------------------------\n",
            "Epoch: 25, Train RMSE: 1.4709381157393873, Val RMSE: 1.4290902266848051, Best RMSE: 1.4045605749949384\n",
            "---------------------------------------------------------\n",
            "Epoch: 26, Train RMSE: 1.4442873462799497, Val RMSE: 1.4704659855218072, Best RMSE: 1.4045605749949384\n",
            "---------------------------------------------------------\n",
            "Epoch: 27, Train RMSE: 1.4194322352943713, Val RMSE: 1.4286248154564567, Best RMSE: 1.4045605749949384\n",
            "---------------------------------------------------------\n",
            "Epoch: 28, Train RMSE: 1.4090822407402197, Val RMSE: 1.4223740921247618, Best RMSE: 1.4045605749949384\n"
          ]
        },
        {
          "output_type": "stream",
          "name": "stderr",
          "text": [
            " 62%|██████▏   | 33/53 [00:02<00:01, 19.92it/s]"
          ]
        },
        {
          "output_type": "stream",
          "name": "stdout",
          "text": [
            "---------------------------------------------------------\n",
            "Epoch: 29, Train RMSE: 1.4096853982422755, Val RMSE: 1.4556998395129743, Best RMSE: 1.4045605749949384\n",
            "---------------------------------------------------------\n",
            "Epoch: 30, Train RMSE: 1.3833188100838714, Val RMSE: 1.435320285617206, Best RMSE: 1.4045605749949384\n",
            "---------------------------------------------------------\n",
            "Epoch: 31, Train RMSE: 1.3761977622163986, Val RMSE: 1.4134587290955223, Best RMSE: 1.4045605749949384\n",
            "---------------------------------------------------------\n",
            "Epoch: 32, Train RMSE: 1.3965910973963664, Val RMSE: 1.4346774291880284, Best RMSE: 1.4045605749949384\n",
            "---------------------------------------------------------\n",
            "Epoch: 33, Train RMSE: 1.392814099353761, Val RMSE: 1.4878199906863205, Best RMSE: 1.4045605749949384\n"
          ]
        },
        {
          "output_type": "stream",
          "name": "stderr",
          "text": [
            " 74%|███████▎  | 39/53 [00:02<00:00, 20.51it/s]"
          ]
        },
        {
          "output_type": "stream",
          "name": "stdout",
          "text": [
            "---------------------------------------------------------\n",
            "Epoch: 34, Train RMSE: 1.4053693510872887, Val RMSE: 1.4849171672062706, Best RMSE: 1.4045605749949384\n",
            "---------------------------------------------------------\n",
            "Epoch: 35, Train RMSE: 1.4330627794462745, Val RMSE: 1.3851290511841792, Best RMSE: 1.3851290511841792\n",
            "---------------------------------------------------------\n",
            "Epoch: 36, Train RMSE: 1.3865342205509972, Val RMSE: 1.387125457284529, Best RMSE: 1.3851290511841792\n",
            "---------------------------------------------------------\n",
            "Epoch: 37, Train RMSE: 1.36848051412068, Val RMSE: 1.3973452760552127, Best RMSE: 1.3851290511841792\n",
            "---------------------------------------------------------\n",
            "Epoch: 38, Train RMSE: 1.3636104256199753, Val RMSE: 1.4191205189923246, Best RMSE: 1.3851290511841792\n"
          ]
        },
        {
          "output_type": "stream",
          "name": "stderr",
          "text": [
            "\r 79%|███████▉  | 42/53 [00:02<00:00, 20.75it/s]"
          ]
        },
        {
          "output_type": "stream",
          "name": "stdout",
          "text": [
            "---------------------------------------------------------\n",
            "Epoch: 39, Train RMSE: 1.3507919317843653, Val RMSE: 1.4152788216506595, Best RMSE: 1.3851290511841792\n",
            "---------------------------------------------------------\n",
            "Epoch: 40, Train RMSE: 1.4108911301887928, Val RMSE: 1.4766131750223357, Best RMSE: 1.3851290511841792\n",
            "---------------------------------------------------------\n",
            "Epoch: 41, Train RMSE: 1.3561005865946412, Val RMSE: 1.4026970145165565, Best RMSE: 1.3851290511841792\n",
            "---------------------------------------------------------\n",
            "Epoch: 42, Train RMSE: 1.3446152085398904, Val RMSE: 1.4056027213142037, Best RMSE: 1.3851290511841792\n",
            "---------------------------------------------------------\n",
            "Epoch: 43, Train RMSE: 1.3665689263989451, Val RMSE: 1.3512314130223193, Best RMSE: 1.3512314130223193\n"
          ]
        },
        {
          "output_type": "stream",
          "name": "stderr",
          "text": [
            " 91%|█████████ | 48/53 [00:03<00:00, 20.32it/s]"
          ]
        },
        {
          "output_type": "stream",
          "name": "stdout",
          "text": [
            "---------------------------------------------------------\n",
            "Epoch: 44, Train RMSE: 1.3618705898627887, Val RMSE: 1.4559261360684417, Best RMSE: 1.3512314130223193\n",
            "---------------------------------------------------------\n",
            "Epoch: 45, Train RMSE: 1.3721460150468694, Val RMSE: 1.494788680336878, Best RMSE: 1.3512314130223193\n",
            "---------------------------------------------------------\n",
            "Epoch: 46, Train RMSE: 1.3624887357927893, Val RMSE: 1.4271745735993673, Best RMSE: 1.3512314130223193\n",
            "---------------------------------------------------------\n",
            "Epoch: 47, Train RMSE: 1.3471924465161085, Val RMSE: 1.3909959068508866, Best RMSE: 1.3512314130223193\n"
          ]
        },
        {
          "output_type": "stream",
          "name": "stderr",
          "text": [
            "100%|██████████| 53/53 [00:03<00:00, 16.18it/s]"
          ]
        },
        {
          "output_type": "stream",
          "name": "stdout",
          "text": [
            "---------------------------------------------------------\n",
            "Epoch: 48, Train RMSE: 1.3471818842873329, Val RMSE: 1.3546366623903683, Best RMSE: 1.3512314130223193\n",
            "---------------------------------------------------------\n",
            "Epoch: 49, Train RMSE: 1.3525591333972158, Val RMSE: 1.3576313068124635, Best RMSE: 1.3512314130223193\n",
            "---------------------------------------------------------\n",
            "Epoch: 50, Train RMSE: 1.3090287975889756, Val RMSE: 1.3357000097697738, Best RMSE: 1.3357000097697738\n",
            "---------------------------------------------------------\n",
            "Epoch: 51, Train RMSE: 1.2871615198637667, Val RMSE: 1.3158226973168097, Best RMSE: 1.3158226973168097\n",
            "---------------------------------------------------------\n",
            "Epoch: 52, Train RMSE: 1.2722005634208486, Val RMSE: 1.36966266293868, Best RMSE: 1.3158226973168097\n"
          ]
        },
        {
          "output_type": "stream",
          "name": "stderr",
          "text": [
            "\n"
          ]
        }
      ]
    },
    {
      "cell_type": "code",
      "source": [
        "pred_train = mlp(torch.Tensor(X[idx_train]).to(device)).detach().cpu().numpy()\n",
        "pred_val = mlp(torch.Tensor(X[idx_val]).to(device)).detach().cpu().numpy()\n",
        "pred_test = mlp(torch.Tensor(X[idx_test]).to(device)).detach().cpu().numpy()"
      ],
      "metadata": {
        "id": "GXKd5aAiT5Au"
      },
      "execution_count": 154,
      "outputs": []
    },
    {
      "cell_type": "code",
      "source": [
        "train_rmse = mean_squared_error(y[idx_train], pred_train, squared=False)\n",
        "val_rmse = mean_squared_error(y[idx_val], pred_val, squared=False)\n",
        "test_rmse = mean_squared_error(y[idx_test], pred_test, squared=False)"
      ],
      "metadata": {
        "id": "PL1rqCeBoMIY"
      },
      "execution_count": 155,
      "outputs": []
    },
    {
      "cell_type": "code",
      "source": [
        "print('Train RMSE:', train_rmse)\n",
        "print('Val RMSE:', val_rmse)\n",
        "print('Test RMSE:', test_rmse)"
      ],
      "metadata": {
        "colab": {
          "base_uri": "https://localhost:8080/"
        },
        "id": "hU53PW5hoJMk",
        "outputId": "579b5bd7-5f20-46e7-c52f-b576c597bb46"
      },
      "execution_count": 156,
      "outputs": [
        {
          "output_type": "stream",
          "name": "stdout",
          "text": [
            "Train RMSE: 1.2556439135045767\n",
            "Val RMSE: 1.3696626783846924\n",
            "Test RMSE: 1.5178031039992823\n"
          ]
        }
      ]
    },
    {
      "cell_type": "code",
      "source": [
        "n_neighbors_space = np.arange(1, 101)\n",
        "val_rmse = []\n",
        "best_rmse = 1e9\n",
        "best_n_neighbors = n_neighbors_space[0]\n",
        "for n_neighbors in tqdm(n_neighbors_space):\n",
        "    z = hyper_propagation(X, y[idx_train], idx_train, idx_val, n_neighbors, pred_train=pred_train, pred_test=pred_val)\n",
        "    val_rmse.append(mean_squared_error(y[idx_val], z, squared=False))\n",
        "    if val_rmse[-1] < best_rmse:\n",
        "        best_n_neighbors = n_neighbors\n",
        "        best_rmse = val_rmse[-1]"
      ],
      "metadata": {
        "colab": {
          "base_uri": "https://localhost:8080/"
        },
        "id": "OHHFPkJioUPO",
        "outputId": "56560a49-7b36-4669-91e0-607e7cf50452"
      },
      "execution_count": 157,
      "outputs": [
        {
          "output_type": "stream",
          "name": "stderr",
          "text": [
            "100%|██████████| 100/100 [00:42<00:00,  2.35it/s]\n"
          ]
        }
      ]
    },
    {
      "cell_type": "code",
      "source": [
        "plt.plot(n_neighbors_space, val_rmse)\n",
        "plt.xlabel('Number of neighbors')\n",
        "plt.ylabel('Val RMSE')\n",
        "plt.show()"
      ],
      "metadata": {
        "colab": {
          "base_uri": "https://localhost:8080/",
          "height": 279
        },
        "id": "T7pyEqEBoaX0",
        "outputId": "993b8341-b00b-43db-ad7a-93847c1ae827"
      },
      "execution_count": 158,
      "outputs": [
        {
          "output_type": "display_data",
          "data": {
            "text/plain": [
              "<Figure size 432x288 with 1 Axes>"
            ],
            "image/png": "[encoded data removed]"
          },
          "metadata": {
            "needs_background": "light"
          }
        }
      ]
    },
    {
      "cell_type": "code",
      "source": [
        "print('Best K Neighbors:', best_n_neighbors)"
      ],
      "metadata": {
        "colab": {
          "base_uri": "https://localhost:8080/"
        },
        "outputId": "33eda025-999c-4381-a727-906b6b88ea2d",
        "id": "gTcTmkWXojQJ"
      },
      "execution_count": 159,
      "outputs": [
        {
          "output_type": "stream",
          "name": "stdout",
          "text": [
            "Best K Neighbors: 10\n"
          ]
        }
      ]
    },
    {
      "cell_type": "code",
      "source": [
        "z_val = hyper_propagation(X, y[idx_train], idx_train, idx_val, best_n_neighbors, pred_train=pred_train, pred_test=pred_val)\n",
        "z_test = hyper_propagation(X, y[idx_train], idx_train, idx_test, best_n_neighbors, pred_train=pred_train, pred_test=pred_test)"
      ],
      "metadata": {
        "id": "38TMXUfqojQL"
      },
      "execution_count": 160,
      "outputs": []
    },
    {
      "cell_type": "code",
      "source": [
        "val_rmse = mean_squared_error(y[idx_val], z_val, squared=False)\n",
        "test_rmse = mean_squared_error(y[idx_test], z_test, squared=False)"
      ],
      "metadata": {
        "id": "EYFs97ANojQL"
      },
      "execution_count": 161,
      "outputs": []
    },
    {
      "cell_type": "code",
      "source": [
        "print('Val RMSE:', val_rmse)\n",
        "print('Test RMSE:', test_rmse)"
      ],
      "metadata": {
        "colab": {
          "base_uri": "https://localhost:8080/"
        },
        "outputId": "40f2e1f8-54e8-42eb-fedf-40236707edd4",
        "id": "brY5EmgNojQM"
      },
      "execution_count": 162,
      "outputs": [
        {
          "output_type": "stream",
          "name": "stdout",
          "text": [
            "Val RMSE: 1.3055228849813998\n",
            "Test RMSE: 1.4824734620013196\n"
          ]
        }
      ]
    },
    {
      "cell_type": "markdown",
      "source": [
        "## CatBoost"
      ],
      "metadata": {
        "id": "lq0KJjwjVmoW"
      }
    },
    {
      "cell_type": "code",
      "source": [
        "!pip install catboost"
      ],
      "metadata": {
        "colab": {
          "base_uri": "https://localhost:8080/"
        },
        "id": "qcP6tBZdVor6",
        "outputId": "77ef2f22-06af-4f32-c86d-239608d2ceee"
      },
      "execution_count": 163,
      "outputs": [
        {
          "output_type": "stream",
          "name": "stdout",
          "text": [
            "Requirement already satisfied: catboost in /usr/local/lib/python3.7/dist-packages (1.0.4)\n",
            "Requirement already satisfied: scipy in /usr/local/lib/python3.7/dist-packages (from catboost) (1.4.1)\n",
            "Requirement already satisfied: six in /usr/local/lib/python3.7/dist-packages (from catboost) (1.15.0)\n",
            "Requirement already satisfied: numpy>=1.16.0 in /usr/local/lib/python3.7/dist-packages (from catboost) (1.21.5)\n",
            "Requirement already satisfied: plotly in /usr/local/lib/python3.7/dist-packages (from catboost) (5.5.0)\n",
            "Requirement already satisfied: graphviz in /usr/local/lib/python3.7/dist-packages (from catboost) (0.10.1)\n",
            "Requirement already satisfied: pandas>=0.24.0 in /usr/local/lib/python3.7/dist-packages (from catboost) (1.3.5)\n",
            "Requirement already satisfied: matplotlib in /usr/local/lib/python3.7/dist-packages (from catboost) (3.2.2)\n",
            "Requirement already satisfied: python-dateutil>=2.7.3 in /usr/local/lib/python3.7/dist-packages (from pandas>=0.24.0->catboost) (2.8.2)\n",
            "Requirement already satisfied: pytz>=2017.3 in /usr/local/lib/python3.7/dist-packages (from pandas>=0.24.0->catboost) (2018.9)\n",
            "Requirement already satisfied: pyparsing!=2.0.4,!=2.1.2,!=2.1.6,>=2.0.1 in /usr/local/lib/python3.7/dist-packages (from matplotlib->catboost) (3.0.7)\n",
            "Requirement already satisfied: cycler>=0.10 in /usr/local/lib/python3.7/dist-packages (from matplotlib->catboost) (0.11.0)\n",
            "Requirement already satisfied: kiwisolver>=1.0.1 in /usr/local/lib/python3.7/dist-packages (from matplotlib->catboost) (1.4.0)\n",
            "Requirement already satisfied: typing-extensions in /usr/local/lib/python3.7/dist-packages (from kiwisolver>=1.0.1->matplotlib->catboost) (3.10.0.2)\n",
            "Requirement already satisfied: tenacity>=6.2.0 in /usr/local/lib/python3.7/dist-packages (from plotly->catboost) (8.0.1)\n"
          ]
        }
      ]
    },
    {
      "cell_type": "code",
      "source": [
        "from catboost import CatBoostRegressor, CatBoostClassifier, Pool"
      ],
      "metadata": {
        "id": "vmUhUUAEVxdi"
      },
      "execution_count": 164,
      "outputs": []
    },
    {
      "cell_type": "code",
      "source": [
        "cb = CatBoostRegressor(iterations=1000,\n",
        "                       random_state=42,\n",
        "                       l2_leaf_reg=50,\n",
        "                       learning_rate=0.3,\n",
        "                       use_best_model=True)"
      ],
      "metadata": {
        "id": "4GaoJoFPVxgh"
      },
      "execution_count": 165,
      "outputs": []
    },
    {
      "cell_type": "code",
      "source": [
        "cb.fit(X[idx_train], y[idx_train],\n",
        "       eval_set=(X[idx_val], y[idx_val]))"
      ],
      "metadata": {
        "colab": {
          "base_uri": "https://localhost:8080/"
        },
        "id": "UQt2o8XcVzHq",
        "outputId": "c9db10c7-b42f-4562-d43b-cac193132fc6"
      },
      "execution_count": 166,
      "outputs": [
        {
          "output_type": "stream",
          "name": "stdout",
          "text": [
            "0:\tlearn: 1.8434877\ttest: 1.8007189\tbest: 1.8007189 (0)\ttotal: 15.2ms\tremaining: 15.2s\n",
            "1:\tlearn: 1.7432884\ttest: 1.7095926\tbest: 1.7095926 (1)\ttotal: 24.2ms\tremaining: 12.1s\n",
            "2:\tlearn: 1.6646884\ttest: 1.6376026\tbest: 1.6376026 (2)\ttotal: 33ms\tremaining: 11s\n",
            "3:\tlearn: 1.6134709\ttest: 1.5903172\tbest: 1.5903172 (3)\ttotal: 41.3ms\tremaining: 10.3s\n",
            "4:\tlearn: 1.5752437\ttest: 1.5524864\tbest: 1.5524864 (4)\ttotal: 49.6ms\tremaining: 9.87s\n",
            "5:\tlearn: 1.5473020\ttest: 1.5324089\tbest: 1.5324089 (5)\ttotal: 57.8ms\tremaining: 9.58s\n",
            "6:\tlearn: 1.5266596\ttest: 1.5188108\tbest: 1.5188108 (6)\ttotal: 66.2ms\tremaining: 9.39s\n",
            "7:\tlearn: 1.5088212\ttest: 1.5032555\tbest: 1.5032555 (7)\ttotal: 74.3ms\tremaining: 9.21s\n",
            "8:\tlearn: 1.4931945\ttest: 1.4850648\tbest: 1.4850648 (8)\ttotal: 82.6ms\tremaining: 9.09s\n",
            "9:\tlearn: 1.4745577\ttest: 1.4697968\tbest: 1.4697968 (9)\ttotal: 91.1ms\tremaining: 9.02s\n",
            "10:\tlearn: 1.4663273\ttest: 1.4638915\tbest: 1.4638915 (10)\ttotal: 99.1ms\tremaining: 8.91s\n",
            "11:\tlearn: 1.4613598\ttest: 1.4632248\tbest: 1.4632248 (11)\ttotal: 107ms\tremaining: 8.82s\n",
            "12:\tlearn: 1.4564050\ttest: 1.4622737\tbest: 1.4622737 (12)\ttotal: 115ms\tremaining: 8.75s\n",
            "13:\tlearn: 1.4487143\ttest: 1.4529310\tbest: 1.4529310 (13)\ttotal: 123ms\tremaining: 8.69s\n",
            "14:\tlearn: 1.4384191\ttest: 1.4448314\tbest: 1.4448314 (14)\ttotal: 131ms\tremaining: 8.63s\n",
            "15:\tlearn: 1.4344311\ttest: 1.4468321\tbest: 1.4448314 (14)\ttotal: 140ms\tremaining: 8.58s\n",
            "16:\tlearn: 1.4299667\ttest: 1.4460082\tbest: 1.4448314 (14)\ttotal: 148ms\tremaining: 8.55s\n",
            "17:\tlearn: 1.4260934\ttest: 1.4443474\tbest: 1.4443474 (17)\ttotal: 156ms\tremaining: 8.51s\n",
            "18:\tlearn: 1.4184078\ttest: 1.4357852\tbest: 1.4357852 (18)\ttotal: 164ms\tremaining: 8.47s\n",
            "19:\tlearn: 1.4171957\ttest: 1.4349556\tbest: 1.4349556 (19)\ttotal: 172ms\tremaining: 8.43s\n",
            "20:\tlearn: 1.4124441\ttest: 1.4340368\tbest: 1.4340368 (20)\ttotal: 181ms\tremaining: 8.42s\n",
            "21:\tlearn: 1.4056306\ttest: 1.4287944\tbest: 1.4287944 (21)\ttotal: 189ms\tremaining: 8.39s\n",
            "22:\tlearn: 1.4013531\ttest: 1.4242014\tbest: 1.4242014 (22)\ttotal: 197ms\tremaining: 8.38s\n",
            "23:\tlearn: 1.4006805\ttest: 1.4240979\tbest: 1.4240979 (23)\ttotal: 205ms\tremaining: 8.35s\n",
            "24:\tlearn: 1.3999419\ttest: 1.4235436\tbest: 1.4235436 (24)\ttotal: 217ms\tremaining: 8.47s\n",
            "25:\tlearn: 1.3925646\ttest: 1.4213439\tbest: 1.4213439 (25)\ttotal: 227ms\tremaining: 8.49s\n",
            "26:\tlearn: 1.3922501\ttest: 1.4215040\tbest: 1.4213439 (25)\ttotal: 235ms\tremaining: 8.46s\n",
            "27:\tlearn: 1.3915868\ttest: 1.4211173\tbest: 1.4211173 (27)\ttotal: 243ms\tremaining: 8.42s\n",
            "28:\tlearn: 1.3901877\ttest: 1.4202481\tbest: 1.4202481 (28)\ttotal: 250ms\tremaining: 8.38s\n",
            "29:\tlearn: 1.3887219\ttest: 1.4205179\tbest: 1.4202481 (28)\ttotal: 258ms\tremaining: 8.34s\n",
            "30:\tlearn: 1.3867190\ttest: 1.4192332\tbest: 1.4192332 (30)\ttotal: 266ms\tremaining: 8.3s\n",
            "31:\tlearn: 1.3855554\ttest: 1.4190073\tbest: 1.4190073 (31)\ttotal: 274ms\tremaining: 8.28s\n",
            "32:\tlearn: 1.3771934\ttest: 1.4139832\tbest: 1.4139832 (32)\ttotal: 282ms\tremaining: 8.27s\n",
            "33:\tlearn: 1.3758449\ttest: 1.4140704\tbest: 1.4139832 (32)\ttotal: 290ms\tremaining: 8.24s\n",
            "34:\tlearn: 1.3752942\ttest: 1.4141507\tbest: 1.4139832 (32)\ttotal: 298ms\tremaining: 8.21s\n",
            "35:\tlearn: 1.3723536\ttest: 1.4137047\tbest: 1.4137047 (35)\ttotal: 306ms\tremaining: 8.19s\n",
            "36:\tlearn: 1.3698147\ttest: 1.4143808\tbest: 1.4137047 (35)\ttotal: 314ms\tremaining: 8.17s\n",
            "37:\tlearn: 1.3693503\ttest: 1.4144901\tbest: 1.4137047 (35)\ttotal: 322ms\tremaining: 8.15s\n",
            "38:\tlearn: 1.3690451\ttest: 1.4142356\tbest: 1.4137047 (35)\ttotal: 330ms\tremaining: 8.12s\n",
            "39:\tlearn: 1.3685877\ttest: 1.4143556\tbest: 1.4137047 (35)\ttotal: 337ms\tremaining: 8.1s\n",
            "40:\tlearn: 1.3679295\ttest: 1.4128201\tbest: 1.4128201 (40)\ttotal: 345ms\tremaining: 8.07s\n",
            "41:\tlearn: 1.3647754\ttest: 1.4101510\tbest: 1.4101510 (41)\ttotal: 353ms\tremaining: 8.06s\n",
            "42:\tlearn: 1.3644258\ttest: 1.4098256\tbest: 1.4098256 (42)\ttotal: 361ms\tremaining: 8.04s\n",
            "43:\tlearn: 1.3639950\ttest: 1.4100532\tbest: 1.4098256 (42)\ttotal: 369ms\tremaining: 8.02s\n",
            "44:\tlearn: 1.3635814\ttest: 1.4107478\tbest: 1.4098256 (42)\ttotal: 377ms\tremaining: 8s\n",
            "45:\tlearn: 1.3582950\ttest: 1.4077986\tbest: 1.4077986 (45)\ttotal: 385ms\tremaining: 7.99s\n",
            "46:\tlearn: 1.3579283\ttest: 1.4079529\tbest: 1.4077986 (45)\ttotal: 406ms\tremaining: 8.22s\n",
            "47:\tlearn: 1.3551463\ttest: 1.4060192\tbest: 1.4060192 (47)\ttotal: 415ms\tremaining: 8.23s\n",
            "48:\tlearn: 1.3547018\ttest: 1.4055815\tbest: 1.4055815 (48)\ttotal: 423ms\tremaining: 8.2s\n",
            "49:\tlearn: 1.3489681\ttest: 1.4048303\tbest: 1.4048303 (49)\ttotal: 431ms\tremaining: 8.19s\n",
            "50:\tlearn: 1.3418392\ttest: 1.4038241\tbest: 1.4038241 (50)\ttotal: 440ms\tremaining: 8.18s\n",
            "51:\tlearn: 1.3365575\ttest: 1.4015168\tbest: 1.4015168 (51)\ttotal: 448ms\tremaining: 8.16s\n",
            "52:\tlearn: 1.3283016\ttest: 1.3955710\tbest: 1.3955710 (52)\ttotal: 456ms\tremaining: 8.14s\n",
            "53:\tlearn: 1.3279042\ttest: 1.3959509\tbest: 1.3955710 (52)\ttotal: 463ms\tremaining: 8.12s\n",
            "54:\tlearn: 1.3230648\ttest: 1.3934412\tbest: 1.3934412 (54)\ttotal: 471ms\tremaining: 8.1s\n",
            "55:\tlearn: 1.3227572\ttest: 1.3931414\tbest: 1.3931414 (55)\ttotal: 479ms\tremaining: 8.08s\n",
            "56:\tlearn: 1.3206506\ttest: 1.3919352\tbest: 1.3919352 (56)\ttotal: 487ms\tremaining: 8.06s\n",
            "57:\tlearn: 1.3203429\ttest: 1.3915456\tbest: 1.3915456 (57)\ttotal: 496ms\tremaining: 8.05s\n",
            "58:\tlearn: 1.3198792\ttest: 1.3910386\tbest: 1.3910386 (58)\ttotal: 504ms\tremaining: 8.03s\n",
            "59:\tlearn: 1.3185872\ttest: 1.3919952\tbest: 1.3910386 (58)\ttotal: 512ms\tremaining: 8.02s\n",
            "60:\tlearn: 1.3127728\ttest: 1.3865574\tbest: 1.3865574 (60)\ttotal: 520ms\tremaining: 8s\n",
            "61:\tlearn: 1.3056286\ttest: 1.3825955\tbest: 1.3825955 (61)\ttotal: 529ms\tremaining: 8s\n",
            "62:\tlearn: 1.3041923\ttest: 1.3822464\tbest: 1.3822464 (62)\ttotal: 537ms\tremaining: 7.99s\n",
            "63:\tlearn: 1.3027632\ttest: 1.3824009\tbest: 1.3822464 (62)\ttotal: 545ms\tremaining: 7.97s\n",
            "64:\tlearn: 1.3004055\ttest: 1.3817651\tbest: 1.3817651 (64)\ttotal: 553ms\tremaining: 7.96s\n",
            "65:\tlearn: 1.3001585\ttest: 1.3820830\tbest: 1.3817651 (64)\ttotal: 563ms\tremaining: 7.96s\n",
            "66:\tlearn: 1.2935038\ttest: 1.3773427\tbest: 1.3773427 (66)\ttotal: 571ms\tremaining: 7.95s\n",
            "67:\tlearn: 1.2891376\ttest: 1.3755415\tbest: 1.3755415 (67)\ttotal: 589ms\tremaining: 8.07s\n",
            "68:\tlearn: 1.2827243\ttest: 1.3713990\tbest: 1.3713990 (68)\ttotal: 599ms\tremaining: 8.08s\n",
            "69:\tlearn: 1.2786603\ttest: 1.3701503\tbest: 1.3701503 (69)\ttotal: 609ms\tremaining: 8.09s\n",
            "70:\tlearn: 1.2778910\ttest: 1.3706285\tbest: 1.3701503 (69)\ttotal: 621ms\tremaining: 8.12s\n",
            "71:\tlearn: 1.2773426\ttest: 1.3699296\tbest: 1.3699296 (71)\ttotal: 629ms\tremaining: 8.1s\n",
            "72:\tlearn: 1.2761216\ttest: 1.3698012\tbest: 1.3698012 (72)\ttotal: 637ms\tremaining: 8.09s\n",
            "73:\tlearn: 1.2759563\ttest: 1.3700609\tbest: 1.3698012 (72)\ttotal: 646ms\tremaining: 8.08s\n",
            "74:\tlearn: 1.2722688\ttest: 1.3697158\tbest: 1.3697158 (74)\ttotal: 654ms\tremaining: 8.07s\n",
            "75:\tlearn: 1.2720735\ttest: 1.3694944\tbest: 1.3694944 (75)\ttotal: 662ms\tremaining: 8.05s\n",
            "76:\tlearn: 1.2718689\ttest: 1.3696261\tbest: 1.3694944 (75)\ttotal: 670ms\tremaining: 8.03s\n",
            "77:\tlearn: 1.2667836\ttest: 1.3720594\tbest: 1.3694944 (75)\ttotal: 678ms\tremaining: 8.02s\n",
            "78:\tlearn: 1.2625476\ttest: 1.3701894\tbest: 1.3694944 (75)\ttotal: 686ms\tremaining: 8s\n",
            "79:\tlearn: 1.2621799\ttest: 1.3701764\tbest: 1.3694944 (75)\ttotal: 694ms\tremaining: 7.98s\n",
            "80:\tlearn: 1.2569316\ttest: 1.3699037\tbest: 1.3694944 (75)\ttotal: 703ms\tremaining: 7.97s\n",
            "81:\tlearn: 1.2567843\ttest: 1.3699546\tbest: 1.3694944 (75)\ttotal: 710ms\tremaining: 7.95s\n",
            "82:\tlearn: 1.2566006\ttest: 1.3699786\tbest: 1.3694944 (75)\ttotal: 719ms\tremaining: 7.94s\n",
            "83:\tlearn: 1.2515718\ttest: 1.3697869\tbest: 1.3694944 (75)\ttotal: 727ms\tremaining: 7.93s\n",
            "84:\tlearn: 1.2513935\ttest: 1.3699021\tbest: 1.3694944 (75)\ttotal: 735ms\tremaining: 7.91s\n",
            "85:\tlearn: 1.2512785\ttest: 1.3698864\tbest: 1.3694944 (75)\ttotal: 743ms\tremaining: 7.9s\n",
            "86:\tlearn: 1.2478859\ttest: 1.3685511\tbest: 1.3685511 (86)\ttotal: 751ms\tremaining: 7.88s\n",
            "87:\tlearn: 1.2470911\ttest: 1.3685867\tbest: 1.3685511 (86)\ttotal: 759ms\tremaining: 7.87s\n",
            "88:\tlearn: 1.2469199\ttest: 1.3684154\tbest: 1.3684154 (88)\ttotal: 767ms\tremaining: 7.86s\n",
            "89:\tlearn: 1.2467125\ttest: 1.3677785\tbest: 1.3677785 (89)\ttotal: 775ms\tremaining: 7.84s\n",
            "90:\tlearn: 1.2465662\ttest: 1.3675944\tbest: 1.3675944 (90)\ttotal: 784ms\tremaining: 7.83s\n",
            "91:\tlearn: 1.2463344\ttest: 1.3676296\tbest: 1.3675944 (90)\ttotal: 791ms\tremaining: 7.81s\n",
            "92:\tlearn: 1.2455082\ttest: 1.3678689\tbest: 1.3675944 (90)\ttotal: 799ms\tremaining: 7.8s\n",
            "93:\tlearn: 1.2453608\ttest: 1.3678264\tbest: 1.3675944 (90)\ttotal: 807ms\tremaining: 7.78s\n",
            "94:\tlearn: 1.2399510\ttest: 1.3656266\tbest: 1.3656266 (94)\ttotal: 816ms\tremaining: 7.77s\n",
            "95:\tlearn: 1.2399145\ttest: 1.3656529\tbest: 1.3656266 (94)\ttotal: 829ms\tremaining: 7.81s\n",
            "96:\tlearn: 1.2382383\ttest: 1.3644230\tbest: 1.3644230 (96)\ttotal: 838ms\tremaining: 7.8s\n",
            "97:\tlearn: 1.2348862\ttest: 1.3630877\tbest: 1.3630877 (97)\ttotal: 846ms\tremaining: 7.79s\n",
            "98:\tlearn: 1.2326578\ttest: 1.3644330\tbest: 1.3630877 (97)\ttotal: 855ms\tremaining: 7.78s\n",
            "99:\tlearn: 1.2325319\ttest: 1.3644062\tbest: 1.3630877 (97)\ttotal: 862ms\tremaining: 7.76s\n",
            "100:\tlearn: 1.2308186\ttest: 1.3635712\tbest: 1.3630877 (97)\ttotal: 871ms\tremaining: 7.75s\n",
            "101:\tlearn: 1.2230540\ttest: 1.3577754\tbest: 1.3577754 (101)\ttotal: 879ms\tremaining: 7.74s\n",
            "102:\tlearn: 1.2194855\ttest: 1.3573131\tbest: 1.3573131 (102)\ttotal: 887ms\tremaining: 7.73s\n",
            "103:\tlearn: 1.2193951\ttest: 1.3571604\tbest: 1.3571604 (103)\ttotal: 895ms\tremaining: 7.71s\n",
            "104:\tlearn: 1.2148640\ttest: 1.3574764\tbest: 1.3571604 (103)\ttotal: 903ms\tremaining: 7.7s\n",
            "105:\tlearn: 1.2120453\ttest: 1.3556871\tbest: 1.3556871 (105)\ttotal: 912ms\tremaining: 7.69s\n",
            "106:\tlearn: 1.2101869\ttest: 1.3559981\tbest: 1.3556871 (105)\ttotal: 920ms\tremaining: 7.67s\n",
            "107:\tlearn: 1.2067694\ttest: 1.3525098\tbest: 1.3525098 (107)\ttotal: 930ms\tremaining: 7.68s\n",
            "108:\tlearn: 1.2036636\ttest: 1.3512226\tbest: 1.3512226 (108)\ttotal: 938ms\tremaining: 7.67s\n",
            "109:\tlearn: 1.2000913\ttest: 1.3489532\tbest: 1.3489532 (109)\ttotal: 947ms\tremaining: 7.66s\n",
            "110:\tlearn: 1.1999361\ttest: 1.3489518\tbest: 1.3489518 (110)\ttotal: 955ms\tremaining: 7.65s\n",
            "111:\tlearn: 1.1973915\ttest: 1.3487012\tbest: 1.3487012 (111)\ttotal: 963ms\tremaining: 7.64s\n",
            "112:\tlearn: 1.1963921\ttest: 1.3494004\tbest: 1.3487012 (111)\ttotal: 971ms\tremaining: 7.63s\n",
            "113:\tlearn: 1.1921640\ttest: 1.3475482\tbest: 1.3475482 (113)\ttotal: 980ms\tremaining: 7.61s\n",
            "114:\tlearn: 1.1910876\ttest: 1.3476937\tbest: 1.3475482 (113)\ttotal: 988ms\tremaining: 7.6s\n",
            "115:\tlearn: 1.1909832\ttest: 1.3477459\tbest: 1.3475482 (113)\ttotal: 996ms\tremaining: 7.59s\n",
            "116:\tlearn: 1.1875663\ttest: 1.3475045\tbest: 1.3475045 (116)\ttotal: 1s\tremaining: 7.58s\n",
            "117:\tlearn: 1.1872840\ttest: 1.3473886\tbest: 1.3473886 (117)\ttotal: 1.01s\tremaining: 7.57s\n",
            "118:\tlearn: 1.1845918\ttest: 1.3465874\tbest: 1.3465874 (118)\ttotal: 1.02s\tremaining: 7.56s\n",
            "119:\tlearn: 1.1842890\ttest: 1.3468188\tbest: 1.3465874 (118)\ttotal: 1.03s\tremaining: 7.58s\n",
            "120:\tlearn: 1.1827432\ttest: 1.3460558\tbest: 1.3460558 (120)\ttotal: 1.04s\tremaining: 7.57s\n",
            "121:\tlearn: 1.1817215\ttest: 1.3460670\tbest: 1.3460558 (120)\ttotal: 1.05s\tremaining: 7.56s\n",
            "122:\tlearn: 1.1798958\ttest: 1.3451011\tbest: 1.3451011 (122)\ttotal: 1.06s\tremaining: 7.55s\n",
            "123:\tlearn: 1.1785656\ttest: 1.3446362\tbest: 1.3446362 (123)\ttotal: 1.07s\tremaining: 7.54s\n",
            "124:\tlearn: 1.1783186\ttest: 1.3446478\tbest: 1.3446362 (123)\ttotal: 1.07s\tremaining: 7.52s\n",
            "125:\tlearn: 1.1736339\ttest: 1.3433963\tbest: 1.3433963 (125)\ttotal: 1.08s\tremaining: 7.51s\n",
            "126:\tlearn: 1.1736077\ttest: 1.3434074\tbest: 1.3433963 (125)\ttotal: 1.09s\tremaining: 7.5s\n",
            "127:\tlearn: 1.1734077\ttest: 1.3432220\tbest: 1.3432220 (127)\ttotal: 1.1s\tremaining: 7.49s\n",
            "128:\tlearn: 1.1716760\ttest: 1.3438215\tbest: 1.3432220 (127)\ttotal: 1.11s\tremaining: 7.47s\n",
            "129:\tlearn: 1.1716501\ttest: 1.3438468\tbest: 1.3432220 (127)\ttotal: 1.11s\tremaining: 7.46s\n",
            "130:\tlearn: 1.1707293\ttest: 1.3447805\tbest: 1.3432220 (127)\ttotal: 1.12s\tremaining: 7.45s\n",
            "131:\tlearn: 1.1704001\ttest: 1.3443634\tbest: 1.3432220 (127)\ttotal: 1.13s\tremaining: 7.44s\n",
            "132:\tlearn: 1.1703714\ttest: 1.3443731\tbest: 1.3432220 (127)\ttotal: 1.14s\tremaining: 7.42s\n",
            "133:\tlearn: 1.1702209\ttest: 1.3442600\tbest: 1.3432220 (127)\ttotal: 1.15s\tremaining: 7.42s\n",
            "134:\tlearn: 1.1669648\ttest: 1.3441234\tbest: 1.3432220 (127)\ttotal: 1.16s\tremaining: 7.41s\n",
            "135:\tlearn: 1.1658462\ttest: 1.3442294\tbest: 1.3432220 (127)\ttotal: 1.16s\tremaining: 7.4s\n",
            "136:\tlearn: 1.1626134\ttest: 1.3446551\tbest: 1.3432220 (127)\ttotal: 1.17s\tremaining: 7.39s\n",
            "137:\tlearn: 1.1612873\ttest: 1.3443433\tbest: 1.3432220 (127)\ttotal: 1.18s\tremaining: 7.38s\n",
            "138:\tlearn: 1.1609797\ttest: 1.3450732\tbest: 1.3432220 (127)\ttotal: 1.19s\tremaining: 7.37s\n",
            "139:\tlearn: 1.1599371\ttest: 1.3447783\tbest: 1.3432220 (127)\ttotal: 1.2s\tremaining: 7.36s\n",
            "140:\tlearn: 1.1559797\ttest: 1.3431920\tbest: 1.3431920 (140)\ttotal: 1.21s\tremaining: 7.35s\n",
            "141:\tlearn: 1.1503308\ttest: 1.3386803\tbest: 1.3386803 (141)\ttotal: 1.22s\tremaining: 7.34s\n",
            "142:\tlearn: 1.1502375\ttest: 1.3388146\tbest: 1.3386803 (141)\ttotal: 1.22s\tremaining: 7.33s\n",
            "143:\tlearn: 1.1480642\ttest: 1.3365181\tbest: 1.3365181 (143)\ttotal: 1.23s\tremaining: 7.33s\n",
            "144:\tlearn: 1.1479996\ttest: 1.3364830\tbest: 1.3364830 (144)\ttotal: 1.24s\tremaining: 7.33s\n",
            "145:\tlearn: 1.1474663\ttest: 1.3356135\tbest: 1.3356135 (145)\ttotal: 1.25s\tremaining: 7.31s\n",
            "146:\tlearn: 1.1473647\ttest: 1.3356349\tbest: 1.3356135 (145)\ttotal: 1.26s\tremaining: 7.3s\n",
            "147:\tlearn: 1.1427836\ttest: 1.3325991\tbest: 1.3325991 (147)\ttotal: 1.27s\tremaining: 7.29s\n",
            "148:\tlearn: 1.1414425\ttest: 1.3328642\tbest: 1.3325991 (147)\ttotal: 1.27s\tremaining: 7.28s\n",
            "149:\tlearn: 1.1410943\ttest: 1.3330723\tbest: 1.3325991 (147)\ttotal: 1.28s\tremaining: 7.26s\n",
            "150:\tlearn: 1.1392067\ttest: 1.3333160\tbest: 1.3325991 (147)\ttotal: 1.29s\tremaining: 7.25s\n",
            "151:\tlearn: 1.1341703\ttest: 1.3325623\tbest: 1.3325623 (151)\ttotal: 1.3s\tremaining: 7.24s\n",
            "152:\tlearn: 1.1340028\ttest: 1.3321561\tbest: 1.3321561 (152)\ttotal: 1.31s\tremaining: 7.23s\n",
            "153:\tlearn: 1.1307730\ttest: 1.3340562\tbest: 1.3321561 (152)\ttotal: 1.31s\tremaining: 7.22s\n",
            "154:\tlearn: 1.1266221\ttest: 1.3312811\tbest: 1.3312811 (154)\ttotal: 1.32s\tremaining: 7.21s\n",
            "155:\tlearn: 1.1262455\ttest: 1.3308343\tbest: 1.3308343 (155)\ttotal: 1.33s\tremaining: 7.2s\n",
            "156:\tlearn: 1.1212206\ttest: 1.3290881\tbest: 1.3290881 (156)\ttotal: 1.34s\tremaining: 7.19s\n",
            "157:\tlearn: 1.1174361\ttest: 1.3302800\tbest: 1.3290881 (156)\ttotal: 1.35s\tremaining: 7.18s\n",
            "158:\tlearn: 1.1142341\ttest: 1.3302602\tbest: 1.3290881 (156)\ttotal: 1.36s\tremaining: 7.17s\n",
            "159:\tlearn: 1.1096391\ttest: 1.3325359\tbest: 1.3290881 (156)\ttotal: 1.36s\tremaining: 7.16s\n",
            "160:\tlearn: 1.1062064\ttest: 1.3321862\tbest: 1.3290881 (156)\ttotal: 1.37s\tremaining: 7.16s\n",
            "161:\tlearn: 1.1060984\ttest: 1.3326486\tbest: 1.3290881 (156)\ttotal: 1.38s\tremaining: 7.15s\n",
            "162:\tlearn: 1.1038330\ttest: 1.3315196\tbest: 1.3290881 (156)\ttotal: 1.4s\tremaining: 7.19s\n",
            "163:\tlearn: 1.0999098\ttest: 1.3301595\tbest: 1.3290881 (156)\ttotal: 1.41s\tremaining: 7.2s\n",
            "164:\tlearn: 1.0997930\ttest: 1.3305034\tbest: 1.3290881 (156)\ttotal: 1.42s\tremaining: 7.19s\n",
            "165:\tlearn: 1.0970229\ttest: 1.3296376\tbest: 1.3290881 (156)\ttotal: 1.43s\tremaining: 7.19s\n",
            "166:\tlearn: 1.0954647\ttest: 1.3290278\tbest: 1.3290278 (166)\ttotal: 1.44s\tremaining: 7.19s\n",
            "167:\tlearn: 1.0929204\ttest: 1.3291670\tbest: 1.3290278 (166)\ttotal: 1.45s\tremaining: 7.17s\n",
            "168:\tlearn: 1.0906941\ttest: 1.3282768\tbest: 1.3282768 (168)\ttotal: 1.46s\tremaining: 7.16s\n",
            "169:\tlearn: 1.0897995\ttest: 1.3279116\tbest: 1.3279116 (169)\ttotal: 1.46s\tremaining: 7.15s\n",
            "170:\tlearn: 1.0887122\ttest: 1.3280868\tbest: 1.3279116 (169)\ttotal: 1.47s\tremaining: 7.14s\n",
            "171:\tlearn: 1.0855696\ttest: 1.3261000\tbest: 1.3261000 (171)\ttotal: 1.48s\tremaining: 7.13s\n",
            "172:\tlearn: 1.0852497\ttest: 1.3260201\tbest: 1.3260201 (172)\ttotal: 1.49s\tremaining: 7.12s\n",
            "173:\tlearn: 1.0849885\ttest: 1.3260473\tbest: 1.3260201 (172)\ttotal: 1.5s\tremaining: 7.11s\n",
            "174:\tlearn: 1.0813675\ttest: 1.3235532\tbest: 1.3235532 (174)\ttotal: 1.5s\tremaining: 7.09s\n",
            "175:\tlearn: 1.0798971\ttest: 1.3224934\tbest: 1.3224934 (175)\ttotal: 1.51s\tremaining: 7.1s\n",
            "176:\tlearn: 1.0781863\ttest: 1.3218144\tbest: 1.3218144 (176)\ttotal: 1.52s\tremaining: 7.08s\n",
            "177:\tlearn: 1.0754042\ttest: 1.3209655\tbest: 1.3209655 (177)\ttotal: 1.53s\tremaining: 7.08s\n",
            "178:\tlearn: 1.0747324\ttest: 1.3207209\tbest: 1.3207209 (178)\ttotal: 1.54s\tremaining: 7.07s\n",
            "179:\tlearn: 1.0745408\ttest: 1.3205605\tbest: 1.3205605 (179)\ttotal: 1.56s\tremaining: 7.11s\n",
            "180:\tlearn: 1.0739453\ttest: 1.3200140\tbest: 1.3200140 (180)\ttotal: 1.57s\tremaining: 7.11s\n",
            "181:\tlearn: 1.0719871\ttest: 1.3196435\tbest: 1.3196435 (181)\ttotal: 1.58s\tremaining: 7.09s\n",
            "182:\tlearn: 1.0696760\ttest: 1.3215183\tbest: 1.3196435 (181)\ttotal: 1.59s\tremaining: 7.08s\n",
            "183:\tlearn: 1.0676184\ttest: 1.3204661\tbest: 1.3196435 (181)\ttotal: 1.59s\tremaining: 7.07s\n",
            "184:\tlearn: 1.0675389\ttest: 1.3206175\tbest: 1.3196435 (181)\ttotal: 1.6s\tremaining: 7.06s\n",
            "185:\tlearn: 1.0672943\ttest: 1.3203638\tbest: 1.3196435 (181)\ttotal: 1.61s\tremaining: 7.04s\n",
            "186:\tlearn: 1.0647425\ttest: 1.3193391\tbest: 1.3193391 (186)\ttotal: 1.62s\tremaining: 7.03s\n",
            "187:\tlearn: 1.0643676\ttest: 1.3193531\tbest: 1.3193391 (186)\ttotal: 1.63s\tremaining: 7.02s\n",
            "188:\tlearn: 1.0617244\ttest: 1.3171066\tbest: 1.3171066 (188)\ttotal: 1.64s\tremaining: 7.03s\n",
            "189:\tlearn: 1.0617035\ttest: 1.3171168\tbest: 1.3171066 (188)\ttotal: 1.65s\tremaining: 7.01s\n",
            "190:\tlearn: 1.0616818\ttest: 1.3171243\tbest: 1.3171066 (188)\ttotal: 1.65s\tremaining: 7s\n",
            "191:\tlearn: 1.0616612\ttest: 1.3171261\tbest: 1.3171066 (188)\ttotal: 1.66s\tremaining: 6.99s\n",
            "192:\tlearn: 1.0616007\ttest: 1.3171445\tbest: 1.3171066 (188)\ttotal: 1.67s\tremaining: 6.98s\n",
            "193:\tlearn: 1.0580860\ttest: 1.3180524\tbest: 1.3171066 (188)\ttotal: 1.68s\tremaining: 6.96s\n",
            "194:\tlearn: 1.0579085\ttest: 1.3181018\tbest: 1.3171066 (188)\ttotal: 1.68s\tremaining: 6.95s\n",
            "195:\tlearn: 1.0572024\ttest: 1.3179648\tbest: 1.3171066 (188)\ttotal: 1.69s\tremaining: 6.94s\n",
            "196:\tlearn: 1.0570321\ttest: 1.3179113\tbest: 1.3171066 (188)\ttotal: 1.7s\tremaining: 6.93s\n",
            "197:\tlearn: 1.0540341\ttest: 1.3175707\tbest: 1.3171066 (188)\ttotal: 1.71s\tremaining: 6.92s\n",
            "198:\tlearn: 1.0533555\ttest: 1.3172601\tbest: 1.3171066 (188)\ttotal: 1.72s\tremaining: 6.91s\n",
            "199:\tlearn: 1.0531487\ttest: 1.3172520\tbest: 1.3171066 (188)\ttotal: 1.73s\tremaining: 6.9s\n",
            "200:\tlearn: 1.0530280\ttest: 1.3171776\tbest: 1.3171066 (188)\ttotal: 1.73s\tremaining: 6.89s\n",
            "201:\tlearn: 1.0495089\ttest: 1.3170327\tbest: 1.3170327 (201)\ttotal: 1.74s\tremaining: 6.88s\n",
            "202:\tlearn: 1.0451504\ttest: 1.3169551\tbest: 1.3169551 (202)\ttotal: 1.75s\tremaining: 6.87s\n",
            "203:\tlearn: 1.0450150\ttest: 1.3168112\tbest: 1.3168112 (203)\ttotal: 1.76s\tremaining: 6.86s\n",
            "204:\tlearn: 1.0426493\ttest: 1.3173435\tbest: 1.3168112 (203)\ttotal: 1.77s\tremaining: 6.85s\n",
            "205:\tlearn: 1.0425856\ttest: 1.3172882\tbest: 1.3168112 (203)\ttotal: 1.77s\tremaining: 6.84s\n",
            "206:\tlearn: 1.0393388\ttest: 1.3154162\tbest: 1.3154162 (206)\ttotal: 1.78s\tremaining: 6.83s\n",
            "207:\tlearn: 1.0393218\ttest: 1.3153898\tbest: 1.3153898 (207)\ttotal: 1.79s\tremaining: 6.82s\n",
            "208:\tlearn: 1.0368782\ttest: 1.3152510\tbest: 1.3152510 (208)\ttotal: 1.8s\tremaining: 6.81s\n",
            "209:\tlearn: 1.0368256\ttest: 1.3152793\tbest: 1.3152510 (208)\ttotal: 1.81s\tremaining: 6.8s\n",
            "210:\tlearn: 1.0357963\ttest: 1.3147779\tbest: 1.3147779 (210)\ttotal: 1.81s\tremaining: 6.79s\n",
            "211:\tlearn: 1.0342120\ttest: 1.3143043\tbest: 1.3143043 (211)\ttotal: 1.82s\tremaining: 6.78s\n",
            "212:\tlearn: 1.0334028\ttest: 1.3142262\tbest: 1.3142262 (212)\ttotal: 1.83s\tremaining: 6.78s\n",
            "213:\tlearn: 1.0311039\ttest: 1.3146495\tbest: 1.3142262 (212)\ttotal: 1.84s\tremaining: 6.78s\n",
            "214:\tlearn: 1.0308792\ttest: 1.3145821\tbest: 1.3142262 (212)\ttotal: 1.85s\tremaining: 6.76s\n",
            "215:\tlearn: 1.0288322\ttest: 1.3141293\tbest: 1.3141293 (215)\ttotal: 1.86s\tremaining: 6.75s\n",
            "216:\tlearn: 1.0280501\ttest: 1.3131124\tbest: 1.3131124 (216)\ttotal: 1.87s\tremaining: 6.75s\n",
            "217:\tlearn: 1.0279978\ttest: 1.3131537\tbest: 1.3131124 (216)\ttotal: 1.88s\tremaining: 6.73s\n",
            "218:\tlearn: 1.0257053\ttest: 1.3134193\tbest: 1.3131124 (216)\ttotal: 1.89s\tremaining: 6.72s\n",
            "219:\tlearn: 1.0224620\ttest: 1.3132143\tbest: 1.3131124 (216)\ttotal: 1.89s\tremaining: 6.71s\n",
            "220:\tlearn: 1.0224047\ttest: 1.3133302\tbest: 1.3131124 (216)\ttotal: 1.9s\tremaining: 6.7s\n",
            "221:\tlearn: 1.0209149\ttest: 1.3125927\tbest: 1.3125927 (221)\ttotal: 1.91s\tremaining: 6.69s\n",
            "222:\tlearn: 1.0208599\ttest: 1.3126677\tbest: 1.3125927 (221)\ttotal: 1.92s\tremaining: 6.68s\n",
            "223:\tlearn: 1.0208409\ttest: 1.3126518\tbest: 1.3125927 (221)\ttotal: 1.93s\tremaining: 6.67s\n",
            "224:\tlearn: 1.0206004\ttest: 1.3125870\tbest: 1.3125870 (224)\ttotal: 1.93s\tremaining: 6.66s\n",
            "225:\tlearn: 1.0205604\ttest: 1.3125794\tbest: 1.3125794 (225)\ttotal: 1.94s\tremaining: 6.65s\n",
            "226:\tlearn: 1.0189508\ttest: 1.3129831\tbest: 1.3125794 (225)\ttotal: 1.95s\tremaining: 6.64s\n",
            "227:\tlearn: 1.0187526\ttest: 1.3129930\tbest: 1.3125794 (225)\ttotal: 1.96s\tremaining: 6.63s\n",
            "228:\tlearn: 1.0171887\ttest: 1.3124793\tbest: 1.3124793 (228)\ttotal: 1.97s\tremaining: 6.62s\n",
            "229:\tlearn: 1.0149592\ttest: 1.3109117\tbest: 1.3109117 (229)\ttotal: 1.97s\tremaining: 6.61s\n",
            "230:\tlearn: 1.0130893\ttest: 1.3121167\tbest: 1.3109117 (229)\ttotal: 1.98s\tremaining: 6.61s\n",
            "231:\tlearn: 1.0101978\ttest: 1.3105890\tbest: 1.3105890 (231)\ttotal: 1.99s\tremaining: 6.6s\n",
            "232:\tlearn: 1.0101551\ttest: 1.3105803\tbest: 1.3105803 (232)\ttotal: 2s\tremaining: 6.59s\n",
            "233:\tlearn: 1.0061553\ttest: 1.3120229\tbest: 1.3105803 (232)\ttotal: 2.01s\tremaining: 6.58s\n",
            "234:\tlearn: 1.0047797\ttest: 1.3108008\tbest: 1.3105803 (232)\ttotal: 2.02s\tremaining: 6.57s\n",
            "235:\tlearn: 1.0047643\ttest: 1.3107810\tbest: 1.3105803 (232)\ttotal: 2.03s\tremaining: 6.56s\n",
            "236:\tlearn: 1.0037029\ttest: 1.3103175\tbest: 1.3103175 (236)\ttotal: 2.04s\tremaining: 6.56s\n",
            "237:\tlearn: 0.9998694\ttest: 1.3092487\tbest: 1.3092487 (237)\ttotal: 2.05s\tremaining: 6.56s\n",
            "238:\tlearn: 0.9998553\ttest: 1.3092630\tbest: 1.3092487 (237)\ttotal: 2.06s\tremaining: 6.55s\n",
            "239:\tlearn: 0.9995956\ttest: 1.3094112\tbest: 1.3092487 (237)\ttotal: 2.06s\tremaining: 6.54s\n",
            "240:\tlearn: 0.9995814\ttest: 1.3094136\tbest: 1.3092487 (237)\ttotal: 2.07s\tremaining: 6.53s\n",
            "241:\tlearn: 0.9995423\ttest: 1.3094453\tbest: 1.3092487 (237)\ttotal: 2.08s\tremaining: 6.52s\n",
            "242:\tlearn: 0.9964912\ttest: 1.3082232\tbest: 1.3082232 (242)\ttotal: 2.09s\tremaining: 6.51s\n",
            "243:\tlearn: 0.9937125\ttest: 1.3075532\tbest: 1.3075532 (243)\ttotal: 2.1s\tremaining: 6.5s\n",
            "244:\tlearn: 0.9936981\ttest: 1.3075364\tbest: 1.3075364 (244)\ttotal: 2.1s\tremaining: 6.49s\n",
            "245:\tlearn: 0.9929365\ttest: 1.3076361\tbest: 1.3075364 (244)\ttotal: 2.11s\tremaining: 6.47s\n",
            "246:\tlearn: 0.9924290\ttest: 1.3073229\tbest: 1.3073229 (246)\ttotal: 2.12s\tremaining: 6.47s\n",
            "247:\tlearn: 0.9923335\ttest: 1.3073695\tbest: 1.3073229 (246)\ttotal: 2.13s\tremaining: 6.45s\n",
            "248:\tlearn: 0.9918339\ttest: 1.3078792\tbest: 1.3073229 (246)\ttotal: 2.14s\tremaining: 6.44s\n",
            "249:\tlearn: 0.9894248\ttest: 1.3075648\tbest: 1.3073229 (246)\ttotal: 2.15s\tremaining: 6.43s\n",
            "250:\tlearn: 0.9887067\ttest: 1.3078359\tbest: 1.3073229 (246)\ttotal: 2.15s\tremaining: 6.42s\n",
            "251:\tlearn: 0.9886168\ttest: 1.3078156\tbest: 1.3073229 (246)\ttotal: 2.16s\tremaining: 6.42s\n",
            "252:\tlearn: 0.9855198\ttest: 1.3083271\tbest: 1.3073229 (246)\ttotal: 2.17s\tremaining: 6.41s\n",
            "253:\tlearn: 0.9838424\ttest: 1.3092036\tbest: 1.3073229 (246)\ttotal: 2.18s\tremaining: 6.4s\n",
            "254:\tlearn: 0.9816919\ttest: 1.3103119\tbest: 1.3073229 (246)\ttotal: 2.19s\tremaining: 6.39s\n",
            "255:\tlearn: 0.9787069\ttest: 1.3092463\tbest: 1.3073229 (246)\ttotal: 2.19s\tremaining: 6.38s\n",
            "256:\tlearn: 0.9760183\ttest: 1.3096019\tbest: 1.3073229 (246)\ttotal: 2.2s\tremaining: 6.37s\n",
            "257:\tlearn: 0.9756440\ttest: 1.3096213\tbest: 1.3073229 (246)\ttotal: 2.21s\tremaining: 6.36s\n",
            "258:\tlearn: 0.9737108\ttest: 1.3087532\tbest: 1.3073229 (246)\ttotal: 2.23s\tremaining: 6.39s\n",
            "259:\tlearn: 0.9721233\ttest: 1.3084269\tbest: 1.3073229 (246)\ttotal: 2.25s\tremaining: 6.41s\n",
            "260:\tlearn: 0.9716300\ttest: 1.3084926\tbest: 1.3073229 (246)\ttotal: 2.27s\tremaining: 6.43s\n",
            "261:\tlearn: 0.9691530\ttest: 1.3067466\tbest: 1.3067466 (261)\ttotal: 2.29s\tremaining: 6.45s\n",
            "262:\tlearn: 0.9689707\ttest: 1.3068795\tbest: 1.3067466 (261)\ttotal: 2.31s\tremaining: 6.46s\n",
            "263:\tlearn: 0.9669739\ttest: 1.3081596\tbest: 1.3067466 (261)\ttotal: 2.32s\tremaining: 6.48s\n",
            "264:\tlearn: 0.9645786\ttest: 1.3081796\tbest: 1.3067466 (261)\ttotal: 2.34s\tremaining: 6.49s\n",
            "265:\tlearn: 0.9631834\ttest: 1.3072591\tbest: 1.3067466 (261)\ttotal: 2.36s\tremaining: 6.5s\n",
            "266:\tlearn: 0.9607943\ttest: 1.3073054\tbest: 1.3067466 (261)\ttotal: 2.39s\tremaining: 6.57s\n",
            "267:\tlearn: 0.9607513\ttest: 1.3072839\tbest: 1.3067466 (261)\ttotal: 2.43s\tremaining: 6.64s\n",
            "268:\tlearn: 0.9595554\ttest: 1.3068214\tbest: 1.3067466 (261)\ttotal: 2.45s\tremaining: 6.66s\n",
            "269:\tlearn: 0.9584509\ttest: 1.3065282\tbest: 1.3065282 (269)\ttotal: 2.48s\tremaining: 6.7s\n",
            "270:\tlearn: 0.9571835\ttest: 1.3069012\tbest: 1.3065282 (269)\ttotal: 2.5s\tremaining: 6.72s\n",
            "271:\tlearn: 0.9559765\ttest: 1.3069736\tbest: 1.3065282 (269)\ttotal: 2.53s\tremaining: 6.77s\n",
            "272:\tlearn: 0.9545756\ttest: 1.3066515\tbest: 1.3065282 (269)\ttotal: 2.56s\tremaining: 6.81s\n",
            "273:\tlearn: 0.9525534\ttest: 1.3059721\tbest: 1.3059721 (273)\ttotal: 2.57s\tremaining: 6.82s\n",
            "274:\tlearn: 0.9499637\ttest: 1.3048148\tbest: 1.3048148 (274)\ttotal: 2.59s\tremaining: 6.82s\n",
            "275:\tlearn: 0.9499500\ttest: 1.3048113\tbest: 1.3048113 (275)\ttotal: 2.61s\tremaining: 6.85s\n",
            "276:\tlearn: 0.9499374\ttest: 1.3047931\tbest: 1.3047931 (276)\ttotal: 2.63s\tremaining: 6.87s\n",
            "277:\tlearn: 0.9499273\ttest: 1.3047795\tbest: 1.3047795 (277)\ttotal: 2.66s\tremaining: 6.9s\n",
            "278:\tlearn: 0.9488724\ttest: 1.3047613\tbest: 1.3047613 (278)\ttotal: 2.68s\tremaining: 6.92s\n",
            "279:\tlearn: 0.9476092\ttest: 1.3047841\tbest: 1.3047613 (278)\ttotal: 2.71s\tremaining: 6.96s\n",
            "280:\tlearn: 0.9464472\ttest: 1.3045008\tbest: 1.3045008 (280)\ttotal: 2.72s\tremaining: 6.97s\n",
            "281:\tlearn: 0.9452547\ttest: 1.3041286\tbest: 1.3041286 (281)\ttotal: 2.73s\tremaining: 6.96s\n",
            "282:\tlearn: 0.9452225\ttest: 1.3040927\tbest: 1.3040927 (282)\ttotal: 2.74s\tremaining: 6.95s\n",
            "283:\tlearn: 0.9449645\ttest: 1.3038758\tbest: 1.3038758 (283)\ttotal: 2.75s\tremaining: 6.94s\n",
            "284:\tlearn: 0.9434477\ttest: 1.3041310\tbest: 1.3038758 (283)\ttotal: 2.77s\tremaining: 6.96s\n",
            "285:\tlearn: 0.9403609\ttest: 1.2999826\tbest: 1.2999826 (285)\ttotal: 2.78s\tremaining: 6.95s\n",
            "286:\tlearn: 0.9382684\ttest: 1.2995547\tbest: 1.2995547 (286)\ttotal: 2.79s\tremaining: 6.95s\n",
            "287:\tlearn: 0.9379066\ttest: 1.2992294\tbest: 1.2992294 (287)\ttotal: 2.81s\tremaining: 6.94s\n",
            "288:\tlearn: 0.9358475\ttest: 1.2993854\tbest: 1.2992294 (287)\ttotal: 2.82s\tremaining: 6.93s\n",
            "289:\tlearn: 0.9358331\ttest: 1.2993956\tbest: 1.2992294 (287)\ttotal: 2.83s\tremaining: 6.94s\n",
            "290:\tlearn: 0.9333493\ttest: 1.2973840\tbest: 1.2973840 (290)\ttotal: 2.86s\tremaining: 6.97s\n",
            "291:\tlearn: 0.9328446\ttest: 1.2973479\tbest: 1.2973479 (291)\ttotal: 2.89s\tremaining: 7s\n",
            "292:\tlearn: 0.9311445\ttest: 1.2976608\tbest: 1.2973479 (291)\ttotal: 2.92s\tremaining: 7.04s\n",
            "293:\tlearn: 0.9311331\ttest: 1.2976810\tbest: 1.2973479 (291)\ttotal: 2.94s\tremaining: 7.05s\n",
            "294:\tlearn: 0.9294537\ttest: 1.2969373\tbest: 1.2969373 (294)\ttotal: 2.96s\tremaining: 7.08s\n",
            "295:\tlearn: 0.9292497\ttest: 1.2968074\tbest: 1.2968074 (295)\ttotal: 2.97s\tremaining: 7.07s\n",
            "296:\tlearn: 0.9291916\ttest: 1.2968690\tbest: 1.2968074 (295)\ttotal: 2.98s\tremaining: 7.06s\n",
            "297:\tlearn: 0.9281146\ttest: 1.2970124\tbest: 1.2968074 (295)\ttotal: 3s\tremaining: 7.05s\n",
            "298:\tlearn: 0.9265641\ttest: 1.2969969\tbest: 1.2968074 (295)\ttotal: 3.05s\tremaining: 7.16s\n",
            "299:\tlearn: 0.9265519\ttest: 1.2970047\tbest: 1.2968074 (295)\ttotal: 3.07s\tremaining: 7.17s\n",
            "300:\tlearn: 0.9256596\ttest: 1.2971892\tbest: 1.2968074 (295)\ttotal: 3.09s\tremaining: 7.18s\n",
            "301:\tlearn: 0.9226958\ttest: 1.2972636\tbest: 1.2968074 (295)\ttotal: 3.11s\tremaining: 7.19s\n",
            "302:\tlearn: 0.9226555\ttest: 1.2972857\tbest: 1.2968074 (295)\ttotal: 3.15s\tremaining: 7.26s\n",
            "303:\tlearn: 0.9209601\ttest: 1.2963379\tbest: 1.2963379 (303)\ttotal: 3.17s\tremaining: 7.26s\n",
            "304:\tlearn: 0.9205159\ttest: 1.2957517\tbest: 1.2957517 (304)\ttotal: 3.18s\tremaining: 7.25s\n",
            "305:\tlearn: 0.9179433\ttest: 1.2976541\tbest: 1.2957517 (304)\ttotal: 3.19s\tremaining: 7.24s\n",
            "306:\tlearn: 0.9149360\ttest: 1.2953859\tbest: 1.2953859 (306)\ttotal: 3.2s\tremaining: 7.23s\n",
            "307:\tlearn: 0.9133808\ttest: 1.2948838\tbest: 1.2948838 (307)\ttotal: 3.21s\tremaining: 7.22s\n",
            "308:\tlearn: 0.9113370\ttest: 1.2930608\tbest: 1.2930608 (308)\ttotal: 3.22s\tremaining: 7.21s\n",
            "309:\tlearn: 0.9103622\ttest: 1.2931116\tbest: 1.2930608 (308)\ttotal: 3.23s\tremaining: 7.2s\n",
            "310:\tlearn: 0.9095071\ttest: 1.2931166\tbest: 1.2930608 (308)\ttotal: 3.24s\tremaining: 7.19s\n",
            "311:\tlearn: 0.9093679\ttest: 1.2931662\tbest: 1.2930608 (308)\ttotal: 3.26s\tremaining: 7.18s\n",
            "312:\tlearn: 0.9091899\ttest: 1.2931062\tbest: 1.2930608 (308)\ttotal: 3.27s\tremaining: 7.17s\n",
            "313:\tlearn: 0.9082154\ttest: 1.2936597\tbest: 1.2930608 (308)\ttotal: 3.28s\tremaining: 7.16s\n",
            "314:\tlearn: 0.9065126\ttest: 1.2928850\tbest: 1.2928850 (314)\ttotal: 3.29s\tremaining: 7.15s\n",
            "315:\tlearn: 0.9061051\ttest: 1.2925507\tbest: 1.2925507 (315)\ttotal: 3.31s\tremaining: 7.16s\n",
            "316:\tlearn: 0.9048218\ttest: 1.2923933\tbest: 1.2923933 (316)\ttotal: 3.33s\tremaining: 7.17s\n",
            "317:\tlearn: 0.9046016\ttest: 1.2924470\tbest: 1.2923933 (316)\ttotal: 3.34s\tremaining: 7.16s\n",
            "318:\tlearn: 0.9045181\ttest: 1.2924797\tbest: 1.2923933 (316)\ttotal: 3.35s\tremaining: 7.15s\n",
            "319:\tlearn: 0.9032425\ttest: 1.2923458\tbest: 1.2923458 (319)\ttotal: 3.37s\tremaining: 7.16s\n",
            "320:\tlearn: 0.9028460\ttest: 1.2920572\tbest: 1.2920572 (320)\ttotal: 3.39s\tremaining: 7.17s\n",
            "321:\tlearn: 0.9025263\ttest: 1.2922533\tbest: 1.2920572 (320)\ttotal: 3.41s\tremaining: 7.18s\n",
            "322:\tlearn: 0.9019306\ttest: 1.2927053\tbest: 1.2920572 (320)\ttotal: 3.43s\tremaining: 7.18s\n",
            "323:\tlearn: 0.9006764\ttest: 1.2936566\tbest: 1.2920572 (320)\ttotal: 3.5s\tremaining: 7.31s\n",
            "324:\tlearn: 0.9005451\ttest: 1.2935808\tbest: 1.2920572 (320)\ttotal: 3.52s\tremaining: 7.31s\n",
            "325:\tlearn: 0.9003515\ttest: 1.2936157\tbest: 1.2920572 (320)\ttotal: 3.53s\tremaining: 7.29s\n",
            "326:\tlearn: 0.8988697\ttest: 1.2927202\tbest: 1.2920572 (320)\ttotal: 3.54s\tremaining: 7.29s\n",
            "327:\tlearn: 0.8982486\ttest: 1.2930696\tbest: 1.2920572 (320)\ttotal: 3.55s\tremaining: 7.27s\n",
            "328:\tlearn: 0.8981762\ttest: 1.2930417\tbest: 1.2920572 (320)\ttotal: 3.56s\tremaining: 7.26s\n",
            "329:\tlearn: 0.8981663\ttest: 1.2930359\tbest: 1.2920572 (320)\ttotal: 3.57s\tremaining: 7.25s\n",
            "330:\tlearn: 0.8964892\ttest: 1.2917162\tbest: 1.2917162 (330)\ttotal: 3.58s\tremaining: 7.24s\n",
            "331:\tlearn: 0.8956542\ttest: 1.2914715\tbest: 1.2914715 (331)\ttotal: 3.59s\tremaining: 7.23s\n",
            "332:\tlearn: 0.8941536\ttest: 1.2923042\tbest: 1.2914715 (331)\ttotal: 3.62s\tremaining: 7.24s\n",
            "333:\tlearn: 0.8940830\ttest: 1.2923074\tbest: 1.2914715 (331)\ttotal: 3.65s\tremaining: 7.27s\n",
            "334:\tlearn: 0.8913776\ttest: 1.2948162\tbest: 1.2914715 (331)\ttotal: 3.67s\tremaining: 7.29s\n",
            "335:\tlearn: 0.8912182\ttest: 1.2946953\tbest: 1.2914715 (331)\ttotal: 3.71s\tremaining: 7.33s\n",
            "336:\tlearn: 0.8911781\ttest: 1.2947264\tbest: 1.2914715 (331)\ttotal: 3.73s\tremaining: 7.34s\n",
            "337:\tlearn: 0.8892418\ttest: 1.2939679\tbest: 1.2914715 (331)\ttotal: 3.75s\tremaining: 7.35s\n",
            "338:\tlearn: 0.8868904\ttest: 1.2936851\tbest: 1.2914715 (331)\ttotal: 3.78s\tremaining: 7.37s\n",
            "339:\tlearn: 0.8844249\ttest: 1.2950242\tbest: 1.2914715 (331)\ttotal: 3.81s\tremaining: 7.4s\n",
            "340:\tlearn: 0.8841941\ttest: 1.2950587\tbest: 1.2914715 (331)\ttotal: 3.83s\tremaining: 7.4s\n",
            "341:\tlearn: 0.8824350\ttest: 1.2948766\tbest: 1.2914715 (331)\ttotal: 3.84s\tremaining: 7.39s\n",
            "342:\tlearn: 0.8824006\ttest: 1.2948738\tbest: 1.2914715 (331)\ttotal: 3.86s\tremaining: 7.39s\n",
            "343:\tlearn: 0.8823875\ttest: 1.2948621\tbest: 1.2914715 (331)\ttotal: 3.88s\tremaining: 7.4s\n",
            "344:\tlearn: 0.8811679\ttest: 1.2949520\tbest: 1.2914715 (331)\ttotal: 3.89s\tremaining: 7.38s\n",
            "345:\tlearn: 0.8811571\ttest: 1.2949426\tbest: 1.2914715 (331)\ttotal: 3.91s\tremaining: 7.38s\n",
            "346:\tlearn: 0.8810432\ttest: 1.2949825\tbest: 1.2914715 (331)\ttotal: 3.93s\tremaining: 7.39s\n",
            "347:\tlearn: 0.8808550\ttest: 1.2948923\tbest: 1.2914715 (331)\ttotal: 3.98s\tremaining: 7.46s\n",
            "348:\tlearn: 0.8806709\ttest: 1.2946801\tbest: 1.2914715 (331)\ttotal: 4.01s\tremaining: 7.49s\n",
            "349:\tlearn: 0.8784858\ttest: 1.2952056\tbest: 1.2914715 (331)\ttotal: 4.05s\tremaining: 7.52s\n",
            "350:\tlearn: 0.8781611\ttest: 1.2950660\tbest: 1.2914715 (331)\ttotal: 4.09s\tremaining: 7.56s\n",
            "351:\tlearn: 0.8771824\ttest: 1.2946774\tbest: 1.2914715 (331)\ttotal: 4.12s\tremaining: 7.58s\n",
            "352:\tlearn: 0.8770082\ttest: 1.2947868\tbest: 1.2914715 (331)\ttotal: 4.14s\tremaining: 7.59s\n",
            "353:\tlearn: 0.8748189\ttest: 1.2941786\tbest: 1.2914715 (331)\ttotal: 4.16s\tremaining: 7.59s\n",
            "354:\tlearn: 0.8744503\ttest: 1.2939287\tbest: 1.2914715 (331)\ttotal: 4.18s\tremaining: 7.6s\n",
            "355:\tlearn: 0.8729085\ttest: 1.2938464\tbest: 1.2914715 (331)\ttotal: 4.22s\tremaining: 7.64s\n",
            "356:\tlearn: 0.8728826\ttest: 1.2938386\tbest: 1.2914715 (331)\ttotal: 4.25s\tremaining: 7.65s\n",
            "357:\tlearn: 0.8728082\ttest: 1.2940088\tbest: 1.2914715 (331)\ttotal: 4.27s\tremaining: 7.66s\n",
            "358:\tlearn: 0.8717434\ttest: 1.2937498\tbest: 1.2914715 (331)\ttotal: 4.29s\tremaining: 7.67s\n",
            "359:\tlearn: 0.8716857\ttest: 1.2938435\tbest: 1.2914715 (331)\ttotal: 4.33s\tremaining: 7.7s\n",
            "360:\tlearn: 0.8716527\ttest: 1.2940015\tbest: 1.2914715 (331)\ttotal: 4.36s\tremaining: 7.72s\n",
            "361:\tlearn: 0.8692250\ttest: 1.2942459\tbest: 1.2914715 (331)\ttotal: 4.39s\tremaining: 7.73s\n",
            "362:\tlearn: 0.8681660\ttest: 1.2948266\tbest: 1.2914715 (331)\ttotal: 4.42s\tremaining: 7.75s\n",
            "363:\tlearn: 0.8674952\ttest: 1.2950226\tbest: 1.2914715 (331)\ttotal: 4.45s\tremaining: 7.77s\n",
            "364:\tlearn: 0.8672698\ttest: 1.2953880\tbest: 1.2914715 (331)\ttotal: 4.47s\tremaining: 7.78s\n",
            "365:\tlearn: 0.8658542\ttest: 1.2952441\tbest: 1.2914715 (331)\ttotal: 4.5s\tremaining: 7.8s\n",
            "366:\tlearn: 0.8654325\ttest: 1.2951621\tbest: 1.2914715 (331)\ttotal: 4.54s\tremaining: 7.82s\n",
            "367:\tlearn: 0.8651021\ttest: 1.2948938\tbest: 1.2914715 (331)\ttotal: 4.58s\tremaining: 7.86s\n",
            "368:\tlearn: 0.8650230\ttest: 1.2950348\tbest: 1.2914715 (331)\ttotal: 4.61s\tremaining: 7.88s\n",
            "369:\tlearn: 0.8633191\ttest: 1.2954524\tbest: 1.2914715 (331)\ttotal: 4.63s\tremaining: 7.88s\n",
            "370:\tlearn: 0.8632618\ttest: 1.2954989\tbest: 1.2914715 (331)\ttotal: 4.65s\tremaining: 7.88s\n",
            "371:\tlearn: 0.8628672\ttest: 1.2957430\tbest: 1.2914715 (331)\ttotal: 4.68s\tremaining: 7.9s\n",
            "372:\tlearn: 0.8611096\ttest: 1.2969979\tbest: 1.2914715 (331)\ttotal: 4.7s\tremaining: 7.9s\n",
            "373:\tlearn: 0.8594867\ttest: 1.2974002\tbest: 1.2914715 (331)\ttotal: 4.72s\tremaining: 7.9s\n",
            "374:\tlearn: 0.8594454\ttest: 1.2975118\tbest: 1.2914715 (331)\ttotal: 4.74s\tremaining: 7.9s\n",
            "375:\tlearn: 0.8591877\ttest: 1.2972764\tbest: 1.2914715 (331)\ttotal: 4.75s\tremaining: 7.88s\n",
            "376:\tlearn: 0.8590479\ttest: 1.2973180\tbest: 1.2914715 (331)\ttotal: 4.77s\tremaining: 7.88s\n",
            "377:\tlearn: 0.8584707\ttest: 1.2971235\tbest: 1.2914715 (331)\ttotal: 4.8s\tremaining: 7.9s\n",
            "378:\tlearn: 0.8568083\ttest: 1.2959189\tbest: 1.2914715 (331)\ttotal: 4.81s\tremaining: 7.88s\n",
            "379:\tlearn: 0.8553010\ttest: 1.2962012\tbest: 1.2914715 (331)\ttotal: 4.82s\tremaining: 7.86s\n",
            "380:\tlearn: 0.8534675\ttest: 1.2978028\tbest: 1.2914715 (331)\ttotal: 4.83s\tremaining: 7.86s\n",
            "381:\tlearn: 0.8534051\ttest: 1.2978921\tbest: 1.2914715 (331)\ttotal: 4.85s\tremaining: 7.84s\n",
            "382:\tlearn: 0.8514521\ttest: 1.2968316\tbest: 1.2914715 (331)\ttotal: 4.87s\tremaining: 7.84s\n",
            "383:\tlearn: 0.8509005\ttest: 1.2968296\tbest: 1.2914715 (331)\ttotal: 4.89s\tremaining: 7.85s\n",
            "384:\tlearn: 0.8484219\ttest: 1.2959135\tbest: 1.2914715 (331)\ttotal: 4.93s\tremaining: 7.87s\n",
            "385:\tlearn: 0.8468862\ttest: 1.2950948\tbest: 1.2914715 (331)\ttotal: 4.96s\tremaining: 7.89s\n",
            "386:\tlearn: 0.8445298\ttest: 1.2960922\tbest: 1.2914715 (331)\ttotal: 4.98s\tremaining: 7.89s\n",
            "387:\tlearn: 0.8437356\ttest: 1.2960813\tbest: 1.2914715 (331)\ttotal: 5s\tremaining: 7.88s\n",
            "388:\tlearn: 0.8411649\ttest: 1.2967500\tbest: 1.2914715 (331)\ttotal: 5.01s\tremaining: 7.86s\n",
            "389:\tlearn: 0.8410974\ttest: 1.2967347\tbest: 1.2914715 (331)\ttotal: 5.02s\tremaining: 7.84s\n",
            "390:\tlearn: 0.8399177\ttest: 1.2967476\tbest: 1.2914715 (331)\ttotal: 5.03s\tremaining: 7.83s\n",
            "391:\tlearn: 0.8377608\ttest: 1.2972162\tbest: 1.2914715 (331)\ttotal: 5.04s\tremaining: 7.82s\n",
            "392:\tlearn: 0.8365458\ttest: 1.2973212\tbest: 1.2914715 (331)\ttotal: 5.06s\tremaining: 7.82s\n",
            "393:\tlearn: 0.8350275\ttest: 1.2968930\tbest: 1.2914715 (331)\ttotal: 5.07s\tremaining: 7.8s\n",
            "394:\tlearn: 0.8340205\ttest: 1.2974807\tbest: 1.2914715 (331)\ttotal: 5.08s\tremaining: 7.79s\n",
            "395:\tlearn: 0.8321567\ttest: 1.2965658\tbest: 1.2914715 (331)\ttotal: 5.1s\tremaining: 7.78s\n",
            "396:\tlearn: 0.8310916\ttest: 1.2965508\tbest: 1.2914715 (331)\ttotal: 5.12s\tremaining: 7.77s\n",
            "397:\tlearn: 0.8309381\ttest: 1.2963341\tbest: 1.2914715 (331)\ttotal: 5.13s\tremaining: 7.76s\n",
            "398:\tlearn: 0.8296468\ttest: 1.2960487\tbest: 1.2914715 (331)\ttotal: 5.15s\tremaining: 7.76s\n",
            "399:\tlearn: 0.8287009\ttest: 1.2958149\tbest: 1.2914715 (331)\ttotal: 5.17s\tremaining: 7.75s\n",
            "400:\tlearn: 0.8284244\ttest: 1.2959973\tbest: 1.2914715 (331)\ttotal: 5.19s\tremaining: 7.75s\n",
            "401:\tlearn: 0.8266940\ttest: 1.2948797\tbest: 1.2914715 (331)\ttotal: 5.21s\tremaining: 7.75s\n",
            "402:\tlearn: 0.8266341\ttest: 1.2948651\tbest: 1.2914715 (331)\ttotal: 5.23s\tremaining: 7.75s\n",
            "403:\tlearn: 0.8266029\ttest: 1.2949162\tbest: 1.2914715 (331)\ttotal: 5.27s\tremaining: 7.78s\n",
            "404:\tlearn: 0.8263603\ttest: 1.2949688\tbest: 1.2914715 (331)\ttotal: 5.29s\tremaining: 7.77s\n",
            "405:\tlearn: 0.8261561\ttest: 1.2947803\tbest: 1.2914715 (331)\ttotal: 5.3s\tremaining: 7.76s\n",
            "406:\tlearn: 0.8261077\ttest: 1.2948683\tbest: 1.2914715 (331)\ttotal: 5.33s\tremaining: 7.76s\n",
            "407:\tlearn: 0.8257279\ttest: 1.2947847\tbest: 1.2914715 (331)\ttotal: 5.36s\tremaining: 7.78s\n",
            "408:\tlearn: 0.8246983\ttest: 1.2945303\tbest: 1.2914715 (331)\ttotal: 5.38s\tremaining: 7.78s\n",
            "409:\tlearn: 0.8245119\ttest: 1.2945522\tbest: 1.2914715 (331)\ttotal: 5.41s\tremaining: 7.78s\n",
            "410:\tlearn: 0.8243388\ttest: 1.2946778\tbest: 1.2914715 (331)\ttotal: 5.42s\tremaining: 7.78s\n",
            "411:\tlearn: 0.8231673\ttest: 1.2944248\tbest: 1.2914715 (331)\ttotal: 5.45s\tremaining: 7.77s\n",
            "412:\tlearn: 0.8210619\ttest: 1.2940742\tbest: 1.2914715 (331)\ttotal: 5.47s\tremaining: 7.77s\n",
            "413:\tlearn: 0.8195760\ttest: 1.2934630\tbest: 1.2914715 (331)\ttotal: 5.49s\tremaining: 7.77s\n",
            "414:\tlearn: 0.8193535\ttest: 1.2934497\tbest: 1.2914715 (331)\ttotal: 5.51s\tremaining: 7.77s\n",
            "415:\tlearn: 0.8192685\ttest: 1.2934013\tbest: 1.2914715 (331)\ttotal: 5.54s\tremaining: 7.78s\n",
            "416:\tlearn: 0.8176690\ttest: 1.2936396\tbest: 1.2914715 (331)\ttotal: 5.57s\tremaining: 7.79s\n",
            "417:\tlearn: 0.8157619\ttest: 1.2924197\tbest: 1.2914715 (331)\ttotal: 5.59s\tremaining: 7.79s\n",
            "418:\tlearn: 0.8156731\ttest: 1.2924638\tbest: 1.2914715 (331)\ttotal: 5.61s\tremaining: 7.77s\n",
            "419:\tlearn: 0.8148808\ttest: 1.2921244\tbest: 1.2914715 (331)\ttotal: 5.62s\tremaining: 7.76s\n",
            "420:\tlearn: 0.8148474\ttest: 1.2921565\tbest: 1.2914715 (331)\ttotal: 5.63s\tremaining: 7.74s\n",
            "421:\tlearn: 0.8145636\ttest: 1.2921638\tbest: 1.2914715 (331)\ttotal: 5.64s\tremaining: 7.73s\n",
            "422:\tlearn: 0.8134370\ttest: 1.2926683\tbest: 1.2914715 (331)\ttotal: 5.66s\tremaining: 7.73s\n",
            "423:\tlearn: 0.8133854\ttest: 1.2927205\tbest: 1.2914715 (331)\ttotal: 5.69s\tremaining: 7.73s\n",
            "424:\tlearn: 0.8133401\ttest: 1.2926348\tbest: 1.2914715 (331)\ttotal: 5.71s\tremaining: 7.73s\n",
            "425:\tlearn: 0.8132116\ttest: 1.2926490\tbest: 1.2914715 (331)\ttotal: 5.73s\tremaining: 7.72s\n",
            "426:\tlearn: 0.8122633\ttest: 1.2928481\tbest: 1.2914715 (331)\ttotal: 5.74s\tremaining: 7.71s\n",
            "427:\tlearn: 0.8111917\ttest: 1.2927004\tbest: 1.2914715 (331)\ttotal: 5.76s\tremaining: 7.69s\n",
            "428:\tlearn: 0.8107095\ttest: 1.2922090\tbest: 1.2914715 (331)\ttotal: 5.77s\tremaining: 7.68s\n",
            "429:\tlearn: 0.8092866\ttest: 1.2941533\tbest: 1.2914715 (331)\ttotal: 5.78s\tremaining: 7.66s\n",
            "430:\tlearn: 0.8079867\ttest: 1.2945892\tbest: 1.2914715 (331)\ttotal: 5.8s\tremaining: 7.66s\n",
            "431:\tlearn: 0.8078517\ttest: 1.2945900\tbest: 1.2914715 (331)\ttotal: 5.82s\tremaining: 7.66s\n",
            "432:\tlearn: 0.8060633\ttest: 1.2940177\tbest: 1.2914715 (331)\ttotal: 5.85s\tremaining: 7.66s\n",
            "433:\tlearn: 0.8045200\ttest: 1.2940851\tbest: 1.2914715 (331)\ttotal: 5.87s\tremaining: 7.65s\n",
            "434:\tlearn: 0.8025130\ttest: 1.2938987\tbest: 1.2914715 (331)\ttotal: 5.89s\tremaining: 7.65s\n",
            "435:\tlearn: 0.8007689\ttest: 1.2942181\tbest: 1.2914715 (331)\ttotal: 5.91s\tremaining: 7.64s\n",
            "436:\tlearn: 0.8000531\ttest: 1.2944236\tbest: 1.2914715 (331)\ttotal: 5.95s\tremaining: 7.66s\n",
            "437:\tlearn: 0.7996899\ttest: 1.2946716\tbest: 1.2914715 (331)\ttotal: 6s\tremaining: 7.7s\n",
            "438:\tlearn: 0.7982813\ttest: 1.2945486\tbest: 1.2914715 (331)\ttotal: 6.03s\tremaining: 7.71s\n",
            "439:\tlearn: 0.7982592\ttest: 1.2945414\tbest: 1.2914715 (331)\ttotal: 6.06s\tremaining: 7.71s\n",
            "440:\tlearn: 0.7971034\ttest: 1.2939384\tbest: 1.2914715 (331)\ttotal: 6.07s\tremaining: 7.7s\n",
            "441:\tlearn: 0.7958538\ttest: 1.2940812\tbest: 1.2914715 (331)\ttotal: 6.1s\tremaining: 7.7s\n",
            "442:\tlearn: 0.7957908\ttest: 1.2938968\tbest: 1.2914715 (331)\ttotal: 6.13s\tremaining: 7.7s\n",
            "443:\tlearn: 0.7942002\ttest: 1.2937684\tbest: 1.2914715 (331)\ttotal: 6.18s\tremaining: 7.74s\n",
            "444:\tlearn: 0.7940706\ttest: 1.2936921\tbest: 1.2914715 (331)\ttotal: 6.22s\tremaining: 7.75s\n",
            "445:\tlearn: 0.7940292\ttest: 1.2935983\tbest: 1.2914715 (331)\ttotal: 6.25s\tremaining: 7.76s\n",
            "446:\tlearn: 0.7923624\ttest: 1.2939815\tbest: 1.2914715 (331)\ttotal: 6.28s\tremaining: 7.76s\n",
            "447:\tlearn: 0.7923053\ttest: 1.2939598\tbest: 1.2914715 (331)\ttotal: 6.3s\tremaining: 7.76s\n",
            "448:\tlearn: 0.7920577\ttest: 1.2938201\tbest: 1.2914715 (331)\ttotal: 6.33s\tremaining: 7.77s\n",
            "449:\tlearn: 0.7909752\ttest: 1.2940701\tbest: 1.2914715 (331)\ttotal: 6.35s\tremaining: 7.76s\n",
            "450:\tlearn: 0.7893632\ttest: 1.2941447\tbest: 1.2914715 (331)\ttotal: 6.39s\tremaining: 7.78s\n",
            "451:\tlearn: 0.7879929\ttest: 1.2934572\tbest: 1.2914715 (331)\ttotal: 6.41s\tremaining: 7.77s\n",
            "452:\tlearn: 0.7879266\ttest: 1.2934510\tbest: 1.2914715 (331)\ttotal: 6.44s\tremaining: 7.78s\n",
            "453:\tlearn: 0.7873038\ttest: 1.2927561\tbest: 1.2914715 (331)\ttotal: 6.46s\tremaining: 7.77s\n",
            "454:\tlearn: 0.7856750\ttest: 1.2922345\tbest: 1.2914715 (331)\ttotal: 6.49s\tremaining: 7.77s\n",
            "455:\tlearn: 0.7834043\ttest: 1.2920467\tbest: 1.2914715 (331)\ttotal: 6.52s\tremaining: 7.77s\n",
            "456:\tlearn: 0.7820565\ttest: 1.2917523\tbest: 1.2914715 (331)\ttotal: 6.56s\tremaining: 7.79s\n",
            "457:\tlearn: 0.7813305\ttest: 1.2916509\tbest: 1.2914715 (331)\ttotal: 6.58s\tremaining: 7.78s\n",
            "458:\tlearn: 0.7802318\ttest: 1.2904893\tbest: 1.2904893 (458)\ttotal: 6.6s\tremaining: 7.78s\n",
            "459:\tlearn: 0.7790092\ttest: 1.2903716\tbest: 1.2903716 (459)\ttotal: 6.62s\tremaining: 7.78s\n",
            "460:\tlearn: 0.7779747\ttest: 1.2905075\tbest: 1.2903716 (459)\ttotal: 6.64s\tremaining: 7.77s\n",
            "461:\tlearn: 0.7764748\ttest: 1.2916545\tbest: 1.2903716 (459)\ttotal: 6.67s\tremaining: 7.77s\n",
            "462:\tlearn: 0.7753882\ttest: 1.2916324\tbest: 1.2903716 (459)\ttotal: 6.69s\tremaining: 7.76s\n",
            "463:\tlearn: 0.7750189\ttest: 1.2916461\tbest: 1.2903716 (459)\ttotal: 6.72s\tremaining: 7.76s\n",
            "464:\tlearn: 0.7739018\ttest: 1.2919345\tbest: 1.2903716 (459)\ttotal: 6.75s\tremaining: 7.76s\n",
            "465:\tlearn: 0.7737122\ttest: 1.2919740\tbest: 1.2903716 (459)\ttotal: 6.77s\tremaining: 7.76s\n",
            "466:\tlearn: 0.7734329\ttest: 1.2921153\tbest: 1.2903716 (459)\ttotal: 6.8s\tremaining: 7.76s\n",
            "467:\tlearn: 0.7720808\ttest: 1.2927087\tbest: 1.2903716 (459)\ttotal: 6.83s\tremaining: 7.76s\n",
            "468:\tlearn: 0.7719297\ttest: 1.2928649\tbest: 1.2903716 (459)\ttotal: 6.85s\tremaining: 7.76s\n",
            "469:\tlearn: 0.7703162\ttest: 1.2933507\tbest: 1.2903716 (459)\ttotal: 6.87s\tremaining: 7.75s\n",
            "470:\tlearn: 0.7690913\ttest: 1.2930764\tbest: 1.2903716 (459)\ttotal: 6.89s\tremaining: 7.74s\n",
            "471:\tlearn: 0.7688814\ttest: 1.2932258\tbest: 1.2903716 (459)\ttotal: 6.93s\tremaining: 7.75s\n",
            "472:\tlearn: 0.7672068\ttest: 1.2931559\tbest: 1.2903716 (459)\ttotal: 6.95s\tremaining: 7.74s\n",
            "473:\tlearn: 0.7667109\ttest: 1.2935305\tbest: 1.2903716 (459)\ttotal: 6.98s\tremaining: 7.74s\n",
            "474:\tlearn: 0.7661549\ttest: 1.2934270\tbest: 1.2903716 (459)\ttotal: 7.01s\tremaining: 7.75s\n",
            "475:\tlearn: 0.7661086\ttest: 1.2934690\tbest: 1.2903716 (459)\ttotal: 7.05s\tremaining: 7.76s\n",
            "476:\tlearn: 0.7660205\ttest: 1.2933066\tbest: 1.2903716 (459)\ttotal: 7.08s\tremaining: 7.77s\n",
            "477:\tlearn: 0.7651934\ttest: 1.2931170\tbest: 1.2903716 (459)\ttotal: 7.12s\tremaining: 7.78s\n",
            "478:\tlearn: 0.7651769\ttest: 1.2931201\tbest: 1.2903716 (459)\ttotal: 7.14s\tremaining: 7.77s\n",
            "479:\tlearn: 0.7645936\ttest: 1.2931345\tbest: 1.2903716 (459)\ttotal: 7.16s\tremaining: 7.76s\n",
            "480:\tlearn: 0.7635264\ttest: 1.2935382\tbest: 1.2903716 (459)\ttotal: 7.19s\tremaining: 7.75s\n",
            "481:\tlearn: 0.7619553\ttest: 1.2924920\tbest: 1.2903716 (459)\ttotal: 7.22s\tremaining: 7.76s\n",
            "482:\tlearn: 0.7612496\ttest: 1.2924541\tbest: 1.2903716 (459)\ttotal: 7.26s\tremaining: 7.77s\n",
            "483:\tlearn: 0.7588641\ttest: 1.2931742\tbest: 1.2903716 (459)\ttotal: 7.3s\tremaining: 7.78s\n",
            "484:\tlearn: 0.7579478\ttest: 1.2936954\tbest: 1.2903716 (459)\ttotal: 7.32s\tremaining: 7.78s\n",
            "485:\tlearn: 0.7574105\ttest: 1.2934562\tbest: 1.2903716 (459)\ttotal: 7.35s\tremaining: 7.77s\n",
            "486:\tlearn: 0.7570933\ttest: 1.2934776\tbest: 1.2903716 (459)\ttotal: 7.38s\tremaining: 7.78s\n",
            "487:\tlearn: 0.7561081\ttest: 1.2932662\tbest: 1.2903716 (459)\ttotal: 7.41s\tremaining: 7.78s\n",
            "488:\tlearn: 0.7557259\ttest: 1.2929777\tbest: 1.2903716 (459)\ttotal: 7.43s\tremaining: 7.76s\n",
            "489:\tlearn: 0.7556633\ttest: 1.2929583\tbest: 1.2903716 (459)\ttotal: 7.46s\tremaining: 7.76s\n",
            "490:\tlearn: 0.7548860\ttest: 1.2925696\tbest: 1.2903716 (459)\ttotal: 7.47s\tremaining: 7.74s\n",
            "491:\tlearn: 0.7547706\ttest: 1.2926000\tbest: 1.2903716 (459)\ttotal: 7.48s\tremaining: 7.72s\n",
            "492:\tlearn: 0.7522808\ttest: 1.2920468\tbest: 1.2903716 (459)\ttotal: 7.49s\tremaining: 7.71s\n",
            "493:\tlearn: 0.7514922\ttest: 1.2927020\tbest: 1.2903716 (459)\ttotal: 7.52s\tremaining: 7.7s\n",
            "494:\tlearn: 0.7514316\ttest: 1.2926982\tbest: 1.2903716 (459)\ttotal: 7.54s\tremaining: 7.69s\n",
            "495:\tlearn: 0.7513807\ttest: 1.2926905\tbest: 1.2903716 (459)\ttotal: 7.56s\tremaining: 7.68s\n",
            "496:\tlearn: 0.7506059\ttest: 1.2926289\tbest: 1.2903716 (459)\ttotal: 7.58s\tremaining: 7.68s\n",
            "497:\tlearn: 0.7505865\ttest: 1.2926573\tbest: 1.2903716 (459)\ttotal: 7.62s\tremaining: 7.69s\n",
            "498:\tlearn: 0.7505727\ttest: 1.2926704\tbest: 1.2903716 (459)\ttotal: 7.64s\tremaining: 7.67s\n",
            "499:\tlearn: 0.7503655\ttest: 1.2925187\tbest: 1.2903716 (459)\ttotal: 7.65s\tremaining: 7.65s\n",
            "500:\tlearn: 0.7503107\ttest: 1.2925784\tbest: 1.2903716 (459)\ttotal: 7.66s\tremaining: 7.63s\n",
            "501:\tlearn: 0.7502973\ttest: 1.2926015\tbest: 1.2903716 (459)\ttotal: 7.67s\tremaining: 7.61s\n",
            "502:\tlearn: 0.7502749\ttest: 1.2927152\tbest: 1.2903716 (459)\ttotal: 7.68s\tremaining: 7.59s\n",
            "503:\tlearn: 0.7502080\ttest: 1.2928307\tbest: 1.2903716 (459)\ttotal: 7.69s\tremaining: 7.57s\n",
            "504:\tlearn: 0.7499895\ttest: 1.2926089\tbest: 1.2903716 (459)\ttotal: 7.73s\tremaining: 7.58s\n",
            "505:\tlearn: 0.7490423\ttest: 1.2928391\tbest: 1.2903716 (459)\ttotal: 7.74s\tremaining: 7.56s\n",
            "506:\tlearn: 0.7482848\ttest: 1.2927283\tbest: 1.2903716 (459)\ttotal: 7.77s\tremaining: 7.55s\n",
            "507:\tlearn: 0.7471339\ttest: 1.2932350\tbest: 1.2903716 (459)\ttotal: 7.81s\tremaining: 7.57s\n",
            "508:\tlearn: 0.7471092\ttest: 1.2933363\tbest: 1.2903716 (459)\ttotal: 7.86s\tremaining: 7.58s\n",
            "509:\tlearn: 0.7460577\ttest: 1.2933343\tbest: 1.2903716 (459)\ttotal: 7.89s\tremaining: 7.58s\n",
            "510:\tlearn: 0.7451472\ttest: 1.2938525\tbest: 1.2903716 (459)\ttotal: 7.92s\tremaining: 7.58s\n",
            "511:\tlearn: 0.7432340\ttest: 1.2941183\tbest: 1.2903716 (459)\ttotal: 7.96s\tremaining: 7.59s\n",
            "512:\tlearn: 0.7416142\ttest: 1.2930242\tbest: 1.2903716 (459)\ttotal: 7.98s\tremaining: 7.58s\n",
            "513:\tlearn: 0.7398134\ttest: 1.2929557\tbest: 1.2903716 (459)\ttotal: 8.01s\tremaining: 7.58s\n",
            "514:\tlearn: 0.7394925\ttest: 1.2928720\tbest: 1.2903716 (459)\ttotal: 8.04s\tremaining: 7.58s\n",
            "515:\tlearn: 0.7391394\ttest: 1.2926067\tbest: 1.2903716 (459)\ttotal: 8.07s\tremaining: 7.57s\n",
            "516:\tlearn: 0.7381496\ttest: 1.2930641\tbest: 1.2903716 (459)\ttotal: 8.11s\tremaining: 7.57s\n",
            "517:\tlearn: 0.7380650\ttest: 1.2930455\tbest: 1.2903716 (459)\ttotal: 8.15s\tremaining: 7.58s\n",
            "518:\tlearn: 0.7366918\ttest: 1.2926462\tbest: 1.2903716 (459)\ttotal: 8.17s\tremaining: 7.58s\n",
            "519:\tlearn: 0.7355868\ttest: 1.2918951\tbest: 1.2903716 (459)\ttotal: 8.22s\tremaining: 7.59s\n",
            "520:\tlearn: 0.7348167\ttest: 1.2917581\tbest: 1.2903716 (459)\ttotal: 8.24s\tremaining: 7.58s\n",
            "521:\tlearn: 0.7345793\ttest: 1.2917739\tbest: 1.2903716 (459)\ttotal: 8.27s\tremaining: 7.58s\n",
            "522:\tlearn: 0.7341073\ttest: 1.2915647\tbest: 1.2903716 (459)\ttotal: 8.29s\tremaining: 7.56s\n",
            "523:\tlearn: 0.7340488\ttest: 1.2915341\tbest: 1.2903716 (459)\ttotal: 8.31s\tremaining: 7.55s\n",
            "524:\tlearn: 0.7326480\ttest: 1.2921050\tbest: 1.2903716 (459)\ttotal: 8.34s\tremaining: 7.54s\n",
            "525:\tlearn: 0.7311620\ttest: 1.2909939\tbest: 1.2903716 (459)\ttotal: 8.37s\tremaining: 7.54s\n",
            "526:\tlearn: 0.7310950\ttest: 1.2910940\tbest: 1.2903716 (459)\ttotal: 8.39s\tremaining: 7.53s\n",
            "527:\tlearn: 0.7298243\ttest: 1.2907558\tbest: 1.2903716 (459)\ttotal: 8.41s\tremaining: 7.52s\n",
            "528:\tlearn: 0.7289105\ttest: 1.2901783\tbest: 1.2901783 (528)\ttotal: 8.43s\tremaining: 7.5s\n",
            "529:\tlearn: 0.7287209\ttest: 1.2900122\tbest: 1.2900122 (529)\ttotal: 8.46s\tremaining: 7.5s\n",
            "530:\tlearn: 0.7286937\ttest: 1.2900137\tbest: 1.2900122 (529)\ttotal: 8.48s\tremaining: 7.49s\n",
            "531:\tlearn: 0.7282553\ttest: 1.2896398\tbest: 1.2896398 (531)\ttotal: 8.49s\tremaining: 7.47s\n",
            "532:\tlearn: 0.7276682\ttest: 1.2902613\tbest: 1.2896398 (531)\ttotal: 8.51s\tremaining: 7.46s\n",
            "533:\tlearn: 0.7272762\ttest: 1.2902436\tbest: 1.2896398 (531)\ttotal: 8.52s\tremaining: 7.44s\n",
            "534:\tlearn: 0.7271093\ttest: 1.2903354\tbest: 1.2896398 (531)\ttotal: 8.53s\tremaining: 7.42s\n",
            "535:\tlearn: 0.7268436\ttest: 1.2904885\tbest: 1.2896398 (531)\ttotal: 8.55s\tremaining: 7.4s\n",
            "536:\tlearn: 0.7257526\ttest: 1.2890657\tbest: 1.2890657 (536)\ttotal: 8.58s\tremaining: 7.4s\n",
            "537:\tlearn: 0.7256343\ttest: 1.2889803\tbest: 1.2889803 (537)\ttotal: 8.6s\tremaining: 7.38s\n",
            "538:\tlearn: 0.7245224\ttest: 1.2891661\tbest: 1.2889803 (537)\ttotal: 8.63s\tremaining: 7.38s\n",
            "539:\tlearn: 0.7239949\ttest: 1.2890868\tbest: 1.2889803 (537)\ttotal: 8.65s\tremaining: 7.37s\n",
            "540:\tlearn: 0.7234452\ttest: 1.2897272\tbest: 1.2889803 (537)\ttotal: 8.67s\tremaining: 7.36s\n",
            "541:\tlearn: 0.7231866\ttest: 1.2893142\tbest: 1.2889803 (537)\ttotal: 8.7s\tremaining: 7.35s\n",
            "542:\tlearn: 0.7231064\ttest: 1.2893261\tbest: 1.2889803 (537)\ttotal: 8.72s\tremaining: 7.34s\n",
            "543:\tlearn: 0.7230849\ttest: 1.2893242\tbest: 1.2889803 (537)\ttotal: 8.75s\tremaining: 7.33s\n",
            "544:\tlearn: 0.7221355\ttest: 1.2899966\tbest: 1.2889803 (537)\ttotal: 8.77s\tremaining: 7.32s\n",
            "545:\tlearn: 0.7218226\ttest: 1.2898579\tbest: 1.2889803 (537)\ttotal: 8.78s\tremaining: 7.3s\n",
            "546:\tlearn: 0.7205128\ttest: 1.2886785\tbest: 1.2886785 (546)\ttotal: 8.81s\tremaining: 7.29s\n",
            "547:\tlearn: 0.7191999\ttest: 1.2890770\tbest: 1.2886785 (546)\ttotal: 8.83s\tremaining: 7.29s\n",
            "548:\tlearn: 0.7176691\ttest: 1.2899573\tbest: 1.2886785 (546)\ttotal: 8.85s\tremaining: 7.27s\n",
            "549:\tlearn: 0.7170514\ttest: 1.2901967\tbest: 1.2886785 (546)\ttotal: 8.88s\tremaining: 7.26s\n",
            "550:\tlearn: 0.7161555\ttest: 1.2897370\tbest: 1.2886785 (546)\ttotal: 8.89s\tremaining: 7.24s\n",
            "551:\tlearn: 0.7147848\ttest: 1.2891398\tbest: 1.2886785 (546)\ttotal: 8.91s\tremaining: 7.23s\n",
            "552:\tlearn: 0.7147250\ttest: 1.2891629\tbest: 1.2886785 (546)\ttotal: 8.94s\tremaining: 7.22s\n",
            "553:\tlearn: 0.7141410\ttest: 1.2892067\tbest: 1.2886785 (546)\ttotal: 8.97s\tremaining: 7.22s\n",
            "554:\tlearn: 0.7137930\ttest: 1.2889030\tbest: 1.2886785 (546)\ttotal: 9.01s\tremaining: 7.23s\n",
            "555:\tlearn: 0.7125180\ttest: 1.2890874\tbest: 1.2886785 (546)\ttotal: 9.05s\tremaining: 7.22s\n",
            "556:\tlearn: 0.7124896\ttest: 1.2890776\tbest: 1.2886785 (546)\ttotal: 9.07s\tremaining: 7.22s\n",
            "557:\tlearn: 0.7123350\ttest: 1.2889666\tbest: 1.2886785 (546)\ttotal: 9.1s\tremaining: 7.21s\n",
            "558:\tlearn: 0.7109389\ttest: 1.2889241\tbest: 1.2886785 (546)\ttotal: 9.12s\tremaining: 7.2s\n",
            "559:\tlearn: 0.7098863\ttest: 1.2889162\tbest: 1.2886785 (546)\ttotal: 9.14s\tremaining: 7.18s\n",
            "560:\tlearn: 0.7093060\ttest: 1.2891598\tbest: 1.2886785 (546)\ttotal: 9.17s\tremaining: 7.17s\n",
            "561:\tlearn: 0.7087030\ttest: 1.2893211\tbest: 1.2886785 (546)\ttotal: 9.19s\tremaining: 7.16s\n",
            "562:\tlearn: 0.7074338\ttest: 1.2894123\tbest: 1.2886785 (546)\ttotal: 9.22s\tremaining: 7.16s\n",
            "563:\tlearn: 0.7065389\ttest: 1.2893514\tbest: 1.2886785 (546)\ttotal: 9.24s\tremaining: 7.14s\n",
            "564:\tlearn: 0.7065326\ttest: 1.2893307\tbest: 1.2886785 (546)\ttotal: 9.27s\tremaining: 7.13s\n",
            "565:\tlearn: 0.7059509\ttest: 1.2894370\tbest: 1.2886785 (546)\ttotal: 9.29s\tremaining: 7.12s\n",
            "566:\tlearn: 0.7051963\ttest: 1.2895275\tbest: 1.2886785 (546)\ttotal: 9.3s\tremaining: 7.1s\n",
            "567:\tlearn: 0.7035352\ttest: 1.2893669\tbest: 1.2886785 (546)\ttotal: 9.31s\tremaining: 7.08s\n",
            "568:\tlearn: 0.7025196\ttest: 1.2902629\tbest: 1.2886785 (546)\ttotal: 9.33s\tremaining: 7.06s\n",
            "569:\tlearn: 0.7024604\ttest: 1.2902074\tbest: 1.2886785 (546)\ttotal: 9.35s\tremaining: 7.05s\n",
            "570:\tlearn: 0.7015560\ttest: 1.2897987\tbest: 1.2886785 (546)\ttotal: 9.39s\tremaining: 7.05s\n",
            "571:\tlearn: 0.7000986\ttest: 1.2901478\tbest: 1.2886785 (546)\ttotal: 9.41s\tremaining: 7.04s\n",
            "572:\tlearn: 0.6988258\ttest: 1.2891402\tbest: 1.2886785 (546)\ttotal: 9.43s\tremaining: 7.03s\n",
            "573:\tlearn: 0.6978581\ttest: 1.2880625\tbest: 1.2880625 (573)\ttotal: 9.44s\tremaining: 7s\n",
            "574:\tlearn: 0.6977905\ttest: 1.2881140\tbest: 1.2880625 (573)\ttotal: 9.45s\tremaining: 6.99s\n",
            "575:\tlearn: 0.6973762\ttest: 1.2880300\tbest: 1.2880300 (575)\ttotal: 9.46s\tremaining: 6.96s\n",
            "576:\tlearn: 0.6972989\ttest: 1.2879677\tbest: 1.2879677 (576)\ttotal: 9.47s\tremaining: 6.94s\n",
            "577:\tlearn: 0.6972551\ttest: 1.2880147\tbest: 1.2879677 (576)\ttotal: 9.48s\tremaining: 6.92s\n",
            "578:\tlearn: 0.6971581\ttest: 1.2880098\tbest: 1.2879677 (576)\ttotal: 9.5s\tremaining: 6.91s\n",
            "579:\tlearn: 0.6961319\ttest: 1.2887459\tbest: 1.2879677 (576)\ttotal: 9.51s\tremaining: 6.88s\n",
            "580:\tlearn: 0.6952357\ttest: 1.2894258\tbest: 1.2879677 (576)\ttotal: 9.52s\tremaining: 6.87s\n",
            "581:\tlearn: 0.6935036\ttest: 1.2883789\tbest: 1.2879677 (576)\ttotal: 9.54s\tremaining: 6.85s\n",
            "582:\tlearn: 0.6931788\ttest: 1.2886201\tbest: 1.2879677 (576)\ttotal: 9.56s\tremaining: 6.84s\n",
            "583:\tlearn: 0.6929330\ttest: 1.2884264\tbest: 1.2879677 (576)\ttotal: 9.6s\tremaining: 6.84s\n",
            "584:\tlearn: 0.6921645\ttest: 1.2878383\tbest: 1.2878383 (584)\ttotal: 9.62s\tremaining: 6.82s\n",
            "585:\tlearn: 0.6921468\ttest: 1.2878270\tbest: 1.2878270 (585)\ttotal: 9.65s\tremaining: 6.82s\n",
            "586:\tlearn: 0.6915514\ttest: 1.2872192\tbest: 1.2872192 (586)\ttotal: 9.66s\tremaining: 6.79s\n",
            "587:\tlearn: 0.6910131\ttest: 1.2868390\tbest: 1.2868390 (587)\ttotal: 9.71s\tremaining: 6.8s\n",
            "588:\tlearn: 0.6899814\ttest: 1.2868719\tbest: 1.2868390 (587)\ttotal: 9.73s\tremaining: 6.79s\n",
            "589:\tlearn: 0.6891374\ttest: 1.2864655\tbest: 1.2864655 (589)\ttotal: 9.74s\tremaining: 6.77s\n",
            "590:\tlearn: 0.6883195\ttest: 1.2864606\tbest: 1.2864606 (590)\ttotal: 9.76s\tremaining: 6.75s\n",
            "591:\tlearn: 0.6881130\ttest: 1.2865789\tbest: 1.2864606 (590)\ttotal: 9.78s\tremaining: 6.74s\n",
            "592:\tlearn: 0.6879476\ttest: 1.2867382\tbest: 1.2864606 (590)\ttotal: 9.81s\tremaining: 6.73s\n",
            "593:\tlearn: 0.6863901\ttest: 1.2871403\tbest: 1.2864606 (590)\ttotal: 9.85s\tremaining: 6.73s\n",
            "594:\tlearn: 0.6863671\ttest: 1.2871233\tbest: 1.2864606 (590)\ttotal: 9.87s\tremaining: 6.72s\n",
            "595:\tlearn: 0.6863110\ttest: 1.2871399\tbest: 1.2864606 (590)\ttotal: 9.89s\tremaining: 6.71s\n",
            "596:\tlearn: 0.6849828\ttest: 1.2872371\tbest: 1.2864606 (590)\ttotal: 9.92s\tremaining: 6.69s\n",
            "597:\tlearn: 0.6841455\ttest: 1.2867143\tbest: 1.2864606 (590)\ttotal: 9.93s\tremaining: 6.67s\n",
            "598:\tlearn: 0.6841065\ttest: 1.2866493\tbest: 1.2864606 (590)\ttotal: 9.94s\tremaining: 6.65s\n",
            "599:\tlearn: 0.6836460\ttest: 1.2865708\tbest: 1.2864606 (590)\ttotal: 9.95s\tremaining: 6.63s\n",
            "600:\tlearn: 0.6836009\ttest: 1.2866259\tbest: 1.2864606 (590)\ttotal: 9.96s\tremaining: 6.61s\n",
            "601:\tlearn: 0.6827825\ttest: 1.2871682\tbest: 1.2864606 (590)\ttotal: 9.98s\tremaining: 6.6s\n",
            "602:\tlearn: 0.6825834\ttest: 1.2871586\tbest: 1.2864606 (590)\ttotal: 10s\tremaining: 6.58s\n",
            "603:\tlearn: 0.6812839\ttest: 1.2864523\tbest: 1.2864523 (603)\ttotal: 10s\tremaining: 6.58s\n",
            "604:\tlearn: 0.6807176\ttest: 1.2863377\tbest: 1.2863377 (604)\ttotal: 10.1s\tremaining: 6.57s\n",
            "605:\tlearn: 0.6806156\ttest: 1.2864161\tbest: 1.2863377 (604)\ttotal: 10.1s\tremaining: 6.55s\n",
            "606:\tlearn: 0.6805332\ttest: 1.2863220\tbest: 1.2863220 (606)\ttotal: 10.1s\tremaining: 6.54s\n",
            "607:\tlearn: 0.6804714\ttest: 1.2862587\tbest: 1.2862587 (607)\ttotal: 10.2s\tremaining: 6.54s\n",
            "608:\tlearn: 0.6800768\ttest: 1.2866498\tbest: 1.2862587 (607)\ttotal: 10.2s\tremaining: 6.53s\n",
            "609:\tlearn: 0.6795475\ttest: 1.2866991\tbest: 1.2862587 (607)\ttotal: 10.2s\tremaining: 6.51s\n",
            "610:\tlearn: 0.6794678\ttest: 1.2865747\tbest: 1.2862587 (607)\ttotal: 10.2s\tremaining: 6.5s\n",
            "611:\tlearn: 0.6778182\ttest: 1.2864982\tbest: 1.2862587 (607)\ttotal: 10.3s\tremaining: 6.5s\n",
            "612:\tlearn: 0.6774306\ttest: 1.2862665\tbest: 1.2862587 (607)\ttotal: 10.3s\tremaining: 6.48s\n",
            "613:\tlearn: 0.6769021\ttest: 1.2864360\tbest: 1.2862587 (607)\ttotal: 10.3s\tremaining: 6.47s\n",
            "614:\tlearn: 0.6768970\ttest: 1.2864024\tbest: 1.2862587 (607)\ttotal: 10.3s\tremaining: 6.47s\n",
            "615:\tlearn: 0.6768782\ttest: 1.2863919\tbest: 1.2862587 (607)\ttotal: 10.4s\tremaining: 6.46s\n",
            "616:\tlearn: 0.6768209\ttest: 1.2862440\tbest: 1.2862440 (616)\ttotal: 10.4s\tremaining: 6.45s\n",
            "617:\tlearn: 0.6767750\ttest: 1.2862457\tbest: 1.2862440 (616)\ttotal: 10.4s\tremaining: 6.43s\n",
            "618:\tlearn: 0.6767547\ttest: 1.2862375\tbest: 1.2862375 (618)\ttotal: 10.4s\tremaining: 6.41s\n",
            "619:\tlearn: 0.6751154\ttest: 1.2867268\tbest: 1.2862375 (618)\ttotal: 10.4s\tremaining: 6.4s\n",
            "620:\tlearn: 0.6742083\ttest: 1.2867455\tbest: 1.2862375 (618)\ttotal: 10.5s\tremaining: 6.39s\n",
            "621:\tlearn: 0.6723897\ttest: 1.2869571\tbest: 1.2862375 (618)\ttotal: 10.5s\tremaining: 6.38s\n",
            "622:\tlearn: 0.6722908\ttest: 1.2866680\tbest: 1.2862375 (618)\ttotal: 10.5s\tremaining: 6.37s\n",
            "623:\tlearn: 0.6716674\ttest: 1.2866002\tbest: 1.2862375 (618)\ttotal: 10.5s\tremaining: 6.36s\n",
            "624:\tlearn: 0.6708114\ttest: 1.2863997\tbest: 1.2862375 (618)\ttotal: 10.6s\tremaining: 6.34s\n",
            "625:\tlearn: 0.6707974\ttest: 1.2863656\tbest: 1.2862375 (618)\ttotal: 10.6s\tremaining: 6.33s\n",
            "626:\tlearn: 0.6706781\ttest: 1.2862882\tbest: 1.2862375 (618)\ttotal: 10.6s\tremaining: 6.31s\n",
            "627:\tlearn: 0.6704627\ttest: 1.2863606\tbest: 1.2862375 (618)\ttotal: 10.6s\tremaining: 6.31s\n",
            "628:\tlearn: 0.6704575\ttest: 1.2863414\tbest: 1.2862375 (618)\ttotal: 10.7s\tremaining: 6.29s\n",
            "629:\tlearn: 0.6704235\ttest: 1.2863773\tbest: 1.2862375 (618)\ttotal: 10.7s\tremaining: 6.28s\n",
            "630:\tlearn: 0.6691387\ttest: 1.2862624\tbest: 1.2862375 (618)\ttotal: 10.7s\tremaining: 6.26s\n",
            "631:\tlearn: 0.6679629\ttest: 1.2863399\tbest: 1.2862375 (618)\ttotal: 10.7s\tremaining: 6.25s\n",
            "632:\tlearn: 0.6673121\ttest: 1.2864722\tbest: 1.2862375 (618)\ttotal: 10.8s\tremaining: 6.24s\n",
            "633:\tlearn: 0.6672478\ttest: 1.2864134\tbest: 1.2862375 (618)\ttotal: 10.8s\tremaining: 6.22s\n",
            "634:\tlearn: 0.6659420\ttest: 1.2872006\tbest: 1.2862375 (618)\ttotal: 10.8s\tremaining: 6.21s\n",
            "635:\tlearn: 0.6639200\ttest: 1.2866036\tbest: 1.2862375 (618)\ttotal: 10.8s\tremaining: 6.2s\n",
            "636:\tlearn: 0.6630771\ttest: 1.2866173\tbest: 1.2862375 (618)\ttotal: 10.9s\tremaining: 6.19s\n",
            "637:\tlearn: 0.6630728\ttest: 1.2866022\tbest: 1.2862375 (618)\ttotal: 10.9s\tremaining: 6.18s\n",
            "638:\tlearn: 0.6611801\ttest: 1.2860209\tbest: 1.2860209 (638)\ttotal: 10.9s\tremaining: 6.17s\n",
            "639:\tlearn: 0.6610749\ttest: 1.2860335\tbest: 1.2860209 (638)\ttotal: 10.9s\tremaining: 6.16s\n",
            "640:\tlearn: 0.6610633\ttest: 1.2859938\tbest: 1.2859938 (640)\ttotal: 11s\tremaining: 6.14s\n",
            "641:\tlearn: 0.6598544\ttest: 1.2851214\tbest: 1.2851214 (641)\ttotal: 11s\tremaining: 6.13s\n",
            "642:\tlearn: 0.6585760\ttest: 1.2852900\tbest: 1.2851214 (641)\ttotal: 11s\tremaining: 6.12s\n",
            "643:\tlearn: 0.6582755\ttest: 1.2853287\tbest: 1.2851214 (641)\ttotal: 11s\tremaining: 6.11s\n",
            "644:\tlearn: 0.6568216\ttest: 1.2843918\tbest: 1.2843918 (644)\ttotal: 11.1s\tremaining: 6.09s\n",
            "645:\tlearn: 0.6555666\ttest: 1.2847541\tbest: 1.2843918 (644)\ttotal: 11.1s\tremaining: 6.08s\n",
            "646:\tlearn: 0.6552429\ttest: 1.2850862\tbest: 1.2843918 (644)\ttotal: 11.1s\tremaining: 6.07s\n",
            "647:\tlearn: 0.6532630\ttest: 1.2855199\tbest: 1.2843918 (644)\ttotal: 11.2s\tremaining: 6.06s\n",
            "648:\tlearn: 0.6524582\ttest: 1.2857113\tbest: 1.2843918 (644)\ttotal: 11.2s\tremaining: 6.06s\n",
            "649:\tlearn: 0.6521977\ttest: 1.2855470\tbest: 1.2843918 (644)\ttotal: 11.2s\tremaining: 6.04s\n",
            "650:\tlearn: 0.6518794\ttest: 1.2857665\tbest: 1.2843918 (644)\ttotal: 11.2s\tremaining: 6.03s\n",
            "651:\tlearn: 0.6504282\ttest: 1.2870084\tbest: 1.2843918 (644)\ttotal: 11.3s\tremaining: 6.01s\n",
            "652:\tlearn: 0.6503541\ttest: 1.2871101\tbest: 1.2843918 (644)\ttotal: 11.3s\tremaining: 6s\n",
            "653:\tlearn: 0.6503495\ttest: 1.2870802\tbest: 1.2843918 (644)\ttotal: 11.3s\tremaining: 5.99s\n",
            "654:\tlearn: 0.6493484\ttest: 1.2872389\tbest: 1.2843918 (644)\ttotal: 11.3s\tremaining: 5.98s\n",
            "655:\tlearn: 0.6484540\ttest: 1.2876295\tbest: 1.2843918 (644)\ttotal: 11.4s\tremaining: 5.97s\n",
            "656:\tlearn: 0.6475712\ttest: 1.2879483\tbest: 1.2843918 (644)\ttotal: 11.4s\tremaining: 5.95s\n",
            "657:\tlearn: 0.6465112\ttest: 1.2871159\tbest: 1.2843918 (644)\ttotal: 11.4s\tremaining: 5.95s\n",
            "658:\tlearn: 0.6463792\ttest: 1.2870249\tbest: 1.2843918 (644)\ttotal: 11.5s\tremaining: 5.94s\n",
            "659:\tlearn: 0.6454555\ttest: 1.2870312\tbest: 1.2843918 (644)\ttotal: 11.5s\tremaining: 5.92s\n",
            "660:\tlearn: 0.6452853\ttest: 1.2871462\tbest: 1.2843918 (644)\ttotal: 11.5s\tremaining: 5.91s\n",
            "661:\tlearn: 0.6451289\ttest: 1.2871737\tbest: 1.2843918 (644)\ttotal: 11.5s\tremaining: 5.89s\n",
            "662:\tlearn: 0.6445904\ttest: 1.2869408\tbest: 1.2843918 (644)\ttotal: 11.6s\tremaining: 5.89s\n",
            "663:\tlearn: 0.6442746\ttest: 1.2869705\tbest: 1.2843918 (644)\ttotal: 11.6s\tremaining: 5.87s\n",
            "664:\tlearn: 0.6437299\ttest: 1.2866955\tbest: 1.2843918 (644)\ttotal: 11.6s\tremaining: 5.86s\n",
            "665:\tlearn: 0.6421632\ttest: 1.2870722\tbest: 1.2843918 (644)\ttotal: 11.7s\tremaining: 5.86s\n",
            "666:\tlearn: 0.6420678\ttest: 1.2870163\tbest: 1.2843918 (644)\ttotal: 11.7s\tremaining: 5.85s\n",
            "667:\tlearn: 0.6419434\ttest: 1.2870841\tbest: 1.2843918 (644)\ttotal: 11.7s\tremaining: 5.84s\n",
            "668:\tlearn: 0.6413330\ttest: 1.2867534\tbest: 1.2843918 (644)\ttotal: 11.8s\tremaining: 5.82s\n",
            "669:\tlearn: 0.6412508\ttest: 1.2867411\tbest: 1.2843918 (644)\ttotal: 11.8s\tremaining: 5.8s\n",
            "670:\tlearn: 0.6400811\ttest: 1.2863786\tbest: 1.2843918 (644)\ttotal: 11.8s\tremaining: 5.79s\n",
            "671:\tlearn: 0.6400407\ttest: 1.2864948\tbest: 1.2843918 (644)\ttotal: 11.8s\tremaining: 5.78s\n",
            "672:\tlearn: 0.6398628\ttest: 1.2863861\tbest: 1.2843918 (644)\ttotal: 11.9s\tremaining: 5.76s\n",
            "673:\tlearn: 0.6395205\ttest: 1.2865725\tbest: 1.2843918 (644)\ttotal: 11.9s\tremaining: 5.74s\n",
            "674:\tlearn: 0.6387674\ttest: 1.2861913\tbest: 1.2843918 (644)\ttotal: 11.9s\tremaining: 5.72s\n",
            "675:\tlearn: 0.6381136\ttest: 1.2855628\tbest: 1.2843918 (644)\ttotal: 11.9s\tremaining: 5.7s\n",
            "676:\tlearn: 0.6377723\ttest: 1.2856799\tbest: 1.2843918 (644)\ttotal: 11.9s\tremaining: 5.68s\n",
            "677:\tlearn: 0.6372430\ttest: 1.2852072\tbest: 1.2843918 (644)\ttotal: 11.9s\tremaining: 5.67s\n",
            "678:\tlearn: 0.6369411\ttest: 1.2849436\tbest: 1.2843918 (644)\ttotal: 12s\tremaining: 5.66s\n",
            "679:\tlearn: 0.6358757\ttest: 1.2849351\tbest: 1.2843918 (644)\ttotal: 12s\tremaining: 5.65s\n",
            "680:\tlearn: 0.6357684\ttest: 1.2848903\tbest: 1.2843918 (644)\ttotal: 12s\tremaining: 5.63s\n",
            "681:\tlearn: 0.6356140\ttest: 1.2848906\tbest: 1.2843918 (644)\ttotal: 12s\tremaining: 5.62s\n",
            "682:\tlearn: 0.6350733\ttest: 1.2852319\tbest: 1.2843918 (644)\ttotal: 12.1s\tremaining: 5.61s\n",
            "683:\tlearn: 0.6345511\ttest: 1.2855184\tbest: 1.2843918 (644)\ttotal: 12.1s\tremaining: 5.61s\n",
            "684:\tlearn: 0.6345452\ttest: 1.2855184\tbest: 1.2843918 (644)\ttotal: 12.2s\tremaining: 5.59s\n",
            "685:\tlearn: 0.6342496\ttest: 1.2855222\tbest: 1.2843918 (644)\ttotal: 12.2s\tremaining: 5.58s\n",
            "686:\tlearn: 0.6340538\ttest: 1.2854636\tbest: 1.2843918 (644)\ttotal: 12.2s\tremaining: 5.57s\n",
            "687:\tlearn: 0.6330590\ttest: 1.2851804\tbest: 1.2843918 (644)\ttotal: 12.3s\tremaining: 5.56s\n",
            "688:\tlearn: 0.6319619\ttest: 1.2848789\tbest: 1.2843918 (644)\ttotal: 12.3s\tremaining: 5.54s\n",
            "689:\tlearn: 0.6316550\ttest: 1.2849230\tbest: 1.2843918 (644)\ttotal: 12.3s\tremaining: 5.52s\n",
            "690:\tlearn: 0.6314469\ttest: 1.2847175\tbest: 1.2843918 (644)\ttotal: 12.3s\tremaining: 5.51s\n",
            "691:\tlearn: 0.6307303\ttest: 1.2839073\tbest: 1.2839073 (691)\ttotal: 12.3s\tremaining: 5.5s\n",
            "692:\tlearn: 0.6295508\ttest: 1.2841512\tbest: 1.2839073 (691)\ttotal: 12.4s\tremaining: 5.48s\n",
            "693:\tlearn: 0.6295372\ttest: 1.2841210\tbest: 1.2839073 (691)\ttotal: 12.4s\tremaining: 5.48s\n",
            "694:\tlearn: 0.6295116\ttest: 1.2841202\tbest: 1.2839073 (691)\ttotal: 12.5s\tremaining: 5.47s\n",
            "695:\tlearn: 0.6286031\ttest: 1.2844348\tbest: 1.2839073 (691)\ttotal: 12.5s\tremaining: 5.46s\n",
            "696:\tlearn: 0.6282956\ttest: 1.2847419\tbest: 1.2839073 (691)\ttotal: 12.5s\tremaining: 5.45s\n",
            "697:\tlearn: 0.6279054\ttest: 1.2850303\tbest: 1.2839073 (691)\ttotal: 12.6s\tremaining: 5.45s\n",
            "698:\tlearn: 0.6278424\ttest: 1.2850717\tbest: 1.2839073 (691)\ttotal: 12.6s\tremaining: 5.43s\n",
            "699:\tlearn: 0.6274639\ttest: 1.2850946\tbest: 1.2839073 (691)\ttotal: 12.6s\tremaining: 5.42s\n",
            "700:\tlearn: 0.6273623\ttest: 1.2850343\tbest: 1.2839073 (691)\ttotal: 12.7s\tremaining: 5.4s\n",
            "701:\tlearn: 0.6266606\ttest: 1.2847196\tbest: 1.2839073 (691)\ttotal: 12.7s\tremaining: 5.39s\n",
            "702:\tlearn: 0.6255197\ttest: 1.2843102\tbest: 1.2839073 (691)\ttotal: 12.7s\tremaining: 5.38s\n",
            "703:\tlearn: 0.6252937\ttest: 1.2843465\tbest: 1.2839073 (691)\ttotal: 12.7s\tremaining: 5.36s\n",
            "704:\tlearn: 0.6238685\ttest: 1.2841841\tbest: 1.2839073 (691)\ttotal: 12.8s\tremaining: 5.34s\n",
            "705:\tlearn: 0.6227170\ttest: 1.2854382\tbest: 1.2839073 (691)\ttotal: 12.8s\tremaining: 5.32s\n",
            "706:\tlearn: 0.6213336\ttest: 1.2857671\tbest: 1.2839073 (691)\ttotal: 12.8s\tremaining: 5.3s\n",
            "707:\tlearn: 0.6201923\ttest: 1.2867760\tbest: 1.2839073 (691)\ttotal: 12.8s\tremaining: 5.28s\n",
            "708:\tlearn: 0.6194546\ttest: 1.2872215\tbest: 1.2839073 (691)\ttotal: 12.8s\tremaining: 5.26s\n",
            "709:\tlearn: 0.6193821\ttest: 1.2873227\tbest: 1.2839073 (691)\ttotal: 12.8s\tremaining: 5.24s\n",
            "710:\tlearn: 0.6192189\ttest: 1.2872364\tbest: 1.2839073 (691)\ttotal: 12.8s\tremaining: 5.22s\n",
            "711:\tlearn: 0.6190941\ttest: 1.2873936\tbest: 1.2839073 (691)\ttotal: 12.9s\tremaining: 5.2s\n",
            "712:\tlearn: 0.6186609\ttest: 1.2870820\tbest: 1.2839073 (691)\ttotal: 12.9s\tremaining: 5.19s\n",
            "713:\tlearn: 0.6185848\ttest: 1.2870685\tbest: 1.2839073 (691)\ttotal: 13s\tremaining: 5.19s\n",
            "714:\tlearn: 0.6183311\ttest: 1.2870247\tbest: 1.2839073 (691)\ttotal: 13s\tremaining: 5.17s\n",
            "715:\tlearn: 0.6179283\ttest: 1.2869806\tbest: 1.2839073 (691)\ttotal: 13s\tremaining: 5.16s\n",
            "716:\tlearn: 0.6170660\ttest: 1.2875300\tbest: 1.2839073 (691)\ttotal: 13s\tremaining: 5.14s\n",
            "717:\tlearn: 0.6165025\ttest: 1.2875918\tbest: 1.2839073 (691)\ttotal: 13s\tremaining: 5.12s\n",
            "718:\tlearn: 0.6164154\ttest: 1.2875253\tbest: 1.2839073 (691)\ttotal: 13.1s\tremaining: 5.11s\n",
            "719:\tlearn: 0.6161650\ttest: 1.2875297\tbest: 1.2839073 (691)\ttotal: 13.1s\tremaining: 5.09s\n",
            "720:\tlearn: 0.6152479\ttest: 1.2866844\tbest: 1.2839073 (691)\ttotal: 13.1s\tremaining: 5.08s\n",
            "721:\tlearn: 0.6151972\ttest: 1.2867094\tbest: 1.2839073 (691)\ttotal: 13.2s\tremaining: 5.07s\n",
            "722:\tlearn: 0.6141619\ttest: 1.2876891\tbest: 1.2839073 (691)\ttotal: 13.2s\tremaining: 5.05s\n",
            "723:\tlearn: 0.6137413\ttest: 1.2878995\tbest: 1.2839073 (691)\ttotal: 13.2s\tremaining: 5.04s\n",
            "724:\tlearn: 0.6136788\ttest: 1.2878466\tbest: 1.2839073 (691)\ttotal: 13.2s\tremaining: 5.02s\n",
            "725:\tlearn: 0.6131730\ttest: 1.2880081\tbest: 1.2839073 (691)\ttotal: 13.3s\tremaining: 5.01s\n",
            "726:\tlearn: 0.6122729\ttest: 1.2885283\tbest: 1.2839073 (691)\ttotal: 13.3s\tremaining: 5s\n",
            "727:\tlearn: 0.6120059\ttest: 1.2886293\tbest: 1.2839073 (691)\ttotal: 13.3s\tremaining: 4.98s\n",
            "728:\tlearn: 0.6114155\ttest: 1.2888712\tbest: 1.2839073 (691)\ttotal: 13.4s\tremaining: 4.97s\n",
            "729:\tlearn: 0.6113904\ttest: 1.2888469\tbest: 1.2839073 (691)\ttotal: 13.4s\tremaining: 4.96s\n",
            "730:\tlearn: 0.6111230\ttest: 1.2890249\tbest: 1.2839073 (691)\ttotal: 13.4s\tremaining: 4.94s\n",
            "731:\tlearn: 0.6109399\ttest: 1.2891248\tbest: 1.2839073 (691)\ttotal: 13.5s\tremaining: 4.93s\n",
            "732:\tlearn: 0.6101138\ttest: 1.2895415\tbest: 1.2839073 (691)\ttotal: 13.5s\tremaining: 4.92s\n",
            "733:\tlearn: 0.6100892\ttest: 1.2895081\tbest: 1.2839073 (691)\ttotal: 13.5s\tremaining: 4.91s\n",
            "734:\tlearn: 0.6091669\ttest: 1.2889122\tbest: 1.2839073 (691)\ttotal: 13.6s\tremaining: 4.89s\n",
            "735:\tlearn: 0.6083033\ttest: 1.2889379\tbest: 1.2839073 (691)\ttotal: 13.6s\tremaining: 4.88s\n",
            "736:\tlearn: 0.6082416\ttest: 1.2888825\tbest: 1.2839073 (691)\ttotal: 13.6s\tremaining: 4.87s\n",
            "737:\tlearn: 0.6081447\ttest: 1.2888797\tbest: 1.2839073 (691)\ttotal: 13.7s\tremaining: 4.85s\n",
            "738:\tlearn: 0.6081131\ttest: 1.2889784\tbest: 1.2839073 (691)\ttotal: 13.7s\tremaining: 4.83s\n",
            "739:\tlearn: 0.6079492\ttest: 1.2888805\tbest: 1.2839073 (691)\ttotal: 13.7s\tremaining: 4.82s\n",
            "740:\tlearn: 0.6076549\ttest: 1.2891358\tbest: 1.2839073 (691)\ttotal: 13.7s\tremaining: 4.8s\n",
            "741:\tlearn: 0.6075241\ttest: 1.2889840\tbest: 1.2839073 (691)\ttotal: 13.8s\tremaining: 4.79s\n",
            "742:\tlearn: 0.6073421\ttest: 1.2889136\tbest: 1.2839073 (691)\ttotal: 13.8s\tremaining: 4.77s\n",
            "743:\tlearn: 0.6064539\ttest: 1.2887400\tbest: 1.2839073 (691)\ttotal: 13.8s\tremaining: 4.75s\n",
            "744:\tlearn: 0.6047152\ttest: 1.2884510\tbest: 1.2839073 (691)\ttotal: 13.8s\tremaining: 4.73s\n",
            "745:\tlearn: 0.6039290\ttest: 1.2894631\tbest: 1.2839073 (691)\ttotal: 13.9s\tremaining: 4.72s\n",
            "746:\tlearn: 0.6038909\ttest: 1.2895408\tbest: 1.2839073 (691)\ttotal: 13.9s\tremaining: 4.7s\n",
            "747:\tlearn: 0.6038285\ttest: 1.2894798\tbest: 1.2839073 (691)\ttotal: 13.9s\tremaining: 4.68s\n",
            "748:\tlearn: 0.6037847\ttest: 1.2894664\tbest: 1.2839073 (691)\ttotal: 13.9s\tremaining: 4.67s\n",
            "749:\tlearn: 0.6034120\ttest: 1.2897570\tbest: 1.2839073 (691)\ttotal: 14s\tremaining: 4.66s\n",
            "750:\tlearn: 0.6033744\ttest: 1.2897017\tbest: 1.2839073 (691)\ttotal: 14s\tremaining: 4.64s\n",
            "751:\tlearn: 0.6030837\ttest: 1.2897873\tbest: 1.2839073 (691)\ttotal: 14s\tremaining: 4.63s\n",
            "752:\tlearn: 0.6030728\ttest: 1.2897759\tbest: 1.2839073 (691)\ttotal: 14.1s\tremaining: 4.62s\n",
            "753:\tlearn: 0.6028313\ttest: 1.2899840\tbest: 1.2839073 (691)\ttotal: 14.1s\tremaining: 4.6s\n",
            "754:\tlearn: 0.6024835\ttest: 1.2899067\tbest: 1.2839073 (691)\ttotal: 14.1s\tremaining: 4.58s\n",
            "755:\tlearn: 0.6022966\ttest: 1.2901050\tbest: 1.2839073 (691)\ttotal: 14.2s\tremaining: 4.57s\n",
            "756:\tlearn: 0.6022743\ttest: 1.2900922\tbest: 1.2839073 (691)\ttotal: 14.2s\tremaining: 4.55s\n",
            "757:\tlearn: 0.6019672\ttest: 1.2902851\tbest: 1.2839073 (691)\ttotal: 14.2s\tremaining: 4.53s\n",
            "758:\tlearn: 0.6014016\ttest: 1.2901394\tbest: 1.2839073 (691)\ttotal: 14.2s\tremaining: 4.52s\n",
            "759:\tlearn: 0.6011973\ttest: 1.2903452\tbest: 1.2839073 (691)\ttotal: 14.3s\tremaining: 4.5s\n",
            "760:\tlearn: 0.6003738\ttest: 1.2908259\tbest: 1.2839073 (691)\ttotal: 14.3s\tremaining: 4.48s\n",
            "761:\tlearn: 0.6000935\ttest: 1.2905323\tbest: 1.2839073 (691)\ttotal: 14.3s\tremaining: 4.47s\n",
            "762:\tlearn: 0.5999750\ttest: 1.2905569\tbest: 1.2839073 (691)\ttotal: 14.3s\tremaining: 4.45s\n",
            "763:\tlearn: 0.5997064\ttest: 1.2906275\tbest: 1.2839073 (691)\ttotal: 14.4s\tremaining: 4.44s\n",
            "764:\tlearn: 0.5995995\ttest: 1.2907212\tbest: 1.2839073 (691)\ttotal: 14.4s\tremaining: 4.42s\n",
            "765:\tlearn: 0.5990350\ttest: 1.2907882\tbest: 1.2839073 (691)\ttotal: 14.4s\tremaining: 4.4s\n",
            "766:\tlearn: 0.5985747\ttest: 1.2910123\tbest: 1.2839073 (691)\ttotal: 14.4s\tremaining: 4.38s\n",
            "767:\tlearn: 0.5969082\ttest: 1.2908913\tbest: 1.2839073 (691)\ttotal: 14.5s\tremaining: 4.37s\n",
            "768:\tlearn: 0.5968814\ttest: 1.2909065\tbest: 1.2839073 (691)\ttotal: 14.5s\tremaining: 4.35s\n",
            "769:\tlearn: 0.5962427\ttest: 1.2913629\tbest: 1.2839073 (691)\ttotal: 14.5s\tremaining: 4.33s\n",
            "770:\tlearn: 0.5961550\ttest: 1.2910007\tbest: 1.2839073 (691)\ttotal: 14.5s\tremaining: 4.31s\n",
            "771:\tlearn: 0.5956727\ttest: 1.2917622\tbest: 1.2839073 (691)\ttotal: 14.5s\tremaining: 4.29s\n",
            "772:\tlearn: 0.5955367\ttest: 1.2918467\tbest: 1.2839073 (691)\ttotal: 14.5s\tremaining: 4.27s\n",
            "773:\tlearn: 0.5942072\ttest: 1.2910062\tbest: 1.2839073 (691)\ttotal: 14.6s\tremaining: 4.26s\n",
            "774:\tlearn: 0.5941905\ttest: 1.2909963\tbest: 1.2839073 (691)\ttotal: 14.6s\tremaining: 4.24s\n",
            "775:\tlearn: 0.5927491\ttest: 1.2908904\tbest: 1.2839073 (691)\ttotal: 14.6s\tremaining: 4.22s\n",
            "776:\tlearn: 0.5927087\ttest: 1.2908808\tbest: 1.2839073 (691)\ttotal: 14.7s\tremaining: 4.21s\n",
            "777:\tlearn: 0.5917364\ttest: 1.2905692\tbest: 1.2839073 (691)\ttotal: 14.7s\tremaining: 4.2s\n",
            "778:\tlearn: 0.5909200\ttest: 1.2909664\tbest: 1.2839073 (691)\ttotal: 14.7s\tremaining: 4.18s\n",
            "779:\tlearn: 0.5907627\ttest: 1.2909475\tbest: 1.2839073 (691)\ttotal: 14.7s\tremaining: 4.16s\n",
            "780:\tlearn: 0.5902753\ttest: 1.2913357\tbest: 1.2839073 (691)\ttotal: 14.8s\tremaining: 4.14s\n",
            "781:\tlearn: 0.5897188\ttest: 1.2913833\tbest: 1.2839073 (691)\ttotal: 14.8s\tremaining: 4.13s\n",
            "782:\tlearn: 0.5895217\ttest: 1.2916261\tbest: 1.2839073 (691)\ttotal: 14.8s\tremaining: 4.11s\n",
            "783:\tlearn: 0.5891387\ttest: 1.2917772\tbest: 1.2839073 (691)\ttotal: 14.8s\tremaining: 4.09s\n",
            "784:\tlearn: 0.5890903\ttest: 1.2917514\tbest: 1.2839073 (691)\ttotal: 14.9s\tremaining: 4.07s\n",
            "785:\tlearn: 0.5882060\ttest: 1.2914197\tbest: 1.2839073 (691)\ttotal: 14.9s\tremaining: 4.06s\n",
            "786:\tlearn: 0.5872096\ttest: 1.2910301\tbest: 1.2839073 (691)\ttotal: 15s\tremaining: 4.05s\n",
            "787:\tlearn: 0.5870802\ttest: 1.2909084\tbest: 1.2839073 (691)\ttotal: 15s\tremaining: 4.03s\n",
            "788:\tlearn: 0.5867435\ttest: 1.2910325\tbest: 1.2839073 (691)\ttotal: 15s\tremaining: 4.01s\n",
            "789:\tlearn: 0.5864664\ttest: 1.2912272\tbest: 1.2839073 (691)\ttotal: 15s\tremaining: 4s\n",
            "790:\tlearn: 0.5858877\ttest: 1.2911000\tbest: 1.2839073 (691)\ttotal: 15.1s\tremaining: 3.98s\n",
            "791:\tlearn: 0.5846013\ttest: 1.2909835\tbest: 1.2839073 (691)\ttotal: 15.1s\tremaining: 3.96s\n",
            "792:\tlearn: 0.5839885\ttest: 1.2910014\tbest: 1.2839073 (691)\ttotal: 15.1s\tremaining: 3.94s\n",
            "793:\tlearn: 0.5837869\ttest: 1.2911419\tbest: 1.2839073 (691)\ttotal: 15.1s\tremaining: 3.93s\n",
            "794:\tlearn: 0.5836338\ttest: 1.2910610\tbest: 1.2839073 (691)\ttotal: 15.2s\tremaining: 3.92s\n",
            "795:\tlearn: 0.5835691\ttest: 1.2910505\tbest: 1.2839073 (691)\ttotal: 15.2s\tremaining: 3.9s\n",
            "796:\tlearn: 0.5829387\ttest: 1.2912504\tbest: 1.2839073 (691)\ttotal: 15.2s\tremaining: 3.88s\n",
            "797:\tlearn: 0.5828618\ttest: 1.2912310\tbest: 1.2839073 (691)\ttotal: 15.2s\tremaining: 3.86s\n",
            "798:\tlearn: 0.5825105\ttest: 1.2915132\tbest: 1.2839073 (691)\ttotal: 15.3s\tremaining: 3.84s\n",
            "799:\tlearn: 0.5816868\ttest: 1.2913495\tbest: 1.2839073 (691)\ttotal: 15.3s\tremaining: 3.82s\n",
            "800:\tlearn: 0.5803029\ttest: 1.2907139\tbest: 1.2839073 (691)\ttotal: 15.3s\tremaining: 3.8s\n",
            "801:\tlearn: 0.5801946\ttest: 1.2908830\tbest: 1.2839073 (691)\ttotal: 15.3s\tremaining: 3.79s\n",
            "802:\tlearn: 0.5788221\ttest: 1.2914580\tbest: 1.2839073 (691)\ttotal: 15.4s\tremaining: 3.77s\n",
            "803:\tlearn: 0.5787832\ttest: 1.2913656\tbest: 1.2839073 (691)\ttotal: 15.4s\tremaining: 3.75s\n",
            "804:\tlearn: 0.5786393\ttest: 1.2915557\tbest: 1.2839073 (691)\ttotal: 15.4s\tremaining: 3.73s\n",
            "805:\tlearn: 0.5784289\ttest: 1.2913953\tbest: 1.2839073 (691)\ttotal: 15.4s\tremaining: 3.71s\n",
            "806:\tlearn: 0.5784072\ttest: 1.2913875\tbest: 1.2839073 (691)\ttotal: 15.5s\tremaining: 3.7s\n",
            "807:\tlearn: 0.5783487\ttest: 1.2913866\tbest: 1.2839073 (691)\ttotal: 15.5s\tremaining: 3.68s\n",
            "808:\tlearn: 0.5773832\ttest: 1.2912343\tbest: 1.2839073 (691)\ttotal: 15.5s\tremaining: 3.66s\n",
            "809:\tlearn: 0.5767555\ttest: 1.2909957\tbest: 1.2839073 (691)\ttotal: 15.5s\tremaining: 3.64s\n",
            "810:\tlearn: 0.5757097\ttest: 1.2920234\tbest: 1.2839073 (691)\ttotal: 15.5s\tremaining: 3.62s\n",
            "811:\tlearn: 0.5746870\ttest: 1.2927422\tbest: 1.2839073 (691)\ttotal: 15.6s\tremaining: 3.6s\n",
            "812:\tlearn: 0.5735711\ttest: 1.2931953\tbest: 1.2839073 (691)\ttotal: 15.6s\tremaining: 3.58s\n",
            "813:\tlearn: 0.5721734\ttest: 1.2927609\tbest: 1.2839073 (691)\ttotal: 15.6s\tremaining: 3.57s\n",
            "814:\tlearn: 0.5721340\ttest: 1.2927721\tbest: 1.2839073 (691)\ttotal: 15.6s\tremaining: 3.55s\n",
            "815:\tlearn: 0.5715542\ttest: 1.2927086\tbest: 1.2839073 (691)\ttotal: 15.7s\tremaining: 3.53s\n",
            "816:\tlearn: 0.5708771\ttest: 1.2928413\tbest: 1.2839073 (691)\ttotal: 15.7s\tremaining: 3.51s\n",
            "817:\tlearn: 0.5699632\ttest: 1.2927213\tbest: 1.2839073 (691)\ttotal: 15.7s\tremaining: 3.49s\n",
            "818:\tlearn: 0.5694949\ttest: 1.2926216\tbest: 1.2839073 (691)\ttotal: 15.7s\tremaining: 3.48s\n",
            "819:\tlearn: 0.5688019\ttest: 1.2923078\tbest: 1.2839073 (691)\ttotal: 15.8s\tremaining: 3.46s\n",
            "820:\tlearn: 0.5679799\ttest: 1.2920002\tbest: 1.2839073 (691)\ttotal: 15.8s\tremaining: 3.44s\n",
            "821:\tlearn: 0.5677013\ttest: 1.2919285\tbest: 1.2839073 (691)\ttotal: 15.8s\tremaining: 3.42s\n",
            "822:\tlearn: 0.5670361\ttest: 1.2918579\tbest: 1.2839073 (691)\ttotal: 15.8s\tremaining: 3.4s\n",
            "823:\tlearn: 0.5669957\ttest: 1.2919008\tbest: 1.2839073 (691)\ttotal: 15.8s\tremaining: 3.38s\n",
            "824:\tlearn: 0.5665168\ttest: 1.2919023\tbest: 1.2839073 (691)\ttotal: 15.9s\tremaining: 3.37s\n",
            "825:\tlearn: 0.5657227\ttest: 1.2920711\tbest: 1.2839073 (691)\ttotal: 15.9s\tremaining: 3.35s\n",
            "826:\tlearn: 0.5650094\ttest: 1.2911351\tbest: 1.2839073 (691)\ttotal: 15.9s\tremaining: 3.33s\n",
            "827:\tlearn: 0.5636751\ttest: 1.2907453\tbest: 1.2839073 (691)\ttotal: 15.9s\tremaining: 3.31s\n",
            "828:\tlearn: 0.5632220\ttest: 1.2909028\tbest: 1.2839073 (691)\ttotal: 16s\tremaining: 3.29s\n",
            "829:\tlearn: 0.5623316\ttest: 1.2912606\tbest: 1.2839073 (691)\ttotal: 16s\tremaining: 3.27s\n",
            "830:\tlearn: 0.5609805\ttest: 1.2914269\tbest: 1.2839073 (691)\ttotal: 16s\tremaining: 3.25s\n",
            "831:\tlearn: 0.5607528\ttest: 1.2914535\tbest: 1.2839073 (691)\ttotal: 16s\tremaining: 3.23s\n",
            "832:\tlearn: 0.5592523\ttest: 1.2917909\tbest: 1.2839073 (691)\ttotal: 16.1s\tremaining: 3.22s\n",
            "833:\tlearn: 0.5591250\ttest: 1.2916767\tbest: 1.2839073 (691)\ttotal: 16.1s\tremaining: 3.2s\n",
            "834:\tlearn: 0.5582318\ttest: 1.2911897\tbest: 1.2839073 (691)\ttotal: 16.1s\tremaining: 3.18s\n",
            "835:\tlearn: 0.5577562\ttest: 1.2912288\tbest: 1.2839073 (691)\ttotal: 16.1s\tremaining: 3.16s\n",
            "836:\tlearn: 0.5573181\ttest: 1.2915616\tbest: 1.2839073 (691)\ttotal: 16.1s\tremaining: 3.14s\n",
            "837:\tlearn: 0.5564783\ttest: 1.2909954\tbest: 1.2839073 (691)\ttotal: 16.2s\tremaining: 3.13s\n",
            "838:\tlearn: 0.5560530\ttest: 1.2909420\tbest: 1.2839073 (691)\ttotal: 16.2s\tremaining: 3.11s\n",
            "839:\tlearn: 0.5556854\ttest: 1.2911175\tbest: 1.2839073 (691)\ttotal: 16.2s\tremaining: 3.09s\n",
            "840:\tlearn: 0.5556624\ttest: 1.2910921\tbest: 1.2839073 (691)\ttotal: 16.3s\tremaining: 3.07s\n",
            "841:\tlearn: 0.5552736\ttest: 1.2907467\tbest: 1.2839073 (691)\ttotal: 16.3s\tremaining: 3.05s\n",
            "842:\tlearn: 0.5548633\ttest: 1.2910341\tbest: 1.2839073 (691)\ttotal: 16.3s\tremaining: 3.03s\n",
            "843:\tlearn: 0.5546382\ttest: 1.2913533\tbest: 1.2839073 (691)\ttotal: 16.3s\tremaining: 3.02s\n",
            "844:\tlearn: 0.5540207\ttest: 1.2911803\tbest: 1.2839073 (691)\ttotal: 16.3s\tremaining: 3s\n",
            "845:\tlearn: 0.5535640\ttest: 1.2918224\tbest: 1.2839073 (691)\ttotal: 16.4s\tremaining: 2.98s\n",
            "846:\tlearn: 0.5533999\ttest: 1.2918954\tbest: 1.2839073 (691)\ttotal: 16.4s\tremaining: 2.96s\n",
            "847:\tlearn: 0.5524901\ttest: 1.2912190\tbest: 1.2839073 (691)\ttotal: 16.4s\tremaining: 2.94s\n",
            "848:\tlearn: 0.5516441\ttest: 1.2905049\tbest: 1.2839073 (691)\ttotal: 16.4s\tremaining: 2.92s\n",
            "849:\tlearn: 0.5513071\ttest: 1.2908015\tbest: 1.2839073 (691)\ttotal: 16.4s\tremaining: 2.9s\n",
            "850:\tlearn: 0.5506155\ttest: 1.2908346\tbest: 1.2839073 (691)\ttotal: 16.5s\tremaining: 2.89s\n",
            "851:\tlearn: 0.5494290\ttest: 1.2920636\tbest: 1.2839073 (691)\ttotal: 16.5s\tremaining: 2.87s\n",
            "852:\tlearn: 0.5487145\ttest: 1.2920528\tbest: 1.2839073 (691)\ttotal: 16.6s\tremaining: 2.85s\n",
            "853:\tlearn: 0.5483445\ttest: 1.2922158\tbest: 1.2839073 (691)\ttotal: 16.6s\tremaining: 2.84s\n",
            "854:\tlearn: 0.5483293\ttest: 1.2922217\tbest: 1.2839073 (691)\ttotal: 16.6s\tremaining: 2.82s\n",
            "855:\tlearn: 0.5477710\ttest: 1.2921006\tbest: 1.2839073 (691)\ttotal: 16.6s\tremaining: 2.8s\n",
            "856:\tlearn: 0.5475078\ttest: 1.2921335\tbest: 1.2839073 (691)\ttotal: 16.7s\tremaining: 2.78s\n",
            "857:\tlearn: 0.5472248\ttest: 1.2916533\tbest: 1.2839073 (691)\ttotal: 16.7s\tremaining: 2.76s\n",
            "858:\tlearn: 0.5469114\ttest: 1.2913859\tbest: 1.2839073 (691)\ttotal: 16.7s\tremaining: 2.75s\n",
            "859:\tlearn: 0.5461840\ttest: 1.2912801\tbest: 1.2839073 (691)\ttotal: 16.8s\tremaining: 2.73s\n",
            "860:\tlearn: 0.5461520\ttest: 1.2911768\tbest: 1.2839073 (691)\ttotal: 16.8s\tremaining: 2.71s\n",
            "861:\tlearn: 0.5453131\ttest: 1.2909601\tbest: 1.2839073 (691)\ttotal: 16.8s\tremaining: 2.69s\n",
            "862:\tlearn: 0.5453105\ttest: 1.2909635\tbest: 1.2839073 (691)\ttotal: 16.8s\tremaining: 2.67s\n",
            "863:\tlearn: 0.5448309\ttest: 1.2905465\tbest: 1.2839073 (691)\ttotal: 16.9s\tremaining: 2.65s\n",
            "864:\tlearn: 0.5447244\ttest: 1.2905172\tbest: 1.2839073 (691)\ttotal: 16.9s\tremaining: 2.63s\n",
            "865:\tlearn: 0.5441132\ttest: 1.2909907\tbest: 1.2839073 (691)\ttotal: 16.9s\tremaining: 2.62s\n",
            "866:\tlearn: 0.5435580\ttest: 1.2908711\tbest: 1.2839073 (691)\ttotal: 16.9s\tremaining: 2.6s\n",
            "867:\tlearn: 0.5425811\ttest: 1.2904466\tbest: 1.2839073 (691)\ttotal: 17s\tremaining: 2.58s\n",
            "868:\tlearn: 0.5421007\ttest: 1.2908649\tbest: 1.2839073 (691)\ttotal: 17s\tremaining: 2.56s\n",
            "869:\tlearn: 0.5420745\ttest: 1.2908624\tbest: 1.2839073 (691)\ttotal: 17s\tremaining: 2.54s\n",
            "870:\tlearn: 0.5419737\ttest: 1.2910281\tbest: 1.2839073 (691)\ttotal: 17s\tremaining: 2.52s\n",
            "871:\tlearn: 0.5411129\ttest: 1.2913764\tbest: 1.2839073 (691)\ttotal: 17.1s\tremaining: 2.51s\n",
            "872:\tlearn: 0.5405614\ttest: 1.2917142\tbest: 1.2839073 (691)\ttotal: 17.1s\tremaining: 2.49s\n",
            "873:\tlearn: 0.5402300\ttest: 1.2917119\tbest: 1.2839073 (691)\ttotal: 17.1s\tremaining: 2.47s\n",
            "874:\tlearn: 0.5400002\ttest: 1.2917036\tbest: 1.2839073 (691)\ttotal: 17.2s\tremaining: 2.45s\n",
            "875:\tlearn: 0.5398754\ttest: 1.2915818\tbest: 1.2839073 (691)\ttotal: 17.2s\tremaining: 2.43s\n",
            "876:\tlearn: 0.5392803\ttest: 1.2915924\tbest: 1.2839073 (691)\ttotal: 17.2s\tremaining: 2.41s\n",
            "877:\tlearn: 0.5387688\ttest: 1.2920456\tbest: 1.2839073 (691)\ttotal: 17.2s\tremaining: 2.39s\n",
            "878:\tlearn: 0.5386893\ttest: 1.2921044\tbest: 1.2839073 (691)\ttotal: 17.3s\tremaining: 2.38s\n",
            "879:\tlearn: 0.5374476\ttest: 1.2911537\tbest: 1.2839073 (691)\ttotal: 17.3s\tremaining: 2.36s\n",
            "880:\tlearn: 0.5370932\ttest: 1.2910119\tbest: 1.2839073 (691)\ttotal: 17.3s\tremaining: 2.34s\n",
            "881:\tlearn: 0.5370725\ttest: 1.2910082\tbest: 1.2839073 (691)\ttotal: 17.3s\tremaining: 2.32s\n",
            "882:\tlearn: 0.5366457\ttest: 1.2910908\tbest: 1.2839073 (691)\ttotal: 17.4s\tremaining: 2.3s\n",
            "883:\tlearn: 0.5358230\ttest: 1.2903483\tbest: 1.2839073 (691)\ttotal: 17.4s\tremaining: 2.28s\n",
            "884:\tlearn: 0.5352333\ttest: 1.2905227\tbest: 1.2839073 (691)\ttotal: 17.4s\tremaining: 2.26s\n",
            "885:\tlearn: 0.5344501\ttest: 1.2919770\tbest: 1.2839073 (691)\ttotal: 17.4s\tremaining: 2.24s\n",
            "886:\tlearn: 0.5342565\ttest: 1.2917123\tbest: 1.2839073 (691)\ttotal: 17.4s\tremaining: 2.22s\n",
            "887:\tlearn: 0.5342340\ttest: 1.2917432\tbest: 1.2839073 (691)\ttotal: 17.4s\tremaining: 2.2s\n",
            "888:\tlearn: 0.5334934\ttest: 1.2918808\tbest: 1.2839073 (691)\ttotal: 17.5s\tremaining: 2.18s\n",
            "889:\tlearn: 0.5332772\ttest: 1.2918680\tbest: 1.2839073 (691)\ttotal: 17.5s\tremaining: 2.16s\n",
            "890:\tlearn: 0.5329735\ttest: 1.2918075\tbest: 1.2839073 (691)\ttotal: 17.5s\tremaining: 2.14s\n",
            "891:\tlearn: 0.5325586\ttest: 1.2912641\tbest: 1.2839073 (691)\ttotal: 17.5s\tremaining: 2.12s\n",
            "892:\tlearn: 0.5323292\ttest: 1.2912258\tbest: 1.2839073 (691)\ttotal: 17.5s\tremaining: 2.1s\n",
            "893:\tlearn: 0.5319764\ttest: 1.2914218\tbest: 1.2839073 (691)\ttotal: 17.6s\tremaining: 2.08s\n",
            "894:\tlearn: 0.5310913\ttest: 1.2914615\tbest: 1.2839073 (691)\ttotal: 17.6s\tremaining: 2.06s\n",
            "895:\tlearn: 0.5304982\ttest: 1.2916633\tbest: 1.2839073 (691)\ttotal: 17.6s\tremaining: 2.04s\n",
            "896:\tlearn: 0.5304680\ttest: 1.2915716\tbest: 1.2839073 (691)\ttotal: 17.6s\tremaining: 2.02s\n",
            "897:\tlearn: 0.5304298\ttest: 1.2915975\tbest: 1.2839073 (691)\ttotal: 17.6s\tremaining: 2s\n",
            "898:\tlearn: 0.5302693\ttest: 1.2916465\tbest: 1.2839073 (691)\ttotal: 17.6s\tremaining: 1.98s\n",
            "899:\tlearn: 0.5293839\ttest: 1.2919069\tbest: 1.2839073 (691)\ttotal: 17.6s\tremaining: 1.96s\n",
            "900:\tlearn: 0.5288367\ttest: 1.2922463\tbest: 1.2839073 (691)\ttotal: 17.6s\tremaining: 1.94s\n",
            "901:\tlearn: 0.5286946\ttest: 1.2920622\tbest: 1.2839073 (691)\ttotal: 17.7s\tremaining: 1.92s\n",
            "902:\tlearn: 0.5286166\ttest: 1.2920703\tbest: 1.2839073 (691)\ttotal: 17.7s\tremaining: 1.9s\n",
            "903:\tlearn: 0.5285396\ttest: 1.2920249\tbest: 1.2839073 (691)\ttotal: 17.7s\tremaining: 1.88s\n",
            "904:\tlearn: 0.5284955\ttest: 1.2920242\tbest: 1.2839073 (691)\ttotal: 17.7s\tremaining: 1.86s\n",
            "905:\tlearn: 0.5280280\ttest: 1.2920087\tbest: 1.2839073 (691)\ttotal: 17.7s\tremaining: 1.84s\n",
            "906:\tlearn: 0.5274699\ttest: 1.2920687\tbest: 1.2839073 (691)\ttotal: 17.8s\tremaining: 1.82s\n",
            "907:\tlearn: 0.5264467\ttest: 1.2918962\tbest: 1.2839073 (691)\ttotal: 17.8s\tremaining: 1.8s\n",
            "908:\tlearn: 0.5256796\ttest: 1.2918230\tbest: 1.2839073 (691)\ttotal: 17.8s\tremaining: 1.78s\n",
            "909:\tlearn: 0.5256653\ttest: 1.2918171\tbest: 1.2839073 (691)\ttotal: 17.8s\tremaining: 1.76s\n",
            "910:\tlearn: 0.5255350\ttest: 1.2917341\tbest: 1.2839073 (691)\ttotal: 17.8s\tremaining: 1.74s\n",
            "911:\tlearn: 0.5255167\ttest: 1.2917309\tbest: 1.2839073 (691)\ttotal: 17.9s\tremaining: 1.72s\n",
            "912:\tlearn: 0.5244130\ttest: 1.2923889\tbest: 1.2839073 (691)\ttotal: 17.9s\tremaining: 1.7s\n",
            "913:\tlearn: 0.5243003\ttest: 1.2923815\tbest: 1.2839073 (691)\ttotal: 17.9s\tremaining: 1.68s\n",
            "914:\tlearn: 0.5237075\ttest: 1.2927151\tbest: 1.2839073 (691)\ttotal: 17.9s\tremaining: 1.66s\n",
            "915:\tlearn: 0.5230643\ttest: 1.2933499\tbest: 1.2839073 (691)\ttotal: 17.9s\tremaining: 1.64s\n",
            "916:\tlearn: 0.5229926\ttest: 1.2934449\tbest: 1.2839073 (691)\ttotal: 17.9s\tremaining: 1.62s\n",
            "917:\tlearn: 0.5229616\ttest: 1.2934981\tbest: 1.2839073 (691)\ttotal: 17.9s\tremaining: 1.6s\n",
            "918:\tlearn: 0.5222493\ttest: 1.2939559\tbest: 1.2839073 (691)\ttotal: 18s\tremaining: 1.58s\n",
            "919:\tlearn: 0.5214582\ttest: 1.2944670\tbest: 1.2839073 (691)\ttotal: 18s\tremaining: 1.56s\n",
            "920:\tlearn: 0.5211772\ttest: 1.2943725\tbest: 1.2839073 (691)\ttotal: 18s\tremaining: 1.54s\n",
            "921:\tlearn: 0.5210742\ttest: 1.2943448\tbest: 1.2839073 (691)\ttotal: 18s\tremaining: 1.52s\n",
            "922:\tlearn: 0.5209610\ttest: 1.2943116\tbest: 1.2839073 (691)\ttotal: 18s\tremaining: 1.5s\n",
            "923:\tlearn: 0.5202124\ttest: 1.2940610\tbest: 1.2839073 (691)\ttotal: 18s\tremaining: 1.48s\n",
            "924:\tlearn: 0.5201658\ttest: 1.2940368\tbest: 1.2839073 (691)\ttotal: 18s\tremaining: 1.46s\n",
            "925:\tlearn: 0.5192628\ttest: 1.2936897\tbest: 1.2839073 (691)\ttotal: 18s\tremaining: 1.44s\n",
            "926:\tlearn: 0.5186202\ttest: 1.2939116\tbest: 1.2839073 (691)\ttotal: 18s\tremaining: 1.42s\n",
            "927:\tlearn: 0.5185987\ttest: 1.2939813\tbest: 1.2839073 (691)\ttotal: 18.1s\tremaining: 1.4s\n",
            "928:\tlearn: 0.5171656\ttest: 1.2933558\tbest: 1.2839073 (691)\ttotal: 18.1s\tremaining: 1.38s\n",
            "929:\tlearn: 0.5166838\ttest: 1.2928645\tbest: 1.2839073 (691)\ttotal: 18.1s\tremaining: 1.36s\n",
            "930:\tlearn: 0.5163548\ttest: 1.2929601\tbest: 1.2839073 (691)\ttotal: 18.1s\tremaining: 1.34s\n",
            "931:\tlearn: 0.5153022\ttest: 1.2925519\tbest: 1.2839073 (691)\ttotal: 18.1s\tremaining: 1.32s\n",
            "932:\tlearn: 0.5146368\ttest: 1.2923374\tbest: 1.2839073 (691)\ttotal: 18.2s\tremaining: 1.3s\n",
            "933:\tlearn: 0.5146017\ttest: 1.2923407\tbest: 1.2839073 (691)\ttotal: 18.2s\tremaining: 1.28s\n",
            "934:\tlearn: 0.5141302\ttest: 1.2923144\tbest: 1.2839073 (691)\ttotal: 18.2s\tremaining: 1.26s\n",
            "935:\tlearn: 0.5136619\ttest: 1.2922813\tbest: 1.2839073 (691)\ttotal: 18.2s\tremaining: 1.25s\n",
            "936:\tlearn: 0.5131092\ttest: 1.2923924\tbest: 1.2839073 (691)\ttotal: 18.2s\tremaining: 1.23s\n",
            "937:\tlearn: 0.5130909\ttest: 1.2924221\tbest: 1.2839073 (691)\ttotal: 18.3s\tremaining: 1.21s\n",
            "938:\tlearn: 0.5123336\ttest: 1.2925248\tbest: 1.2839073 (691)\ttotal: 18.3s\tremaining: 1.19s\n",
            "939:\tlearn: 0.5118744\ttest: 1.2925372\tbest: 1.2839073 (691)\ttotal: 18.3s\tremaining: 1.17s\n",
            "940:\tlearn: 0.5114898\ttest: 1.2925261\tbest: 1.2839073 (691)\ttotal: 18.3s\tremaining: 1.15s\n",
            "941:\tlearn: 0.5114508\ttest: 1.2925364\tbest: 1.2839073 (691)\ttotal: 18.4s\tremaining: 1.13s\n",
            "942:\tlearn: 0.5114089\ttest: 1.2924376\tbest: 1.2839073 (691)\ttotal: 18.4s\tremaining: 1.11s\n",
            "943:\tlearn: 0.5113307\ttest: 1.2925111\tbest: 1.2839073 (691)\ttotal: 18.4s\tremaining: 1.09s\n",
            "944:\tlearn: 0.5112758\ttest: 1.2925879\tbest: 1.2839073 (691)\ttotal: 18.4s\tremaining: 1.07s\n",
            "945:\tlearn: 0.5104508\ttest: 1.2931648\tbest: 1.2839073 (691)\ttotal: 18.5s\tremaining: 1.05s\n",
            "946:\tlearn: 0.5096692\ttest: 1.2933589\tbest: 1.2839073 (691)\ttotal: 18.5s\tremaining: 1.03s\n",
            "947:\tlearn: 0.5091592\ttest: 1.2937357\tbest: 1.2839073 (691)\ttotal: 18.5s\tremaining: 1.01s\n",
            "948:\tlearn: 0.5084974\ttest: 1.2931008\tbest: 1.2839073 (691)\ttotal: 18.5s\tremaining: 995ms\n",
            "949:\tlearn: 0.5074094\ttest: 1.2927732\tbest: 1.2839073 (691)\ttotal: 18.5s\tremaining: 975ms\n",
            "950:\tlearn: 0.5069225\ttest: 1.2923919\tbest: 1.2839073 (691)\ttotal: 18.5s\tremaining: 956ms\n",
            "951:\tlearn: 0.5069007\ttest: 1.2924044\tbest: 1.2839073 (691)\ttotal: 18.6s\tremaining: 936ms\n",
            "952:\tlearn: 0.5063831\ttest: 1.2926816\tbest: 1.2839073 (691)\ttotal: 18.6s\tremaining: 918ms\n",
            "953:\tlearn: 0.5061632\ttest: 1.2925220\tbest: 1.2839073 (691)\ttotal: 18.6s\tremaining: 898ms\n",
            "954:\tlearn: 0.5060598\ttest: 1.2924776\tbest: 1.2839073 (691)\ttotal: 18.7s\tremaining: 879ms\n",
            "955:\tlearn: 0.5057451\ttest: 1.2923865\tbest: 1.2839073 (691)\ttotal: 18.7s\tremaining: 860ms\n",
            "956:\tlearn: 0.5056859\ttest: 1.2923903\tbest: 1.2839073 (691)\ttotal: 18.7s\tremaining: 841ms\n",
            "957:\tlearn: 0.5044705\ttest: 1.2922856\tbest: 1.2839073 (691)\ttotal: 18.7s\tremaining: 821ms\n",
            "958:\tlearn: 0.5043383\ttest: 1.2922899\tbest: 1.2839073 (691)\ttotal: 18.8s\tremaining: 802ms\n",
            "959:\tlearn: 0.5036798\ttest: 1.2918599\tbest: 1.2839073 (691)\ttotal: 18.8s\tremaining: 783ms\n",
            "960:\tlearn: 0.5036467\ttest: 1.2917643\tbest: 1.2839073 (691)\ttotal: 18.8s\tremaining: 763ms\n",
            "961:\tlearn: 0.5030680\ttest: 1.2919944\tbest: 1.2839073 (691)\ttotal: 18.8s\tremaining: 744ms\n",
            "962:\tlearn: 0.5022092\ttest: 1.2915717\tbest: 1.2839073 (691)\ttotal: 18.9s\tremaining: 724ms\n",
            "963:\tlearn: 0.5021061\ttest: 1.2915619\tbest: 1.2839073 (691)\ttotal: 18.9s\tremaining: 705ms\n",
            "964:\tlearn: 0.5020498\ttest: 1.2915389\tbest: 1.2839073 (691)\ttotal: 18.9s\tremaining: 686ms\n",
            "965:\tlearn: 0.5020347\ttest: 1.2915505\tbest: 1.2839073 (691)\ttotal: 18.9s\tremaining: 666ms\n",
            "966:\tlearn: 0.5018547\ttest: 1.2916348\tbest: 1.2839073 (691)\ttotal: 18.9s\tremaining: 647ms\n",
            "967:\tlearn: 0.5015378\ttest: 1.2915638\tbest: 1.2839073 (691)\ttotal: 19s\tremaining: 627ms\n",
            "968:\tlearn: 0.5009327\ttest: 1.2914377\tbest: 1.2839073 (691)\ttotal: 19s\tremaining: 607ms\n",
            "969:\tlearn: 0.5006054\ttest: 1.2915774\tbest: 1.2839073 (691)\ttotal: 19s\tremaining: 588ms\n",
            "970:\tlearn: 0.5002992\ttest: 1.2916982\tbest: 1.2839073 (691)\ttotal: 19s\tremaining: 568ms\n",
            "971:\tlearn: 0.5002532\ttest: 1.2916797\tbest: 1.2839073 (691)\ttotal: 19.1s\tremaining: 549ms\n",
            "972:\tlearn: 0.5001458\ttest: 1.2917252\tbest: 1.2839073 (691)\ttotal: 19.1s\tremaining: 529ms\n",
            "973:\tlearn: 0.5000116\ttest: 1.2917473\tbest: 1.2839073 (691)\ttotal: 19.1s\tremaining: 510ms\n",
            "974:\tlearn: 0.4995238\ttest: 1.2916569\tbest: 1.2839073 (691)\ttotal: 19.1s\tremaining: 490ms\n",
            "975:\tlearn: 0.4994532\ttest: 1.2917528\tbest: 1.2839073 (691)\ttotal: 19.1s\tremaining: 471ms\n",
            "976:\tlearn: 0.4985180\ttest: 1.2928300\tbest: 1.2839073 (691)\ttotal: 19.2s\tremaining: 451ms\n",
            "977:\tlearn: 0.4983400\ttest: 1.2928547\tbest: 1.2839073 (691)\ttotal: 19.2s\tremaining: 432ms\n",
            "978:\tlearn: 0.4972199\ttest: 1.2945512\tbest: 1.2839073 (691)\ttotal: 19.2s\tremaining: 412ms\n",
            "979:\tlearn: 0.4969108\ttest: 1.2940423\tbest: 1.2839073 (691)\ttotal: 19.2s\tremaining: 393ms\n",
            "980:\tlearn: 0.4967519\ttest: 1.2940511\tbest: 1.2839073 (691)\ttotal: 19.3s\tremaining: 373ms\n",
            "981:\tlearn: 0.4964070\ttest: 1.2938006\tbest: 1.2839073 (691)\ttotal: 19.3s\tremaining: 354ms\n",
            "982:\tlearn: 0.4962988\ttest: 1.2937602\tbest: 1.2839073 (691)\ttotal: 19.3s\tremaining: 334ms\n",
            "983:\tlearn: 0.4957145\ttest: 1.2940158\tbest: 1.2839073 (691)\ttotal: 19.3s\tremaining: 314ms\n",
            "984:\tlearn: 0.4951075\ttest: 1.2940983\tbest: 1.2839073 (691)\ttotal: 19.4s\tremaining: 295ms\n",
            "985:\tlearn: 0.4949727\ttest: 1.2941432\tbest: 1.2839073 (691)\ttotal: 19.4s\tremaining: 275ms\n",
            "986:\tlearn: 0.4937741\ttest: 1.2943062\tbest: 1.2839073 (691)\ttotal: 19.4s\tremaining: 256ms\n",
            "987:\tlearn: 0.4937254\ttest: 1.2943437\tbest: 1.2839073 (691)\ttotal: 19.5s\tremaining: 236ms\n",
            "988:\tlearn: 0.4931730\ttest: 1.2935912\tbest: 1.2839073 (691)\ttotal: 19.5s\tremaining: 217ms\n",
            "989:\tlearn: 0.4921199\ttest: 1.2934405\tbest: 1.2839073 (691)\ttotal: 19.5s\tremaining: 197ms\n",
            "990:\tlearn: 0.4921099\ttest: 1.2934381\tbest: 1.2839073 (691)\ttotal: 19.6s\tremaining: 178ms\n",
            "991:\tlearn: 0.4912384\ttest: 1.2936385\tbest: 1.2839073 (691)\ttotal: 19.6s\tremaining: 158ms\n",
            "992:\tlearn: 0.4909110\ttest: 1.2938094\tbest: 1.2839073 (691)\ttotal: 19.7s\tremaining: 139ms\n",
            "993:\tlearn: 0.4906057\ttest: 1.2935525\tbest: 1.2839073 (691)\ttotal: 19.7s\tremaining: 119ms\n",
            "994:\tlearn: 0.4901502\ttest: 1.2935584\tbest: 1.2839073 (691)\ttotal: 19.7s\tremaining: 99ms\n",
            "995:\tlearn: 0.4901018\ttest: 1.2935041\tbest: 1.2839073 (691)\ttotal: 19.7s\tremaining: 79.3ms\n",
            "996:\tlearn: 0.4895629\ttest: 1.2934981\tbest: 1.2839073 (691)\ttotal: 19.8s\tremaining: 59.5ms\n",
            "997:\tlearn: 0.4894410\ttest: 1.2935716\tbest: 1.2839073 (691)\ttotal: 19.8s\tremaining: 39.7ms\n",
            "998:\tlearn: 0.4892922\ttest: 1.2934489\tbest: 1.2839073 (691)\ttotal: 19.8s\tremaining: 19.8ms\n",
            "999:\tlearn: 0.4883229\ttest: 1.2938679\tbest: 1.2839073 (691)\ttotal: 19.9s\tremaining: 0us\n",
            "\n",
            "bestTest = 1.283907344\n",
            "bestIteration = 691\n",
            "\n",
            "Shrink model to first 692 iterations.\n"
          ]
        },
        {
          "output_type": "execute_result",
          "data": {
            "text/plain": [
              "<catboost.core.CatBoostRegressor at 0x7f403657e350>"
            ]
          },
          "metadata": {},
          "execution_count": 166
        }
      ]
    },
    {
      "cell_type": "code",
      "source": [
        "pred_train = cb.predict(X[idx_train]).reshape(-1, 1)\n",
        "pred_val = cb.predict(X[idx_val]).reshape(-1, 1)\n",
        "pred_test = cb.predict(X[idx_test]).reshape(-1, 1)"
      ],
      "metadata": {
        "id": "wYr0G6cYWh0s"
      },
      "execution_count": 167,
      "outputs": []
    },
    {
      "cell_type": "code",
      "source": [
        "train_rmse = mean_squared_error(y[idx_train], pred_train, squared=False)\n",
        "val_rmse = mean_squared_error(y[idx_val], pred_val, squared=False)\n",
        "test_rmse = mean_squared_error(y[idx_test], pred_test, squared=False)"
      ],
      "metadata": {
        "id": "IAtDF6p_o4qg"
      },
      "execution_count": 168,
      "outputs": []
    },
    {
      "cell_type": "code",
      "source": [
        "print('Train RMSE:', train_rmse)\n",
        "print('Val RMSE:', val_rmse)\n",
        "print('Test RMSE:', test_rmse)"
      ],
      "metadata": {
        "colab": {
          "base_uri": "https://localhost:8080/"
        },
        "outputId": "6f685b00-8bcc-4574-c979-c3a5dcc74859",
        "id": "3NBLVPnoo4qh"
      },
      "execution_count": 169,
      "outputs": [
        {
          "output_type": "stream",
          "name": "stdout",
          "text": [
            "Train RMSE: 0.6307302930743409\n",
            "Val RMSE: 1.2839073415630915\n",
            "Test RMSE: 1.3317345352973968\n"
          ]
        }
      ]
    },
    {
      "cell_type": "code",
      "source": [
        "n_neighbors_space = np.arange(1, 101)\n",
        "val_rmse = []\n",
        "best_rmse = 1e9\n",
        "best_n_neighbors = n_neighbors_space[0]\n",
        "for n_neighbors in tqdm(n_neighbors_space):\n",
        "    z = hyper_propagation(X, y[idx_train], idx_train, idx_val, n_neighbors, pred_train=pred_train, pred_test=pred_val)\n",
        "    val_rmse.append(mean_squared_error(y[idx_val], z, squared=False))\n",
        "    if val_rmse[-1] < best_rmse:\n",
        "        best_n_neighbors = n_neighbors\n",
        "        best_rmse = val_rmse[-1]"
      ],
      "metadata": {
        "colab": {
          "base_uri": "https://localhost:8080/"
        },
        "outputId": "e39d0e7c-e697-416d-9493-75fd7d1ebcf3",
        "id": "AOyte5Suo4qi"
      },
      "execution_count": 170,
      "outputs": [
        {
          "output_type": "stream",
          "name": "stderr",
          "text": [
            "100%|██████████| 100/100 [00:42<00:00,  2.35it/s]\n"
          ]
        }
      ]
    },
    {
      "cell_type": "code",
      "source": [
        "plt.plot(n_neighbors_space, val_rmse)\n",
        "plt.xlabel('Number of neighbors')\n",
        "plt.ylabel('Val RMSE')\n",
        "plt.show()"
      ],
      "metadata": {
        "colab": {
          "base_uri": "https://localhost:8080/",
          "height": 279
        },
        "outputId": "eff3aeef-78e4-49b6-97e7-68d7429cb03b",
        "id": "cGqcrsXFo4qj"
      },
      "execution_count": 171,
      "outputs": [
        {
          "output_type": "display_data",
          "data": {
            "text/plain": [
              "<Figure size 432x288 with 1 Axes>"
            ],
            "image/png": "[encoded data removed]"
          },
          "metadata": {
            "needs_background": "light"
          }
        }
      ]
    },
    {
      "cell_type": "code",
      "source": [
        "print('Best K Neighbors:', best_n_neighbors)"
      ],
      "metadata": {
        "colab": {
          "base_uri": "https://localhost:8080/"
        },
        "outputId": "26b497fb-9fb1-40b4-f53f-ac8128e65483",
        "id": "6VlHQDxso4qj"
      },
      "execution_count": 172,
      "outputs": [
        {
          "output_type": "stream",
          "name": "stdout",
          "text": [
            "Best K Neighbors: 7\n"
          ]
        }
      ]
    },
    {
      "cell_type": "code",
      "source": [
        "z_val = hyper_propagation(X, y[idx_train], idx_train, idx_val, best_n_neighbors, pred_train=pred_train, pred_test=pred_val)\n",
        "z_test = hyper_propagation(X, y[idx_train], idx_train, idx_test, best_n_neighbors, pred_train=pred_train, pred_test=pred_test)"
      ],
      "metadata": {
        "id": "7fmIqViGo4qk"
      },
      "execution_count": 173,
      "outputs": []
    },
    {
      "cell_type": "code",
      "source": [
        "val_rmse = mean_squared_error(y[idx_val], z_val, squared=False)\n",
        "test_rmse = mean_squared_error(y[idx_test], z_test, squared=False)"
      ],
      "metadata": {
        "id": "WeaNDVjKo4qk"
      },
      "execution_count": 174,
      "outputs": []
    },
    {
      "cell_type": "code",
      "source": [
        "print('Val RMSE:', val_rmse)\n",
        "print('Test RMSE:', test_rmse)"
      ],
      "metadata": {
        "colab": {
          "base_uri": "https://localhost:8080/"
        },
        "outputId": "393a1d8c-1fb0-41a6-e260-264fc7e64a0c",
        "id": "6h5TEuNBo4ql"
      },
      "execution_count": 175,
      "outputs": [
        {
          "output_type": "stream",
          "name": "stdout",
          "text": [
            "Val RMSE: 1.2583176859479297\n",
            "Test RMSE: 1.330803330267785\n"
          ]
        }
      ]
    },
    {
      "cell_type": "code",
      "source": [
        ""
      ],
      "metadata": {
        "id": "PqInN2kFXPE4"
      },
      "execution_count": null,
      "outputs": []
    }
  ]
}